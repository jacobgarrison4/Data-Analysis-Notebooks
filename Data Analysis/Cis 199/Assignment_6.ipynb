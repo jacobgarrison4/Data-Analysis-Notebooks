{
 "cells": [
  {
   "cell_type": "markdown",
   "metadata": {
    "colab_type": "text",
    "id": "_Q6mBZ3Mul4u"
   },
   "source": [
    "Import 60,000 digits and 10,000 test digits"
   ]
  },
  {
   "cell_type": "code",
   "execution_count": 3,
   "metadata": {
    "colab": {
     "base_uri": "https://localhost:8080/",
     "height": 87
    },
    "colab_type": "code",
    "id": "ODjI9g_Wiwlu",
    "outputId": "c7e2bb06-0d9d-44f2-c0c6-d9a55a2a6773"
   },
   "outputs": [
    {
     "name": "stdout",
     "output_type": "stream",
     "text": [
      "Downloading data from https://storage.googleapis.com/tensorflow/tf-keras-datasets/mnist.npz\n",
      "11493376/11490434 [==============================] - 0s 0us/step\n"
     ]
    },
    {
     "data": {
      "text/plain": [
       "((60000, 28, 28), (60000,), (10000, 28, 28), (10000,))"
      ]
     },
     "execution_count": 3,
     "metadata": {
      "tags": []
     },
     "output_type": "execute_result"
    }
   ],
   "source": [
    "import tensorflow as tf\n",
    "(x_train, y_train), (x_test, y_test) = tf.keras.datasets.mnist.load_data()\n",
    "\n",
    "x_train.shape, y_train.shape, x_test.shape, y_test.shape"
   ]
  },
  {
   "cell_type": "code",
   "execution_count": 4,
   "metadata": {
    "colab": {
     "base_uri": "https://localhost:8080/",
     "height": 282
    },
    "colab_type": "code",
    "id": "NG3bJSqpjDk4",
    "outputId": "47b857d2-1f43-4135-a0ec-0ddfe37bd38f"
   },
   "outputs": [
    {
     "name": "stdout",
     "output_type": "stream",
     "text": [
      "3 index: 52085\n"
     ]
    },
    {
     "data": {
      "image/png": "[encoded data removed]",
      "text/plain": [
       "<matplotlib.figure.Figure at 0x7fa7705c0da0>"
      ]
     },
     "metadata": {
      "tags": []
     },
     "output_type": "display_data"
    }
   ],
   "source": [
    "import matplotlib.pyplot as plt\n",
    "%matplotlib inline\n",
    "image_index = 52_085 #any number up to 59,999\n",
    "print(y_train[image_index], 'index:', image_index)\n",
    "plt.imshow(x_train[image_index], cmap='Greys');"
   ]
  },
  {
   "cell_type": "markdown",
   "metadata": {
    "colab_type": "text",
    "id": "9v0NI5Evu1cG"
   },
   "source": [
    "Create train and test data"
   ]
  },
  {
   "cell_type": "code",
   "execution_count": 5,
   "metadata": {
    "colab": {
     "base_uri": "https://localhost:8080/",
     "height": 67
    },
    "colab_type": "code",
    "id": "U8G574snkgED",
    "outputId": "e5613a08-e0ec-40a2-ec78-fb15a56bbe08"
   },
   "outputs": [
    {
     "name": "stdout",
     "output_type": "stream",
     "text": [
      "x_train shape: (60000, 28, 28, 1)\n",
      "60000 images in x_train\n",
      "10000 images in x_test\n"
     ]
    }
   ],
   "source": [
    "n_images_train = x_train.shape[0]\n",
    "n_images_test = x_test.shape[0]\n",
    "\n",
    "x_train = x_train.reshape(n_images_train, 28, 28, 1)\n",
    "x_test = x_test.reshape(n_images_test, 28, 28, 1)\n",
    "input_shape = (28, 28, 1)\n",
    "\n",
    "x_train = x_train.astype('float32')\n",
    "x_test = x_test.astype('float32')\n",
    "\n",
    "x_train /= 255\n",
    "x_test /= 255\n",
    "\n",
    "print('x_train shape:', x_train.shape)\n",
    "print(n_images_train, 'images in x_train')\n",
    "print(n_images_test, 'images in x_test')"
   ]
  },
  {
   "cell_type": "markdown",
   "metadata": {
    "colab_type": "text",
    "id": "ykwUy5mQu9_p"
   },
   "source": [
    "Create 8-layer model"
   ]
  },
  {
   "cell_type": "code",
   "execution_count": 7,
   "metadata": {
    "colab": {
     "base_uri": "https://localhost:8080/",
     "height": 34
    },
    "colab_type": "code",
    "id": "4QAToPGglpZP",
    "outputId": "38471c19-42c2-4feb-b3c7-3b083cda6b6a"
   },
   "outputs": [
    {
     "data": {
      "text/plain": [
       "'multi-layer model built'"
      ]
     },
     "execution_count": 7,
     "metadata": {
      "tags": []
     },
     "output_type": "execute_result"
    }
   ],
   "source": [
    "from keras.models import Sequential\n",
    "from keras.layers import Dense, Conv2D, Dropout, Flatten, MaxPooling2D\n",
    "\n",
    "model = Sequential()\n",
    "\n",
    "model.add(Conv2D(32, kernel_size=(5, 5), input_shape=input_shape))\n",
    "\n",
    "model.add(MaxPooling2D(pool_size=(2, 2)))\n",
    "\n",
    "model.add(Conv2D(64, kernel_size=(5, 5), input_shape=input_shape))\n",
    "\n",
    "model.add(MaxPooling2D(pool_size=(2, 2)))\n",
    "\n",
    "model.add(Flatten())\n",
    "\n",
    "model.add(Dense(1024, activation=tf.nn.relu))\n",
    "\n",
    "model.add(Dropout(0.2))\n",
    "\n",
    "model.add(Dense(10, activation=tf.nn.softmax))\n",
    "\n",
    "model.compile(optimizer='adam', loss='sparse_categorical_crossentropy', metrics=['accuracy'])\n",
    "\n",
    "'multi-layer model built'"
   ]
  },
  {
   "cell_type": "markdown",
   "metadata": {
    "colab_type": "text",
    "id": "vSZHI-fuvUz-"
   },
   "source": [
    "Fit data"
   ]
  },
  {
   "cell_type": "code",
   "execution_count": 8,
   "metadata": {
    "colab": {
     "base_uri": "https://localhost:8080/",
     "height": 185
    },
    "colab_type": "code",
    "id": "DfuBN0UYniKv",
    "outputId": "3fb28f1c-f7e9-4cef-ee6d-01f3f9a27aee"
   },
   "outputs": [
    {
     "name": "stdout",
     "output_type": "stream",
     "text": [
      "Epoch 1/5\n",
      "60000/60000 [==============================] - 21s 351us/step - loss: 0.1237 - acc: 0.9630\n",
      "Epoch 2/5\n",
      "60000/60000 [==============================] - 17s 284us/step - loss: 0.0558 - acc: 0.9833\n",
      "Epoch 3/5\n",
      "60000/60000 [==============================] - 17s 284us/step - loss: 0.0437 - acc: 0.9871\n",
      "Epoch 4/5\n",
      "60000/60000 [==============================] - 17s 283us/step - loss: 0.0406 - acc: 0.9883\n",
      "Epoch 5/5\n",
      "60000/60000 [==============================] - 17s 284us/step - loss: 0.0335 - acc: 0.9908\n"
     ]
    }
   ],
   "source": [
    "model.fit(x=x_train, y=y_train, epochs=5);"
   ]
  },
  {
   "cell_type": "markdown",
   "metadata": {
    "colab_type": "text",
    "id": "kT9Oz1xBvW4I"
   },
   "source": [
    "Find accuracy... 98.66%! Very good!"
   ]
  },
  {
   "cell_type": "code",
   "execution_count": 9,
   "metadata": {
    "colab": {
     "base_uri": "https://localhost:8080/",
     "height": 34
    },
    "colab_type": "code",
    "id": "TRY1pfZMoXNH",
    "outputId": "f1271da1-c1d3-45a6-cf79-6e72e6e0eb9b"
   },
   "outputs": [
    {
     "name": "stdout",
     "output_type": "stream",
     "text": [
      "Mean squared error (MSE) for test data: [0.0567815843290271, 0.9866]\n"
     ]
    }
   ],
   "source": [
    "test_error_rate = model.evaluate(x_test, y_test, verbose=0)\n",
    "print(f\"Mean squared error (MSE) for test data: {test_error_rate}\")"
   ]
  },
  {
   "cell_type": "code",
   "execution_count": 0,
   "metadata": {
    "colab": {},
    "colab_type": "code",
    "id": "AEwmWjBXpMvf"
   },
   "outputs": [],
   "source": [
    "model.save(\"trained_model.h5\")"
   ]
  },
  {
   "cell_type": "code",
   "execution_count": 0,
   "metadata": {
    "colab": {},
    "colab_type": "code",
    "id": "xL-8jIDfpU2O"
   },
   "outputs": [],
   "source": [
    "import keras.models\n",
    "model_loaded = keras.models.load_model(\"trained_model.h5\")"
   ]
  },
  {
   "cell_type": "markdown",
   "metadata": {
    "colab_type": "text",
    "id": "AyVgyPJIveL6"
   },
   "source": [
    "Test a random image... predicted was 9, which is correct!"
   ]
  },
  {
   "cell_type": "code",
   "execution_count": 12,
   "metadata": {
    "colab": {
     "base_uri": "https://localhost:8080/",
     "height": 298
    },
    "colab_type": "code",
    "id": "FAO8NDMjpedG",
    "outputId": "9c388c5d-c063-4fe4-b261-41ab3a7635bd"
   },
   "outputs": [
    {
     "name": "stdout",
     "output_type": "stream",
     "text": [
      "Predicted value 9 [[3.7678093e-17 6.2657209e-14 2.0932548e-12 9.7262103e-12 1.5166215e-08\n",
      "  2.5366988e-14 7.2514276e-18 1.0395909e-06 2.0820332e-07 9.9999869e-01]]\n"
     ]
    },
    {
     "data": {
      "image/png": "[encoded data removed]",
      "text/plain": [
       "<matplotlib.figure.Figure at 0x7fa7196978d0>"
      ]
     },
     "metadata": {
      "tags": []
     },
     "output_type": "display_data"
    }
   ],
   "source": [
    "image_index = 3666\n",
    "\n",
    "plt.imshow(x_test[image_index].reshape(28, 28), cmap='Greys')\n",
    "pred = model_loaded.predict(x_test[image_index].reshape(1, 28, 28, 1))\n",
    "print(\"Predicted value\", pred.argmax(), pred)"
   ]
  },
  {
   "cell_type": "markdown",
   "metadata": {
    "colab_type": "text",
    "id": "EflEnXv4z35D"
   },
   "source": [
    "One cool thing I found on the web about neural networks is related to cancer research. Neural networks are encouraging new kinds of cancer research. Neural networks are helping cure cancers with \"the ability to wield massive collections of information and establish a path forward.\"\n",
    "\n",
    "link: https://artificial-future.com/convolutional-neural-network/"
   ]
  }
 ],
 "metadata": {
  "accelerator": "GPU",
  "colab": {
   "collapsed_sections": [],
   "name": "Assignment-6.ipynb",
   "provenance": [],
   "version": "0.3.2"
  },
  "kernelspec": {
   "display_name": "Python 3",
   "language": "python",
   "name": "python3"
  },
  "language_info": {
   "codemirror_mode": {
    "name": "ipython",
    "version": 3
   },
   "file_extension": ".py",
   "mimetype": "text/x-python",
   "name": "python",
   "nbconvert_exporter": "python",
   "pygments_lexer": "ipython3",
   "version": "3.6.5"
  }
 },
 "nbformat": 4,
 "nbformat_minor": 1
}
