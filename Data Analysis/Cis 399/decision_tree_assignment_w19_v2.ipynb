{
  "nbformat": 4,
  "nbformat_minor": 0,
  "metadata": {
    "colab": {
      "name": "decision_tree_assignment_w19_v2.ipynb",
      "version": "0.3.2",
      "provenance": [],
      "collapsed_sections": []
    },
    "kernelspec": {
      "display_name": "Python 3",
      "language": "python",
      "name": "python3"
    }
  },
  "cells": [
    {
      "metadata": {
        "colab_type": "text",
        "id": "ry7gzGe3kLgW"
      },
      "cell_type": "markdown",
      "source": [
        "<h1>\n",
        "<center>\n",
        "Module 2: Working with Decision Trees\n",
        "</center>\n",
        "</h1>\n",
        "<div class=h1_cell>\n",
        "\n",
        "<p>We will continue to work with the loan data. And we will put to use the wrangling concepts we saw in module 1.\n",
        "\n",
        "</div>"
      ]
    },
    {
      "metadata": {
        "colab_type": "text",
        "id": "TPBhsNr4kLgX"
      },
      "cell_type": "markdown",
      "source": [
        "<hr>\n",
        "<h1>\n",
        "1: Read in your data from assignment 1.\n",
        "</h1>\n",
        "<p>\n",
        "<div class=h1_cell>\n",
        "Here is what my added columns look like.\n",
        "<p>\n",
        "<img src='https://www.dropbox.com/s/krrytcxssezbn4i/week1_columns.png?raw=1'>\n",
        "</div>"
      ]
    },
    {
      "metadata": {
        "colab_type": "code",
        "id": "bRdyKcvOkLgZ",
        "outputId": "c5289363-2dd5-4bf5-c10b-58f024569854",
        "colab": {
          "base_uri": "https://localhost:8080/",
          "height": 34
        }
      },
      "cell_type": "code",
      "source": [
        "import pandas as pd\n",
        "from google.colab import drive\n",
        "drive.mount('/content/gdrive')"
      ],
      "execution_count": 0,
      "outputs": [
        {
          "output_type": "stream",
          "text": [
            "Drive already mounted at /content/gdrive; to attempt to forcibly remount, call drive.mount(\"/content/gdrive\", force_remount=True).\n"
          ],
          "name": "stdout"
        }
      ]
    },
    {
      "metadata": {
        "id": "W0_kJY8Bf7pF",
        "colab_type": "code",
        "outputId": "32605f4e-ea58-45c8-8366-aa108a25e85a",
        "colab": {
          "base_uri": "https://localhost:8080/",
          "height": 155
        }
      },
      "cell_type": "code",
      "source": [
        "with open('/content/gdrive/My Drive/class_tables/loan_wrangled_w1.csv', 'r') as f:\n",
        "  loan_table = pd.read_csv(f)\n",
        "\n",
        "loan_table.head(2)  #make sure it looks ok - we see the results of our week 1 wrangling"
      ],
      "execution_count": 0,
      "outputs": [
        {
          "output_type": "execute_result",
          "data": {
            "text/html": [
              "<div>\n",
              "<style scoped>\n",
              "    .dataframe tbody tr th:only-of-type {\n",
              "        vertical-align: middle;\n",
              "    }\n",
              "\n",
              "    .dataframe tbody tr th {\n",
              "        vertical-align: top;\n",
              "    }\n",
              "\n",
              "    .dataframe thead th {\n",
              "        text-align: right;\n",
              "    }\n",
              "</style>\n",
              "<table border=\"1\" class=\"dataframe\">\n",
              "  <thead>\n",
              "    <tr style=\"text-align: right;\">\n",
              "      <th></th>\n",
              "      <th>Gender</th>\n",
              "      <th>Married</th>\n",
              "      <th>Dependents</th>\n",
              "      <th>Education</th>\n",
              "      <th>Self_Employed</th>\n",
              "      <th>ApplicantIncome</th>\n",
              "      <th>CoapplicantIncome</th>\n",
              "      <th>LoanAmount</th>\n",
              "      <th>Loan_Amount_Term</th>\n",
              "      <th>Credit_History</th>\n",
              "      <th>...</th>\n",
              "      <th>no_lam</th>\n",
              "      <th>filled_lam</th>\n",
              "      <th>pa_Rural</th>\n",
              "      <th>pa_Semiurban</th>\n",
              "      <th>pa_Urban</th>\n",
              "      <th>pa_nan</th>\n",
              "      <th>lam_bin</th>\n",
              "      <th>lam_Low</th>\n",
              "      <th>lam_Avergae</th>\n",
              "      <th>lam_High</th>\n",
              "    </tr>\n",
              "  </thead>\n",
              "  <tbody>\n",
              "    <tr>\n",
              "      <th>0</th>\n",
              "      <td>Male</td>\n",
              "      <td>No</td>\n",
              "      <td>0</td>\n",
              "      <td>Graduate</td>\n",
              "      <td>No</td>\n",
              "      <td>5849</td>\n",
              "      <td>0.0</td>\n",
              "      <td>NaN</td>\n",
              "      <td>360.0</td>\n",
              "      <td>1.0</td>\n",
              "      <td>...</td>\n",
              "      <td>1</td>\n",
              "      <td>146.412162</td>\n",
              "      <td>0</td>\n",
              "      <td>0</td>\n",
              "      <td>1</td>\n",
              "      <td>0</td>\n",
              "      <td>Low</td>\n",
              "      <td>1</td>\n",
              "      <td>0</td>\n",
              "      <td>0</td>\n",
              "    </tr>\n",
              "    <tr>\n",
              "      <th>1</th>\n",
              "      <td>Male</td>\n",
              "      <td>Yes</td>\n",
              "      <td>1</td>\n",
              "      <td>Graduate</td>\n",
              "      <td>No</td>\n",
              "      <td>4583</td>\n",
              "      <td>1508.0</td>\n",
              "      <td>128.0</td>\n",
              "      <td>360.0</td>\n",
              "      <td>1.0</td>\n",
              "      <td>...</td>\n",
              "      <td>0</td>\n",
              "      <td>128.000000</td>\n",
              "      <td>1</td>\n",
              "      <td>0</td>\n",
              "      <td>0</td>\n",
              "      <td>0</td>\n",
              "      <td>Low</td>\n",
              "      <td>1</td>\n",
              "      <td>0</td>\n",
              "      <td>0</td>\n",
              "    </tr>\n",
              "  </tbody>\n",
              "</table>\n",
              "<p>2 rows × 22 columns</p>\n",
              "</div>"
            ],
            "text/plain": [
              "  Gender Married Dependents Education Self_Employed  ApplicantIncome  \\\n",
              "0   Male      No          0  Graduate            No             5849   \n",
              "1   Male     Yes          1  Graduate            No             4583   \n",
              "\n",
              "   CoapplicantIncome  LoanAmount  Loan_Amount_Term  Credit_History    ...     \\\n",
              "0                0.0         NaN             360.0             1.0    ...      \n",
              "1             1508.0       128.0             360.0             1.0    ...      \n",
              "\n",
              "  no_lam  filled_lam  pa_Rural  pa_Semiurban  pa_Urban  pa_nan  lam_bin  \\\n",
              "0      1  146.412162         0             0         1       0      Low   \n",
              "1      0  128.000000         1             0         0       0      Low   \n",
              "\n",
              "   lam_Low lam_Avergae  lam_High  \n",
              "0        1           0         0  \n",
              "1        1           0         0  \n",
              "\n",
              "[2 rows x 22 columns]"
            ]
          },
          "metadata": {
            "tags": []
          },
          "execution_count": 2
        }
      ]
    },
    {
      "metadata": {
        "id": "KZrJIVBxgJlH",
        "colab_type": "code",
        "colab": {}
      },
      "cell_type": "code",
      "source": [
        "pd.set_option('display.max_columns', None)"
      ],
      "execution_count": 0,
      "outputs": []
    },
    {
      "metadata": {
        "colab_type": "text",
        "id": "wZ1TkH5MkLgj"
      },
      "cell_type": "markdown",
      "source": [
        "<hr>\n",
        "<h2>\n",
        "Bring in our library\n",
        "</h2>\n",
        "<div class=h1_cell>\n",
        "<p>\n",
        "We built a library at the end of the Titanic notebook this week (week 2). Let's upload it and import it.\n",
        "</div>"
      ]
    },
    {
      "metadata": {
        "colab_type": "code",
        "id": "SP95AIbW0C_r",
        "colab": {}
      },
      "cell_type": "code",
      "source": [
        "!rm library_w19_week2.py"
      ],
      "execution_count": 0,
      "outputs": []
    },
    {
      "metadata": {
        "colab_type": "code",
        "id": "OSPhwJEGkLgk",
        "outputId": "adc78bf9-1748-4aa9-d3ae-a76b936590d2",
        "colab": {
          "resources": {
            "http://localhost:8080/nbextensions/google.colab/files.js": {
              "data": "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",
              "ok": true,
              "headers": [
                [
                  "content-type",
                  "application/javascript"
                ]
              ],
              "status": 200,
              "status_text": ""
            }
          },
          "base_uri": "https://localhost:8080/",
          "height": 73
        }
      },
      "cell_type": "code",
      "source": [
        "from google.colab import files\n",
        "files.upload()  # choose the file on your computer to upload\n",
        "from library_w19_week2 import *"
      ],
      "execution_count": 0,
      "outputs": [
        {
          "output_type": "display_data",
          "data": {
            "text/html": [
              "\n",
              "     <input type=\"file\" id=\"files-ceae7fc9-9330-4b2a-91c6-7e324ff7bc5d\" name=\"files[]\" multiple disabled />\n",
              "     <output id=\"result-ceae7fc9-9330-4b2a-91c6-7e324ff7bc5d\">\n",
              "      Upload widget is only available when the cell has been executed in the\n",
              "      current browser session. Please rerun this cell to enable.\n",
              "      </output>\n",
              "      <script src=\"/nbextensions/google.colab/files.js\"></script> "
            ],
            "text/plain": [
              "<IPython.core.display.HTML object>"
            ]
          },
          "metadata": {
            "tags": []
          }
        },
        {
          "output_type": "stream",
          "text": [
            "Saving library_w19_week2.py to library_w19_week2.py\n"
          ],
          "name": "stdout"
        }
      ]
    },
    {
      "metadata": {
        "colab_type": "code",
        "id": "EvTfU0wqmep_",
        "outputId": "d2de942c-977f-4aa3-eaab-ca56e1b95ec1",
        "colab": {
          "base_uri": "https://localhost:8080/",
          "height": 34
        }
      },
      "cell_type": "code",
      "source": [
        "#Make sure we get accuracy\t f1\t informedness\t predictor_case\n",
        "%who function"
      ],
      "execution_count": 0,
      "outputs": [
        {
          "output_type": "stream",
          "text": [
            "accuracy\t f1\t informedness\t predictor_case\t \n"
          ],
          "name": "stdout"
        }
      ]
    },
    {
      "metadata": {
        "colab_type": "text",
        "id": "bQwBDLJ_kLg0"
      },
      "cell_type": "markdown",
      "source": [
        "<hr>\n",
        "<h1>\n",
        "2: Change column values\n",
        "</h1>\n",
        "<div class=h1_cell>\n",
        "Before getting to building predictors, let's do a bit of wrangling. The column we are trying to predict, `Loan_Status`, is using `Y` and `N` - annoying. Change the values to 1 and 0 instead. And do not generate a new column for the replacement values - change them directly in `Loan_Status`. Note that I have not shown you how to do this. It's your chance to google for answers.\n",
        "</div>"
      ]
    },
    {
      "metadata": {
        "colab_type": "code",
        "id": "GnQTIJkAkLg1",
        "outputId": "d86f4c7e-b2e3-49c5-fbf0-00a3b31bc08f",
        "colab": {
          "base_uri": "https://localhost:8080/",
          "height": 126
        }
      },
      "cell_type": "code",
      "source": [
        "loan_table['Loan_Status'].replace(('Y', 'N'), (1, 0), inplace=True)\n",
        "loan_table.head(2)"
      ],
      "execution_count": 0,
      "outputs": [
        {
          "output_type": "execute_result",
          "data": {
            "text/html": [
              "<div>\n",
              "<style scoped>\n",
              "    .dataframe tbody tr th:only-of-type {\n",
              "        vertical-align: middle;\n",
              "    }\n",
              "\n",
              "    .dataframe tbody tr th {\n",
              "        vertical-align: top;\n",
              "    }\n",
              "\n",
              "    .dataframe thead th {\n",
              "        text-align: right;\n",
              "    }\n",
              "</style>\n",
              "<table border=\"1\" class=\"dataframe\">\n",
              "  <thead>\n",
              "    <tr style=\"text-align: right;\">\n",
              "      <th></th>\n",
              "      <th>Gender</th>\n",
              "      <th>Married</th>\n",
              "      <th>Dependents</th>\n",
              "      <th>Education</th>\n",
              "      <th>Self_Employed</th>\n",
              "      <th>ApplicantIncome</th>\n",
              "      <th>CoapplicantIncome</th>\n",
              "      <th>LoanAmount</th>\n",
              "      <th>Loan_Amount_Term</th>\n",
              "      <th>Credit_History</th>\n",
              "      <th>Property_Area</th>\n",
              "      <th>Loan_Status</th>\n",
              "      <th>no_lam</th>\n",
              "      <th>filled_lam</th>\n",
              "      <th>pa_Rural</th>\n",
              "      <th>pa_Semiurban</th>\n",
              "      <th>pa_Urban</th>\n",
              "      <th>pa_nan</th>\n",
              "      <th>lam_bin</th>\n",
              "      <th>lam_Low</th>\n",
              "      <th>lam_Avergae</th>\n",
              "      <th>lam_High</th>\n",
              "    </tr>\n",
              "  </thead>\n",
              "  <tbody>\n",
              "    <tr>\n",
              "      <th>0</th>\n",
              "      <td>Male</td>\n",
              "      <td>No</td>\n",
              "      <td>0</td>\n",
              "      <td>Graduate</td>\n",
              "      <td>No</td>\n",
              "      <td>5849</td>\n",
              "      <td>0.0</td>\n",
              "      <td>NaN</td>\n",
              "      <td>360.0</td>\n",
              "      <td>1.0</td>\n",
              "      <td>Urban</td>\n",
              "      <td>1</td>\n",
              "      <td>1</td>\n",
              "      <td>146.412162</td>\n",
              "      <td>0</td>\n",
              "      <td>0</td>\n",
              "      <td>1</td>\n",
              "      <td>0</td>\n",
              "      <td>Low</td>\n",
              "      <td>1</td>\n",
              "      <td>0</td>\n",
              "      <td>0</td>\n",
              "    </tr>\n",
              "    <tr>\n",
              "      <th>1</th>\n",
              "      <td>Male</td>\n",
              "      <td>Yes</td>\n",
              "      <td>1</td>\n",
              "      <td>Graduate</td>\n",
              "      <td>No</td>\n",
              "      <td>4583</td>\n",
              "      <td>1508.0</td>\n",
              "      <td>128.0</td>\n",
              "      <td>360.0</td>\n",
              "      <td>1.0</td>\n",
              "      <td>Rural</td>\n",
              "      <td>0</td>\n",
              "      <td>0</td>\n",
              "      <td>128.000000</td>\n",
              "      <td>1</td>\n",
              "      <td>0</td>\n",
              "      <td>0</td>\n",
              "      <td>0</td>\n",
              "      <td>Low</td>\n",
              "      <td>1</td>\n",
              "      <td>0</td>\n",
              "      <td>0</td>\n",
              "    </tr>\n",
              "  </tbody>\n",
              "</table>\n",
              "</div>"
            ],
            "text/plain": [
              "  Gender Married Dependents Education Self_Employed  ApplicantIncome  \\\n",
              "0   Male      No          0  Graduate            No             5849   \n",
              "1   Male     Yes          1  Graduate            No             4583   \n",
              "\n",
              "   CoapplicantIncome  LoanAmount  Loan_Amount_Term  Credit_History  \\\n",
              "0                0.0         NaN             360.0             1.0   \n",
              "1             1508.0       128.0             360.0             1.0   \n",
              "\n",
              "  Property_Area  Loan_Status  no_lam  filled_lam  pa_Rural  pa_Semiurban  \\\n",
              "0         Urban            1       1  146.412162         0             0   \n",
              "1         Rural            0       0  128.000000         1             0   \n",
              "\n",
              "   pa_Urban  pa_nan lam_bin  lam_Low  lam_Avergae  lam_High  \n",
              "0         1       0     Low        1            0         0  \n",
              "1         0       0     Low        1            0         0  "
            ]
          },
          "metadata": {
            "tags": []
          },
          "execution_count": 7
        }
      ]
    },
    {
      "metadata": {
        "colab_type": "text",
        "id": "2QR498M8kLg6"
      },
      "cell_type": "markdown",
      "source": [
        "<hr>\n",
        "<h1>\n",
        "3: Build a stump using Credit_History\n",
        "</h1>\n",
        "<p>\n",
        "<div class=h1_cell>\n",
        "<p>\n",
        "You may notice that the Credit_History column is already in semi-binary format: float versions of  0 and 1. Do we really have to one-hot encode it? It's a bit of a subjective question. My view is that we should be able to replace a 1 with a Yes/True and a 0 with a No/False. But what is actually being represented is 1 = good and 0 = bad. I think it should be one-hot encoded. And further, I'd like the columns you generate to be `ch_good`, `ch_bad`, `ch_nan`. Let's take it one step at time.\n",
        "  <p>\n",
        "    You may ask, as I did, why Credit_History has float values when it is binary and should be an int. The answer is that if a column contains a `NaN`, you cannot have an `int` type for the column. They are working on the problem. See here: https://stackoverflow.com/questions/11548005/numpy-or-pandas-keeping-array-type-as-integer-while-having-a-nan-value. In particular, there is a method, `to_numeric`, that you can apply to a column to change its type to `int`.  But if you try it on `Credit_History`, it has no effect.\n",
        "<p>\n",
        "Go ahead and one-hot encode the Credit_History column. You should end up wtih `ch_0.0`, `ch_1.0`,  `ch_nan`. \n",
        "\n",
        "</div>"
      ]
    },
    {
      "metadata": {
        "colab_type": "code",
        "id": "QgzAaqzvkLg7",
        "colab": {}
      },
      "cell_type": "code",
      "source": [
        "#do one-hot encoding on Credit_History\n",
        "ohe_credit_history = pd.get_dummies(loan_table['Credit_History'], prefix='ch', dummy_na=False)\n",
        "loan_table = loan_table.join(ohe_credit_history)"
      ],
      "execution_count": 0,
      "outputs": []
    },
    {
      "metadata": {
        "colab_type": "code",
        "id": "b7FC7NlYrz0X",
        "outputId": "dcd22242-f630-4634-b11f-3a3500f7bae2",
        "colab": {
          "base_uri": "https://localhost:8080/",
          "height": 232
        }
      },
      "cell_type": "code",
      "source": [
        "loan_table.head()"
      ],
      "execution_count": 0,
      "outputs": [
        {
          "output_type": "execute_result",
          "data": {
            "text/html": [
              "<div>\n",
              "<style scoped>\n",
              "    .dataframe tbody tr th:only-of-type {\n",
              "        vertical-align: middle;\n",
              "    }\n",
              "\n",
              "    .dataframe tbody tr th {\n",
              "        vertical-align: top;\n",
              "    }\n",
              "\n",
              "    .dataframe thead th {\n",
              "        text-align: right;\n",
              "    }\n",
              "</style>\n",
              "<table border=\"1\" class=\"dataframe\">\n",
              "  <thead>\n",
              "    <tr style=\"text-align: right;\">\n",
              "      <th></th>\n",
              "      <th>Gender</th>\n",
              "      <th>Married</th>\n",
              "      <th>Dependents</th>\n",
              "      <th>Education</th>\n",
              "      <th>Self_Employed</th>\n",
              "      <th>ApplicantIncome</th>\n",
              "      <th>CoapplicantIncome</th>\n",
              "      <th>LoanAmount</th>\n",
              "      <th>Loan_Amount_Term</th>\n",
              "      <th>Credit_History</th>\n",
              "      <th>Property_Area</th>\n",
              "      <th>Loan_Status</th>\n",
              "      <th>no_lam</th>\n",
              "      <th>filled_lam</th>\n",
              "      <th>pa_Rural</th>\n",
              "      <th>pa_Semiurban</th>\n",
              "      <th>pa_Urban</th>\n",
              "      <th>pa_nan</th>\n",
              "      <th>lam_bin</th>\n",
              "      <th>lam_Low</th>\n",
              "      <th>lam_Avergae</th>\n",
              "      <th>lam_High</th>\n",
              "      <th>ch_0.0</th>\n",
              "      <th>ch_1.0</th>\n",
              "    </tr>\n",
              "  </thead>\n",
              "  <tbody>\n",
              "    <tr>\n",
              "      <th>0</th>\n",
              "      <td>Male</td>\n",
              "      <td>No</td>\n",
              "      <td>0</td>\n",
              "      <td>Graduate</td>\n",
              "      <td>No</td>\n",
              "      <td>5849</td>\n",
              "      <td>0.0</td>\n",
              "      <td>NaN</td>\n",
              "      <td>360.0</td>\n",
              "      <td>1.0</td>\n",
              "      <td>Urban</td>\n",
              "      <td>1</td>\n",
              "      <td>1</td>\n",
              "      <td>146.412162</td>\n",
              "      <td>0</td>\n",
              "      <td>0</td>\n",
              "      <td>1</td>\n",
              "      <td>0</td>\n",
              "      <td>Low</td>\n",
              "      <td>1</td>\n",
              "      <td>0</td>\n",
              "      <td>0</td>\n",
              "      <td>0</td>\n",
              "      <td>1</td>\n",
              "    </tr>\n",
              "    <tr>\n",
              "      <th>1</th>\n",
              "      <td>Male</td>\n",
              "      <td>Yes</td>\n",
              "      <td>1</td>\n",
              "      <td>Graduate</td>\n",
              "      <td>No</td>\n",
              "      <td>4583</td>\n",
              "      <td>1508.0</td>\n",
              "      <td>128.0</td>\n",
              "      <td>360.0</td>\n",
              "      <td>1.0</td>\n",
              "      <td>Rural</td>\n",
              "      <td>0</td>\n",
              "      <td>0</td>\n",
              "      <td>128.000000</td>\n",
              "      <td>1</td>\n",
              "      <td>0</td>\n",
              "      <td>0</td>\n",
              "      <td>0</td>\n",
              "      <td>Low</td>\n",
              "      <td>1</td>\n",
              "      <td>0</td>\n",
              "      <td>0</td>\n",
              "      <td>0</td>\n",
              "      <td>1</td>\n",
              "    </tr>\n",
              "    <tr>\n",
              "      <th>2</th>\n",
              "      <td>Male</td>\n",
              "      <td>Yes</td>\n",
              "      <td>0</td>\n",
              "      <td>Graduate</td>\n",
              "      <td>Yes</td>\n",
              "      <td>3000</td>\n",
              "      <td>0.0</td>\n",
              "      <td>66.0</td>\n",
              "      <td>360.0</td>\n",
              "      <td>1.0</td>\n",
              "      <td>Urban</td>\n",
              "      <td>1</td>\n",
              "      <td>0</td>\n",
              "      <td>66.000000</td>\n",
              "      <td>0</td>\n",
              "      <td>0</td>\n",
              "      <td>1</td>\n",
              "      <td>0</td>\n",
              "      <td>Low</td>\n",
              "      <td>1</td>\n",
              "      <td>0</td>\n",
              "      <td>0</td>\n",
              "      <td>0</td>\n",
              "      <td>1</td>\n",
              "    </tr>\n",
              "    <tr>\n",
              "      <th>3</th>\n",
              "      <td>Male</td>\n",
              "      <td>Yes</td>\n",
              "      <td>0</td>\n",
              "      <td>Not Graduate</td>\n",
              "      <td>No</td>\n",
              "      <td>2583</td>\n",
              "      <td>2358.0</td>\n",
              "      <td>120.0</td>\n",
              "      <td>360.0</td>\n",
              "      <td>1.0</td>\n",
              "      <td>Urban</td>\n",
              "      <td>1</td>\n",
              "      <td>0</td>\n",
              "      <td>120.000000</td>\n",
              "      <td>0</td>\n",
              "      <td>0</td>\n",
              "      <td>1</td>\n",
              "      <td>0</td>\n",
              "      <td>Low</td>\n",
              "      <td>1</td>\n",
              "      <td>0</td>\n",
              "      <td>0</td>\n",
              "      <td>0</td>\n",
              "      <td>1</td>\n",
              "    </tr>\n",
              "    <tr>\n",
              "      <th>4</th>\n",
              "      <td>Male</td>\n",
              "      <td>No</td>\n",
              "      <td>0</td>\n",
              "      <td>Graduate</td>\n",
              "      <td>No</td>\n",
              "      <td>6000</td>\n",
              "      <td>0.0</td>\n",
              "      <td>141.0</td>\n",
              "      <td>360.0</td>\n",
              "      <td>1.0</td>\n",
              "      <td>Urban</td>\n",
              "      <td>1</td>\n",
              "      <td>0</td>\n",
              "      <td>141.000000</td>\n",
              "      <td>0</td>\n",
              "      <td>0</td>\n",
              "      <td>1</td>\n",
              "      <td>0</td>\n",
              "      <td>Low</td>\n",
              "      <td>1</td>\n",
              "      <td>0</td>\n",
              "      <td>0</td>\n",
              "      <td>0</td>\n",
              "      <td>1</td>\n",
              "    </tr>\n",
              "  </tbody>\n",
              "</table>\n",
              "</div>"
            ],
            "text/plain": [
              "  Gender Married Dependents     Education Self_Employed  ApplicantIncome  \\\n",
              "0   Male      No          0      Graduate            No             5849   \n",
              "1   Male     Yes          1      Graduate            No             4583   \n",
              "2   Male     Yes          0      Graduate           Yes             3000   \n",
              "3   Male     Yes          0  Not Graduate            No             2583   \n",
              "4   Male      No          0      Graduate            No             6000   \n",
              "\n",
              "   CoapplicantIncome  LoanAmount  Loan_Amount_Term  Credit_History  \\\n",
              "0                0.0         NaN             360.0             1.0   \n",
              "1             1508.0       128.0             360.0             1.0   \n",
              "2                0.0        66.0             360.0             1.0   \n",
              "3             2358.0       120.0             360.0             1.0   \n",
              "4                0.0       141.0             360.0             1.0   \n",
              "\n",
              "  Property_Area  Loan_Status  no_lam  filled_lam  pa_Rural  pa_Semiurban  \\\n",
              "0         Urban            1       1  146.412162         0             0   \n",
              "1         Rural            0       0  128.000000         1             0   \n",
              "2         Urban            1       0   66.000000         0             0   \n",
              "3         Urban            1       0  120.000000         0             0   \n",
              "4         Urban            1       0  141.000000         0             0   \n",
              "\n",
              "   pa_Urban  pa_nan lam_bin  lam_Low  lam_Avergae  lam_High  ch_0.0  ch_1.0  \n",
              "0         1       0     Low        1            0         0       0       1  \n",
              "1         0       0     Low        1            0         0       0       1  \n",
              "2         1       0     Low        1            0         0       0       1  \n",
              "3         1       0     Low        1            0         0       0       1  \n",
              "4         1       0     Low        1            0         0       0       1  "
            ]
          },
          "metadata": {
            "tags": []
          },
          "execution_count": 9
        }
      ]
    },
    {
      "metadata": {
        "colab_type": "text",
        "id": "mytgbD5qkLhA"
      },
      "cell_type": "markdown",
      "source": [
        "<div class=just_text>\n",
        "Now rename the 2 columns to `ch_bad` and `ch_good`.\n",
        "</div>"
      ]
    },
    {
      "metadata": {
        "colab_type": "code",
        "id": "_EfbuBfXkLhA",
        "outputId": "5fc08b05-4b76-4b10-cb48-5c27aff005ce",
        "colab": {
          "base_uri": "https://localhost:8080/",
          "height": 97
        }
      },
      "cell_type": "code",
      "source": [
        "#rename columns\n",
        "loan_table = loan_table.rename(columns={'ch_0.0': 'ch_bad', 'ch_1.0': 'ch_good'})\n",
        "\n",
        "loan_table.head(1)"
      ],
      "execution_count": 0,
      "outputs": [
        {
          "output_type": "execute_result",
          "data": {
            "text/html": [
              "<div>\n",
              "<style scoped>\n",
              "    .dataframe tbody tr th:only-of-type {\n",
              "        vertical-align: middle;\n",
              "    }\n",
              "\n",
              "    .dataframe tbody tr th {\n",
              "        vertical-align: top;\n",
              "    }\n",
              "\n",
              "    .dataframe thead th {\n",
              "        text-align: right;\n",
              "    }\n",
              "</style>\n",
              "<table border=\"1\" class=\"dataframe\">\n",
              "  <thead>\n",
              "    <tr style=\"text-align: right;\">\n",
              "      <th></th>\n",
              "      <th>Gender</th>\n",
              "      <th>Married</th>\n",
              "      <th>Dependents</th>\n",
              "      <th>Education</th>\n",
              "      <th>Self_Employed</th>\n",
              "      <th>ApplicantIncome</th>\n",
              "      <th>CoapplicantIncome</th>\n",
              "      <th>LoanAmount</th>\n",
              "      <th>Loan_Amount_Term</th>\n",
              "      <th>Credit_History</th>\n",
              "      <th>Property_Area</th>\n",
              "      <th>Loan_Status</th>\n",
              "      <th>no_lam</th>\n",
              "      <th>filled_lam</th>\n",
              "      <th>pa_Rural</th>\n",
              "      <th>pa_Semiurban</th>\n",
              "      <th>pa_Urban</th>\n",
              "      <th>pa_nan</th>\n",
              "      <th>lam_bin</th>\n",
              "      <th>lam_Low</th>\n",
              "      <th>lam_Avergae</th>\n",
              "      <th>lam_High</th>\n",
              "      <th>ch_bad</th>\n",
              "      <th>ch_good</th>\n",
              "    </tr>\n",
              "  </thead>\n",
              "  <tbody>\n",
              "    <tr>\n",
              "      <th>0</th>\n",
              "      <td>Male</td>\n",
              "      <td>No</td>\n",
              "      <td>0</td>\n",
              "      <td>Graduate</td>\n",
              "      <td>No</td>\n",
              "      <td>5849</td>\n",
              "      <td>0.0</td>\n",
              "      <td>NaN</td>\n",
              "      <td>360.0</td>\n",
              "      <td>1.0</td>\n",
              "      <td>Urban</td>\n",
              "      <td>1</td>\n",
              "      <td>1</td>\n",
              "      <td>146.412162</td>\n",
              "      <td>0</td>\n",
              "      <td>0</td>\n",
              "      <td>1</td>\n",
              "      <td>0</td>\n",
              "      <td>Low</td>\n",
              "      <td>1</td>\n",
              "      <td>0</td>\n",
              "      <td>0</td>\n",
              "      <td>0</td>\n",
              "      <td>1</td>\n",
              "    </tr>\n",
              "  </tbody>\n",
              "</table>\n",
              "</div>"
            ],
            "text/plain": [
              "  Gender Married Dependents Education Self_Employed  ApplicantIncome  \\\n",
              "0   Male      No          0  Graduate            No             5849   \n",
              "\n",
              "   CoapplicantIncome  LoanAmount  Loan_Amount_Term  Credit_History  \\\n",
              "0                0.0         NaN             360.0             1.0   \n",
              "\n",
              "  Property_Area  Loan_Status  no_lam  filled_lam  pa_Rural  pa_Semiurban  \\\n",
              "0         Urban            1       1  146.412162         0             0   \n",
              "\n",
              "   pa_Urban  pa_nan lam_bin  lam_Low  lam_Avergae  lam_High  ch_bad  ch_good  \n",
              "0         1       0     Low        1            0         0       0        1  "
            ]
          },
          "metadata": {
            "tags": []
          },
          "execution_count": 10
        }
      ]
    },
    {
      "metadata": {
        "colab_type": "text",
        "id": "tyrWyyqzkLhG"
      },
      "cell_type": "markdown",
      "source": [
        "<div class=just_text>\n",
        "Now build the predictor using `ch_good` as the single node/question. A good credit history leads to a prediction of 1 else 0.\n",
        "</div>"
      ]
    },
    {
      "metadata": {
        "colab_type": "code",
        "id": "p2asdCuskLhH",
        "colab": {}
      },
      "cell_type": "code",
      "source": [
        "#build the predictor - call it loan_predictor_1\n",
        "\n",
        "def loan_predictor_1(row):\n",
        "  if row['ch_good']:\n",
        "    prediction = 1\n",
        "  else:\n",
        "    prediction = 0\n",
        "  return prediction\n"
      ],
      "execution_count": 0,
      "outputs": []
    },
    {
      "metadata": {
        "colab_type": "code",
        "id": "BVPLAXXxrH4c",
        "colab": {}
      },
      "cell_type": "code",
      "source": [
        "#start a results table\n",
        "loan_results = loan_table[['Loan_Status']].copy()"
      ],
      "execution_count": 0,
      "outputs": []
    },
    {
      "metadata": {
        "colab_type": "code",
        "id": "lnMRuHNYkLhL",
        "outputId": "d1154eab-8964-4d3d-f62e-ffaebc3a2199",
        "colab": {
          "base_uri": "https://localhost:8080/",
          "height": 77
        }
      },
      "cell_type": "code",
      "source": [
        "#create a new column `pred_1` with your predictions\n",
        "loan_results['pred_1'] = loan_table.apply(lambda row: loan_predictor_1(row), axis=1)\n",
        "\n",
        "loan_results.head(1)"
      ],
      "execution_count": 0,
      "outputs": [
        {
          "output_type": "execute_result",
          "data": {
            "text/html": [
              "<div>\n",
              "<style scoped>\n",
              "    .dataframe tbody tr th:only-of-type {\n",
              "        vertical-align: middle;\n",
              "    }\n",
              "\n",
              "    .dataframe tbody tr th {\n",
              "        vertical-align: top;\n",
              "    }\n",
              "\n",
              "    .dataframe thead th {\n",
              "        text-align: right;\n",
              "    }\n",
              "</style>\n",
              "<table border=\"1\" class=\"dataframe\">\n",
              "  <thead>\n",
              "    <tr style=\"text-align: right;\">\n",
              "      <th></th>\n",
              "      <th>Loan_Status</th>\n",
              "      <th>pred_1</th>\n",
              "    </tr>\n",
              "  </thead>\n",
              "  <tbody>\n",
              "    <tr>\n",
              "      <th>0</th>\n",
              "      <td>1</td>\n",
              "      <td>1</td>\n",
              "    </tr>\n",
              "  </tbody>\n",
              "</table>\n",
              "</div>"
            ],
            "text/plain": [
              "   Loan_Status  pred_1\n",
              "0            1       1"
            ]
          },
          "metadata": {
            "tags": []
          },
          "execution_count": 13
        }
      ]
    },
    {
      "metadata": {
        "colab_type": "text",
        "id": "1aMjF0B0kLhQ"
      },
      "cell_type": "markdown",
      "source": [
        "\n",
        "<h2>\n",
        "Classify results\n",
        "</h2>\n",
        "<p>\n",
        "<div class=h1_cell>\n",
        "Build a new column `pred_1_type`.\n",
        "</div>"
      ]
    },
    {
      "metadata": {
        "id": "Hcm3NyPOtmS5",
        "colab_type": "code",
        "colab": {}
      },
      "cell_type": "code",
      "source": [
        "def predictor_case(row, pred, target):\n",
        "  case_dict = {(0,0): 'true_negative', (1,1): 'true_positive', (0,1): 'false_negative', (1,0): 'false_positive'}\n",
        "  actual = row[target]\n",
        "  prediction = row[pred]\n",
        "  case = case_dict[(prediction, actual)]\n",
        "  return case"
      ],
      "execution_count": 0,
      "outputs": []
    },
    {
      "metadata": {
        "colab_type": "code",
        "id": "J9q9LCmikLhR",
        "colab": {}
      },
      "cell_type": "code",
      "source": [
        "#new pred_1_type column - use predictor_case from your library\n",
        "#from library_w19_week2 import *\n",
        "loan_results['pred_1_type'] = loan_results.apply(lambda row: predictor_case(row, pred='pred_1', target='Loan_Status'), axis=1)\n"
      ],
      "execution_count": 0,
      "outputs": []
    },
    {
      "metadata": {
        "colab_type": "code",
        "id": "eU1aMzHpkLhX",
        "outputId": "1c6f6114-2394-41fd-b9f6-7e30b2f87027",
        "colab": {
          "base_uri": "https://localhost:8080/",
          "height": 195
        }
      },
      "cell_type": "code",
      "source": [
        "loan_results.tail()"
      ],
      "execution_count": 0,
      "outputs": [
        {
          "output_type": "execute_result",
          "data": {
            "text/html": [
              "<div>\n",
              "<style scoped>\n",
              "    .dataframe tbody tr th:only-of-type {\n",
              "        vertical-align: middle;\n",
              "    }\n",
              "\n",
              "    .dataframe tbody tr th {\n",
              "        vertical-align: top;\n",
              "    }\n",
              "\n",
              "    .dataframe thead th {\n",
              "        text-align: right;\n",
              "    }\n",
              "</style>\n",
              "<table border=\"1\" class=\"dataframe\">\n",
              "  <thead>\n",
              "    <tr style=\"text-align: right;\">\n",
              "      <th></th>\n",
              "      <th>Loan_Status</th>\n",
              "      <th>pred_1</th>\n",
              "      <th>pred_1_type</th>\n",
              "    </tr>\n",
              "  </thead>\n",
              "  <tbody>\n",
              "    <tr>\n",
              "      <th>609</th>\n",
              "      <td>1</td>\n",
              "      <td>1</td>\n",
              "      <td>true_positive</td>\n",
              "    </tr>\n",
              "    <tr>\n",
              "      <th>610</th>\n",
              "      <td>1</td>\n",
              "      <td>1</td>\n",
              "      <td>true_positive</td>\n",
              "    </tr>\n",
              "    <tr>\n",
              "      <th>611</th>\n",
              "      <td>1</td>\n",
              "      <td>1</td>\n",
              "      <td>true_positive</td>\n",
              "    </tr>\n",
              "    <tr>\n",
              "      <th>612</th>\n",
              "      <td>1</td>\n",
              "      <td>1</td>\n",
              "      <td>true_positive</td>\n",
              "    </tr>\n",
              "    <tr>\n",
              "      <th>613</th>\n",
              "      <td>0</td>\n",
              "      <td>0</td>\n",
              "      <td>true_negative</td>\n",
              "    </tr>\n",
              "  </tbody>\n",
              "</table>\n",
              "</div>"
            ],
            "text/plain": [
              "     Loan_Status  pred_1    pred_1_type\n",
              "609            1       1  true_positive\n",
              "610            1       1  true_positive\n",
              "611            1       1  true_positive\n",
              "612            1       1  true_positive\n",
              "613            0       0  true_negative"
            ]
          },
          "metadata": {
            "tags": []
          },
          "execution_count": 16
        }
      ]
    },
    {
      "metadata": {
        "colab_type": "text",
        "id": "w3m--XVqkLhe"
      },
      "cell_type": "markdown",
      "source": [
        "<div class=just_text>\n",
        "Now build the series that contains the count of all 4 types.\n",
        "</div>"
      ]
    },
    {
      "metadata": {
        "colab_type": "code",
        "id": "7iPIdcmVkLhf",
        "outputId": "d43a70a9-0206-40c2-c151-3f4b83df2080",
        "colab": {
          "base_uri": "https://localhost:8080/",
          "height": 101
        }
      },
      "cell_type": "code",
      "source": [
        "#new series called p1_types\n",
        "p1_types = loan_results['pred_1_type'].value_counts()\n",
        "\n",
        "p1_types"
      ],
      "execution_count": 0,
      "outputs": [
        {
          "output_type": "execute_result",
          "data": {
            "text/plain": [
              "true_positive     378\n",
              "false_positive     97\n",
              "true_negative      95\n",
              "false_negative     44\n",
              "Name: pred_1_type, dtype: int64"
            ]
          },
          "metadata": {
            "tags": []
          },
          "execution_count": 17
        }
      ]
    },
    {
      "metadata": {
        "colab_type": "code",
        "id": "PBURCmGlk240",
        "outputId": "3e831cf5-c923-4d84-c4fc-994bd261e157",
        "colab": {
          "base_uri": "https://localhost:8080/",
          "height": 34
        }
      },
      "cell_type": "code",
      "source": [
        "#what is straight accuracy? Use function from your library\n",
        "\n",
        "accuracy(p1_types)"
      ],
      "execution_count": 0,
      "outputs": [
        {
          "output_type": "execute_result",
          "data": {
            "text/plain": [
              "0.7703583061889251"
            ]
          },
          "metadata": {
            "tags": []
          },
          "execution_count": 18
        }
      ]
    },
    {
      "metadata": {
        "colab_type": "text",
        "id": "_tfMmF1OkLhk"
      },
      "cell_type": "markdown",
      "source": [
        "<hr>\n",
        "<h1>\n",
        "4: Build a more complicated tree\n",
        "</h1>\n",
        "<div class=h1_cell>\n",
        "Here is your target:\n",
        "<p>\n",
        "<img src='https://www.dropbox.com/s/kgj6ms46nacjny5/bushy_loan.png?raw=1'  width=\"400\" height=\"400\">\n",
        "<p>\n",
        "</div>"
      ]
    },
    {
      "metadata": {
        "colab_type": "code",
        "id": "ukxAtcJBkLhl",
        "colab": {}
      },
      "cell_type": "code",
      "source": [
        "# build the predictor - call it predictor_2.\n",
        "\n",
        "def loan_predictor_2(row):\n",
        "  if row['ch_good']:\n",
        "    if row['lam_High']:\n",
        "      prediction = 0\n",
        "    else:\n",
        "      prediction = 1\n",
        "  else:\n",
        "    if row['pa_Urban']:\n",
        "      prediction = 1\n",
        "    else:\n",
        "      prediction = 0\n",
        "  return prediction\n"
      ],
      "execution_count": 0,
      "outputs": []
    },
    {
      "metadata": {
        "colab_type": "code",
        "id": "F3gkUTYnkLhp",
        "outputId": "c498be67-50ce-4291-a0bb-bdec532c76ec",
        "colab": {
          "base_uri": "https://localhost:8080/",
          "height": 77
        }
      },
      "cell_type": "code",
      "source": [
        "#create a new column `pred_2` with your predictions\n",
        "loan_results['pred_2'] = loan_table.apply(lambda row: loan_predictor_2(row), axis=1)\n",
        "\n",
        "\n",
        "loan_results.head(1)"
      ],
      "execution_count": 0,
      "outputs": [
        {
          "output_type": "execute_result",
          "data": {
            "text/html": [
              "<div>\n",
              "<style scoped>\n",
              "    .dataframe tbody tr th:only-of-type {\n",
              "        vertical-align: middle;\n",
              "    }\n",
              "\n",
              "    .dataframe tbody tr th {\n",
              "        vertical-align: top;\n",
              "    }\n",
              "\n",
              "    .dataframe thead th {\n",
              "        text-align: right;\n",
              "    }\n",
              "</style>\n",
              "<table border=\"1\" class=\"dataframe\">\n",
              "  <thead>\n",
              "    <tr style=\"text-align: right;\">\n",
              "      <th></th>\n",
              "      <th>Loan_Status</th>\n",
              "      <th>pred_1</th>\n",
              "      <th>pred_1_type</th>\n",
              "      <th>pred_2</th>\n",
              "    </tr>\n",
              "  </thead>\n",
              "  <tbody>\n",
              "    <tr>\n",
              "      <th>0</th>\n",
              "      <td>1</td>\n",
              "      <td>1</td>\n",
              "      <td>true_positive</td>\n",
              "      <td>1</td>\n",
              "    </tr>\n",
              "  </tbody>\n",
              "</table>\n",
              "</div>"
            ],
            "text/plain": [
              "   Loan_Status  pred_1    pred_1_type  pred_2\n",
              "0            1       1  true_positive       1"
            ]
          },
          "metadata": {
            "tags": []
          },
          "execution_count": 20
        }
      ]
    },
    {
      "metadata": {
        "colab_type": "code",
        "id": "hq_5v_kykLht",
        "outputId": "0001a1dc-4d99-4b71-ba03-40a96e313af9",
        "colab": {
          "base_uri": "https://localhost:8080/",
          "height": 77
        }
      },
      "cell_type": "code",
      "source": [
        "#build pred_2_type column\n",
        "\n",
        "loan_results['pred_2_type'] = loan_results.apply(lambda row: predictor_case(row, pred='pred_2', target='Loan_Status'), axis=1)\n",
        "\n",
        "loan_results.head(1)"
      ],
      "execution_count": 0,
      "outputs": [
        {
          "output_type": "execute_result",
          "data": {
            "text/html": [
              "<div>\n",
              "<style scoped>\n",
              "    .dataframe tbody tr th:only-of-type {\n",
              "        vertical-align: middle;\n",
              "    }\n",
              "\n",
              "    .dataframe tbody tr th {\n",
              "        vertical-align: top;\n",
              "    }\n",
              "\n",
              "    .dataframe thead th {\n",
              "        text-align: right;\n",
              "    }\n",
              "</style>\n",
              "<table border=\"1\" class=\"dataframe\">\n",
              "  <thead>\n",
              "    <tr style=\"text-align: right;\">\n",
              "      <th></th>\n",
              "      <th>Loan_Status</th>\n",
              "      <th>pred_1</th>\n",
              "      <th>pred_1_type</th>\n",
              "      <th>pred_2</th>\n",
              "      <th>pred_2_type</th>\n",
              "    </tr>\n",
              "  </thead>\n",
              "  <tbody>\n",
              "    <tr>\n",
              "      <th>0</th>\n",
              "      <td>1</td>\n",
              "      <td>1</td>\n",
              "      <td>true_positive</td>\n",
              "      <td>1</td>\n",
              "      <td>true_positive</td>\n",
              "    </tr>\n",
              "  </tbody>\n",
              "</table>\n",
              "</div>"
            ],
            "text/plain": [
              "   Loan_Status  pred_1    pred_1_type  pred_2    pred_2_type\n",
              "0            1       1  true_positive       1  true_positive"
            ]
          },
          "metadata": {
            "tags": []
          },
          "execution_count": 21
        }
      ]
    },
    {
      "metadata": {
        "colab_type": "code",
        "id": "_7RH2lDDkLhy",
        "outputId": "9ab47aef-d05e-4a67-d024-0057254c82c5",
        "colab": {
          "base_uri": "https://localhost:8080/",
          "height": 101
        }
      },
      "cell_type": "code",
      "source": [
        "#new series called p2_types\n",
        "p2_types = loan_results['pred_2_type'].value_counts()\n",
        "\n",
        "p2_types"
      ],
      "execution_count": 0,
      "outputs": [
        {
          "output_type": "execute_result",
          "data": {
            "text/plain": [
              "true_positive     390\n",
              "false_positive    128\n",
              "true_negative      64\n",
              "false_negative     32\n",
              "Name: pred_2_type, dtype: int64"
            ]
          },
          "metadata": {
            "tags": []
          },
          "execution_count": 22
        }
      ]
    },
    {
      "metadata": {
        "colab_type": "text",
        "id": "IJd14A5_kLh1"
      },
      "cell_type": "markdown",
      "source": [
        "<hr>\n",
        "<h1>\n",
        "5: Compare the 2 predictors\n",
        "</h1>\n",
        "<div class=h1_cell>\n",
        "First, do visualization called for then compute measures.\n",
        "</div>"
      ]
    },
    {
      "metadata": {
        "colab_type": "text",
        "id": "Wb0ZSEB_kLh3"
      },
      "cell_type": "markdown",
      "source": [
        "<h2>\n",
        "Visualize the 2 predictors' results\n",
        "</h2>\n",
        "<p>\n",
        "<div class=h1_cell>\n",
        "Use a pie chart for each.\n",
        "</div>"
      ]
    },
    {
      "metadata": {
        "id": "Xg-1Bg_gzcIe",
        "colab_type": "code",
        "colab": {}
      },
      "cell_type": "code",
      "source": [
        "def accuracy(cases):\n",
        "    tp = cases['true_positive']\n",
        "    tn = cases['true_negative']\n",
        "    fp = cases['false_positive']\n",
        "    fn = cases['false_negative']\n",
        "    return (tp + tn)/(tp+tn+fp+fn)"
      ],
      "execution_count": 0,
      "outputs": []
    },
    {
      "metadata": {
        "colab_type": "code",
        "id": "imZyqSzkkLh4",
        "outputId": "7abb774f-0ebf-4d6a-bf2a-2835fa83de2a",
        "colab": {
          "base_uri": "https://localhost:8080/",
          "height": 389
        }
      },
      "cell_type": "code",
      "source": [
        "#import matplotlib\n",
        "%matplotlib inline\n",
        "p1_types.plot.pie(title='P1 Accuracy: '+str(accuracy(p1_types)), autopct='%.2f', fontsize=20, figsize=(6, 6))  # need figsize to get correct aspect\n",
        "#First predictor_1\n"
      ],
      "execution_count": 0,
      "outputs": [
        {
          "output_type": "execute_result",
          "data": {
            "text/plain": [
              "<matplotlib.axes._subplots.AxesSubplot at 0x7f642da4ca90>"
            ]
          },
          "metadata": {
            "tags": []
          },
          "execution_count": 24
        },
        {
          "output_type": "display_data",
          "data": {
            "image/png": "[encoded data removed]",
            "text/plain": [
              "<Figure size 432x432 with 1 Axes>"
            ]
          },
          "metadata": {
            "tags": []
          }
        }
      ]
    },
    {
      "metadata": {
        "colab_type": "code",
        "id": "Rfmokfq7kLh8",
        "outputId": "29ef1f9f-e98f-42c9-a30c-be4f1a0c0759",
        "colab": {
          "base_uri": "https://localhost:8080/",
          "height": 389
        }
      },
      "cell_type": "code",
      "source": [
        "#Next predictor_2\n",
        "p2_types.plot.pie(title='P2 Accuracy: '+str(accuracy(p2_types)), autopct='%.2f', fontsize=20, figsize=(6, 6))  # need figsize to get correct aspect"
      ],
      "execution_count": 0,
      "outputs": [
        {
          "output_type": "execute_result",
          "data": {
            "text/plain": [
              "<matplotlib.axes._subplots.AxesSubplot at 0x7f642d9e6908>"
            ]
          },
          "metadata": {
            "tags": []
          },
          "execution_count": 25
        },
        {
          "output_type": "display_data",
          "data": {
            "image/png": "[encoded data removed]",
            "text/plain": [
              "<Figure size 432x432 with 1 Axes>"
            ]
          },
          "metadata": {
            "tags": []
          }
        }
      ]
    },
    {
      "metadata": {
        "colab_type": "code",
        "id": "LFGGLdipkLiI",
        "outputId": "3ff84cd9-1116-42d8-a375-13ef79aaa238",
        "colab": {
          "base_uri": "https://localhost:8080/",
          "height": 34
        }
      },
      "cell_type": "code",
      "source": [
        "accuracy(p2_types)"
      ],
      "execution_count": 0,
      "outputs": [
        {
          "output_type": "execute_result",
          "data": {
            "text/plain": [
              "0.739413680781759"
            ]
          },
          "metadata": {
            "tags": []
          },
          "execution_count": 26
        }
      ]
    },
    {
      "metadata": {
        "colab_type": "text",
        "id": "IfyzWqrWkLiN"
      },
      "cell_type": "markdown",
      "source": [
        "\n",
        "<h2>\n",
        "The accuracy went down\n",
        "</h2>\n",
        "<p>\n",
        "<div class=h1_cell>\n",
        "It's a little counter-intuitive. We add more knowledge to the tree (more splits) but it harms us. In the next module, we will see a means to determine if the new branches we added are the best we can do (punchline: they are not).\n",
        "</div>"
      ]
    },
    {
      "metadata": {
        "colab_type": "text",
        "id": "1lQNPaxNkLiO"
      },
      "cell_type": "markdown",
      "source": [
        "\n",
        "<h2>\n",
        "Compare F1 scores\n",
        "</h2>\n",
        "<p>\n",
        "<div class=h1_cell>\n",
        "As reminder, here is the table to use.\n",
        "<p>\n",
        "\n",
        "<img src='https://www.dropbox.com/s/zubecbzi8zsdzgg/confusion_matrix.png?raw=1'>\n",
        "\n",
        "<div>"
      ]
    },
    {
      "metadata": {
        "id": "5vuyXvlYzuXw",
        "colab_type": "code",
        "colab": {}
      },
      "cell_type": "code",
      "source": [
        "def f1(cases):\n",
        "    \n",
        "    #the heart of the matrix\n",
        "    tp = cases['true_positive']\n",
        "    fn = cases['false_negative']\n",
        "    tn = cases['true_negative']\n",
        "    fp = cases['false_positive']\n",
        "    \n",
        "    #other measures we can derive\n",
        "    recall = 1.0*tp/(tp+fn)  # positive correct divided by total positive in the table\n",
        "    precision = 1.0*tp/(tp+fp) # positive correct divided by all positive predictions made\n",
        "    \n",
        "    #now for the one we want\n",
        "    f1 = 2/(1/recall + 1/precision)\n",
        "    \n",
        "    return f1"
      ],
      "execution_count": 0,
      "outputs": []
    },
    {
      "metadata": {
        "colab_type": "code",
        "id": "DGS9AMKOkLiP",
        "outputId": "2c4c0a80-1a9b-444a-eec1-32ed3aaa715b",
        "colab": {
          "base_uri": "https://localhost:8080/",
          "height": 34
        }
      },
      "cell_type": "code",
      "source": [
        "#compute F1 for the first predictor\n",
        "f1(p1_types)"
      ],
      "execution_count": 0,
      "outputs": [
        {
          "output_type": "execute_result",
          "data": {
            "text/plain": [
              "0.842809364548495"
            ]
          },
          "metadata": {
            "tags": []
          },
          "execution_count": 28
        }
      ]
    },
    {
      "metadata": {
        "colab_type": "code",
        "id": "TiJg6zwvkLiT",
        "outputId": "1144c7c8-7ff2-4728-b56c-4d3fbca53a7d",
        "colab": {
          "base_uri": "https://localhost:8080/",
          "height": 34
        }
      },
      "cell_type": "code",
      "source": [
        "#compute F1 for the second predictor\n",
        "f1(p2_types)"
      ],
      "execution_count": 0,
      "outputs": [
        {
          "output_type": "execute_result",
          "data": {
            "text/plain": [
              "0.8297872340425533"
            ]
          },
          "metadata": {
            "tags": []
          },
          "execution_count": 29
        }
      ]
    },
    {
      "metadata": {
        "colab_type": "text",
        "id": "imkqYlWzkLiY"
      },
      "cell_type": "markdown",
      "source": [
        "<div class=just_text>\n",
        "Not much difference in F1 scores.\n",
        "</div>"
      ]
    },
    {
      "metadata": {
        "colab_type": "text",
        "id": "qE2_mmvnkLia"
      },
      "cell_type": "markdown",
      "source": [
        "\n",
        "<h2>\n",
        "Compare informedness scores\n",
        "</h2>\n",
        "<p>\n",
        "<div class=h1_cell>\n",
        "You won't find this measure in the confusion matrix. We defined it while working with Titanic data.\n",
        "<div>"
      ]
    },
    {
      "metadata": {
        "id": "n_dVzDzTzzkP",
        "colab_type": "code",
        "colab": {}
      },
      "cell_type": "code",
      "source": [
        "def informedness(cases):\n",
        "    tp = cases['true_positive']\n",
        "    fn = cases['false_negative']\n",
        "    tn = cases['true_negative']\n",
        "    fp = cases['false_positive']\n",
        "    recall = 1.0*tp/(tp+fn)  # positive correct divided by total positive in the table\n",
        "    specificty = 1.0*tn/(tn+fp) # negative correct divided by total negative in the table\n",
        "    J = (recall + specificty) - 1\n",
        "    return J"
      ],
      "execution_count": 0,
      "outputs": []
    },
    {
      "metadata": {
        "colab_type": "code",
        "id": "UTeq9qKlkLia",
        "outputId": "b02245e2-0924-4840-e34e-daf4dbf017f3",
        "colab": {
          "base_uri": "https://localhost:8080/",
          "height": 34
        }
      },
      "cell_type": "code",
      "source": [
        "#informedness for predictor 1\n",
        "\n",
        "informedness(p1_types)"
      ],
      "execution_count": 0,
      "outputs": [
        {
          "output_type": "execute_result",
          "data": {
            "text/plain": [
              "0.3905262638230649"
            ]
          },
          "metadata": {
            "tags": []
          },
          "execution_count": 31
        }
      ]
    },
    {
      "metadata": {
        "colab_type": "code",
        "id": "5652Vk1pkLif",
        "outputId": "c56bafe6-0071-46f5-c7b2-3def7a40d19f",
        "colab": {
          "base_uri": "https://localhost:8080/",
          "height": 34
        }
      },
      "cell_type": "code",
      "source": [
        "#informedness for predictor 2\n",
        "\n",
        "informedness(p2_types)"
      ],
      "execution_count": 0,
      "outputs": [
        {
          "output_type": "execute_result",
          "data": {
            "text/plain": [
              "0.25750394944707744"
            ]
          },
          "metadata": {
            "tags": []
          },
          "execution_count": 32
        }
      ]
    },
    {
      "metadata": {
        "colab_type": "text",
        "id": "dytEk8sGkLik"
      },
      "cell_type": "markdown",
      "source": [
        "<div class=just_text>\n",
        "Relatively low for both.\n",
        "</div>"
      ]
    },
    {
      "metadata": {
        "colab_type": "text",
        "id": "YhhDMF9AkLil"
      },
      "cell_type": "markdown",
      "source": [
        "<hr>\n",
        "<h1>\n",
        "6: Write out your tables to file\n",
        "</h1>\n",
        "<div class=h1_cell>\n",
        "We will make use of them in future assignments.\n",
        "</div>"
      ]
    },
    {
      "metadata": {
        "colab_type": "code",
        "id": "mMZ4ygnukLim",
        "outputId": "a708cf34-82db-4dde-eac3-38113a7f2130",
        "colab": {
          "base_uri": "https://localhost:8080/",
          "height": 97
        }
      },
      "cell_type": "code",
      "source": [
        "loan_table.head(1)   # see the columns you are writing out"
      ],
      "execution_count": 0,
      "outputs": [
        {
          "output_type": "execute_result",
          "data": {
            "text/html": [
              "<div>\n",
              "<style scoped>\n",
              "    .dataframe tbody tr th:only-of-type {\n",
              "        vertical-align: middle;\n",
              "    }\n",
              "\n",
              "    .dataframe tbody tr th {\n",
              "        vertical-align: top;\n",
              "    }\n",
              "\n",
              "    .dataframe thead th {\n",
              "        text-align: right;\n",
              "    }\n",
              "</style>\n",
              "<table border=\"1\" class=\"dataframe\">\n",
              "  <thead>\n",
              "    <tr style=\"text-align: right;\">\n",
              "      <th></th>\n",
              "      <th>Gender</th>\n",
              "      <th>Married</th>\n",
              "      <th>Dependents</th>\n",
              "      <th>Education</th>\n",
              "      <th>Self_Employed</th>\n",
              "      <th>ApplicantIncome</th>\n",
              "      <th>CoapplicantIncome</th>\n",
              "      <th>LoanAmount</th>\n",
              "      <th>Loan_Amount_Term</th>\n",
              "      <th>Credit_History</th>\n",
              "      <th>Property_Area</th>\n",
              "      <th>Loan_Status</th>\n",
              "      <th>no_lam</th>\n",
              "      <th>filled_lam</th>\n",
              "      <th>pa_Rural</th>\n",
              "      <th>pa_Semiurban</th>\n",
              "      <th>pa_Urban</th>\n",
              "      <th>pa_nan</th>\n",
              "      <th>lam_bin</th>\n",
              "      <th>lam_Low</th>\n",
              "      <th>lam_Avergae</th>\n",
              "      <th>lam_High</th>\n",
              "      <th>ch_bad</th>\n",
              "      <th>ch_good</th>\n",
              "    </tr>\n",
              "  </thead>\n",
              "  <tbody>\n",
              "    <tr>\n",
              "      <th>0</th>\n",
              "      <td>Male</td>\n",
              "      <td>No</td>\n",
              "      <td>0</td>\n",
              "      <td>Graduate</td>\n",
              "      <td>No</td>\n",
              "      <td>5849</td>\n",
              "      <td>0.0</td>\n",
              "      <td>NaN</td>\n",
              "      <td>360.0</td>\n",
              "      <td>1.0</td>\n",
              "      <td>Urban</td>\n",
              "      <td>1</td>\n",
              "      <td>1</td>\n",
              "      <td>146.412162</td>\n",
              "      <td>0</td>\n",
              "      <td>0</td>\n",
              "      <td>1</td>\n",
              "      <td>0</td>\n",
              "      <td>Low</td>\n",
              "      <td>1</td>\n",
              "      <td>0</td>\n",
              "      <td>0</td>\n",
              "      <td>0</td>\n",
              "      <td>1</td>\n",
              "    </tr>\n",
              "  </tbody>\n",
              "</table>\n",
              "</div>"
            ],
            "text/plain": [
              "  Gender Married Dependents Education Self_Employed  ApplicantIncome  \\\n",
              "0   Male      No          0  Graduate            No             5849   \n",
              "\n",
              "   CoapplicantIncome  LoanAmount  Loan_Amount_Term  Credit_History  \\\n",
              "0                0.0         NaN             360.0             1.0   \n",
              "\n",
              "  Property_Area  Loan_Status  no_lam  filled_lam  pa_Rural  pa_Semiurban  \\\n",
              "0         Urban            1       1  146.412162         0             0   \n",
              "\n",
              "   pa_Urban  pa_nan lam_bin  lam_Low  lam_Avergae  lam_High  ch_bad  ch_good  \n",
              "0         1       0     Low        1            0         0       0        1  "
            ]
          },
          "metadata": {
            "tags": []
          },
          "execution_count": 33
        }
      ]
    },
    {
      "metadata": {
        "colab_type": "code",
        "id": "8RrMO0oqsm_C",
        "colab": {}
      },
      "cell_type": "code",
      "source": [
        "with open('/content/gdrive/My Drive/class_tables/loan_wrangled_week2.csv', 'w') as f:\n",
        "  loan_table.to_csv(f, encoding='utf-8', index=False)"
      ],
      "execution_count": 0,
      "outputs": []
    },
    {
      "metadata": {
        "colab_type": "code",
        "id": "gp6BoKiitDY4",
        "colab": {}
      },
      "cell_type": "code",
      "source": [
        "with open('/content/gdrive/My Drive/class_tables/loan_results_week2.csv', 'w') as f:\n",
        "  loan_results.to_csv(f, encoding='utf-8', index=False)"
      ],
      "execution_count": 0,
      "outputs": []
    },
    {
      "metadata": {
        "colab_type": "text",
        "id": "OAkNDXWykLit"
      },
      "cell_type": "markdown",
      "source": [
        "<hr>\n",
        "<h1>Next up</h1>\n",
        "<div class=h1_cell>\n",
        "\n",
        "    In the next module, we will turn our attention to measuring the effectiveness of nodes in the tree on an individual basis. We chose sex_female as the root in the two trees above. Why? Is some other question better? We will look at ways of answering this question.\n",
        "</div>"
      ]
    }
  ]
}