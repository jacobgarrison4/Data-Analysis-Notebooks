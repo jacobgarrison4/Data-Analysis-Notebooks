{
  "nbformat": 4,
  "nbformat_minor": 0,
  "metadata": {
    "colab": {
      "name": "kfold_assignment_w19.ipynb",
      "version": "0.3.2",
      "provenance": [],
      "collapsed_sections": []
    },
    "kernelspec": {
      "name": "python3",
      "display_name": "Python 3"
    }
  },
  "cells": [
    {
      "metadata": {
        "id": "C2pMCaZa6uPJ",
        "colab_type": "text"
      },
      "cell_type": "markdown",
      "source": [
        "<h1>\n",
        "<center>\n",
        "Module 5: Bias-Variance and Cross-Validation\n",
        "</center>\n",
        "</h1>\n",
        "<div class=h1_cell>\n",
        "\n",
        "You will be working with the loan table again.\n",
        "\n",
        "</div>"
      ]
    },
    {
      "metadata": {
        "id": "xqGv8Swz6uPK",
        "colab_type": "code",
        "outputId": "39384963-fdf6-4ed6-c8ad-8f09f7622f08",
        "colab": {
          "base_uri": "https://localhost:8080/",
          "height": 34
        }
      },
      "cell_type": "code",
      "source": [
        "import pandas as pd\n",
        "\n",
        "from google.colab import drive\n",
        "drive.mount('/content/gdrive')"
      ],
      "execution_count": 1,
      "outputs": [
        {
          "output_type": "stream",
          "text": [
            "Drive already mounted at /content/gdrive; to attempt to forcibly remount, call drive.mount(\"/content/gdrive\", force_remount=True).\n"
          ],
          "name": "stdout"
        }
      ]
    },
    {
      "metadata": {
        "id": "v4wxFUgC6uPO",
        "colab_type": "code",
        "outputId": "7539f11a-116b-4c70-b159-379f5362f4a5",
        "colab": {
          "base_uri": "https://localhost:8080/",
          "height": 261
        }
      },
      "cell_type": "code",
      "source": [
        "with open('/content/gdrive/My Drive/class_tables/loan_wrangled_week3.csv', 'r') as f:\n",
        "  loan_table = pd.read_csv(f)\n",
        "\n",
        "loan_table.head()  #make sure it looks ok - we see the results of our week 2 wrangling"
      ],
      "execution_count": 2,
      "outputs": [
        {
          "output_type": "execute_result",
          "data": {
            "text/html": [
              "<div>\n",
              "<style scoped>\n",
              "    .dataframe tbody tr th:only-of-type {\n",
              "        vertical-align: middle;\n",
              "    }\n",
              "\n",
              "    .dataframe tbody tr th {\n",
              "        vertical-align: top;\n",
              "    }\n",
              "\n",
              "    .dataframe thead th {\n",
              "        text-align: right;\n",
              "    }\n",
              "</style>\n",
              "<table border=\"1\" class=\"dataframe\">\n",
              "  <thead>\n",
              "    <tr style=\"text-align: right;\">\n",
              "      <th></th>\n",
              "      <th>Gender</th>\n",
              "      <th>Married</th>\n",
              "      <th>Dependents</th>\n",
              "      <th>Education</th>\n",
              "      <th>Self_Employed</th>\n",
              "      <th>ApplicantIncome</th>\n",
              "      <th>CoapplicantIncome</th>\n",
              "      <th>LoanAmount</th>\n",
              "      <th>Loan_Amount_Term</th>\n",
              "      <th>Credit_History</th>\n",
              "      <th>...</th>\n",
              "      <th>lam_Average</th>\n",
              "      <th>lam_High</th>\n",
              "      <th>ch_bad</th>\n",
              "      <th>ch_good</th>\n",
              "      <th>ch_nan</th>\n",
              "      <th>apin_binned</th>\n",
              "      <th>apin_low</th>\n",
              "      <th>apin_average</th>\n",
              "      <th>apin_high</th>\n",
              "      <th>apin_nan</th>\n",
              "    </tr>\n",
              "  </thead>\n",
              "  <tbody>\n",
              "    <tr>\n",
              "      <th>0</th>\n",
              "      <td>Male</td>\n",
              "      <td>No</td>\n",
              "      <td>0</td>\n",
              "      <td>Graduate</td>\n",
              "      <td>No</td>\n",
              "      <td>5849</td>\n",
              "      <td>0.0</td>\n",
              "      <td>NaN</td>\n",
              "      <td>360.0</td>\n",
              "      <td>1.0</td>\n",
              "      <td>...</td>\n",
              "      <td>0</td>\n",
              "      <td>0</td>\n",
              "      <td>0</td>\n",
              "      <td>1</td>\n",
              "      <td>0</td>\n",
              "      <td>low</td>\n",
              "      <td>1</td>\n",
              "      <td>0</td>\n",
              "      <td>0</td>\n",
              "      <td>0</td>\n",
              "    </tr>\n",
              "    <tr>\n",
              "      <th>1</th>\n",
              "      <td>Male</td>\n",
              "      <td>Yes</td>\n",
              "      <td>1</td>\n",
              "      <td>Graduate</td>\n",
              "      <td>No</td>\n",
              "      <td>4583</td>\n",
              "      <td>1508.0</td>\n",
              "      <td>128.0</td>\n",
              "      <td>360.0</td>\n",
              "      <td>1.0</td>\n",
              "      <td>...</td>\n",
              "      <td>0</td>\n",
              "      <td>0</td>\n",
              "      <td>0</td>\n",
              "      <td>1</td>\n",
              "      <td>0</td>\n",
              "      <td>low</td>\n",
              "      <td>1</td>\n",
              "      <td>0</td>\n",
              "      <td>0</td>\n",
              "      <td>0</td>\n",
              "    </tr>\n",
              "    <tr>\n",
              "      <th>2</th>\n",
              "      <td>Male</td>\n",
              "      <td>Yes</td>\n",
              "      <td>0</td>\n",
              "      <td>Graduate</td>\n",
              "      <td>Yes</td>\n",
              "      <td>3000</td>\n",
              "      <td>0.0</td>\n",
              "      <td>66.0</td>\n",
              "      <td>360.0</td>\n",
              "      <td>1.0</td>\n",
              "      <td>...</td>\n",
              "      <td>0</td>\n",
              "      <td>0</td>\n",
              "      <td>0</td>\n",
              "      <td>1</td>\n",
              "      <td>0</td>\n",
              "      <td>low</td>\n",
              "      <td>1</td>\n",
              "      <td>0</td>\n",
              "      <td>0</td>\n",
              "      <td>0</td>\n",
              "    </tr>\n",
              "    <tr>\n",
              "      <th>3</th>\n",
              "      <td>Male</td>\n",
              "      <td>Yes</td>\n",
              "      <td>0</td>\n",
              "      <td>Not Graduate</td>\n",
              "      <td>No</td>\n",
              "      <td>2583</td>\n",
              "      <td>2358.0</td>\n",
              "      <td>120.0</td>\n",
              "      <td>360.0</td>\n",
              "      <td>1.0</td>\n",
              "      <td>...</td>\n",
              "      <td>0</td>\n",
              "      <td>0</td>\n",
              "      <td>0</td>\n",
              "      <td>1</td>\n",
              "      <td>0</td>\n",
              "      <td>low</td>\n",
              "      <td>1</td>\n",
              "      <td>0</td>\n",
              "      <td>0</td>\n",
              "      <td>0</td>\n",
              "    </tr>\n",
              "    <tr>\n",
              "      <th>4</th>\n",
              "      <td>Male</td>\n",
              "      <td>No</td>\n",
              "      <td>0</td>\n",
              "      <td>Graduate</td>\n",
              "      <td>No</td>\n",
              "      <td>6000</td>\n",
              "      <td>0.0</td>\n",
              "      <td>141.0</td>\n",
              "      <td>360.0</td>\n",
              "      <td>1.0</td>\n",
              "      <td>...</td>\n",
              "      <td>0</td>\n",
              "      <td>0</td>\n",
              "      <td>0</td>\n",
              "      <td>1</td>\n",
              "      <td>0</td>\n",
              "      <td>low</td>\n",
              "      <td>1</td>\n",
              "      <td>0</td>\n",
              "      <td>0</td>\n",
              "      <td>0</td>\n",
              "    </tr>\n",
              "  </tbody>\n",
              "</table>\n",
              "<p>5 rows × 30 columns</p>\n",
              "</div>"
            ],
            "text/plain": [
              "  Gender Married Dependents     Education Self_Employed  ApplicantIncome  \\\n",
              "0   Male      No          0      Graduate            No             5849   \n",
              "1   Male     Yes          1      Graduate            No             4583   \n",
              "2   Male     Yes          0      Graduate           Yes             3000   \n",
              "3   Male     Yes          0  Not Graduate            No             2583   \n",
              "4   Male      No          0      Graduate            No             6000   \n",
              "\n",
              "   CoapplicantIncome  LoanAmount  Loan_Amount_Term  Credit_History    ...     \\\n",
              "0                0.0         NaN             360.0             1.0    ...      \n",
              "1             1508.0       128.0             360.0             1.0    ...      \n",
              "2                0.0        66.0             360.0             1.0    ...      \n",
              "3             2358.0       120.0             360.0             1.0    ...      \n",
              "4                0.0       141.0             360.0             1.0    ...      \n",
              "\n",
              "  lam_Average  lam_High  ch_bad  ch_good  ch_nan  apin_binned  apin_low  \\\n",
              "0           0         0       0        1       0          low         1   \n",
              "1           0         0       0        1       0          low         1   \n",
              "2           0         0       0        1       0          low         1   \n",
              "3           0         0       0        1       0          low         1   \n",
              "4           0         0       0        1       0          low         1   \n",
              "\n",
              "   apin_average apin_high  apin_nan  \n",
              "0             0         0         0  \n",
              "1             0         0         0  \n",
              "2             0         0         0  \n",
              "3             0         0         0  \n",
              "4             0         0         0  \n",
              "\n",
              "[5 rows x 30 columns]"
            ]
          },
          "metadata": {
            "tags": []
          },
          "execution_count": 2
        }
      ]
    },
    {
      "metadata": {
        "scrolled": true,
        "id": "8RcFXWfj6uPa",
        "colab_type": "code",
        "colab": {}
      },
      "cell_type": "code",
      "source": [
        "pd.set_option('display.max_columns', None)"
      ],
      "execution_count": 0,
      "outputs": []
    },
    {
      "metadata": {
        "id": "xhj82RM_RAA3",
        "colab_type": "text"
      },
      "cell_type": "markdown",
      "source": [
        "<h2>A couple of notes</h2>\n",
        "I added points to assignments to give you an idea of how much of a challenge I think they are. Let me know if I am off base.\n",
        "<p>\n",
        "  Don't load your library yet. Finish problem 1 before importing your library."
      ]
    },
    {
      "metadata": {
        "id": "kmKkY51gCH_F",
        "colab_type": "text"
      },
      "cell_type": "markdown",
      "source": [
        "<hr>\n",
        "<h1>\n",
        "1: Fix our scoring functions (30 points)\n",
        "</h1>\n",
        "<p>\n",
        "<div class=h1_cell>\n",
        "<p>\n",
        "As we defined our scoring functions in week 2, they all assume that the 4 cases have values greater than 0. But this week we will see that is not always the case. And hence you will get an error like this if you try using the scoring functions as is:\n",
        "  <pre>\n",
        "  KeyError: 'false_negative'\n",
        "  </pre>\n",
        "<p>\n",
        "What this means is that there were no false negatives found so the key is also not found. You would find the problem in a statement like this:\n",
        "  <pre>\n",
        "  fn = cases['false_negative']  #key does not exist because no false negatives\n",
        "  </pre>\n",
        "  Your task is to fix up the 3 scoring functions so they handle cases like this. And while you are at it, make sure you never divide by 0. Once you have them working, you can add them to your library for this week. I give you some test cases to code against.\n",
        "  <p>\n",
        " Important: do not import your library before (a) you have all functions below working correctly, and (b) you have replaced the old functions in your library with the new ones.\n",
        "</div>"
      ]
    },
    {
      "metadata": {
        "id": "wOeZTFEPXXwE",
        "colab_type": "code",
        "colab": {
          "base_uri": "https://localhost:8080/",
          "height": 34
        },
        "outputId": "9b240015-b3c8-40e5-820a-63b12c0bd767"
      },
      "cell_type": "code",
      "source": [
        "x = pd.Series({'true_negative':2, 'false_positive':3, 'false_negative':4})\n",
        "print('true_positive' in x)"
      ],
      "execution_count": 4,
      "outputs": [
        {
          "output_type": "stream",
          "text": [
            "False\n"
          ],
          "name": "stdout"
        }
      ]
    },
    {
      "metadata": {
        "id": "QLciYNSWDF-r",
        "colab_type": "code",
        "colab": {}
      },
      "cell_type": "code",
      "source": [
        "def accuracy(cases):\n",
        "  tp = 0\n",
        "  if 'true_positive' in cases:\n",
        "    tp = cases['true_positive']\n",
        "  tn = 0\n",
        "  if 'true_negative' in cases:\n",
        "    tn = cases['true_negative']\n",
        "  fp = 0\n",
        "  if 'false_positive' in cases:\n",
        "    fp = cases['false_positive']\n",
        "  fn = 0\n",
        "  if 'false_negative' in cases:\n",
        "    fn = cases['false_negative']\n",
        "  if (tp + tn + fp + fn) == 0:\n",
        "    return 0\n",
        "  else:\n",
        "    return (tp + tn)/(tp+tn+fp+fn)"
      ],
      "execution_count": 0,
      "outputs": []
    },
    {
      "metadata": {
        "id": "2ZglF8TVD2uL",
        "colab_type": "code",
        "outputId": "8f46b5f5-0b16-4104-b5d6-898dabeceae2",
        "colab": {
          "base_uri": "https://localhost:8080/",
          "height": 67
        }
      },
      "cell_type": "code",
      "source": [
        "#test\n",
        "\n",
        "print(('should be 0', accuracy(pd.Series({}))))\n",
        "print(('should be 0.3', accuracy(pd.Series({'true_positive':1, 'true_negative':2, 'false_positive':3, 'false_negative':4}))))\n",
        "print(('should be 0.2', accuracy(pd.Series({'true_negative':2, 'false_positive':3, 'false_negative':4}))))"
      ],
      "execution_count": 6,
      "outputs": [
        {
          "output_type": "stream",
          "text": [
            "('should be 0', 0)\n",
            "('should be 0.3', 0.3)\n",
            "('should be 0.2', 0.2222222222222222)\n"
          ],
          "name": "stdout"
        }
      ]
    },
    {
      "metadata": {
        "id": "Vgxs3CQHFGCX",
        "colab_type": "code",
        "colab": {}
      },
      "cell_type": "code",
      "source": [
        "def f1(cases):\n",
        "  #the heart of the matrix\n",
        "  tp = 0\n",
        "  if 'true_positive' in cases:\n",
        "    tp = cases['true_positive']\n",
        "  tn = 0\n",
        "  if 'true_negative' in cases:\n",
        "    tn = cases['true_negative']\n",
        "  fp = 0\n",
        "  if 'false_positive' in cases:\n",
        "    fp = cases['false_positive']\n",
        "  fn = 0\n",
        "  if 'false_negative' in cases:\n",
        "    fn = cases['false_negative']\n",
        "\t\n",
        "\t#other measures we can derive\n",
        "  if (((tp+fn) == 0) or ((tp+fp) == 0)):\n",
        "    return 0\n",
        "  else:\n",
        "    recall = 1.0*tp/(tp+fn)\n",
        "    precision = 1.0*tp/(tp+fp)\n",
        "\t\n",
        "\t#now for the one we want\n",
        "  if ((recall == 0) or (precision == 0)):\n",
        "    return 0\n",
        "  else:\n",
        "\t   f1 = 2/(1/recall + 1/precision)\n",
        "\t\n",
        "  return f1"
      ],
      "execution_count": 0,
      "outputs": []
    },
    {
      "metadata": {
        "id": "YOjhyJYhGPt0",
        "colab_type": "code",
        "outputId": "cc4ec67f-2125-4b46-c9b1-cd853894cc42",
        "colab": {
          "base_uri": "https://localhost:8080/",
          "height": 67
        }
      },
      "cell_type": "code",
      "source": [
        "#test\n",
        "\n",
        "print(('should be 0', f1(pd.Series({}))))\n",
        "print(('should be 0.2', f1(pd.Series({'true_positive':1, 'true_negative':2, 'false_positive':3, 'false_negative':4}))))\n",
        "print(('should be 0', f1(pd.Series({'true_negative':2, 'false_positive':3, 'false_negative':4}))))"
      ],
      "execution_count": 8,
      "outputs": [
        {
          "output_type": "stream",
          "text": [
            "('should be 0', 0)\n",
            "('should be 0.2', 0.2222222222222222)\n",
            "('should be 0', 0)\n"
          ],
          "name": "stdout"
        }
      ]
    },
    {
      "metadata": {
        "id": "GQQ2BqeXHNDI",
        "colab_type": "code",
        "colab": {}
      },
      "cell_type": "code",
      "source": [
        "def informedness(cases):\n",
        "  tp = 0\n",
        "  if 'true_positive' in cases:\n",
        "    tp = cases['true_positive']\n",
        "  tn = 0\n",
        "  if 'true_negative' in cases:\n",
        "    tn = cases['true_negative']\n",
        "  fp = 0\n",
        "  if 'false_positive' in cases:\n",
        "    fp = cases['false_positive']\n",
        "  fn = 0\n",
        "  if 'false_negative' in cases:\n",
        "    fn = cases['false_negative']\n",
        "  if (((tp+fn) == 0) or ((tn+fp) == 0)):\n",
        "    recall = 0\n",
        "    specificity = 0\n",
        "  else:\n",
        "    recall = 1.0*tp/(tp+fn)\n",
        "    specificity = 1.0*tn/(tn+fp)\n",
        "  J = (recall + specificity) - 1\n",
        "    \n",
        "  return J"
      ],
      "execution_count": 0,
      "outputs": []
    },
    {
      "metadata": {
        "id": "MMM0Etf5Hkgc",
        "colab_type": "code",
        "outputId": "502fadc4-c90a-43b8-ecd1-a2221c790335",
        "colab": {
          "base_uri": "https://localhost:8080/",
          "height": 67
        }
      },
      "cell_type": "code",
      "source": [
        "#test\n",
        "\n",
        "print(('should be -1', informedness(pd.Series({}))))\n",
        "print(('should be -0.39', informedness(pd.Series({'true_positive':1, 'true_negative':2, 'false_positive':3, 'false_negative':4}))))\n",
        "print(('should be -0.6', informedness(pd.Series({'true_negative':2, 'false_positive':3, 'false_negative':4}))))"
      ],
      "execution_count": 10,
      "outputs": [
        {
          "output_type": "stream",
          "text": [
            "('should be -1', -1)\n",
            "('should be -0.39', -0.3999999999999999)\n",
            "('should be -0.6', -0.6)\n"
          ],
          "name": "stdout"
        }
      ]
    },
    {
      "metadata": {
        "id": "yfjDiH1-gHKG",
        "colab_type": "text"
      },
      "cell_type": "markdown",
      "source": [
        "<h1>Ok, now update your library</h1>\n",
        "When you have done that, you are ready to import.\n",
        "<p>\n",
        "  <b>Important note</b>: you may be tempted to skip the step of updating your library before importing. Why do that when you already have the new functions defined above? We are back to that static-scope thing. Your notebook context (namespace) can see your library functions but your library functions cannot see your notebook functions. The library has its own namespace. In summary, `produce_scores` will not see your functions above. Instead it will see the functions in your library. And if you don't update your library, you will be using your old, broken versions. And it does not matter if you import first then define new functions in the notebook. Your notebook functions still will not override your library functions. Whew. So go update your library!"
      ]
    },
    {
      "metadata": {
        "id": "YA2LVL6j6uPT",
        "colab_type": "code",
        "colab": {
          "base_uri": "https://localhost:8080/",
          "height": 34
        },
        "outputId": "adf224d5-b1db-43cf-9161-12bf6fa8ce64"
      },
      "cell_type": "code",
      "source": [
        "!rm library_w19_week5.py"
      ],
      "execution_count": 11,
      "outputs": [
        {
          "output_type": "stream",
          "text": [
            "rm: cannot remove 'library_w19_week5.py': No such file or directory\n"
          ],
          "name": "stdout"
        }
      ]
    },
    {
      "metadata": {
        "id": "oy4fWQH47nfH",
        "colab_type": "code",
        "outputId": "205d571d-1c39-4ab7-89b4-33f099cde8a5",
        "colab": {
          "resources": {
            "http://localhost:8080/nbextensions/google.colab/files.js": {
              "data": "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",
              "ok": true,
              "headers": [
                [
                  "content-type",
                  "application/javascript"
                ]
              ],
              "status": 200,
              "status_text": ""
            }
          },
          "base_uri": "https://localhost:8080/",
          "height": 110
        }
      },
      "cell_type": "code",
      "source": [
        "from google.colab import files\n",
        "files.upload()"
      ],
      "execution_count": 12,
      "outputs": [
        {
          "output_type": "display_data",
          "data": {
            "text/html": [
              "\n",
              "     <input type=\"file\" id=\"files-b57bb1f6-a0dc-494a-acd6-443a4aaab2f2\" name=\"files[]\" multiple disabled />\n",
              "     <output id=\"result-b57bb1f6-a0dc-494a-acd6-443a4aaab2f2\">\n",
              "      Upload widget is only available when the cell has been executed in the\n",
              "      current browser session. Please rerun this cell to enable.\n",
              "      </output>\n",
              "      <script src=\"/nbextensions/google.colab/files.js\"></script> "
            ],
            "text/plain": [
              "<IPython.core.display.HTML object>"
            ]
          },
          "metadata": {
            "tags": []
          }
        },
        {
          "output_type": "stream",
          "text": [
            "Saving library_w19_week5.py to library_w19_week5.py\n"
          ],
          "name": "stdout"
        },
        {
          "output_type": "execute_result",
          "data": {
            "text/plain": [
              "{'library_w19_week5.py': b'import pandas as pd\\r\\nimport numpy as np\\r\\nfrom functools import reduce\\r\\nfrom types import SimpleNamespace\\r\\n\\r\\ndef predictor_case(row, pred, target):\\r\\n  case_dict = {(0,0): \\'true_negative\\', (1,1): \\'true_positive\\', (0,1): \\'false_negative\\', (1,0): \\'false_positive\\'}\\r\\n  actual = row[target]\\r\\n  prediction = row[pred]\\r\\n  case = case_dict[(prediction, actual)]\\r\\n  return case\\r\\n\\r\\ndef informedness(cases):\\r\\n  tp = 0\\r\\n  if \\'true_positive\\' in cases:\\r\\n    tp = cases[\\'true_positive\\']\\r\\n  tn = 0\\r\\n  if \\'true_negative\\' in cases:\\r\\n    tn = cases[\\'true_negative\\']\\r\\n  fp = 0\\r\\n  if \\'false_positive\\' in cases:\\r\\n    fp = cases[\\'false_positive\\']\\r\\n  fn = 0\\r\\n  if \\'false_negative\\' in cases:\\r\\n    fn = cases[\\'false_negative\\']\\r\\n  if (((tp+fn) == 0) or ((tn+fp) == 0)):\\r\\n    return -1\\r\\n  else:\\r\\n    recall = 1.0*tp/(tp+fn)\\r\\n    specificity = 1.0*tn/(tn+fp)\\r\\n    J = (recall + specificity) - 1\\r\\n    \\r\\n  return J\\r\\n\\r\\ndef accuracy(cases):\\r\\n  tp = 0\\r\\n  if \\'true_positive\\' in cases:\\r\\n    tp = cases[\\'true_positive\\']\\r\\n  tn = 0\\r\\n  if \\'true_negative\\' in cases:\\r\\n    tn = cases[\\'true_negative\\']\\r\\n  fp = 0\\r\\n  if \\'false_positive\\' in cases:\\r\\n    fp = cases[\\'false_positive\\']\\r\\n  fn = 0\\r\\n  if \\'false_negative\\' in cases:\\r\\n    fn = cases[\\'false_negative\\']\\r\\n  if (tp + tn + fp + fn) == 0:\\r\\n    return 0\\r\\n  else:\\r\\n    return (tp + tn)/(tp+tn+fp+fn)\\r\\n\\r\\ndef f1(cases):\\r\\n  #the heart of the matrix\\r\\n  tp = 0\\r\\n  if \\'true_positive\\' in cases:\\r\\n    tp = cases[\\'true_positive\\']\\r\\n  tn = 0\\r\\n  if \\'true_negative\\' in cases:\\r\\n    tn = cases[\\'true_negative\\']\\r\\n  fp = 0\\r\\n  if \\'false_positive\\' in cases:\\r\\n    fp = cases[\\'false_positive\\']\\r\\n  fn = 0\\r\\n  if \\'false_negative\\' in cases:\\r\\n    fn = cases[\\'false_negative\\']\\r\\n\\t\\r\\n\\t#other measures we can derive\\r\\n  if (((tp+fn) == 0) or ((tp+fp) == 0)):\\r\\n    return 0\\r\\n  else:\\r\\n    recall = 1.0*tp/(tp+fn)\\r\\n    precision = 1.0*tp/(tp+fp)\\r\\n\\t\\r\\n\\t#now for the one we want\\r\\n  if ((recall == 0) or (precision == 0)):\\r\\n    return 0\\r\\n  else:\\r\\n\\t   f1 = 2/(1/recall + 1/precision)\\r\\n\\t\\r\\n  return f1\\r\\n\\r\\ndef gig(starting_table, split_column, target_column):\\r\\n    \\r\\n    #split into two branches, i.e., two sub-tables\\r\\n    true_table = starting_table.loc[starting_table[split_column] == 1]\\r\\n    false_table = starting_table.loc[starting_table[split_column] == 0]\\r\\n    \\r\\n    #Now see how the target column is divided up in each sub-table (and the starting table)\\r\\n    true_counts = true_table[target_column].value_counts()  # Note using true_table and not starting_table\\r\\n    false_counts = false_table[target_column].value_counts()  # Note using false_table and not starting_table\\r\\n    starting_counts = starting_table[target_column].value_counts() \\r\\n    \\r\\n    #compute the gini impurity for the 3 tables\\r\\n    starting_gini = gini(starting_counts)\\r\\n    true_gini = gini(true_counts)\\r\\n    false_gini = gini(false_counts)\\r\\n\\r\\n    #compute the weights\\r\\n    starting_size = len(starting_table.index)\\r\\n    true_weight = 0.0 if starting_size == 0 else len(true_table.index)/starting_size\\r\\n    false_weight = 0.0 if starting_size == 0 else len(false_table.index)/starting_size\\r\\n    \\r\\n    #wrap it up and put on a bow\\r\\n    gig = starting_gini - (true_weight * true_gini + false_weight * false_gini)\\r\\n    \\r\\n    return gig\\r\\n\\r\\ndef gini(counts):\\r\\n    (p0,p1) = probabilities(counts)\\r\\n    sum_probs = p0**2 + p1**2\\r\\n    gini = 1 - sum_probs\\r\\n    return gini\\r\\n\\r\\ndef probabilities(counts):\\r\\n    count_0 = 0 if 0 not in counts else counts[0]  #could have no 0 values\\r\\n    count_1 = 0 if 1 not in counts else counts[1]\\r\\n    total = count_0 + count_1\\r\\n    probs = (0,0) if total == 0 else (count_0/total, count_1/total)  #build 2-tuple\\r\\n    return probs\\r\\n\\r\\ndef build_pred(column, branch):\\r\\n    return lambda row: row[column] == branch\\r\\n\\r\\ndef find_best_splitter(table, choice_list, target):\\r\\n  \\r\\n    assert (len(table)>0),\"Cannot split empty table\"\\r\\n    assert (target in table),\"Target must be column in table\"\\r\\n    \\r\\n    gig_scores = map(lambda col: (col, gig(table, col, target)), choice_list)  #compute tuple (col, gig) for each column\\r\\n    gig_sorted = sorted(gig_scores, key=lambda item: item[1], reverse=True)  # sort on gig\\r\\n    return gig_sorted\\r\\n\\r\\nfrom functools import reduce\\r\\n\\r\\ndef generate_table(table, conjunction):\\r\\n  \\r\\n    assert (len(table)>0),\"Cannot generate from empty table\"\\r\\n\\r\\n    sub_table = reduce(lambda subtable, pair: subtable.loc[pair[1]], conjunction, table)\\r\\n    return sub_table\\r\\n\\r\\ndef compute_prediction(table, target):\\r\\n  \\r\\n    assert (len(table)>0),\"Cannot predict from empty table\"\\r\\n    assert (target in table),\"Target must be column in table\"\\r\\n    \\r\\n    counts = table[target].value_counts()  # counts looks like {0: v1, 1: v2}\\r\\n\\r\\n    if 0 not in counts:\\r\\n        prediction = 1\\r\\n    elif 1 not in counts:\\r\\n        prediction = 0\\r\\n    elif counts[1] > counts[0]:  # ties go to 0 (negative)\\r\\n        prediction = 1\\r\\n    else:\\r\\n        prediction = 0\\r\\n\\r\\n    return prediction\\r\\n\\r\\ndef build_tree_iter(table, choices, target, hypers={} ):\\r\\n\\r\\n    assert (len(choices)>0),\"Must have at least one column in choices\"\\r\\n    assert (target in table), \"Target column not in table\"\\r\\n    assert (len(table) > 1), \"Table must have more than 1 row\"\\r\\n    \\r\\n    k = hypers[\\'max-depth\\'] if \\'max-depth\\' in hypers else min(4, len(choices))\\r\\n    gig_cutoff = hypers[\\'gig-cutoff\\'] if \\'gig-cutoff\\' in hypers else 0.0\\r\\n    \\r\\n    def iterative_build(k):\\r\\n        columns_sorted = find_best_splitter(table, choices, target)\\r\\n        (best_column, gig_value) = columns_sorted[0]\\r\\n        \\r\\n        #Note I add _1 or _0 to make it more readable for debugging\\r\\n        current_paths = [{\\'conjunction\\': [(best_column, build_pred(best_column, 1))],\\r\\n                          \\'prediction\\': None,\\r\\n                          \\'gig_score\\': gig_value},\\r\\n                         {\\'conjunction\\': [(best_column, build_pred(best_column, 0))],\\r\\n                          \\'prediction\\': None,\\r\\n                          \\'gig_score\\': gig_value}\\r\\n                        ]\\r\\n        k -= 1  # we just built a level as seed so subtract 1 from k\\r\\n        tree_paths = []  # add completed paths here\\r\\n        \\r\\n        while k>0:\\r\\n            new_paths = []\\r\\n            for path in current_paths:\\r\\n                old_conjunction = path[\\'conjunction\\']  # a list of (name, lambda)\\r\\n                before_table = generate_table(table, old_conjunction)  #the subtable the current conjunct leads to\\r\\n                columns_sorted = find_best_splitter(before_table, choices, target)\\r\\n                (best_column, gig_value) = columns_sorted[0]\\r\\n                if gig_value > gig_cutoff:\\r\\n                    new_path_1 = {\\'conjunction\\': old_conjunction + [(best_column, build_pred(best_column, 1))],\\r\\n                                \\'prediction\\': None,\\r\\n                                 \\'gig_score\\': gig_value}\\r\\n                    new_paths.append( new_path_1 ) #true\\r\\n                    new_path_0 = {\\'conjunction\\': old_conjunction + [(best_column, build_pred(best_column, 0))],\\r\\n                                \\'prediction\\': None,\\r\\n                                 \\'gig_score\\': gig_value}\\r\\n                    new_paths.append( new_path_0 ) #false\\r\\n                else:\\r\\n                    #not worth splitting so complete the path with a prediction\\r\\n                    path[\\'prediction\\'] = compute_prediction(before_table, target)\\r\\n                    tree_paths.append(path)\\r\\n            #end for loop\\r\\n            \\r\\n            current_paths = new_paths\\r\\n            if current_paths != []:\\r\\n                k -= 1\\r\\n            else:\\r\\n                break  # nothing left to extend so have copied all paths to tree_paths\\r\\n        #end while loop\\r\\n\\r\\n        #Generate predictions for all paths that have None\\r\\n        for path in current_paths:\\r\\n            conjunction = path[\\'conjunction\\']\\r\\n            before_table = generate_table(table, conjunction)\\r\\n            path[\\'prediction\\'] = compute_prediction(before_table, target)\\r\\n            tree_paths.append(path)\\r\\n        return tree_paths\\r\\n\\r\\n    return {\\'paths\\': iterative_build(k), \\'weight\\': None}\\r\\n\\r\\ndef tree_predictor(row, tree):\\r\\n    \\r\\n    #go through each path, one by one (could use a map instead of for loop?)\\r\\n    for path in tree[\\'paths\\']:\\r\\n        conjuncts = path[\\'conjunction\\']\\r\\n        result = map(lambda tuple: tuple[1](row), conjuncts)  # potential to be parallelized\\r\\n        if all(result):\\r\\n            return path[\\'prediction\\']\\r\\n    raise LookupError(\\'No true paths found for row: \\' + str(row))\\r\\n\\r\\ndef path_id(row, tree):\\r\\n\\tassert (len(tree[\\'paths\\']) > 0)\\r\\n\\tfor path in tree[\\'paths\\']:\\r\\n\\t\\tconjuncts = path[\\'conjunction\\']\\r\\n\\t\\tresult = map(lambda tuple: tuple[1](row), conjuncts)  # potential to be parallelized\\r\\n\\t\\tif all(result):\\r\\n\\t  \\t\\treturn tree[\\'paths\\'].index(path)\\r\\n\\r\\ndef reorder_paths(table, tree):\\r\\n\\tpath_count = table.apply(lambda row: path_id(row, tree), axis = 1)\\r\\n\\tvalue = path_count.value_counts()\\r\\n\\tpath = sorted(value.items(), key=lambda x: x[1], reverse=True)\\r\\n\\tprint(path)\\r\\n\\tnew_paths = []\\r\\n\\tprev_path = tree3[\\'paths\\']\\r\\n\\tfor a, b in plist3:\\r\\n\\t\\tprev = prev_path[a]\\r\\n\\t\\tnew_paths.append(prev)\\r\\n\\treturn new_paths\\r\\n\\r\\ndef produce_scores(table, tree, target):\\r\\n    scratch_table = pd.DataFrame(columns=[\\'prediction\\', \\'actual\\'])\\r\\n    scratch_table[\\'prediction\\'] = table.apply(lambda row: tree_predictor(row, tree), axis=1)\\r\\n    scratch_table[\\'actual\\'] = table[target]  # just copy the target column\\r\\n    cases = scratch_table.apply(lambda row: predictor_case(row, pred=\\'prediction\\', target=\\'actual\\'), axis=1)\\r\\n    vc = cases.value_counts()\\r\\n    return [accuracy(vc), f1(vc), informedness(vc)]\\r\\n\\r\\ndef k_fold(table, k, target, hypers, candidate_columns):\\r\\n  \\r\\n    #set up the table where we will record fold results\\r\\n    result_columns = [\\'name\\',  \\'accuracy\\', \\'f1\\', \\'informedness\\']\\r\\n    k_fold_results_table = pd.DataFrame(columns=result_columns)\\r\\n    \\r\\n    #generate the slices\\r\\n    total_len = len(table.index)\\r\\n    slice_size = int(total_len/(1.0*k))\\r\\n    slices = []\\r\\n    for i in range(k-1):\\r\\n        a_slice =  table[i*slice_size:(i+1)*slice_size]\\r\\n        slices.append( a_slice )\\r\\n    slices.append( table[(k-1)*slice_size:] )  # whatever is left\\r\\n    \\r\\n    #generate test results\\r\\n    all_scores = []  #keep track of all k results\\r\\n    for i in range(k):\\r\\n        test_table = slices[i]\\r\\n        train_table = compute_training(slices, i)\\r\\n        fold_tree = build_tree_iter(train_table, candidate_columns, target, hypers)  # train\\r\\n        scores = produce_scores(test_table, fold_tree, target)  # test\\r\\n        results_row = {\\'name\\': \\'fold_\\'+str(i), \\'accuracy\\': scores[0], \\'f1\\': scores[1], \\'informedness\\': scores[2]}\\r\\n        k_fold_results_table = k_fold_results_table.append(results_row,ignore_index=True)\\r\\n        all_scores.append(scores)\\r\\n    \\r\\n    #compute average of all folds\\r\\n    avg_scores = tuple(reduce(lambda total, triple: np.add(triple, total), all_scores)/k)\\r\\n    results_row = {\\'name\\': \\'average\\', \\'accuracy\\': avg_scores[0], \\'f1\\': avg_scores[1], \\'informedness\\': avg_scores[2]}\\r\\n    k_fold_results_table = k_fold_results_table.append(results_row,ignore_index=True)\\r\\n    \\r\\n    #note that I add the meta comment as last step to avoid it being wiped out\\r\\n    k_fold_results_table.meta = SimpleNamespace()\\r\\n    k_fold_results_table.meta.hypers  = hypers # adds comment to remind me of hyper params used\\r\\n    \\r\\n    return k_fold_results_table\\r\\n\\r\\ndef compute_training(slices, left_out):\\r\\n    training_slices = []\\r\\n    for i,slice in enumerate(slices):\\r\\n        if i == left_out:\\r\\n            continue\\r\\n        training_slices.append(slices[i])\\r\\n    return pd.concat(training_slices)\\r\\n\\r\\nfrom sklearn.utils import shuffle\\r\\n\\r\\n#Determine if slices are mutually exclusive\\r\\ndef verify_unique(slices):\\r\\n    print((\\'total length all slices\\', sum([len(s) for s in slices])))\\r\\n    for i, a_slice in enumerate(slices[:-1]):\\r\\n        a_set = set(a_slice.index)\\r\\n        for j, b_slice in enumerate(slices[i+1:]):\\r\\n            b_set = set(b_slice.index)\\r\\n            int_set = a_set.intersection(b_set)  # should be empty set as result\\r\\n            print((i,j+i+1,int_set))\\r\\n    return None\\r\\n\\r\\ndef k_fold_random(table, k, target, hypers, candidate_columns):\\r\\n  #set up the table where we will record fold results\\r\\n    result_columns = [\\'name\\',  \\'accuracy\\', \\'f1\\', \\'informedness\\']\\r\\n    k_fold_results_table = pd.DataFrame(columns=result_columns)\\r\\n    \\r\\n    #generate the slices\\r\\n    # here is sequential slice code from k_fold if you want to use it as base.\\r\\n    # modify it to produce slices with random rows in each slice.\\r\\n\\r\\n    table = shuffle(loan_table)\\r\\n    total_len = len(table.index)\\r\\n    slice_size = int(total_len/(1.0*k))\\r\\n    slices = []\\r\\n    #generate the slices\\r\\n    for i in range(k-1):\\r\\n      a_slice =  table[i*slice_size:(i+1)*slice_size]\\r\\n      slices.append( a_slice )\\r\\n    slices.append( table[(k-1)*slice_size:] )\\r\\n\\r\\n    verify_unique(slices)  # I ask you to define this debugging function below\\r\\n    \\r\\n    #generate test results\\r\\n    all_scores = []  #keep track of all k results\\r\\n    for i in range(k):\\r\\n        test_table = slices[i]\\r\\n        train_table = compute_training(slices, i)\\r\\n        fold_tree = build_tree_iter(train_table, candidate_columns, target, hypers)  # train\\r\\n        scores = produce_scores(test_table, fold_tree, target)  # test\\r\\n        results_row = {\\'name\\': \\'fold_\\'+str(i), \\'accuracy\\': scores[0], \\'f1\\': scores[1], \\'informedness\\': scores[2]}\\r\\n        k_fold_results_table = k_fold_results_table.append(results_row,ignore_index=True)\\r\\n        all_scores.append(scores)\\r\\n    \\r\\n    #compute average of all folds\\r\\n    avg_scores = tuple(reduce(lambda total, triple: np.add(triple, total), all_scores)/5)\\r\\n    results_row = {\\'name\\': \\'average\\', \\'accuracy\\': avg_scores[0], \\'f1\\': avg_scores[1], \\'informedness\\': avg_scores[2]}\\r\\n    k_fold_results_table = k_fold_results_table.append(results_row,ignore_index=True)\\r\\n    \\r\\n    #note that I add the meta comment as last step to avoid it being wiped out\\r\\n    k_fold_results_table.meta = SimpleNamespace()\\r\\n    k_fold_results_table.meta.hypers  = hypers # adds comment to remind me of hyper params used\\r\\n    \\r\\n    return k_fold_results_table'}"
            ]
          },
          "metadata": {
            "tags": []
          },
          "execution_count": 12
        }
      ]
    },
    {
      "metadata": {
        "id": "NKKiXDAP72Cs",
        "colab_type": "code",
        "outputId": "5c695933-4512-4c46-8415-6503e27925d8",
        "colab": {
          "base_uri": "https://localhost:8080/",
          "height": 67
        }
      },
      "cell_type": "code",
      "source": [
        "from library_w19_week5 import *\n",
        "\n",
        "%who function"
      ],
      "execution_count": 13,
      "outputs": [
        {
          "output_type": "stream",
          "text": [
            "accuracy\t build_pred\t build_tree_iter\t compute_prediction\t compute_training\t f1\t find_best_splitter\t generate_table\t gig\t \n",
            "gini\t informedness\t k_fold\t k_fold_random\t path_id\t predictor_case\t probabilities\t produce_scores\t reorder_paths\t \n",
            "shuffle\t tree_predictor\t verify_unique\t \n"
          ],
          "name": "stdout"
        }
      ]
    },
    {
      "metadata": {
        "id": "Z6qJLQjp6uPv",
        "colab_type": "text"
      },
      "cell_type": "markdown",
      "source": [
        "<hr>\n",
        "<h1>\n",
        "2: Explore depth parameter with 10-folding (10 points)\n",
        "</h1>\n",
        "<p>\n",
        "<div class=h1_cell>\n",
        "<p>\n",
        "In the week 4 module you were asked to explore depths from 1 to 5 without any cross-validation. Go ahead and do it again but using K-folding with K=10.\n",
        "<p>\n",
        "First, define the columns to use. I do that for you below.\n",
        "</div>"
      ]
    },
    {
      "metadata": {
        "id": "OdL8BLMW6uPw",
        "colab_type": "code",
        "colab": {}
      },
      "cell_type": "code",
      "source": [
        "splitter_columns = [\n",
        "        #ApplicantIncome\n",
        "       'apin_low', 'apin_high', 'apin_average',\n",
        "        #Property_Area\n",
        "        'pa_Rural', 'pa_Semiurban','pa_Urban',\n",
        "        #LoanAmount\n",
        "        'lam_Low', 'lam_Average', 'lam_High',\n",
        "        #Credit_History\n",
        "        'ch_bad', 'ch_good']"
      ],
      "execution_count": 0,
      "outputs": []
    },
    {
      "metadata": {
        "id": "Iut2ZAKT6uP0",
        "colab_type": "text"
      },
      "cell_type": "markdown",
      "source": [
        "<hr>\n",
        "<h2>\n",
        "Show your results below\n",
        "</h2>\n",
        "<p>\n",
        "<div class=h1_cell>\n",
        "<p>\n",
        "Explore depths 1-5 with 10-folding. You can leave the gig cutoff as default value.\n",
        "</div>"
      ]
    },
    {
      "metadata": {
        "id": "87IS1HvC6uP6",
        "colab_type": "code",
        "outputId": "c35f8090-1b3b-4bfd-858e-36e6fd042a6d",
        "colab": {
          "base_uri": "https://localhost:8080/",
          "height": 373
        }
      },
      "cell_type": "code",
      "source": [
        "table10_1 = k_fold(loan_table, 10, 'Loan_Status', {'max-depth': 1}, splitter_columns)\n",
        "table10_1"
      ],
      "execution_count": 15,
      "outputs": [
        {
          "output_type": "execute_result",
          "data": {
            "text/html": [
              "<div>\n",
              "<style scoped>\n",
              "    .dataframe tbody tr th:only-of-type {\n",
              "        vertical-align: middle;\n",
              "    }\n",
              "\n",
              "    .dataframe tbody tr th {\n",
              "        vertical-align: top;\n",
              "    }\n",
              "\n",
              "    .dataframe thead th {\n",
              "        text-align: right;\n",
              "    }\n",
              "</style>\n",
              "<table border=\"1\" class=\"dataframe\">\n",
              "  <thead>\n",
              "    <tr style=\"text-align: right;\">\n",
              "      <th></th>\n",
              "      <th>name</th>\n",
              "      <th>accuracy</th>\n",
              "      <th>f1</th>\n",
              "      <th>informedness</th>\n",
              "    </tr>\n",
              "  </thead>\n",
              "  <tbody>\n",
              "    <tr>\n",
              "      <th>0</th>\n",
              "      <td>fold_0</td>\n",
              "      <td>0.770492</td>\n",
              "      <td>0.847826</td>\n",
              "      <td>0.363636</td>\n",
              "    </tr>\n",
              "    <tr>\n",
              "      <th>1</th>\n",
              "      <td>fold_1</td>\n",
              "      <td>0.852459</td>\n",
              "      <td>0.905263</td>\n",
              "      <td>0.500000</td>\n",
              "    </tr>\n",
              "    <tr>\n",
              "      <th>2</th>\n",
              "      <td>fold_2</td>\n",
              "      <td>0.754098</td>\n",
              "      <td>0.835165</td>\n",
              "      <td>0.330952</td>\n",
              "    </tr>\n",
              "    <tr>\n",
              "      <th>3</th>\n",
              "      <td>fold_3</td>\n",
              "      <td>0.770492</td>\n",
              "      <td>0.860000</td>\n",
              "      <td>0.212567</td>\n",
              "    </tr>\n",
              "    <tr>\n",
              "      <th>4</th>\n",
              "      <td>fold_4</td>\n",
              "      <td>0.803279</td>\n",
              "      <td>0.875000</td>\n",
              "      <td>0.365633</td>\n",
              "    </tr>\n",
              "    <tr>\n",
              "      <th>5</th>\n",
              "      <td>fold_5</td>\n",
              "      <td>0.803279</td>\n",
              "      <td>0.877551</td>\n",
              "      <td>0.330214</td>\n",
              "    </tr>\n",
              "    <tr>\n",
              "      <th>6</th>\n",
              "      <td>fold_6</td>\n",
              "      <td>0.836066</td>\n",
              "      <td>0.886364</td>\n",
              "      <td>0.545455</td>\n",
              "    </tr>\n",
              "    <tr>\n",
              "      <th>7</th>\n",
              "      <td>fold_7</td>\n",
              "      <td>0.868852</td>\n",
              "      <td>0.914894</td>\n",
              "      <td>0.565508</td>\n",
              "    </tr>\n",
              "    <tr>\n",
              "      <th>8</th>\n",
              "      <td>fold_8</td>\n",
              "      <td>0.786885</td>\n",
              "      <td>0.865979</td>\n",
              "      <td>0.310078</td>\n",
              "    </tr>\n",
              "    <tr>\n",
              "      <th>9</th>\n",
              "      <td>fold_9</td>\n",
              "      <td>0.846154</td>\n",
              "      <td>0.895833</td>\n",
              "      <td>0.545455</td>\n",
              "    </tr>\n",
              "    <tr>\n",
              "      <th>10</th>\n",
              "      <td>average</td>\n",
              "      <td>0.809206</td>\n",
              "      <td>0.876388</td>\n",
              "      <td>0.406950</td>\n",
              "    </tr>\n",
              "  </tbody>\n",
              "</table>\n",
              "</div>"
            ],
            "text/plain": [
              "       name  accuracy        f1  informedness\n",
              "0    fold_0  0.770492  0.847826      0.363636\n",
              "1    fold_1  0.852459  0.905263      0.500000\n",
              "2    fold_2  0.754098  0.835165      0.330952\n",
              "3    fold_3  0.770492  0.860000      0.212567\n",
              "4    fold_4  0.803279  0.875000      0.365633\n",
              "5    fold_5  0.803279  0.877551      0.330214\n",
              "6    fold_6  0.836066  0.886364      0.545455\n",
              "7    fold_7  0.868852  0.914894      0.565508\n",
              "8    fold_8  0.786885  0.865979      0.310078\n",
              "9    fold_9  0.846154  0.895833      0.545455\n",
              "10  average  0.809206  0.876388      0.406950"
            ]
          },
          "metadata": {
            "tags": []
          },
          "execution_count": 15
        }
      ]
    },
    {
      "metadata": {
        "id": "OaQ698XY6uQA",
        "colab_type": "code",
        "outputId": "ef2f5a95-fe83-4a5f-ec74-88d54f12f0c1",
        "colab": {
          "base_uri": "https://localhost:8080/",
          "height": 373
        }
      },
      "cell_type": "code",
      "source": [
        "table10_2 = k_fold(loan_table, 10, 'Loan_Status', {'max-depth': 2}, splitter_columns)\n",
        "table10_2"
      ],
      "execution_count": 16,
      "outputs": [
        {
          "output_type": "execute_result",
          "data": {
            "text/html": [
              "<div>\n",
              "<style scoped>\n",
              "    .dataframe tbody tr th:only-of-type {\n",
              "        vertical-align: middle;\n",
              "    }\n",
              "\n",
              "    .dataframe tbody tr th {\n",
              "        vertical-align: top;\n",
              "    }\n",
              "\n",
              "    .dataframe thead th {\n",
              "        text-align: right;\n",
              "    }\n",
              "</style>\n",
              "<table border=\"1\" class=\"dataframe\">\n",
              "  <thead>\n",
              "    <tr style=\"text-align: right;\">\n",
              "      <th></th>\n",
              "      <th>name</th>\n",
              "      <th>accuracy</th>\n",
              "      <th>f1</th>\n",
              "      <th>informedness</th>\n",
              "    </tr>\n",
              "  </thead>\n",
              "  <tbody>\n",
              "    <tr>\n",
              "      <th>0</th>\n",
              "      <td>fold_0</td>\n",
              "      <td>0.770492</td>\n",
              "      <td>0.847826</td>\n",
              "      <td>0.363636</td>\n",
              "    </tr>\n",
              "    <tr>\n",
              "      <th>1</th>\n",
              "      <td>fold_1</td>\n",
              "      <td>0.852459</td>\n",
              "      <td>0.905263</td>\n",
              "      <td>0.500000</td>\n",
              "    </tr>\n",
              "    <tr>\n",
              "      <th>2</th>\n",
              "      <td>fold_2</td>\n",
              "      <td>0.754098</td>\n",
              "      <td>0.835165</td>\n",
              "      <td>0.330952</td>\n",
              "    </tr>\n",
              "    <tr>\n",
              "      <th>3</th>\n",
              "      <td>fold_3</td>\n",
              "      <td>0.770492</td>\n",
              "      <td>0.860000</td>\n",
              "      <td>0.212567</td>\n",
              "    </tr>\n",
              "    <tr>\n",
              "      <th>4</th>\n",
              "      <td>fold_4</td>\n",
              "      <td>0.803279</td>\n",
              "      <td>0.875000</td>\n",
              "      <td>0.365633</td>\n",
              "    </tr>\n",
              "    <tr>\n",
              "      <th>5</th>\n",
              "      <td>fold_5</td>\n",
              "      <td>0.803279</td>\n",
              "      <td>0.877551</td>\n",
              "      <td>0.330214</td>\n",
              "    </tr>\n",
              "    <tr>\n",
              "      <th>6</th>\n",
              "      <td>fold_6</td>\n",
              "      <td>0.819672</td>\n",
              "      <td>0.876404</td>\n",
              "      <td>0.500000</td>\n",
              "    </tr>\n",
              "    <tr>\n",
              "      <th>7</th>\n",
              "      <td>fold_7</td>\n",
              "      <td>0.868852</td>\n",
              "      <td>0.914894</td>\n",
              "      <td>0.565508</td>\n",
              "    </tr>\n",
              "    <tr>\n",
              "      <th>8</th>\n",
              "      <td>fold_8</td>\n",
              "      <td>0.786885</td>\n",
              "      <td>0.865979</td>\n",
              "      <td>0.310078</td>\n",
              "    </tr>\n",
              "    <tr>\n",
              "      <th>9</th>\n",
              "      <td>fold_9</td>\n",
              "      <td>0.846154</td>\n",
              "      <td>0.895833</td>\n",
              "      <td>0.545455</td>\n",
              "    </tr>\n",
              "    <tr>\n",
              "      <th>10</th>\n",
              "      <td>average</td>\n",
              "      <td>0.807566</td>\n",
              "      <td>0.875392</td>\n",
              "      <td>0.402404</td>\n",
              "    </tr>\n",
              "  </tbody>\n",
              "</table>\n",
              "</div>"
            ],
            "text/plain": [
              "       name  accuracy        f1  informedness\n",
              "0    fold_0  0.770492  0.847826      0.363636\n",
              "1    fold_1  0.852459  0.905263      0.500000\n",
              "2    fold_2  0.754098  0.835165      0.330952\n",
              "3    fold_3  0.770492  0.860000      0.212567\n",
              "4    fold_4  0.803279  0.875000      0.365633\n",
              "5    fold_5  0.803279  0.877551      0.330214\n",
              "6    fold_6  0.819672  0.876404      0.500000\n",
              "7    fold_7  0.868852  0.914894      0.565508\n",
              "8    fold_8  0.786885  0.865979      0.310078\n",
              "9    fold_9  0.846154  0.895833      0.545455\n",
              "10  average  0.807566  0.875392      0.402404"
            ]
          },
          "metadata": {
            "tags": []
          },
          "execution_count": 16
        }
      ]
    },
    {
      "metadata": {
        "id": "fe9hIraT6uQH",
        "colab_type": "code",
        "outputId": "425b1a65-1a85-45b3-fe26-7ea093a581e1",
        "colab": {
          "base_uri": "https://localhost:8080/",
          "height": 373
        }
      },
      "cell_type": "code",
      "source": [
        "table10_3 = k_fold(loan_table, 10, 'Loan_Status', {'max-depth': 3}, splitter_columns)\n",
        "table10_3"
      ],
      "execution_count": 17,
      "outputs": [
        {
          "output_type": "execute_result",
          "data": {
            "text/html": [
              "<div>\n",
              "<style scoped>\n",
              "    .dataframe tbody tr th:only-of-type {\n",
              "        vertical-align: middle;\n",
              "    }\n",
              "\n",
              "    .dataframe tbody tr th {\n",
              "        vertical-align: top;\n",
              "    }\n",
              "\n",
              "    .dataframe thead th {\n",
              "        text-align: right;\n",
              "    }\n",
              "</style>\n",
              "<table border=\"1\" class=\"dataframe\">\n",
              "  <thead>\n",
              "    <tr style=\"text-align: right;\">\n",
              "      <th></th>\n",
              "      <th>name</th>\n",
              "      <th>accuracy</th>\n",
              "      <th>f1</th>\n",
              "      <th>informedness</th>\n",
              "    </tr>\n",
              "  </thead>\n",
              "  <tbody>\n",
              "    <tr>\n",
              "      <th>0</th>\n",
              "      <td>fold_0</td>\n",
              "      <td>0.770492</td>\n",
              "      <td>0.847826</td>\n",
              "      <td>0.363636</td>\n",
              "    </tr>\n",
              "    <tr>\n",
              "      <th>1</th>\n",
              "      <td>fold_1</td>\n",
              "      <td>0.852459</td>\n",
              "      <td>0.905263</td>\n",
              "      <td>0.500000</td>\n",
              "    </tr>\n",
              "    <tr>\n",
              "      <th>2</th>\n",
              "      <td>fold_2</td>\n",
              "      <td>0.721311</td>\n",
              "      <td>0.808989</td>\n",
              "      <td>0.280952</td>\n",
              "    </tr>\n",
              "    <tr>\n",
              "      <th>3</th>\n",
              "      <td>fold_3</td>\n",
              "      <td>0.770492</td>\n",
              "      <td>0.860000</td>\n",
              "      <td>0.212567</td>\n",
              "    </tr>\n",
              "    <tr>\n",
              "      <th>4</th>\n",
              "      <td>fold_4</td>\n",
              "      <td>0.803279</td>\n",
              "      <td>0.875000</td>\n",
              "      <td>0.365633</td>\n",
              "    </tr>\n",
              "    <tr>\n",
              "      <th>5</th>\n",
              "      <td>fold_5</td>\n",
              "      <td>0.803279</td>\n",
              "      <td>0.877551</td>\n",
              "      <td>0.330214</td>\n",
              "    </tr>\n",
              "    <tr>\n",
              "      <th>6</th>\n",
              "      <td>fold_6</td>\n",
              "      <td>0.819672</td>\n",
              "      <td>0.876404</td>\n",
              "      <td>0.500000</td>\n",
              "    </tr>\n",
              "    <tr>\n",
              "      <th>7</th>\n",
              "      <td>fold_7</td>\n",
              "      <td>0.868852</td>\n",
              "      <td>0.914894</td>\n",
              "      <td>0.565508</td>\n",
              "    </tr>\n",
              "    <tr>\n",
              "      <th>8</th>\n",
              "      <td>fold_8</td>\n",
              "      <td>0.786885</td>\n",
              "      <td>0.865979</td>\n",
              "      <td>0.310078</td>\n",
              "    </tr>\n",
              "    <tr>\n",
              "      <th>9</th>\n",
              "      <td>fold_9</td>\n",
              "      <td>0.846154</td>\n",
              "      <td>0.895833</td>\n",
              "      <td>0.545455</td>\n",
              "    </tr>\n",
              "    <tr>\n",
              "      <th>10</th>\n",
              "      <td>average</td>\n",
              "      <td>0.804288</td>\n",
              "      <td>0.872774</td>\n",
              "      <td>0.397404</td>\n",
              "    </tr>\n",
              "  </tbody>\n",
              "</table>\n",
              "</div>"
            ],
            "text/plain": [
              "       name  accuracy        f1  informedness\n",
              "0    fold_0  0.770492  0.847826      0.363636\n",
              "1    fold_1  0.852459  0.905263      0.500000\n",
              "2    fold_2  0.721311  0.808989      0.280952\n",
              "3    fold_3  0.770492  0.860000      0.212567\n",
              "4    fold_4  0.803279  0.875000      0.365633\n",
              "5    fold_5  0.803279  0.877551      0.330214\n",
              "6    fold_6  0.819672  0.876404      0.500000\n",
              "7    fold_7  0.868852  0.914894      0.565508\n",
              "8    fold_8  0.786885  0.865979      0.310078\n",
              "9    fold_9  0.846154  0.895833      0.545455\n",
              "10  average  0.804288  0.872774      0.397404"
            ]
          },
          "metadata": {
            "tags": []
          },
          "execution_count": 17
        }
      ]
    },
    {
      "metadata": {
        "id": "U5_csX796uQN",
        "colab_type": "code",
        "outputId": "d8042887-ca89-49a7-d3e3-2b26d88f8ab4",
        "colab": {
          "base_uri": "https://localhost:8080/",
          "height": 373
        }
      },
      "cell_type": "code",
      "source": [
        "table10_4 = k_fold(loan_table, 10, 'Loan_Status', {'max-depth': 4}, splitter_columns)\n",
        "table10_4"
      ],
      "execution_count": 18,
      "outputs": [
        {
          "output_type": "execute_result",
          "data": {
            "text/html": [
              "<div>\n",
              "<style scoped>\n",
              "    .dataframe tbody tr th:only-of-type {\n",
              "        vertical-align: middle;\n",
              "    }\n",
              "\n",
              "    .dataframe tbody tr th {\n",
              "        vertical-align: top;\n",
              "    }\n",
              "\n",
              "    .dataframe thead th {\n",
              "        text-align: right;\n",
              "    }\n",
              "</style>\n",
              "<table border=\"1\" class=\"dataframe\">\n",
              "  <thead>\n",
              "    <tr style=\"text-align: right;\">\n",
              "      <th></th>\n",
              "      <th>name</th>\n",
              "      <th>accuracy</th>\n",
              "      <th>f1</th>\n",
              "      <th>informedness</th>\n",
              "    </tr>\n",
              "  </thead>\n",
              "  <tbody>\n",
              "    <tr>\n",
              "      <th>0</th>\n",
              "      <td>fold_0</td>\n",
              "      <td>0.770492</td>\n",
              "      <td>0.847826</td>\n",
              "      <td>0.363636</td>\n",
              "    </tr>\n",
              "    <tr>\n",
              "      <th>1</th>\n",
              "      <td>fold_1</td>\n",
              "      <td>0.852459</td>\n",
              "      <td>0.905263</td>\n",
              "      <td>0.500000</td>\n",
              "    </tr>\n",
              "    <tr>\n",
              "      <th>2</th>\n",
              "      <td>fold_2</td>\n",
              "      <td>0.737705</td>\n",
              "      <td>0.822222</td>\n",
              "      <td>0.305952</td>\n",
              "    </tr>\n",
              "    <tr>\n",
              "      <th>3</th>\n",
              "      <td>fold_3</td>\n",
              "      <td>0.770492</td>\n",
              "      <td>0.860000</td>\n",
              "      <td>0.212567</td>\n",
              "    </tr>\n",
              "    <tr>\n",
              "      <th>4</th>\n",
              "      <td>fold_4</td>\n",
              "      <td>0.803279</td>\n",
              "      <td>0.875000</td>\n",
              "      <td>0.365633</td>\n",
              "    </tr>\n",
              "    <tr>\n",
              "      <th>5</th>\n",
              "      <td>fold_5</td>\n",
              "      <td>0.803279</td>\n",
              "      <td>0.875000</td>\n",
              "      <td>0.366310</td>\n",
              "    </tr>\n",
              "    <tr>\n",
              "      <th>6</th>\n",
              "      <td>fold_6</td>\n",
              "      <td>0.819672</td>\n",
              "      <td>0.876404</td>\n",
              "      <td>0.500000</td>\n",
              "    </tr>\n",
              "    <tr>\n",
              "      <th>7</th>\n",
              "      <td>fold_7</td>\n",
              "      <td>0.868852</td>\n",
              "      <td>0.914894</td>\n",
              "      <td>0.565508</td>\n",
              "    </tr>\n",
              "    <tr>\n",
              "      <th>8</th>\n",
              "      <td>fold_8</td>\n",
              "      <td>0.786885</td>\n",
              "      <td>0.865979</td>\n",
              "      <td>0.310078</td>\n",
              "    </tr>\n",
              "    <tr>\n",
              "      <th>9</th>\n",
              "      <td>fold_9</td>\n",
              "      <td>0.846154</td>\n",
              "      <td>0.895833</td>\n",
              "      <td>0.545455</td>\n",
              "    </tr>\n",
              "    <tr>\n",
              "      <th>10</th>\n",
              "      <td>average</td>\n",
              "      <td>0.805927</td>\n",
              "      <td>0.873842</td>\n",
              "      <td>0.403514</td>\n",
              "    </tr>\n",
              "  </tbody>\n",
              "</table>\n",
              "</div>"
            ],
            "text/plain": [
              "       name  accuracy        f1  informedness\n",
              "0    fold_0  0.770492  0.847826      0.363636\n",
              "1    fold_1  0.852459  0.905263      0.500000\n",
              "2    fold_2  0.737705  0.822222      0.305952\n",
              "3    fold_3  0.770492  0.860000      0.212567\n",
              "4    fold_4  0.803279  0.875000      0.365633\n",
              "5    fold_5  0.803279  0.875000      0.366310\n",
              "6    fold_6  0.819672  0.876404      0.500000\n",
              "7    fold_7  0.868852  0.914894      0.565508\n",
              "8    fold_8  0.786885  0.865979      0.310078\n",
              "9    fold_9  0.846154  0.895833      0.545455\n",
              "10  average  0.805927  0.873842      0.403514"
            ]
          },
          "metadata": {
            "tags": []
          },
          "execution_count": 18
        }
      ]
    },
    {
      "metadata": {
        "id": "2FWHU0vR6uQZ",
        "colab_type": "code",
        "outputId": "8202ce50-982e-4dc4-dae3-b3ed4c825900",
        "colab": {
          "base_uri": "https://localhost:8080/",
          "height": 373
        }
      },
      "cell_type": "code",
      "source": [
        "table10_5 = k_fold(loan_table, 10, 'Loan_Status', {'max-depth': 5}, splitter_columns)\n",
        "table10_5"
      ],
      "execution_count": 19,
      "outputs": [
        {
          "output_type": "execute_result",
          "data": {
            "text/html": [
              "<div>\n",
              "<style scoped>\n",
              "    .dataframe tbody tr th:only-of-type {\n",
              "        vertical-align: middle;\n",
              "    }\n",
              "\n",
              "    .dataframe tbody tr th {\n",
              "        vertical-align: top;\n",
              "    }\n",
              "\n",
              "    .dataframe thead th {\n",
              "        text-align: right;\n",
              "    }\n",
              "</style>\n",
              "<table border=\"1\" class=\"dataframe\">\n",
              "  <thead>\n",
              "    <tr style=\"text-align: right;\">\n",
              "      <th></th>\n",
              "      <th>name</th>\n",
              "      <th>accuracy</th>\n",
              "      <th>f1</th>\n",
              "      <th>informedness</th>\n",
              "    </tr>\n",
              "  </thead>\n",
              "  <tbody>\n",
              "    <tr>\n",
              "      <th>0</th>\n",
              "      <td>fold_0</td>\n",
              "      <td>0.770492</td>\n",
              "      <td>0.847826</td>\n",
              "      <td>0.363636</td>\n",
              "    </tr>\n",
              "    <tr>\n",
              "      <th>1</th>\n",
              "      <td>fold_1</td>\n",
              "      <td>0.852459</td>\n",
              "      <td>0.905263</td>\n",
              "      <td>0.500000</td>\n",
              "    </tr>\n",
              "    <tr>\n",
              "      <th>2</th>\n",
              "      <td>fold_2</td>\n",
              "      <td>0.754098</td>\n",
              "      <td>0.835165</td>\n",
              "      <td>0.330952</td>\n",
              "    </tr>\n",
              "    <tr>\n",
              "      <th>3</th>\n",
              "      <td>fold_3</td>\n",
              "      <td>0.770492</td>\n",
              "      <td>0.860000</td>\n",
              "      <td>0.212567</td>\n",
              "    </tr>\n",
              "    <tr>\n",
              "      <th>4</th>\n",
              "      <td>fold_4</td>\n",
              "      <td>0.803279</td>\n",
              "      <td>0.875000</td>\n",
              "      <td>0.365633</td>\n",
              "    </tr>\n",
              "    <tr>\n",
              "      <th>5</th>\n",
              "      <td>fold_5</td>\n",
              "      <td>0.803279</td>\n",
              "      <td>0.875000</td>\n",
              "      <td>0.366310</td>\n",
              "    </tr>\n",
              "    <tr>\n",
              "      <th>6</th>\n",
              "      <td>fold_6</td>\n",
              "      <td>0.836066</td>\n",
              "      <td>0.886364</td>\n",
              "      <td>0.545455</td>\n",
              "    </tr>\n",
              "    <tr>\n",
              "      <th>7</th>\n",
              "      <td>fold_7</td>\n",
              "      <td>0.868852</td>\n",
              "      <td>0.914894</td>\n",
              "      <td>0.565508</td>\n",
              "    </tr>\n",
              "    <tr>\n",
              "      <th>8</th>\n",
              "      <td>fold_8</td>\n",
              "      <td>0.754098</td>\n",
              "      <td>0.842105</td>\n",
              "      <td>0.263566</td>\n",
              "    </tr>\n",
              "    <tr>\n",
              "      <th>9</th>\n",
              "      <td>fold_9</td>\n",
              "      <td>0.846154</td>\n",
              "      <td>0.895833</td>\n",
              "      <td>0.545455</td>\n",
              "    </tr>\n",
              "    <tr>\n",
              "      <th>10</th>\n",
              "      <td>average</td>\n",
              "      <td>0.805927</td>\n",
              "      <td>0.873745</td>\n",
              "      <td>0.405908</td>\n",
              "    </tr>\n",
              "  </tbody>\n",
              "</table>\n",
              "</div>"
            ],
            "text/plain": [
              "       name  accuracy        f1  informedness\n",
              "0    fold_0  0.770492  0.847826      0.363636\n",
              "1    fold_1  0.852459  0.905263      0.500000\n",
              "2    fold_2  0.754098  0.835165      0.330952\n",
              "3    fold_3  0.770492  0.860000      0.212567\n",
              "4    fold_4  0.803279  0.875000      0.365633\n",
              "5    fold_5  0.803279  0.875000      0.366310\n",
              "6    fold_6  0.836066  0.886364      0.545455\n",
              "7    fold_7  0.868852  0.914894      0.565508\n",
              "8    fold_8  0.754098  0.842105      0.263566\n",
              "9    fold_9  0.846154  0.895833      0.545455\n",
              "10  average  0.805927  0.873745      0.405908"
            ]
          },
          "metadata": {
            "tags": []
          },
          "execution_count": 19
        }
      ]
    },
    {
      "metadata": {
        "id": "onzdITMo6uQf",
        "colab_type": "text"
      },
      "cell_type": "markdown",
      "source": [
        "<hr>\n",
        "<h1>\n",
        "What does it look like to you?\n",
        "</h1>\n",
        "<p>\n",
        "<div class=h1_cell>\n",
        "<p>\n",
        "To me it looks like the stump is best! As we add depth I don't see an improvement. And it looks like results from depth 4 and 5 the same. What I would try next is the gig cutoff and bringing more columns into play (e.g., Gender, Married) by applying ohe to them.\n",
        "</div>"
      ]
    },
    {
      "metadata": {
        "id": "8hRUbj7i6uQh",
        "colab_type": "text"
      },
      "cell_type": "markdown",
      "source": [
        "<hr>\n",
        "<h1>\n",
        "4: Random slices (60 points)\n",
        "</h1>\n",
        "<p>\n",
        "<div class=h1_cell>\n",
        "<p>\n",
        "I'd like you to try one more thing. The `k_fold` function takes slices sequentially. I'd like you to write a function `k_fold_random` that takes random slices *without replacement*. Without replacement means that each slice should have a unique set of rows, i.e., no slices share a row\n",
        "<p>\n",
        "Each slice should be roughly 1/k percent of the entire table.\n",
        "<p>\n",
        "To solve this problem, I found it easiest to play around with loops in a notebook cell before trying to replace code in `k_fold`. My target was the equivalent of this but now with random slices:\n",
        "<pre>\n",
        "<code>\n",
        "    total_len = len(table.index)\n",
        "    slice_size = int(total_len/(1.0`*`k))\n",
        "    slices = []\n",
        "\n",
        "    #generate the slices\n",
        "    for i in range(k-1):\n",
        "        a_slice =  table[i`*`slice_size:(i+1)`*`slice_size]\n",
        "        slices.append( a_slice )\n",
        "    slices.append( table[(k-1)`*`slice_size:] )\n",
        "    \n",
        "    verify_unique(slices)  # I ask you to define this debugging function below\n",
        "</code>\n",
        "</pre>\n",
        "<p>\n",
        "I copied this code into a cell and then started to play around with various ideas until I got one I liked.\n",
        "<p>\n",
        "</div>"
      ]
    },
    {
      "metadata": {
        "id": "2ZFj-lzb_r7I",
        "colab_type": "text"
      },
      "cell_type": "markdown",
      "source": [
        "<h2>Help with debugging</h2>\n",
        "I'll define a debugging function that will take a list of slices and do a pairwise comparison. For each pair, it will print the set intersection between the 2 slices. I give you a few test cases to try."
      ]
    },
    {
      "metadata": {
        "id": "4vKnpmzU6uQi",
        "colab_type": "code",
        "colab": {}
      },
      "cell_type": "code",
      "source": [
        "#Determine if slices are mutually exclusive\n",
        "def verify_unique(slices):\n",
        "    print(('total length all slices', sum([len(s) for s in slices])))\n",
        "    for i, a_slice in enumerate(slices[:-1]):\n",
        "        a_set = set(a_slice.index)\n",
        "        for j, b_slice in enumerate(slices[i+1:]):\n",
        "            b_set = set(b_slice.index)\n",
        "            int_set = a_set.intersection(b_set)  # should be empty set as result\n",
        "            print((i,j+i+1,int_set))\n",
        "    return None"
      ],
      "execution_count": 0,
      "outputs": []
    },
    {
      "metadata": {
        "id": "B39CV9Zz6uQl",
        "colab_type": "code",
        "outputId": "1d6ae18d-7fa4-406c-96d5-8ecf66421d7c",
        "colab": {
          "base_uri": "https://localhost:8080/",
          "height": 84
        }
      },
      "cell_type": "code",
      "source": [
        "#test\n",
        "\n",
        "verify_unique([loan_table[0:2], loan_table[2:4], loan_table[4:5]])  #looks good - enpty set for each pair"
      ],
      "execution_count": 21,
      "outputs": [
        {
          "output_type": "stream",
          "text": [
            "('total length all slices', 5)\n",
            "(0, 1, set())\n",
            "(0, 2, set())\n",
            "(1, 2, set())\n"
          ],
          "name": "stdout"
        }
      ]
    },
    {
      "metadata": {
        "id": "OnanZoGm_PSP",
        "colab_type": "code",
        "outputId": "a55c9b79-4bf5-4a3f-8249-c04d4c0e6bf5",
        "colab": {
          "base_uri": "https://localhost:8080/",
          "height": 84
        }
      },
      "cell_type": "code",
      "source": [
        "#test\n",
        "\n",
        "verify_unique([loan_table[0:2], loan_table[1:4], loan_table[1:5]])  #not so good, finds intersection between all 3 pairs"
      ],
      "execution_count": 22,
      "outputs": [
        {
          "output_type": "stream",
          "text": [
            "('total length all slices', 9)\n",
            "(0, 1, {1})\n",
            "(0, 2, {1})\n",
            "(1, 2, {1, 2, 3})\n"
          ],
          "name": "stdout"
        }
      ]
    },
    {
      "metadata": {
        "id": "fmKxkLI_4EjI",
        "colab_type": "code",
        "colab": {
          "base_uri": "https://localhost:8080/",
          "height": 34
        },
        "outputId": "083b8f15-98d0-4aa0-b500-70002adcd5a7"
      },
      "cell_type": "code",
      "source": [
        "table = loan_table\n",
        "total_len = len(table.index)\n",
        "k = 10\n",
        "slice_size = int(total_len/(1.0*k))\n",
        "slices = []\n",
        "repeats = []    \n",
        "  \n",
        "total_len = len(table.index)\n",
        "slice_size = int(total_len/(1.0*k))\n",
        "slices = []\n",
        "for i in range(k-1):\n",
        "    a_slice =  table[i*slice_size:(i+1)*slice_size]\n",
        "    slices.append( a_slice )\n",
        "slices.append( table[(k-1)*slice_size:] )\n",
        "print(type(slices), len(slices), type(slices[0]))\n"
      ],
      "execution_count": 23,
      "outputs": [
        {
          "output_type": "stream",
          "text": [
            "<class 'list'> 10 <class 'pandas.core.frame.DataFrame'>\n"
          ],
          "name": "stdout"
        }
      ]
    },
    {
      "metadata": {
        "id": "uovJF_8z2plB",
        "colab_type": "code",
        "colab": {
          "base_uri": "https://localhost:8080/",
          "height": 252
        },
        "outputId": "86a62526-b9a3-4af1-9062-f28cf6dd9c5f"
      },
      "cell_type": "code",
      "source": [
        "print(loan_table[0:1])"
      ],
      "execution_count": 24,
      "outputs": [
        {
          "output_type": "stream",
          "text": [
            "  Gender Married Dependents Education Self_Employed  ApplicantIncome  \\\n",
            "0   Male      No          0  Graduate            No             5849   \n",
            "\n",
            "   CoapplicantIncome  LoanAmount  Loan_Amount_Term  Credit_History  \\\n",
            "0                0.0         NaN             360.0             1.0   \n",
            "\n",
            "  Property_Area  Loan_Status  no_lam  filled_lam  pa_Rural  pa_Semiurban  \\\n",
            "0         Urban            1       1  146.412162         0             0   \n",
            "\n",
            "   pa_Urban  pa_nan lam_bin  lam_Low  lam_Average  lam_High  ch_bad  ch_good  \\\n",
            "0         1       0     Low        1            0         0       0        1   \n",
            "\n",
            "   ch_nan apin_binned  apin_low  apin_average  apin_high  apin_nan  \n",
            "0       0         low         1             0          0         0  \n"
          ],
          "name": "stdout"
        }
      ]
    },
    {
      "metadata": {
        "id": "u4_VZceV6uQt",
        "colab_type": "code",
        "colab": {
          "base_uri": "https://localhost:8080/",
          "height": 790
        },
        "outputId": "b2f0a029-6adc-4755-95e9-c05cc63f0eb6"
      },
      "cell_type": "code",
      "source": [
        "from sklearn.utils import shuffle\n",
        "k = 10\n",
        "table = shuffle(loan_table)\n",
        "total_len = len(table.index)\n",
        "slice_size = int(total_len/(1.0*k))\n",
        "slices = []\n",
        "#generate the slices\n",
        "for i in range(k-1):\n",
        "  a_slice =  table[i*slice_size:(i+1)*slice_size]\n",
        "  slices.append( a_slice )\n",
        "slices.append( table[(k-1)*slice_size:] )\n",
        "\n",
        "verify_unique(slices)  # I ask you to define this debugging function below"
      ],
      "execution_count": 25,
      "outputs": [
        {
          "output_type": "stream",
          "text": [
            "('total length all slices', 614)\n",
            "(0, 1, set())\n",
            "(0, 2, set())\n",
            "(0, 3, set())\n",
            "(0, 4, set())\n",
            "(0, 5, set())\n",
            "(0, 6, set())\n",
            "(0, 7, set())\n",
            "(0, 8, set())\n",
            "(0, 9, set())\n",
            "(1, 2, set())\n",
            "(1, 3, set())\n",
            "(1, 4, set())\n",
            "(1, 5, set())\n",
            "(1, 6, set())\n",
            "(1, 7, set())\n",
            "(1, 8, set())\n",
            "(1, 9, set())\n",
            "(2, 3, set())\n",
            "(2, 4, set())\n",
            "(2, 5, set())\n",
            "(2, 6, set())\n",
            "(2, 7, set())\n",
            "(2, 8, set())\n",
            "(2, 9, set())\n",
            "(3, 4, set())\n",
            "(3, 5, set())\n",
            "(3, 6, set())\n",
            "(3, 7, set())\n",
            "(3, 8, set())\n",
            "(3, 9, set())\n",
            "(4, 5, set())\n",
            "(4, 6, set())\n",
            "(4, 7, set())\n",
            "(4, 8, set())\n",
            "(4, 9, set())\n",
            "(5, 6, set())\n",
            "(5, 7, set())\n",
            "(5, 8, set())\n",
            "(5, 9, set())\n",
            "(6, 7, set())\n",
            "(6, 8, set())\n",
            "(6, 9, set())\n",
            "(7, 8, set())\n",
            "(7, 9, set())\n",
            "(8, 9, set())\n"
          ],
          "name": "stdout"
        }
      ]
    },
    {
      "metadata": {
        "id": "_2N8lTi06uQw",
        "colab_type": "text"
      },
      "cell_type": "markdown",
      "source": [
        "<h2>\n",
        "Plug your code in\n",
        "</h2>\n",
        "<p>\n",
        "<div class=h1_cell>\n",
        "<p>\n",
        "Once you are generating slices randomly, you will have k test slices. You can go ahead and place your code into `k_fold_random`. You should now be good to go.\n",
        "<p>\n",
        "One problem with doing random selections is that we will get different results every time we run our code. We will see a way to get repeatable results in next module. For now, you may find that you are not matching my fold results.\n",
        "</div>"
      ]
    },
    {
      "metadata": {
        "id": "J4dkFQwb6uQw",
        "colab_type": "code",
        "colab": {}
      },
      "cell_type": "code",
      "source": [
        "from sklearn.utils import shuffle\n",
        "def k_fold_random(table, k, target, hypers, candidate_columns):\n",
        "  #set up the table where we will record fold results\n",
        "    result_columns = ['name',  'accuracy', 'f1', 'informedness']\n",
        "    k_fold_results_table = pd.DataFrame(columns=result_columns)\n",
        "    \n",
        "    #generate the slices\n",
        "    # here is sequential slice code from k_fold if you want to use it as base.\n",
        "    # modify it to produce slices with random rows in each slice.\n",
        "\n",
        "    table = shuffle(loan_table)\n",
        "    total_len = len(table.index)\n",
        "    slice_size = int(total_len/(1.0*k))\n",
        "    slices = []\n",
        "    #generate the slices\n",
        "    for i in range(k-1):\n",
        "      a_slice =  table[i*slice_size:(i+1)*slice_size]\n",
        "      slices.append( a_slice )\n",
        "    slices.append( table[(k-1)*slice_size:] )\n",
        "\n",
        "    verify_unique(slices)  # I ask you to define this debugging function below\n",
        "    \n",
        "    #generate test results\n",
        "    all_scores = []  #keep track of all k results\n",
        "    for i in range(k):\n",
        "        test_table = slices[i]\n",
        "        train_table = compute_training(slices, i)\n",
        "        fold_tree = build_tree_iter(train_table, candidate_columns, target, hypers)  # train\n",
        "        scores = produce_scores(test_table, fold_tree, target)  # test\n",
        "        results_row = {'name': 'fold_'+str(i), 'accuracy': scores[0], 'f1': scores[1], 'informedness': scores[2]}\n",
        "        k_fold_results_table = k_fold_results_table.append(results_row,ignore_index=True)\n",
        "        all_scores.append(scores)\n",
        "    \n",
        "    #compute average of all folds\n",
        "    avg_scores = tuple(reduce(lambda total, triple: np.add(triple, total), all_scores)/5)\n",
        "    results_row = {'name': 'average', 'accuracy': avg_scores[0], 'f1': avg_scores[1], 'informedness': avg_scores[2]}\n",
        "    k_fold_results_table = k_fold_results_table.append(results_row,ignore_index=True)\n",
        "    \n",
        "    #note that I add the meta comment as last step to avoid it being wiped out\n",
        "    k_fold_results_table.meta = SimpleNamespace()\n",
        "    k_fold_results_table.meta.hypers  = hypers # adds comment to remind me of hyper params used\n",
        "    \n",
        "    return k_fold_results_table"
      ],
      "execution_count": 0,
      "outputs": []
    },
    {
      "metadata": {
        "id": "JgzsHe8z6uQ0",
        "colab_type": "code",
        "outputId": "cb678239-56ab-49ba-987c-b4215f827c87",
        "colab": {
          "base_uri": "https://localhost:8080/",
          "height": 1146
        }
      },
      "cell_type": "code",
      "source": [
        "k_fold_random(loan_table, 10, 'Loan_Status', {'max-depth': 1}, splitter_columns)\n"
      ],
      "execution_count": 27,
      "outputs": [
        {
          "output_type": "stream",
          "text": [
            "('total length all slices', 614)\n",
            "(0, 1, set())\n",
            "(0, 2, set())\n",
            "(0, 3, set())\n",
            "(0, 4, set())\n",
            "(0, 5, set())\n",
            "(0, 6, set())\n",
            "(0, 7, set())\n",
            "(0, 8, set())\n",
            "(0, 9, set())\n",
            "(1, 2, set())\n",
            "(1, 3, set())\n",
            "(1, 4, set())\n",
            "(1, 5, set())\n",
            "(1, 6, set())\n",
            "(1, 7, set())\n",
            "(1, 8, set())\n",
            "(1, 9, set())\n",
            "(2, 3, set())\n",
            "(2, 4, set())\n",
            "(2, 5, set())\n",
            "(2, 6, set())\n",
            "(2, 7, set())\n",
            "(2, 8, set())\n",
            "(2, 9, set())\n",
            "(3, 4, set())\n",
            "(3, 5, set())\n",
            "(3, 6, set())\n",
            "(3, 7, set())\n",
            "(3, 8, set())\n",
            "(3, 9, set())\n",
            "(4, 5, set())\n",
            "(4, 6, set())\n",
            "(4, 7, set())\n",
            "(4, 8, set())\n",
            "(4, 9, set())\n",
            "(5, 6, set())\n",
            "(5, 7, set())\n",
            "(5, 8, set())\n",
            "(5, 9, set())\n",
            "(6, 7, set())\n",
            "(6, 8, set())\n",
            "(6, 9, set())\n",
            "(7, 8, set())\n",
            "(7, 9, set())\n",
            "(8, 9, set())\n"
          ],
          "name": "stdout"
        },
        {
          "output_type": "execute_result",
          "data": {
            "text/html": [
              "<div>\n",
              "<style scoped>\n",
              "    .dataframe tbody tr th:only-of-type {\n",
              "        vertical-align: middle;\n",
              "    }\n",
              "\n",
              "    .dataframe tbody tr th {\n",
              "        vertical-align: top;\n",
              "    }\n",
              "\n",
              "    .dataframe thead th {\n",
              "        text-align: right;\n",
              "    }\n",
              "</style>\n",
              "<table border=\"1\" class=\"dataframe\">\n",
              "  <thead>\n",
              "    <tr style=\"text-align: right;\">\n",
              "      <th></th>\n",
              "      <th>name</th>\n",
              "      <th>accuracy</th>\n",
              "      <th>f1</th>\n",
              "      <th>informedness</th>\n",
              "    </tr>\n",
              "  </thead>\n",
              "  <tbody>\n",
              "    <tr>\n",
              "      <th>0</th>\n",
              "      <td>fold_0</td>\n",
              "      <td>0.786885</td>\n",
              "      <td>0.860215</td>\n",
              "      <td>0.375610</td>\n",
              "    </tr>\n",
              "    <tr>\n",
              "      <th>1</th>\n",
              "      <td>fold_1</td>\n",
              "      <td>0.901639</td>\n",
              "      <td>0.934783</td>\n",
              "      <td>0.666667</td>\n",
              "    </tr>\n",
              "    <tr>\n",
              "      <th>2</th>\n",
              "      <td>fold_2</td>\n",
              "      <td>0.819672</td>\n",
              "      <td>0.884211</td>\n",
              "      <td>0.421189</td>\n",
              "    </tr>\n",
              "    <tr>\n",
              "      <th>3</th>\n",
              "      <td>fold_3</td>\n",
              "      <td>0.836066</td>\n",
              "      <td>0.893617</td>\n",
              "      <td>0.476744</td>\n",
              "    </tr>\n",
              "    <tr>\n",
              "      <th>4</th>\n",
              "      <td>fold_4</td>\n",
              "      <td>0.786885</td>\n",
              "      <td>0.850575</td>\n",
              "      <td>0.451945</td>\n",
              "    </tr>\n",
              "    <tr>\n",
              "      <th>5</th>\n",
              "      <td>fold_5</td>\n",
              "      <td>0.786885</td>\n",
              "      <td>0.868687</td>\n",
              "      <td>0.271390</td>\n",
              "    </tr>\n",
              "    <tr>\n",
              "      <th>6</th>\n",
              "      <td>fold_6</td>\n",
              "      <td>0.803279</td>\n",
              "      <td>0.882353</td>\n",
              "      <td>0.244928</td>\n",
              "    </tr>\n",
              "    <tr>\n",
              "      <th>7</th>\n",
              "      <td>fold_7</td>\n",
              "      <td>0.803279</td>\n",
              "      <td>0.869565</td>\n",
              "      <td>0.428571</td>\n",
              "    </tr>\n",
              "    <tr>\n",
              "      <th>8</th>\n",
              "      <td>fold_8</td>\n",
              "      <td>0.786885</td>\n",
              "      <td>0.860215</td>\n",
              "      <td>0.375610</td>\n",
              "    </tr>\n",
              "    <tr>\n",
              "      <th>9</th>\n",
              "      <td>fold_9</td>\n",
              "      <td>0.784615</td>\n",
              "      <td>0.860000</td>\n",
              "      <td>0.363636</td>\n",
              "    </tr>\n",
              "    <tr>\n",
              "      <th>10</th>\n",
              "      <td>average</td>\n",
              "      <td>1.619218</td>\n",
              "      <td>1.752844</td>\n",
              "      <td>0.815258</td>\n",
              "    </tr>\n",
              "  </tbody>\n",
              "</table>\n",
              "</div>"
            ],
            "text/plain": [
              "       name  accuracy        f1  informedness\n",
              "0    fold_0  0.786885  0.860215      0.375610\n",
              "1    fold_1  0.901639  0.934783      0.666667\n",
              "2    fold_2  0.819672  0.884211      0.421189\n",
              "3    fold_3  0.836066  0.893617      0.476744\n",
              "4    fold_4  0.786885  0.850575      0.451945\n",
              "5    fold_5  0.786885  0.868687      0.271390\n",
              "6    fold_6  0.803279  0.882353      0.244928\n",
              "7    fold_7  0.803279  0.869565      0.428571\n",
              "8    fold_8  0.786885  0.860215      0.375610\n",
              "9    fold_9  0.784615  0.860000      0.363636\n",
              "10  average  1.619218  1.752844      0.815258"
            ]
          },
          "metadata": {
            "tags": []
          },
          "execution_count": 27
        }
      ]
    },
    {
      "metadata": {
        "id": "eCRnBm7yLs6n",
        "colab_type": "text"
      },
      "cell_type": "markdown",
      "source": [
        "What we got with prior sequential split at depth 1: \n",
        "<pre>\n",
        "10\taverage\t0.809206\t0.876388\t0.406950\n",
        "</pre>"
      ]
    },
    {
      "metadata": {
        "id": "Ymk6TWaf6uQ3",
        "colab_type": "code",
        "outputId": "86cf7d15-7b68-412b-d5eb-c83c1927daba",
        "colab": {
          "base_uri": "https://localhost:8080/",
          "height": 1146
        }
      },
      "cell_type": "code",
      "source": [
        "k_fold_random(loan_table, 10, 'Loan_Status', {'max-depth': 2}, splitter_columns)\n"
      ],
      "execution_count": 28,
      "outputs": [
        {
          "output_type": "stream",
          "text": [
            "('total length all slices', 614)\n",
            "(0, 1, set())\n",
            "(0, 2, set())\n",
            "(0, 3, set())\n",
            "(0, 4, set())\n",
            "(0, 5, set())\n",
            "(0, 6, set())\n",
            "(0, 7, set())\n",
            "(0, 8, set())\n",
            "(0, 9, set())\n",
            "(1, 2, set())\n",
            "(1, 3, set())\n",
            "(1, 4, set())\n",
            "(1, 5, set())\n",
            "(1, 6, set())\n",
            "(1, 7, set())\n",
            "(1, 8, set())\n",
            "(1, 9, set())\n",
            "(2, 3, set())\n",
            "(2, 4, set())\n",
            "(2, 5, set())\n",
            "(2, 6, set())\n",
            "(2, 7, set())\n",
            "(2, 8, set())\n",
            "(2, 9, set())\n",
            "(3, 4, set())\n",
            "(3, 5, set())\n",
            "(3, 6, set())\n",
            "(3, 7, set())\n",
            "(3, 8, set())\n",
            "(3, 9, set())\n",
            "(4, 5, set())\n",
            "(4, 6, set())\n",
            "(4, 7, set())\n",
            "(4, 8, set())\n",
            "(4, 9, set())\n",
            "(5, 6, set())\n",
            "(5, 7, set())\n",
            "(5, 8, set())\n",
            "(5, 9, set())\n",
            "(6, 7, set())\n",
            "(6, 8, set())\n",
            "(6, 9, set())\n",
            "(7, 8, set())\n",
            "(7, 9, set())\n",
            "(8, 9, set())\n"
          ],
          "name": "stdout"
        },
        {
          "output_type": "execute_result",
          "data": {
            "text/html": [
              "<div>\n",
              "<style scoped>\n",
              "    .dataframe tbody tr th:only-of-type {\n",
              "        vertical-align: middle;\n",
              "    }\n",
              "\n",
              "    .dataframe tbody tr th {\n",
              "        vertical-align: top;\n",
              "    }\n",
              "\n",
              "    .dataframe thead th {\n",
              "        text-align: right;\n",
              "    }\n",
              "</style>\n",
              "<table border=\"1\" class=\"dataframe\">\n",
              "  <thead>\n",
              "    <tr style=\"text-align: right;\">\n",
              "      <th></th>\n",
              "      <th>name</th>\n",
              "      <th>accuracy</th>\n",
              "      <th>f1</th>\n",
              "      <th>informedness</th>\n",
              "    </tr>\n",
              "  </thead>\n",
              "  <tbody>\n",
              "    <tr>\n",
              "      <th>0</th>\n",
              "      <td>fold_0</td>\n",
              "      <td>0.852459</td>\n",
              "      <td>0.907216</td>\n",
              "      <td>0.470588</td>\n",
              "    </tr>\n",
              "    <tr>\n",
              "      <th>1</th>\n",
              "      <td>fold_1</td>\n",
              "      <td>0.786885</td>\n",
              "      <td>0.860215</td>\n",
              "      <td>0.375610</td>\n",
              "    </tr>\n",
              "    <tr>\n",
              "      <th>2</th>\n",
              "      <td>fold_2</td>\n",
              "      <td>0.852459</td>\n",
              "      <td>0.909091</td>\n",
              "      <td>0.437500</td>\n",
              "    </tr>\n",
              "    <tr>\n",
              "      <th>3</th>\n",
              "      <td>fold_3</td>\n",
              "      <td>0.786885</td>\n",
              "      <td>0.863158</td>\n",
              "      <td>0.344612</td>\n",
              "    </tr>\n",
              "    <tr>\n",
              "      <th>4</th>\n",
              "      <td>fold_4</td>\n",
              "      <td>0.819672</td>\n",
              "      <td>0.870588</td>\n",
              "      <td>0.538902</td>\n",
              "    </tr>\n",
              "    <tr>\n",
              "      <th>5</th>\n",
              "      <td>fold_5</td>\n",
              "      <td>0.754098</td>\n",
              "      <td>0.838710</td>\n",
              "      <td>0.301220</td>\n",
              "    </tr>\n",
              "    <tr>\n",
              "      <th>6</th>\n",
              "      <td>fold_6</td>\n",
              "      <td>0.868852</td>\n",
              "      <td>0.923077</td>\n",
              "      <td>0.384615</td>\n",
              "    </tr>\n",
              "    <tr>\n",
              "      <th>7</th>\n",
              "      <td>fold_7</td>\n",
              "      <td>0.836066</td>\n",
              "      <td>0.895833</td>\n",
              "      <td>0.447861</td>\n",
              "    </tr>\n",
              "    <tr>\n",
              "      <th>8</th>\n",
              "      <td>fold_8</td>\n",
              "      <td>0.688525</td>\n",
              "      <td>0.776471</td>\n",
              "      <td>0.321429</td>\n",
              "    </tr>\n",
              "    <tr>\n",
              "      <th>9</th>\n",
              "      <td>fold_9</td>\n",
              "      <td>0.830769</td>\n",
              "      <td>0.891089</td>\n",
              "      <td>0.451945</td>\n",
              "    </tr>\n",
              "    <tr>\n",
              "      <th>10</th>\n",
              "      <td>average</td>\n",
              "      <td>1.615334</td>\n",
              "      <td>1.747090</td>\n",
              "      <td>0.814856</td>\n",
              "    </tr>\n",
              "  </tbody>\n",
              "</table>\n",
              "</div>"
            ],
            "text/plain": [
              "       name  accuracy        f1  informedness\n",
              "0    fold_0  0.852459  0.907216      0.470588\n",
              "1    fold_1  0.786885  0.860215      0.375610\n",
              "2    fold_2  0.852459  0.909091      0.437500\n",
              "3    fold_3  0.786885  0.863158      0.344612\n",
              "4    fold_4  0.819672  0.870588      0.538902\n",
              "5    fold_5  0.754098  0.838710      0.301220\n",
              "6    fold_6  0.868852  0.923077      0.384615\n",
              "7    fold_7  0.836066  0.895833      0.447861\n",
              "8    fold_8  0.688525  0.776471      0.321429\n",
              "9    fold_9  0.830769  0.891089      0.451945\n",
              "10  average  1.615334  1.747090      0.814856"
            ]
          },
          "metadata": {
            "tags": []
          },
          "execution_count": 28
        }
      ]
    },
    {
      "metadata": {
        "id": "xtgk7PomMKEt",
        "colab_type": "text"
      },
      "cell_type": "markdown",
      "source": [
        "What we got in sequential at depth 2:\n",
        "<pre>\n",
        "10\taverage\t0.807566\t0.875392\t0.402404\n",
        "</pre>\n",
        "Let's try one more."
      ]
    },
    {
      "metadata": {
        "id": "fUl9_QCa6uQ6",
        "colab_type": "code",
        "outputId": "a942a854-96a8-4839-a303-fb63274ce8f6",
        "colab": {
          "base_uri": "https://localhost:8080/",
          "height": 1146
        }
      },
      "cell_type": "code",
      "source": [
        "k_fold_random(loan_table, 10, 'Loan_Status', {'max-depth': 3}, splitter_columns)"
      ],
      "execution_count": 29,
      "outputs": [
        {
          "output_type": "stream",
          "text": [
            "('total length all slices', 614)\n",
            "(0, 1, set())\n",
            "(0, 2, set())\n",
            "(0, 3, set())\n",
            "(0, 4, set())\n",
            "(0, 5, set())\n",
            "(0, 6, set())\n",
            "(0, 7, set())\n",
            "(0, 8, set())\n",
            "(0, 9, set())\n",
            "(1, 2, set())\n",
            "(1, 3, set())\n",
            "(1, 4, set())\n",
            "(1, 5, set())\n",
            "(1, 6, set())\n",
            "(1, 7, set())\n",
            "(1, 8, set())\n",
            "(1, 9, set())\n",
            "(2, 3, set())\n",
            "(2, 4, set())\n",
            "(2, 5, set())\n",
            "(2, 6, set())\n",
            "(2, 7, set())\n",
            "(2, 8, set())\n",
            "(2, 9, set())\n",
            "(3, 4, set())\n",
            "(3, 5, set())\n",
            "(3, 6, set())\n",
            "(3, 7, set())\n",
            "(3, 8, set())\n",
            "(3, 9, set())\n",
            "(4, 5, set())\n",
            "(4, 6, set())\n",
            "(4, 7, set())\n",
            "(4, 8, set())\n",
            "(4, 9, set())\n",
            "(5, 6, set())\n",
            "(5, 7, set())\n",
            "(5, 8, set())\n",
            "(5, 9, set())\n",
            "(6, 7, set())\n",
            "(6, 8, set())\n",
            "(6, 9, set())\n",
            "(7, 8, set())\n",
            "(7, 9, set())\n",
            "(8, 9, set())\n"
          ],
          "name": "stdout"
        },
        {
          "output_type": "execute_result",
          "data": {
            "text/html": [
              "<div>\n",
              "<style scoped>\n",
              "    .dataframe tbody tr th:only-of-type {\n",
              "        vertical-align: middle;\n",
              "    }\n",
              "\n",
              "    .dataframe tbody tr th {\n",
              "        vertical-align: top;\n",
              "    }\n",
              "\n",
              "    .dataframe thead th {\n",
              "        text-align: right;\n",
              "    }\n",
              "</style>\n",
              "<table border=\"1\" class=\"dataframe\">\n",
              "  <thead>\n",
              "    <tr style=\"text-align: right;\">\n",
              "      <th></th>\n",
              "      <th>name</th>\n",
              "      <th>accuracy</th>\n",
              "      <th>f1</th>\n",
              "      <th>informedness</th>\n",
              "    </tr>\n",
              "  </thead>\n",
              "  <tbody>\n",
              "    <tr>\n",
              "      <th>0</th>\n",
              "      <td>fold_0</td>\n",
              "      <td>0.819672</td>\n",
              "      <td>0.886598</td>\n",
              "      <td>0.389037</td>\n",
              "    </tr>\n",
              "    <tr>\n",
              "      <th>1</th>\n",
              "      <td>fold_1</td>\n",
              "      <td>0.786885</td>\n",
              "      <td>0.860215</td>\n",
              "      <td>0.380952</td>\n",
              "    </tr>\n",
              "    <tr>\n",
              "      <th>2</th>\n",
              "      <td>fold_2</td>\n",
              "      <td>0.786885</td>\n",
              "      <td>0.860215</td>\n",
              "      <td>0.379679</td>\n",
              "    </tr>\n",
              "    <tr>\n",
              "      <th>3</th>\n",
              "      <td>fold_3</td>\n",
              "      <td>0.819672</td>\n",
              "      <td>0.873563</td>\n",
              "      <td>0.519814</td>\n",
              "    </tr>\n",
              "    <tr>\n",
              "      <th>4</th>\n",
              "      <td>fold_4</td>\n",
              "      <td>0.737705</td>\n",
              "      <td>0.829787</td>\n",
              "      <td>0.251220</td>\n",
              "    </tr>\n",
              "    <tr>\n",
              "      <th>5</th>\n",
              "      <td>fold_5</td>\n",
              "      <td>0.885246</td>\n",
              "      <td>0.926316</td>\n",
              "      <td>0.588235</td>\n",
              "    </tr>\n",
              "    <tr>\n",
              "      <th>6</th>\n",
              "      <td>fold_6</td>\n",
              "      <td>0.737705</td>\n",
              "      <td>0.833333</td>\n",
              "      <td>0.225610</td>\n",
              "    </tr>\n",
              "    <tr>\n",
              "      <th>7</th>\n",
              "      <td>fold_7</td>\n",
              "      <td>0.852459</td>\n",
              "      <td>0.909091</td>\n",
              "      <td>0.444928</td>\n",
              "    </tr>\n",
              "    <tr>\n",
              "      <th>8</th>\n",
              "      <td>fold_8</td>\n",
              "      <td>0.770492</td>\n",
              "      <td>0.847826</td>\n",
              "      <td>0.355952</td>\n",
              "    </tr>\n",
              "    <tr>\n",
              "      <th>9</th>\n",
              "      <td>fold_9</td>\n",
              "      <td>0.815385</td>\n",
              "      <td>0.877551</td>\n",
              "      <td>0.454545</td>\n",
              "    </tr>\n",
              "    <tr>\n",
              "      <th>10</th>\n",
              "      <td>average</td>\n",
              "      <td>1.602421</td>\n",
              "      <td>1.740899</td>\n",
              "      <td>0.797994</td>\n",
              "    </tr>\n",
              "  </tbody>\n",
              "</table>\n",
              "</div>"
            ],
            "text/plain": [
              "       name  accuracy        f1  informedness\n",
              "0    fold_0  0.819672  0.886598      0.389037\n",
              "1    fold_1  0.786885  0.860215      0.380952\n",
              "2    fold_2  0.786885  0.860215      0.379679\n",
              "3    fold_3  0.819672  0.873563      0.519814\n",
              "4    fold_4  0.737705  0.829787      0.251220\n",
              "5    fold_5  0.885246  0.926316      0.588235\n",
              "6    fold_6  0.737705  0.833333      0.225610\n",
              "7    fold_7  0.852459  0.909091      0.444928\n",
              "8    fold_8  0.770492  0.847826      0.355952\n",
              "9    fold_9  0.815385  0.877551      0.454545\n",
              "10  average  1.602421  1.740899      0.797994"
            ]
          },
          "metadata": {
            "tags": []
          },
          "execution_count": 29
        }
      ]
    },
    {
      "metadata": {
        "id": "CI5vixoGNGYA",
        "colab_type": "text"
      },
      "cell_type": "markdown",
      "source": [
        "What we got in sequential at depth 3:\n",
        "<pre>\n",
        "10\taverage\t0.804288\t0.872774\t0.397404\n",
        "</pre>\n",
        "Random looks very close to sequential. With this small a dataset, I could see that happening. In general, random is prefered. With sequential you might be picking up some funny ordering of the rows. Maybe they listed the best applicants first."
      ]
    },
    {
      "metadata": {
        "collapsed": true,
        "id": "R2CUaYb26uRI",
        "colab_type": "text"
      },
      "cell_type": "markdown",
      "source": [
        "<hr>\n",
        "<h1>Did not change loan table</h1>\n",
        "<div class=h1_cell>\n",
        "<p>\n",
        "No need to write it out.\n",
        "</div>"
      ]
    },
    {
      "metadata": {
        "id": "uosFosUkPydB",
        "colab_type": "text"
      },
      "cell_type": "markdown",
      "source": [
        "<hr>\n",
        "<h1>We did change library</h1>\n",
        "<div class=h1_cell>\n",
        "<p>\n",
        "We added `verify_unique` and `k_fold_random`. Add them to your library and call new file `library_w19_5b.py`. I added the `b` to differentiate it from functions we added in intro notebook and top of this one.\n",
        "</div>"
      ]
    },
    {
      "metadata": {
        "id": "cErmWPPZmgig",
        "colab_type": "code",
        "colab": {}
      },
      "cell_type": "code",
      "source": [
        ""
      ],
      "execution_count": 0,
      "outputs": []
    }
  ]
}