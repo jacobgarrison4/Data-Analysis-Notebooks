{
  "nbformat": 4,
  "nbformat_minor": 0,
  "metadata": {
    "colab": {
      "name": "tree_building_assignment_w19.ipynb",
      "version": "0.3.2",
      "provenance": [],
      "collapsed_sections": []
    },
    "kernelspec": {
      "name": "python3",
      "display_name": "Python 3"
    }
  },
  "cells": [
    {
      "metadata": {
        "id": "0-tWg0DJ2Tus",
        "colab_type": "text"
      },
      "cell_type": "markdown",
      "source": [
        "<h1>\n",
        "<center>\n",
        "Module 4: Tree Building assignment\n",
        "</center>\n",
        "</h1>\n",
        "<div class=h1_cell>\n",
        "\n",
        "You will be working with the loan table again.\n",
        "\n",
        "</div>"
      ]
    },
    {
      "metadata": {
        "id": "Qae_5pV22Tuu",
        "colab_type": "code",
        "outputId": "c836a9ee-7a5d-43d5-9a7e-4f69d9c96417",
        "colab": {
          "base_uri": "https://localhost:8080/",
          "height": 34
        }
      },
      "cell_type": "code",
      "source": [
        "import pandas as pd\n",
        "\n",
        "from google.colab import drive\n",
        "drive.mount('/content/gdrive')\n"
      ],
      "execution_count": 1,
      "outputs": [
        {
          "output_type": "stream",
          "text": [
            "Drive already mounted at /content/gdrive; to attempt to forcibly remount, call drive.mount(\"/content/gdrive\", force_remount=True).\n"
          ],
          "name": "stdout"
        }
      ]
    },
    {
      "metadata": {
        "id": "_X50VIiifSTm",
        "colab_type": "code",
        "colab": {}
      },
      "cell_type": "code",
      "source": [
        "with open('/content/gdrive/My Drive/class_tables/loan_wrangled_week3.csv', 'r') as f:\n",
        "  loan_table = pd.read_csv(f)"
      ],
      "execution_count": 0,
      "outputs": []
    },
    {
      "metadata": {
        "id": "m3Kedy38fkPI",
        "colab_type": "code",
        "colab": {}
      },
      "cell_type": "code",
      "source": [
        "with open('/content/gdrive/My Drive/class_tables/loan_results_week2.csv', 'r') as f:\n",
        "  loan_results = pd.read_csv(f)"
      ],
      "execution_count": 0,
      "outputs": []
    },
    {
      "metadata": {
        "id": "6XSj7d7Kf8G2",
        "colab_type": "code",
        "colab": {}
      },
      "cell_type": "code",
      "source": [
        "!rm library_w19_week4.py"
      ],
      "execution_count": 0,
      "outputs": []
    },
    {
      "metadata": {
        "id": "1miQZtPRfksk",
        "colab_type": "code",
        "outputId": "cc12a009-2dc1-41df-c125-2d98274c26b7",
        "colab": {
          "resources": {
            "http://localhost:8080/nbextensions/google.colab/files.js": {
              "data": "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",
              "ok": true,
              "headers": [
                [
                  "content-type",
                  "application/javascript"
                ]
              ],
              "status": 200,
              "status_text": ""
            }
          },
          "base_uri": "https://localhost:8080/",
          "height": 110
        }
      },
      "cell_type": "code",
      "source": [
        "from google.colab import files\n",
        "files.upload()"
      ],
      "execution_count": 5,
      "outputs": [
        {
          "output_type": "display_data",
          "data": {
            "text/html": [
              "\n",
              "     <input type=\"file\" id=\"files-f655ed19-db17-4a02-b87f-7d9d54c908e7\" name=\"files[]\" multiple disabled />\n",
              "     <output id=\"result-f655ed19-db17-4a02-b87f-7d9d54c908e7\">\n",
              "      Upload widget is only available when the cell has been executed in the\n",
              "      current browser session. Please rerun this cell to enable.\n",
              "      </output>\n",
              "      <script src=\"/nbextensions/google.colab/files.js\"></script> "
            ],
            "text/plain": [
              "<IPython.core.display.HTML object>"
            ]
          },
          "metadata": {
            "tags": []
          }
        },
        {
          "output_type": "stream",
          "text": [
            "Saving library_w19_week4.py to library_w19_week4.py\n"
          ],
          "name": "stdout"
        },
        {
          "output_type": "execute_result",
          "data": {
            "text/plain": [
              "{'library_w19_week4.py': b'def predictor_case(row, pred, target):\\r\\n  case_dict = {(0,0): \\'true_negative\\', (1,1): \\'true_positive\\', (0,1): \\'false_negative\\', (1,0): \\'false_positive\\'}\\r\\n  actual = row[target]\\r\\n  prediction = row[pred]\\r\\n  case = case_dict[(prediction, actual)]\\r\\n  return case\\r\\n\\r\\ndef informedness(cases):\\r\\n\\ttp = cases[\\'true_positive\\']\\r\\n\\tfn = cases[\\'false_negative\\']\\r\\n\\ttn = cases[\\'true_negative\\']\\r\\n\\tfp = cases[\\'false_positive\\']\\r\\n\\trecall = 1.0*tp/(tp+fn)\\r\\n\\tspecificity = 1.0*tn/(tn+fp)\\r\\n\\tJ = (recall + specificity) - 1\\r\\n\\treturn J\\r\\n\\r\\ndef accuracy(cases):\\r\\n  tp = cases[\\'true_positive\\']\\r\\n  tn = cases[\\'true_negative\\']\\r\\n  fp = cases[\\'false_positive\\']\\r\\n  fn = cases[\\'false_negative\\']\\r\\n  return (tp + tn)/(tp+tn+fp+fn)\\r\\n\\r\\ndef f1(cases):\\r\\n\\t\\r\\n\\t#the heart of the matrix\\r\\n\\ttp = cases[\\'true_positive\\']\\r\\n\\tfn = cases[\\'false_negative\\']\\r\\n\\ttn = cases[\\'true_negative\\']\\r\\n\\tfp = cases[\\'false_positive\\']\\r\\n\\t\\r\\n\\t#other measures we can derive\\r\\n\\trecall = 1.0*tp/(tp+fn)  # positive correct divided by total positive in the table\\r\\n\\tprecision = 1.0*tp/(tp+fp) # positive correct divided by all positive predictions made\\r\\n\\t\\r\\n\\t#now for the one we want\\r\\n\\tf1 = 2/(1/recall + 1/precision)\\r\\n\\t\\r\\n\\treturn f1\\r\\n\\r\\ndef gig(starting_table, split_column, target_column):\\r\\n    \\r\\n    #split into two branches, i.e., two sub-tables\\r\\n    true_table = starting_table.loc[starting_table[split_column] == 1]\\r\\n    false_table = starting_table.loc[starting_table[split_column] == 0]\\r\\n    \\r\\n    #Now see how the target column is divided up in each sub-table (and the starting table)\\r\\n    true_counts = true_table[target_column].value_counts()  # Note using true_table and not starting_table\\r\\n    false_counts = false_table[target_column].value_counts()  # Note using false_table and not starting_table\\r\\n    starting_counts = starting_table[target_column].value_counts() \\r\\n    \\r\\n    #compute the gini impurity for the 3 tables\\r\\n    starting_gini = gini(starting_counts)\\r\\n    true_gini = gini(true_counts)\\r\\n    false_gini = gini(false_counts)\\r\\n\\r\\n    #compute the weights\\r\\n    starting_size = len(starting_table.index)\\r\\n    true_weight = 0.0 if starting_size == 0 else len(true_table.index)/starting_size\\r\\n    false_weight = 0.0 if starting_size == 0 else len(false_table.index)/starting_size\\r\\n    \\r\\n    #wrap it up and put on a bow\\r\\n    gig = starting_gini - (true_weight * true_gini + false_weight * false_gini)\\r\\n    \\r\\n    return gig\\r\\n\\r\\ndef gini(counts):\\r\\n    (p0,p1) = probabilities(counts)\\r\\n    sum_probs = p0**2 + p1**2\\r\\n    gini = 1 - sum_probs\\r\\n    return gini\\r\\n\\r\\ndef probabilities(counts):\\r\\n    count_0 = 0 if 0 not in counts else counts[0]  #could have no 0 values\\r\\n    count_1 = 0 if 1 not in counts else counts[1]\\r\\n    total = count_0 + count_1\\r\\n    probs = (0,0) if total == 0 else (count_0/total, count_1/total)  #build 2-tuple\\r\\n    return probs\\r\\n\\r\\ndef build_pred(column, branch):\\r\\n    return lambda row: row[column] == branch\\r\\n\\r\\ndef find_best_splitter(table, choice_list, target):\\r\\n  \\r\\n    assert (len(table)>0),\"Cannot split empty table\"\\r\\n    assert (target in table),\"Target must be column in table\"\\r\\n    \\r\\n    gig_scores = map(lambda col: (col, gig(table, col, target)), choice_list)  #compute tuple (col, gig) for each column\\r\\n    gig_sorted = sorted(gig_scores, key=lambda item: item[1], reverse=True)  # sort on gig\\r\\n    return gig_sorted\\r\\n\\r\\nfrom functools import reduce\\r\\n\\r\\ndef generate_table(table, conjunction):\\r\\n  \\r\\n    assert (len(table)>0),\"Cannot generate from empty table\"\\r\\n\\r\\n    sub_table = reduce(lambda subtable, pair: subtable.loc[pair[1]], conjunction, table)\\r\\n    return sub_table\\r\\n\\r\\ndef compute_prediction(table, target):\\r\\n  \\r\\n    assert (len(table)>0),\"Cannot predict from empty table\"\\r\\n    assert (target in table),\"Target must be column in table\"\\r\\n    \\r\\n    counts = table[target].value_counts()  # counts looks like {0: v1, 1: v2}\\r\\n\\r\\n    if 0 not in counts:\\r\\n        prediction = 1\\r\\n    elif 1 not in counts:\\r\\n        prediction = 0\\r\\n    elif counts[1] > counts[0]:  # ties go to 0 (negative)\\r\\n        prediction = 1\\r\\n    else:\\r\\n        prediction = 0\\r\\n\\r\\n    return prediction\\r\\n\\r\\ndef build_tree_iter(table, choices, target, hypers={} ):\\r\\n\\r\\n    assert (len(choices)>0),\"Must have at least one column in choices\"\\r\\n    assert (target in table), \"Target column not in table\"\\r\\n    assert (len(table) > 1), \"Table must have more than 1 row\"\\r\\n    \\r\\n    k = hypers[\\'max-depth\\'] if \\'max-depth\\' in hypers else min(4, len(choices))\\r\\n    gig_cutoff = hypers[\\'gig-cutoff\\'] if \\'gig-cutoff\\' in hypers else 0.0\\r\\n    \\r\\n    def iterative_build(k):\\r\\n        columns_sorted = find_best_splitter(table, choices, target)\\r\\n        (best_column, gig_value) = columns_sorted[0]\\r\\n        \\r\\n        #Note I add _1 or _0 to make it more readable for debugging\\r\\n        current_paths = [{\\'conjunction\\': [(best_column+\\'_1\\', build_pred(best_column, 1))],\\r\\n                          \\'prediction\\': None,\\r\\n                          \\'gig_score\\': gig_value},\\r\\n                         {\\'conjunction\\': [(best_column+\\'_0\\', build_pred(best_column, 0))],\\r\\n                          \\'prediction\\': None,\\r\\n                          \\'gig_score\\': gig_value}\\r\\n                        ]\\r\\n        k -= 1  # we just built a level as seed so subtract 1 from k\\r\\n        tree_paths = []  # add completed paths here\\r\\n        \\r\\n        while k>0:\\r\\n            new_paths = []\\r\\n            for path in current_paths:\\r\\n                old_conjunction = path[\\'conjunction\\']  # a list of (name, lambda)\\r\\n                before_table = generate_table(table, old_conjunction)  #the subtable the current conjunct leads to\\r\\n                columns_sorted = find_best_splitter(before_table, choices, target)\\r\\n                (best_column, gig_value) = columns_sorted[0]\\r\\n                if gig_value > gig_cutoff:\\r\\n                    new_path_1 = {\\'conjunction\\': old_conjunction + [(best_column+\\'_1\\', build_pred(best_column, 1))],\\r\\n                                \\'prediction\\': None,\\r\\n                                 \\'gig_score\\': gig_value}\\r\\n                    new_paths.append( new_path_1 ) #true\\r\\n                    new_path_0 = {\\'conjunction\\': old_conjunction + [(best_column+\\'_0\\', build_pred(best_column, 0))],\\r\\n                                \\'prediction\\': None,\\r\\n                                 \\'gig_score\\': gig_value}\\r\\n                    new_paths.append( new_path_0 ) #false\\r\\n                else:\\r\\n                    #not worth splitting so complete the path with a prediction\\r\\n                    path[\\'prediction\\'] = compute_prediction(before_table, target)\\r\\n                    tree_paths.append(path)\\r\\n            #end for loop\\r\\n            \\r\\n            current_paths = new_paths\\r\\n            if current_paths != []:\\r\\n                k -= 1\\r\\n            else:\\r\\n                break  # nothing left to extend so have copied all paths to tree_paths\\r\\n        #end while loop\\r\\n\\r\\n        #Generate predictions for all paths that have None\\r\\n        for path in current_paths:\\r\\n            conjunction = path[\\'conjunction\\']\\r\\n            before_table = generate_table(table, conjunction)\\r\\n            path[\\'prediction\\'] = compute_prediction(before_table, target)\\r\\n            tree_paths.append(path)\\r\\n        return tree_paths\\r\\n\\r\\n    return {\\'paths\\': iterative_build(k), \\'weight\\': None}\\r\\n\\r\\ndef tree_predictor(row, tree):\\r\\n    \\r\\n    #go through each path, one by one (could use a map instead of for loop?)\\r\\n    for path in tree[\\'paths\\']:\\r\\n        conjuncts = path[\\'conjunction\\']\\r\\n        result = map(lambda tuple: tuple[1](row), conjuncts)  # potential to be parallelized\\r\\n        if all(result):\\r\\n            return path[\\'prediction\\']\\r\\n    raise LookupError(\\'No true paths found for row: \\' + str(row))\\r\\n\\r\\n'}"
            ]
          },
          "metadata": {
            "tags": []
          },
          "execution_count": 5
        }
      ]
    },
    {
      "metadata": {
        "id": "_5bTdr8qf63i",
        "colab_type": "code",
        "outputId": "fbb97919-3b34-44b4-f213-23bc40314d25",
        "colab": {
          "base_uri": "https://localhost:8080/",
          "height": 50
        }
      },
      "cell_type": "code",
      "source": [
        "from library_w19_week4 import *\n",
        "%who function"
      ],
      "execution_count": 6,
      "outputs": [
        {
          "output_type": "stream",
          "text": [
            "accuracy\t build_pred\t build_tree_iter\t compute_prediction\t f1\t find_best_splitter\t generate_table\t gig\t gini\t \n",
            "informedness\t predictor_case\t probabilities\t tree_predictor\t \n"
          ],
          "name": "stdout"
        }
      ]
    },
    {
      "metadata": {
        "scrolled": true,
        "id": "ztfR-1BO2Tu8",
        "colab_type": "code",
        "outputId": "a066ba21-1c60-4eaf-afde-29ceb20f6d6d",
        "colab": {
          "base_uri": "https://localhost:8080/",
          "height": 232
        }
      },
      "cell_type": "code",
      "source": [
        "pd.set_option('display.max_columns', None)\n",
        "loan_table.head()"
      ],
      "execution_count": 7,
      "outputs": [
        {
          "output_type": "execute_result",
          "data": {
            "text/html": [
              "<div>\n",
              "<style scoped>\n",
              "    .dataframe tbody tr th:only-of-type {\n",
              "        vertical-align: middle;\n",
              "    }\n",
              "\n",
              "    .dataframe tbody tr th {\n",
              "        vertical-align: top;\n",
              "    }\n",
              "\n",
              "    .dataframe thead th {\n",
              "        text-align: right;\n",
              "    }\n",
              "</style>\n",
              "<table border=\"1\" class=\"dataframe\">\n",
              "  <thead>\n",
              "    <tr style=\"text-align: right;\">\n",
              "      <th></th>\n",
              "      <th>Gender</th>\n",
              "      <th>Married</th>\n",
              "      <th>Dependents</th>\n",
              "      <th>Education</th>\n",
              "      <th>Self_Employed</th>\n",
              "      <th>ApplicantIncome</th>\n",
              "      <th>CoapplicantIncome</th>\n",
              "      <th>LoanAmount</th>\n",
              "      <th>Loan_Amount_Term</th>\n",
              "      <th>Credit_History</th>\n",
              "      <th>Property_Area</th>\n",
              "      <th>Loan_Status</th>\n",
              "      <th>no_lam</th>\n",
              "      <th>filled_lam</th>\n",
              "      <th>pa_Rural</th>\n",
              "      <th>pa_Semiurban</th>\n",
              "      <th>pa_Urban</th>\n",
              "      <th>pa_nan</th>\n",
              "      <th>lam_bin</th>\n",
              "      <th>lam_Low</th>\n",
              "      <th>lam_Average</th>\n",
              "      <th>lam_High</th>\n",
              "      <th>ch_bad</th>\n",
              "      <th>ch_good</th>\n",
              "      <th>ch_nan</th>\n",
              "      <th>apin_binned</th>\n",
              "      <th>apin_low</th>\n",
              "      <th>apin_average</th>\n",
              "      <th>apin_high</th>\n",
              "      <th>apin_nan</th>\n",
              "    </tr>\n",
              "  </thead>\n",
              "  <tbody>\n",
              "    <tr>\n",
              "      <th>0</th>\n",
              "      <td>Male</td>\n",
              "      <td>No</td>\n",
              "      <td>0</td>\n",
              "      <td>Graduate</td>\n",
              "      <td>No</td>\n",
              "      <td>5849</td>\n",
              "      <td>0.0</td>\n",
              "      <td>NaN</td>\n",
              "      <td>360.0</td>\n",
              "      <td>1.0</td>\n",
              "      <td>Urban</td>\n",
              "      <td>1</td>\n",
              "      <td>1</td>\n",
              "      <td>146.412162</td>\n",
              "      <td>0</td>\n",
              "      <td>0</td>\n",
              "      <td>1</td>\n",
              "      <td>0</td>\n",
              "      <td>Low</td>\n",
              "      <td>1</td>\n",
              "      <td>0</td>\n",
              "      <td>0</td>\n",
              "      <td>0</td>\n",
              "      <td>1</td>\n",
              "      <td>0</td>\n",
              "      <td>low</td>\n",
              "      <td>1</td>\n",
              "      <td>0</td>\n",
              "      <td>0</td>\n",
              "      <td>0</td>\n",
              "    </tr>\n",
              "    <tr>\n",
              "      <th>1</th>\n",
              "      <td>Male</td>\n",
              "      <td>Yes</td>\n",
              "      <td>1</td>\n",
              "      <td>Graduate</td>\n",
              "      <td>No</td>\n",
              "      <td>4583</td>\n",
              "      <td>1508.0</td>\n",
              "      <td>128.0</td>\n",
              "      <td>360.0</td>\n",
              "      <td>1.0</td>\n",
              "      <td>Rural</td>\n",
              "      <td>0</td>\n",
              "      <td>0</td>\n",
              "      <td>128.000000</td>\n",
              "      <td>1</td>\n",
              "      <td>0</td>\n",
              "      <td>0</td>\n",
              "      <td>0</td>\n",
              "      <td>Low</td>\n",
              "      <td>1</td>\n",
              "      <td>0</td>\n",
              "      <td>0</td>\n",
              "      <td>0</td>\n",
              "      <td>1</td>\n",
              "      <td>0</td>\n",
              "      <td>low</td>\n",
              "      <td>1</td>\n",
              "      <td>0</td>\n",
              "      <td>0</td>\n",
              "      <td>0</td>\n",
              "    </tr>\n",
              "    <tr>\n",
              "      <th>2</th>\n",
              "      <td>Male</td>\n",
              "      <td>Yes</td>\n",
              "      <td>0</td>\n",
              "      <td>Graduate</td>\n",
              "      <td>Yes</td>\n",
              "      <td>3000</td>\n",
              "      <td>0.0</td>\n",
              "      <td>66.0</td>\n",
              "      <td>360.0</td>\n",
              "      <td>1.0</td>\n",
              "      <td>Urban</td>\n",
              "      <td>1</td>\n",
              "      <td>0</td>\n",
              "      <td>66.000000</td>\n",
              "      <td>0</td>\n",
              "      <td>0</td>\n",
              "      <td>1</td>\n",
              "      <td>0</td>\n",
              "      <td>Low</td>\n",
              "      <td>1</td>\n",
              "      <td>0</td>\n",
              "      <td>0</td>\n",
              "      <td>0</td>\n",
              "      <td>1</td>\n",
              "      <td>0</td>\n",
              "      <td>low</td>\n",
              "      <td>1</td>\n",
              "      <td>0</td>\n",
              "      <td>0</td>\n",
              "      <td>0</td>\n",
              "    </tr>\n",
              "    <tr>\n",
              "      <th>3</th>\n",
              "      <td>Male</td>\n",
              "      <td>Yes</td>\n",
              "      <td>0</td>\n",
              "      <td>Not Graduate</td>\n",
              "      <td>No</td>\n",
              "      <td>2583</td>\n",
              "      <td>2358.0</td>\n",
              "      <td>120.0</td>\n",
              "      <td>360.0</td>\n",
              "      <td>1.0</td>\n",
              "      <td>Urban</td>\n",
              "      <td>1</td>\n",
              "      <td>0</td>\n",
              "      <td>120.000000</td>\n",
              "      <td>0</td>\n",
              "      <td>0</td>\n",
              "      <td>1</td>\n",
              "      <td>0</td>\n",
              "      <td>Low</td>\n",
              "      <td>1</td>\n",
              "      <td>0</td>\n",
              "      <td>0</td>\n",
              "      <td>0</td>\n",
              "      <td>1</td>\n",
              "      <td>0</td>\n",
              "      <td>low</td>\n",
              "      <td>1</td>\n",
              "      <td>0</td>\n",
              "      <td>0</td>\n",
              "      <td>0</td>\n",
              "    </tr>\n",
              "    <tr>\n",
              "      <th>4</th>\n",
              "      <td>Male</td>\n",
              "      <td>No</td>\n",
              "      <td>0</td>\n",
              "      <td>Graduate</td>\n",
              "      <td>No</td>\n",
              "      <td>6000</td>\n",
              "      <td>0.0</td>\n",
              "      <td>141.0</td>\n",
              "      <td>360.0</td>\n",
              "      <td>1.0</td>\n",
              "      <td>Urban</td>\n",
              "      <td>1</td>\n",
              "      <td>0</td>\n",
              "      <td>141.000000</td>\n",
              "      <td>0</td>\n",
              "      <td>0</td>\n",
              "      <td>1</td>\n",
              "      <td>0</td>\n",
              "      <td>Low</td>\n",
              "      <td>1</td>\n",
              "      <td>0</td>\n",
              "      <td>0</td>\n",
              "      <td>0</td>\n",
              "      <td>1</td>\n",
              "      <td>0</td>\n",
              "      <td>low</td>\n",
              "      <td>1</td>\n",
              "      <td>0</td>\n",
              "      <td>0</td>\n",
              "      <td>0</td>\n",
              "    </tr>\n",
              "  </tbody>\n",
              "</table>\n",
              "</div>"
            ],
            "text/plain": [
              "  Gender Married Dependents     Education Self_Employed  ApplicantIncome  \\\n",
              "0   Male      No          0      Graduate            No             5849   \n",
              "1   Male     Yes          1      Graduate            No             4583   \n",
              "2   Male     Yes          0      Graduate           Yes             3000   \n",
              "3   Male     Yes          0  Not Graduate            No             2583   \n",
              "4   Male      No          0      Graduate            No             6000   \n",
              "\n",
              "   CoapplicantIncome  LoanAmount  Loan_Amount_Term  Credit_History  \\\n",
              "0                0.0         NaN             360.0             1.0   \n",
              "1             1508.0       128.0             360.0             1.0   \n",
              "2                0.0        66.0             360.0             1.0   \n",
              "3             2358.0       120.0             360.0             1.0   \n",
              "4                0.0       141.0             360.0             1.0   \n",
              "\n",
              "  Property_Area  Loan_Status  no_lam  filled_lam  pa_Rural  pa_Semiurban  \\\n",
              "0         Urban            1       1  146.412162         0             0   \n",
              "1         Rural            0       0  128.000000         1             0   \n",
              "2         Urban            1       0   66.000000         0             0   \n",
              "3         Urban            1       0  120.000000         0             0   \n",
              "4         Urban            1       0  141.000000         0             0   \n",
              "\n",
              "   pa_Urban  pa_nan lam_bin  lam_Low  lam_Average  lam_High  ch_bad  ch_good  \\\n",
              "0         1       0     Low        1            0         0       0        1   \n",
              "1         0       0     Low        1            0         0       0        1   \n",
              "2         1       0     Low        1            0         0       0        1   \n",
              "3         1       0     Low        1            0         0       0        1   \n",
              "4         1       0     Low        1            0         0       0        1   \n",
              "\n",
              "   ch_nan apin_binned  apin_low  apin_average  apin_high  apin_nan  \n",
              "0       0         low         1             0          0         0  \n",
              "1       0         low         1             0          0         0  \n",
              "2       0         low         1             0          0         0  \n",
              "3       0         low         1             0          0         0  \n",
              "4       0         low         1             0          0         0  "
            ]
          },
          "metadata": {
            "tags": []
          },
          "execution_count": 7
        }
      ]
    },
    {
      "metadata": {
        "id": "y_BkESex2TvB",
        "colab_type": "code",
        "outputId": "9f3151a5-ef44-4526-8dfc-c5a98d576a9c",
        "colab": {
          "base_uri": "https://localhost:8080/",
          "height": 134
        }
      },
      "cell_type": "code",
      "source": [
        "loan_table.columns.values"
      ],
      "execution_count": 8,
      "outputs": [
        {
          "output_type": "execute_result",
          "data": {
            "text/plain": [
              "array(['Gender', 'Married', 'Dependents', 'Education', 'Self_Employed',\n",
              "       'ApplicantIncome', 'CoapplicantIncome', 'LoanAmount',\n",
              "       'Loan_Amount_Term', 'Credit_History', 'Property_Area',\n",
              "       'Loan_Status', 'no_lam', 'filled_lam', 'pa_Rural', 'pa_Semiurban',\n",
              "       'pa_Urban', 'pa_nan', 'lam_bin', 'lam_Low', 'lam_Average',\n",
              "       'lam_High', 'ch_bad', 'ch_good', 'ch_nan', 'apin_binned',\n",
              "       'apin_low', 'apin_average', 'apin_high', 'apin_nan'], dtype=object)"
            ]
          },
          "metadata": {
            "tags": []
          },
          "execution_count": 8
        }
      ]
    },
    {
      "metadata": {
        "id": "hgqAyLO6SLSP",
        "colab_type": "text"
      },
      "cell_type": "markdown",
      "source": [
        "<hr>\n",
        "<h1>\n",
        "1: OHE Dependents\n",
        "</h1>\n",
        "If you take a look at the Dependents column below, you will see that it is viewed as a categorical column with 4 unique values. So we should be able to use get_dummies on it."
      ]
    },
    {
      "metadata": {
        "id": "dksdERWQRoXx",
        "colab_type": "code",
        "outputId": "bf3fdee0-3e01-41de-8873-e90ce0f8ae57",
        "colab": {
          "base_uri": "https://localhost:8080/",
          "height": 393
        }
      },
      "cell_type": "code",
      "source": [
        "loan_table.describe(include='all')"
      ],
      "execution_count": 9,
      "outputs": [
        {
          "output_type": "execute_result",
          "data": {
            "text/html": [
              "<div>\n",
              "<style scoped>\n",
              "    .dataframe tbody tr th:only-of-type {\n",
              "        vertical-align: middle;\n",
              "    }\n",
              "\n",
              "    .dataframe tbody tr th {\n",
              "        vertical-align: top;\n",
              "    }\n",
              "\n",
              "    .dataframe thead th {\n",
              "        text-align: right;\n",
              "    }\n",
              "</style>\n",
              "<table border=\"1\" class=\"dataframe\">\n",
              "  <thead>\n",
              "    <tr style=\"text-align: right;\">\n",
              "      <th></th>\n",
              "      <th>Gender</th>\n",
              "      <th>Married</th>\n",
              "      <th>Dependents</th>\n",
              "      <th>Education</th>\n",
              "      <th>Self_Employed</th>\n",
              "      <th>ApplicantIncome</th>\n",
              "      <th>CoapplicantIncome</th>\n",
              "      <th>LoanAmount</th>\n",
              "      <th>Loan_Amount_Term</th>\n",
              "      <th>Credit_History</th>\n",
              "      <th>Property_Area</th>\n",
              "      <th>Loan_Status</th>\n",
              "      <th>no_lam</th>\n",
              "      <th>filled_lam</th>\n",
              "      <th>pa_Rural</th>\n",
              "      <th>pa_Semiurban</th>\n",
              "      <th>pa_Urban</th>\n",
              "      <th>pa_nan</th>\n",
              "      <th>lam_bin</th>\n",
              "      <th>lam_Low</th>\n",
              "      <th>lam_Average</th>\n",
              "      <th>lam_High</th>\n",
              "      <th>ch_bad</th>\n",
              "      <th>ch_good</th>\n",
              "      <th>ch_nan</th>\n",
              "      <th>apin_binned</th>\n",
              "      <th>apin_low</th>\n",
              "      <th>apin_average</th>\n",
              "      <th>apin_high</th>\n",
              "      <th>apin_nan</th>\n",
              "    </tr>\n",
              "  </thead>\n",
              "  <tbody>\n",
              "    <tr>\n",
              "      <th>count</th>\n",
              "      <td>601</td>\n",
              "      <td>611</td>\n",
              "      <td>599</td>\n",
              "      <td>614</td>\n",
              "      <td>582</td>\n",
              "      <td>614.000000</td>\n",
              "      <td>614.000000</td>\n",
              "      <td>592.000000</td>\n",
              "      <td>600.00000</td>\n",
              "      <td>564.000000</td>\n",
              "      <td>614</td>\n",
              "      <td>614.000000</td>\n",
              "      <td>614.000000</td>\n",
              "      <td>614.000000</td>\n",
              "      <td>614.000000</td>\n",
              "      <td>614.000000</td>\n",
              "      <td>614.000000</td>\n",
              "      <td>614.0</td>\n",
              "      <td>614</td>\n",
              "      <td>614.000000</td>\n",
              "      <td>614.000000</td>\n",
              "      <td>614.000000</td>\n",
              "      <td>614.000000</td>\n",
              "      <td>614.000000</td>\n",
              "      <td>614.000000</td>\n",
              "      <td>614</td>\n",
              "      <td>614.000000</td>\n",
              "      <td>614.000000</td>\n",
              "      <td>614.000000</td>\n",
              "      <td>614.0</td>\n",
              "    </tr>\n",
              "    <tr>\n",
              "      <th>unique</th>\n",
              "      <td>2</td>\n",
              "      <td>2</td>\n",
              "      <td>4</td>\n",
              "      <td>2</td>\n",
              "      <td>2</td>\n",
              "      <td>NaN</td>\n",
              "      <td>NaN</td>\n",
              "      <td>NaN</td>\n",
              "      <td>NaN</td>\n",
              "      <td>NaN</td>\n",
              "      <td>3</td>\n",
              "      <td>NaN</td>\n",
              "      <td>NaN</td>\n",
              "      <td>NaN</td>\n",
              "      <td>NaN</td>\n",
              "      <td>NaN</td>\n",
              "      <td>NaN</td>\n",
              "      <td>NaN</td>\n",
              "      <td>3</td>\n",
              "      <td>NaN</td>\n",
              "      <td>NaN</td>\n",
              "      <td>NaN</td>\n",
              "      <td>NaN</td>\n",
              "      <td>NaN</td>\n",
              "      <td>NaN</td>\n",
              "      <td>3</td>\n",
              "      <td>NaN</td>\n",
              "      <td>NaN</td>\n",
              "      <td>NaN</td>\n",
              "      <td>NaN</td>\n",
              "    </tr>\n",
              "    <tr>\n",
              "      <th>top</th>\n",
              "      <td>Male</td>\n",
              "      <td>Yes</td>\n",
              "      <td>0</td>\n",
              "      <td>Graduate</td>\n",
              "      <td>No</td>\n",
              "      <td>NaN</td>\n",
              "      <td>NaN</td>\n",
              "      <td>NaN</td>\n",
              "      <td>NaN</td>\n",
              "      <td>NaN</td>\n",
              "      <td>Semiurban</td>\n",
              "      <td>NaN</td>\n",
              "      <td>NaN</td>\n",
              "      <td>NaN</td>\n",
              "      <td>NaN</td>\n",
              "      <td>NaN</td>\n",
              "      <td>NaN</td>\n",
              "      <td>NaN</td>\n",
              "      <td>Low</td>\n",
              "      <td>NaN</td>\n",
              "      <td>NaN</td>\n",
              "      <td>NaN</td>\n",
              "      <td>NaN</td>\n",
              "      <td>NaN</td>\n",
              "      <td>NaN</td>\n",
              "      <td>low</td>\n",
              "      <td>NaN</td>\n",
              "      <td>NaN</td>\n",
              "      <td>NaN</td>\n",
              "      <td>NaN</td>\n",
              "    </tr>\n",
              "    <tr>\n",
              "      <th>freq</th>\n",
              "      <td>489</td>\n",
              "      <td>398</td>\n",
              "      <td>345</td>\n",
              "      <td>480</td>\n",
              "      <td>500</td>\n",
              "      <td>NaN</td>\n",
              "      <td>NaN</td>\n",
              "      <td>NaN</td>\n",
              "      <td>NaN</td>\n",
              "      <td>NaN</td>\n",
              "      <td>233</td>\n",
              "      <td>NaN</td>\n",
              "      <td>NaN</td>\n",
              "      <td>NaN</td>\n",
              "      <td>NaN</td>\n",
              "      <td>NaN</td>\n",
              "      <td>NaN</td>\n",
              "      <td>NaN</td>\n",
              "      <td>556</td>\n",
              "      <td>NaN</td>\n",
              "      <td>NaN</td>\n",
              "      <td>NaN</td>\n",
              "      <td>NaN</td>\n",
              "      <td>NaN</td>\n",
              "      <td>NaN</td>\n",
              "      <td>607</td>\n",
              "      <td>NaN</td>\n",
              "      <td>NaN</td>\n",
              "      <td>NaN</td>\n",
              "      <td>NaN</td>\n",
              "    </tr>\n",
              "    <tr>\n",
              "      <th>mean</th>\n",
              "      <td>NaN</td>\n",
              "      <td>NaN</td>\n",
              "      <td>NaN</td>\n",
              "      <td>NaN</td>\n",
              "      <td>NaN</td>\n",
              "      <td>5403.459283</td>\n",
              "      <td>1621.245798</td>\n",
              "      <td>146.412162</td>\n",
              "      <td>342.00000</td>\n",
              "      <td>0.842199</td>\n",
              "      <td>NaN</td>\n",
              "      <td>0.687296</td>\n",
              "      <td>0.035831</td>\n",
              "      <td>146.412162</td>\n",
              "      <td>0.291531</td>\n",
              "      <td>0.379479</td>\n",
              "      <td>0.328990</td>\n",
              "      <td>0.0</td>\n",
              "      <td>NaN</td>\n",
              "      <td>0.905537</td>\n",
              "      <td>0.074919</td>\n",
              "      <td>0.019544</td>\n",
              "      <td>0.144951</td>\n",
              "      <td>0.773616</td>\n",
              "      <td>0.081433</td>\n",
              "      <td>NaN</td>\n",
              "      <td>0.988599</td>\n",
              "      <td>0.008143</td>\n",
              "      <td>0.003257</td>\n",
              "      <td>0.0</td>\n",
              "    </tr>\n",
              "    <tr>\n",
              "      <th>std</th>\n",
              "      <td>NaN</td>\n",
              "      <td>NaN</td>\n",
              "      <td>NaN</td>\n",
              "      <td>NaN</td>\n",
              "      <td>NaN</td>\n",
              "      <td>6109.041673</td>\n",
              "      <td>2926.248369</td>\n",
              "      <td>85.587325</td>\n",
              "      <td>65.12041</td>\n",
              "      <td>0.364878</td>\n",
              "      <td>NaN</td>\n",
              "      <td>0.463973</td>\n",
              "      <td>0.186019</td>\n",
              "      <td>84.037468</td>\n",
              "      <td>0.454838</td>\n",
              "      <td>0.485653</td>\n",
              "      <td>0.470229</td>\n",
              "      <td>0.0</td>\n",
              "      <td>NaN</td>\n",
              "      <td>0.292710</td>\n",
              "      <td>0.263475</td>\n",
              "      <td>0.138540</td>\n",
              "      <td>0.352339</td>\n",
              "      <td>0.418832</td>\n",
              "      <td>0.273722</td>\n",
              "      <td>NaN</td>\n",
              "      <td>0.106250</td>\n",
              "      <td>0.089945</td>\n",
              "      <td>0.057026</td>\n",
              "      <td>0.0</td>\n",
              "    </tr>\n",
              "    <tr>\n",
              "      <th>min</th>\n",
              "      <td>NaN</td>\n",
              "      <td>NaN</td>\n",
              "      <td>NaN</td>\n",
              "      <td>NaN</td>\n",
              "      <td>NaN</td>\n",
              "      <td>150.000000</td>\n",
              "      <td>0.000000</td>\n",
              "      <td>9.000000</td>\n",
              "      <td>12.00000</td>\n",
              "      <td>0.000000</td>\n",
              "      <td>NaN</td>\n",
              "      <td>0.000000</td>\n",
              "      <td>0.000000</td>\n",
              "      <td>9.000000</td>\n",
              "      <td>0.000000</td>\n",
              "      <td>0.000000</td>\n",
              "      <td>0.000000</td>\n",
              "      <td>0.0</td>\n",
              "      <td>NaN</td>\n",
              "      <td>0.000000</td>\n",
              "      <td>0.000000</td>\n",
              "      <td>0.000000</td>\n",
              "      <td>0.000000</td>\n",
              "      <td>0.000000</td>\n",
              "      <td>0.000000</td>\n",
              "      <td>NaN</td>\n",
              "      <td>0.000000</td>\n",
              "      <td>0.000000</td>\n",
              "      <td>0.000000</td>\n",
              "      <td>0.0</td>\n",
              "    </tr>\n",
              "    <tr>\n",
              "      <th>25%</th>\n",
              "      <td>NaN</td>\n",
              "      <td>NaN</td>\n",
              "      <td>NaN</td>\n",
              "      <td>NaN</td>\n",
              "      <td>NaN</td>\n",
              "      <td>2877.500000</td>\n",
              "      <td>0.000000</td>\n",
              "      <td>100.000000</td>\n",
              "      <td>360.00000</td>\n",
              "      <td>1.000000</td>\n",
              "      <td>NaN</td>\n",
              "      <td>0.000000</td>\n",
              "      <td>0.000000</td>\n",
              "      <td>100.250000</td>\n",
              "      <td>0.000000</td>\n",
              "      <td>0.000000</td>\n",
              "      <td>0.000000</td>\n",
              "      <td>0.0</td>\n",
              "      <td>NaN</td>\n",
              "      <td>1.000000</td>\n",
              "      <td>0.000000</td>\n",
              "      <td>0.000000</td>\n",
              "      <td>0.000000</td>\n",
              "      <td>1.000000</td>\n",
              "      <td>0.000000</td>\n",
              "      <td>NaN</td>\n",
              "      <td>1.000000</td>\n",
              "      <td>0.000000</td>\n",
              "      <td>0.000000</td>\n",
              "      <td>0.0</td>\n",
              "    </tr>\n",
              "    <tr>\n",
              "      <th>50%</th>\n",
              "      <td>NaN</td>\n",
              "      <td>NaN</td>\n",
              "      <td>NaN</td>\n",
              "      <td>NaN</td>\n",
              "      <td>NaN</td>\n",
              "      <td>3812.500000</td>\n",
              "      <td>1188.500000</td>\n",
              "      <td>128.000000</td>\n",
              "      <td>360.00000</td>\n",
              "      <td>1.000000</td>\n",
              "      <td>NaN</td>\n",
              "      <td>1.000000</td>\n",
              "      <td>0.000000</td>\n",
              "      <td>129.000000</td>\n",
              "      <td>0.000000</td>\n",
              "      <td>0.000000</td>\n",
              "      <td>0.000000</td>\n",
              "      <td>0.0</td>\n",
              "      <td>NaN</td>\n",
              "      <td>1.000000</td>\n",
              "      <td>0.000000</td>\n",
              "      <td>0.000000</td>\n",
              "      <td>0.000000</td>\n",
              "      <td>1.000000</td>\n",
              "      <td>0.000000</td>\n",
              "      <td>NaN</td>\n",
              "      <td>1.000000</td>\n",
              "      <td>0.000000</td>\n",
              "      <td>0.000000</td>\n",
              "      <td>0.0</td>\n",
              "    </tr>\n",
              "    <tr>\n",
              "      <th>75%</th>\n",
              "      <td>NaN</td>\n",
              "      <td>NaN</td>\n",
              "      <td>NaN</td>\n",
              "      <td>NaN</td>\n",
              "      <td>NaN</td>\n",
              "      <td>5795.000000</td>\n",
              "      <td>2297.250000</td>\n",
              "      <td>168.000000</td>\n",
              "      <td>360.00000</td>\n",
              "      <td>1.000000</td>\n",
              "      <td>NaN</td>\n",
              "      <td>1.000000</td>\n",
              "      <td>0.000000</td>\n",
              "      <td>164.750000</td>\n",
              "      <td>1.000000</td>\n",
              "      <td>1.000000</td>\n",
              "      <td>1.000000</td>\n",
              "      <td>0.0</td>\n",
              "      <td>NaN</td>\n",
              "      <td>1.000000</td>\n",
              "      <td>0.000000</td>\n",
              "      <td>0.000000</td>\n",
              "      <td>0.000000</td>\n",
              "      <td>1.000000</td>\n",
              "      <td>0.000000</td>\n",
              "      <td>NaN</td>\n",
              "      <td>1.000000</td>\n",
              "      <td>0.000000</td>\n",
              "      <td>0.000000</td>\n",
              "      <td>0.0</td>\n",
              "    </tr>\n",
              "    <tr>\n",
              "      <th>max</th>\n",
              "      <td>NaN</td>\n",
              "      <td>NaN</td>\n",
              "      <td>NaN</td>\n",
              "      <td>NaN</td>\n",
              "      <td>NaN</td>\n",
              "      <td>81000.000000</td>\n",
              "      <td>41667.000000</td>\n",
              "      <td>700.000000</td>\n",
              "      <td>480.00000</td>\n",
              "      <td>1.000000</td>\n",
              "      <td>NaN</td>\n",
              "      <td>1.000000</td>\n",
              "      <td>1.000000</td>\n",
              "      <td>700.000000</td>\n",
              "      <td>1.000000</td>\n",
              "      <td>1.000000</td>\n",
              "      <td>1.000000</td>\n",
              "      <td>0.0</td>\n",
              "      <td>NaN</td>\n",
              "      <td>1.000000</td>\n",
              "      <td>1.000000</td>\n",
              "      <td>1.000000</td>\n",
              "      <td>1.000000</td>\n",
              "      <td>1.000000</td>\n",
              "      <td>1.000000</td>\n",
              "      <td>NaN</td>\n",
              "      <td>1.000000</td>\n",
              "      <td>1.000000</td>\n",
              "      <td>1.000000</td>\n",
              "      <td>0.0</td>\n",
              "    </tr>\n",
              "  </tbody>\n",
              "</table>\n",
              "</div>"
            ],
            "text/plain": [
              "       Gender Married Dependents Education Self_Employed  ApplicantIncome  \\\n",
              "count     601     611        599       614           582       614.000000   \n",
              "unique      2       2          4         2             2              NaN   \n",
              "top      Male     Yes          0  Graduate            No              NaN   \n",
              "freq      489     398        345       480           500              NaN   \n",
              "mean      NaN     NaN        NaN       NaN           NaN      5403.459283   \n",
              "std       NaN     NaN        NaN       NaN           NaN      6109.041673   \n",
              "min       NaN     NaN        NaN       NaN           NaN       150.000000   \n",
              "25%       NaN     NaN        NaN       NaN           NaN      2877.500000   \n",
              "50%       NaN     NaN        NaN       NaN           NaN      3812.500000   \n",
              "75%       NaN     NaN        NaN       NaN           NaN      5795.000000   \n",
              "max       NaN     NaN        NaN       NaN           NaN     81000.000000   \n",
              "\n",
              "        CoapplicantIncome  LoanAmount  Loan_Amount_Term  Credit_History  \\\n",
              "count          614.000000  592.000000         600.00000      564.000000   \n",
              "unique                NaN         NaN               NaN             NaN   \n",
              "top                   NaN         NaN               NaN             NaN   \n",
              "freq                  NaN         NaN               NaN             NaN   \n",
              "mean          1621.245798  146.412162         342.00000        0.842199   \n",
              "std           2926.248369   85.587325          65.12041        0.364878   \n",
              "min              0.000000    9.000000          12.00000        0.000000   \n",
              "25%              0.000000  100.000000         360.00000        1.000000   \n",
              "50%           1188.500000  128.000000         360.00000        1.000000   \n",
              "75%           2297.250000  168.000000         360.00000        1.000000   \n",
              "max          41667.000000  700.000000         480.00000        1.000000   \n",
              "\n",
              "       Property_Area  Loan_Status      no_lam  filled_lam    pa_Rural  \\\n",
              "count            614   614.000000  614.000000  614.000000  614.000000   \n",
              "unique             3          NaN         NaN         NaN         NaN   \n",
              "top        Semiurban          NaN         NaN         NaN         NaN   \n",
              "freq             233          NaN         NaN         NaN         NaN   \n",
              "mean             NaN     0.687296    0.035831  146.412162    0.291531   \n",
              "std              NaN     0.463973    0.186019   84.037468    0.454838   \n",
              "min              NaN     0.000000    0.000000    9.000000    0.000000   \n",
              "25%              NaN     0.000000    0.000000  100.250000    0.000000   \n",
              "50%              NaN     1.000000    0.000000  129.000000    0.000000   \n",
              "75%              NaN     1.000000    0.000000  164.750000    1.000000   \n",
              "max              NaN     1.000000    1.000000  700.000000    1.000000   \n",
              "\n",
              "        pa_Semiurban    pa_Urban  pa_nan lam_bin     lam_Low  lam_Average  \\\n",
              "count     614.000000  614.000000   614.0     614  614.000000   614.000000   \n",
              "unique           NaN         NaN     NaN       3         NaN          NaN   \n",
              "top              NaN         NaN     NaN     Low         NaN          NaN   \n",
              "freq             NaN         NaN     NaN     556         NaN          NaN   \n",
              "mean        0.379479    0.328990     0.0     NaN    0.905537     0.074919   \n",
              "std         0.485653    0.470229     0.0     NaN    0.292710     0.263475   \n",
              "min         0.000000    0.000000     0.0     NaN    0.000000     0.000000   \n",
              "25%         0.000000    0.000000     0.0     NaN    1.000000     0.000000   \n",
              "50%         0.000000    0.000000     0.0     NaN    1.000000     0.000000   \n",
              "75%         1.000000    1.000000     0.0     NaN    1.000000     0.000000   \n",
              "max         1.000000    1.000000     0.0     NaN    1.000000     1.000000   \n",
              "\n",
              "          lam_High      ch_bad     ch_good      ch_nan apin_binned  \\\n",
              "count   614.000000  614.000000  614.000000  614.000000         614   \n",
              "unique         NaN         NaN         NaN         NaN           3   \n",
              "top            NaN         NaN         NaN         NaN         low   \n",
              "freq           NaN         NaN         NaN         NaN         607   \n",
              "mean      0.019544    0.144951    0.773616    0.081433         NaN   \n",
              "std       0.138540    0.352339    0.418832    0.273722         NaN   \n",
              "min       0.000000    0.000000    0.000000    0.000000         NaN   \n",
              "25%       0.000000    0.000000    1.000000    0.000000         NaN   \n",
              "50%       0.000000    0.000000    1.000000    0.000000         NaN   \n",
              "75%       0.000000    0.000000    1.000000    0.000000         NaN   \n",
              "max       1.000000    1.000000    1.000000    1.000000         NaN   \n",
              "\n",
              "          apin_low  apin_average   apin_high  apin_nan  \n",
              "count   614.000000    614.000000  614.000000     614.0  \n",
              "unique         NaN           NaN         NaN       NaN  \n",
              "top            NaN           NaN         NaN       NaN  \n",
              "freq           NaN           NaN         NaN       NaN  \n",
              "mean      0.988599      0.008143    0.003257       0.0  \n",
              "std       0.106250      0.089945    0.057026       0.0  \n",
              "min       0.000000      0.000000    0.000000       0.0  \n",
              "25%       1.000000      0.000000    0.000000       0.0  \n",
              "50%       1.000000      0.000000    0.000000       0.0  \n",
              "75%       1.000000      0.000000    0.000000       0.0  \n",
              "max       1.000000      1.000000    1.000000       0.0  "
            ]
          },
          "metadata": {
            "tags": []
          },
          "execution_count": 9
        }
      ]
    },
    {
      "metadata": {
        "id": "T88CzBhRVDhY",
        "colab_type": "text"
      },
      "cell_type": "markdown",
      "source": [
        "Go ahead and ohe the `Dependents` column - use `dep` as prefix. And look at above to see the count. It has empties, right? So set the appropriate flag."
      ]
    },
    {
      "metadata": {
        "id": "yVs4uNuT2TvR",
        "colab_type": "code",
        "colab": {}
      },
      "cell_type": "code",
      "source": [
        "#ohe code here\n",
        "ohe_dep = pd.get_dummies(loan_table['Dependents'], prefix='dep', dummy_na=True)\n",
        "loan_table = loan_table.join(ohe_dep)"
      ],
      "execution_count": 0,
      "outputs": []
    },
    {
      "metadata": {
        "id": "kEYo8s892TvT",
        "colab_type": "code",
        "outputId": "8f587b48-88b5-48b5-92f3-2ec1f9d960a5",
        "colab": {
          "base_uri": "https://localhost:8080/",
          "height": 97
        }
      },
      "cell_type": "code",
      "source": [
        "loan_table.head(1)"
      ],
      "execution_count": 11,
      "outputs": [
        {
          "output_type": "execute_result",
          "data": {
            "text/html": [
              "<div>\n",
              "<style scoped>\n",
              "    .dataframe tbody tr th:only-of-type {\n",
              "        vertical-align: middle;\n",
              "    }\n",
              "\n",
              "    .dataframe tbody tr th {\n",
              "        vertical-align: top;\n",
              "    }\n",
              "\n",
              "    .dataframe thead th {\n",
              "        text-align: right;\n",
              "    }\n",
              "</style>\n",
              "<table border=\"1\" class=\"dataframe\">\n",
              "  <thead>\n",
              "    <tr style=\"text-align: right;\">\n",
              "      <th></th>\n",
              "      <th>Gender</th>\n",
              "      <th>Married</th>\n",
              "      <th>Dependents</th>\n",
              "      <th>Education</th>\n",
              "      <th>Self_Employed</th>\n",
              "      <th>ApplicantIncome</th>\n",
              "      <th>CoapplicantIncome</th>\n",
              "      <th>LoanAmount</th>\n",
              "      <th>Loan_Amount_Term</th>\n",
              "      <th>Credit_History</th>\n",
              "      <th>Property_Area</th>\n",
              "      <th>Loan_Status</th>\n",
              "      <th>no_lam</th>\n",
              "      <th>filled_lam</th>\n",
              "      <th>pa_Rural</th>\n",
              "      <th>pa_Semiurban</th>\n",
              "      <th>pa_Urban</th>\n",
              "      <th>pa_nan</th>\n",
              "      <th>lam_bin</th>\n",
              "      <th>lam_Low</th>\n",
              "      <th>lam_Average</th>\n",
              "      <th>lam_High</th>\n",
              "      <th>ch_bad</th>\n",
              "      <th>ch_good</th>\n",
              "      <th>ch_nan</th>\n",
              "      <th>apin_binned</th>\n",
              "      <th>apin_low</th>\n",
              "      <th>apin_average</th>\n",
              "      <th>apin_high</th>\n",
              "      <th>apin_nan</th>\n",
              "      <th>dep_0</th>\n",
              "      <th>dep_1</th>\n",
              "      <th>dep_2</th>\n",
              "      <th>dep_3+</th>\n",
              "      <th>dep_nan</th>\n",
              "    </tr>\n",
              "  </thead>\n",
              "  <tbody>\n",
              "    <tr>\n",
              "      <th>0</th>\n",
              "      <td>Male</td>\n",
              "      <td>No</td>\n",
              "      <td>0</td>\n",
              "      <td>Graduate</td>\n",
              "      <td>No</td>\n",
              "      <td>5849</td>\n",
              "      <td>0.0</td>\n",
              "      <td>NaN</td>\n",
              "      <td>360.0</td>\n",
              "      <td>1.0</td>\n",
              "      <td>Urban</td>\n",
              "      <td>1</td>\n",
              "      <td>1</td>\n",
              "      <td>146.412162</td>\n",
              "      <td>0</td>\n",
              "      <td>0</td>\n",
              "      <td>1</td>\n",
              "      <td>0</td>\n",
              "      <td>Low</td>\n",
              "      <td>1</td>\n",
              "      <td>0</td>\n",
              "      <td>0</td>\n",
              "      <td>0</td>\n",
              "      <td>1</td>\n",
              "      <td>0</td>\n",
              "      <td>low</td>\n",
              "      <td>1</td>\n",
              "      <td>0</td>\n",
              "      <td>0</td>\n",
              "      <td>0</td>\n",
              "      <td>1</td>\n",
              "      <td>0</td>\n",
              "      <td>0</td>\n",
              "      <td>0</td>\n",
              "      <td>0</td>\n",
              "    </tr>\n",
              "  </tbody>\n",
              "</table>\n",
              "</div>"
            ],
            "text/plain": [
              "  Gender Married Dependents Education Self_Employed  ApplicantIncome  \\\n",
              "0   Male      No          0  Graduate            No             5849   \n",
              "\n",
              "   CoapplicantIncome  LoanAmount  Loan_Amount_Term  Credit_History  \\\n",
              "0                0.0         NaN             360.0             1.0   \n",
              "\n",
              "  Property_Area  Loan_Status  no_lam  filled_lam  pa_Rural  pa_Semiurban  \\\n",
              "0         Urban            1       1  146.412162         0             0   \n",
              "\n",
              "   pa_Urban  pa_nan lam_bin  lam_Low  lam_Average  lam_High  ch_bad  ch_good  \\\n",
              "0         1       0     Low        1            0         0       0        1   \n",
              "\n",
              "   ch_nan apin_binned  apin_low  apin_average  apin_high  apin_nan  dep_0  \\\n",
              "0       0         low         1             0          0         0      1   \n",
              "\n",
              "   dep_1  dep_2  dep_3+  dep_nan  \n",
              "0      0      0       0        0  "
            ]
          },
          "metadata": {
            "tags": []
          },
          "execution_count": 11
        }
      ]
    },
    {
      "metadata": {
        "id": "w7je4s_D2Tvb",
        "colab_type": "text"
      },
      "cell_type": "markdown",
      "source": [
        "<hr>\n",
        "<h1>\n",
        "2: Find the best depth\n",
        "</h1>\n",
        "<p>\n",
        "<div class=h1_cell>\n",
        "<p>\n",
        "Explore depths from 1 to 5. Build a tree for each depth and test it. Plot the results.\n",
        "<p>\n",
        "First, define the columns to use. I do that for you below.\n",
        "</div>"
      ]
    },
    {
      "metadata": {
        "id": "adKCxRIv2Tve",
        "colab_type": "code",
        "colab": {}
      },
      "cell_type": "code",
      "source": [
        "column_candidates = [\n",
        "        #Dependents\n",
        "        'dep_0', 'dep_1', 'dep_2', 'dep_3+',\n",
        "        #ApplicantIncome\n",
        "       'apin_low', 'apin_high', 'apin_average',\n",
        "        #Property_Area\n",
        "        'pa_Rural', 'pa_Semiurban','pa_Urban',\n",
        "        #LoanAmount\n",
        "        'lam_Low', 'lam_Average', 'lam_High',\n",
        "        #Credit_History\n",
        "        'ch_bad', 'ch_good']"
      ],
      "execution_count": 0,
      "outputs": []
    },
    {
      "metadata": {
        "id": "Z59ByCSt2Tvk",
        "colab_type": "code",
        "outputId": "515d026e-0314-4d8b-96a2-2b7b857e20d0",
        "colab": {
          "base_uri": "https://localhost:8080/",
          "height": 168
        }
      },
      "cell_type": "code",
      "source": [
        "tree1 = build_tree_iter(loan_table, column_candidates, 'Loan_Status', {'max-depth': 1}) # should get 2 paths\n",
        "print(len(tree1['paths']))\n",
        "tree1['paths']"
      ],
      "execution_count": 13,
      "outputs": [
        {
          "output_type": "stream",
          "text": [
            "2\n"
          ],
          "name": "stdout"
        },
        {
          "output_type": "execute_result",
          "data": {
            "text/plain": [
              "[{'conjunction': [('ch_bad_1',\n",
              "    <function library_w19_week4.build_pred.<locals>.<lambda>>)],\n",
              "  'gig_score': 0.12559965113188631,\n",
              "  'prediction': 0},\n",
              " {'conjunction': [('ch_bad_0',\n",
              "    <function library_w19_week4.build_pred.<locals>.<lambda>>)],\n",
              "  'gig_score': 0.12559965113188631,\n",
              "  'prediction': 1}]"
            ]
          },
          "metadata": {
            "tags": []
          },
          "execution_count": 13
        }
      ]
    },
    {
      "metadata": {
        "id": "N_S4mM6I2Tvo",
        "colab_type": "text"
      },
      "cell_type": "markdown",
      "source": [
        "<div class=h1_cell>\n",
        "<p>\n",
        "As reminder, a tree with only one splitter node is called a stump. You can see that `ch_bad` is the best splitter with only one node. Thought question: As we build deeper trees below, is it possible for the root node to be something other than `ch_bad`?\n",
        "</div>"
      ]
    },
    {
      "metadata": {
        "id": "w7cv_V162Tvp",
        "colab_type": "code",
        "outputId": "3f1ee4b5-9052-41d2-96bb-f9698115d0f4",
        "colab": {
          "base_uri": "https://localhost:8080/",
          "height": 437
        }
      },
      "cell_type": "code",
      "source": [
        "tree2 = build_tree_iter(loan_table, column_candidates, 'Loan_Status', {'max-depth': 2}) # should get 4 paths\n",
        "print(len(tree2['paths']))\n",
        "tree2['paths']"
      ],
      "execution_count": 14,
      "outputs": [
        {
          "output_type": "stream",
          "text": [
            "4\n"
          ],
          "name": "stdout"
        },
        {
          "output_type": "execute_result",
          "data": {
            "text/plain": [
              "[{'conjunction': [('ch_bad_1',\n",
              "    <function library_w19_week4.build_pred.<locals>.<lambda>>),\n",
              "   ('apin_average_1',\n",
              "    <function library_w19_week4.build_pred.<locals>.<lambda>>)],\n",
              "  'gig_score': 0.019292789018833467,\n",
              "  'prediction': 1},\n",
              " {'conjunction': [('ch_bad_1',\n",
              "    <function library_w19_week4.build_pred.<locals>.<lambda>>),\n",
              "   ('apin_average_0',\n",
              "    <function library_w19_week4.build_pred.<locals>.<lambda>>)],\n",
              "  'gig_score': 0.019292789018833467,\n",
              "  'prediction': 0},\n",
              " {'conjunction': [('ch_bad_0',\n",
              "    <function library_w19_week4.build_pred.<locals>.<lambda>>),\n",
              "   ('pa_Semiurban_1',\n",
              "    <function library_w19_week4.build_pred.<locals>.<lambda>>)],\n",
              "  'gig_score': 0.006462619030620731,\n",
              "  'prediction': 1},\n",
              " {'conjunction': [('ch_bad_0',\n",
              "    <function library_w19_week4.build_pred.<locals>.<lambda>>),\n",
              "   ('pa_Semiurban_0',\n",
              "    <function library_w19_week4.build_pred.<locals>.<lambda>>)],\n",
              "  'gig_score': 0.006462619030620731,\n",
              "  'prediction': 1}]"
            ]
          },
          "metadata": {
            "tags": []
          },
          "execution_count": 14
        }
      ]
    },
    {
      "metadata": {
        "id": "8jIhyyWb2Tvu",
        "colab_type": "code",
        "outputId": "9cd4ea32-3ae2-4c24-f1c5-c2dd6b648be4",
        "colab": {
          "base_uri": "https://localhost:8080/",
          "height": 874
        }
      },
      "cell_type": "code",
      "source": [
        "tree3 = build_tree_iter(loan_table, column_candidates, 'Loan_Status', {'max-depth': 3}) # should get 7 paths\n",
        "print(len(tree3['paths']))\n",
        "tree3['paths']"
      ],
      "execution_count": 15,
      "outputs": [
        {
          "output_type": "stream",
          "text": [
            "7\n"
          ],
          "name": "stdout"
        },
        {
          "output_type": "execute_result",
          "data": {
            "text/plain": [
              "[{'conjunction': [('ch_bad_1',\n",
              "    <function library_w19_week4.build_pred.<locals>.<lambda>>),\n",
              "   ('apin_average_1',\n",
              "    <function library_w19_week4.build_pred.<locals>.<lambda>>)],\n",
              "  'gig_score': 0.019292789018833467,\n",
              "  'prediction': 1},\n",
              " {'conjunction': [('ch_bad_1',\n",
              "    <function library_w19_week4.build_pred.<locals>.<lambda>>),\n",
              "   ('apin_average_0',\n",
              "    <function library_w19_week4.build_pred.<locals>.<lambda>>),\n",
              "   ('pa_Urban_1', <function library_w19_week4.build_pred.<locals>.<lambda>>)],\n",
              "  'gig_score': 0.0014037192421204325,\n",
              "  'prediction': 0},\n",
              " {'conjunction': [('ch_bad_1',\n",
              "    <function library_w19_week4.build_pred.<locals>.<lambda>>),\n",
              "   ('apin_average_0',\n",
              "    <function library_w19_week4.build_pred.<locals>.<lambda>>),\n",
              "   ('pa_Urban_0', <function library_w19_week4.build_pred.<locals>.<lambda>>)],\n",
              "  'gig_score': 0.0014037192421204325,\n",
              "  'prediction': 0},\n",
              " {'conjunction': [('ch_bad_0',\n",
              "    <function library_w19_week4.build_pred.<locals>.<lambda>>),\n",
              "   ('pa_Semiurban_1',\n",
              "    <function library_w19_week4.build_pred.<locals>.<lambda>>),\n",
              "   ('lam_Average_1',\n",
              "    <function library_w19_week4.build_pred.<locals>.<lambda>>)],\n",
              "  'gig_score': 0.0052148575352743975,\n",
              "  'prediction': 1},\n",
              " {'conjunction': [('ch_bad_0',\n",
              "    <function library_w19_week4.build_pred.<locals>.<lambda>>),\n",
              "   ('pa_Semiurban_1',\n",
              "    <function library_w19_week4.build_pred.<locals>.<lambda>>),\n",
              "   ('lam_Average_0',\n",
              "    <function library_w19_week4.build_pred.<locals>.<lambda>>)],\n",
              "  'gig_score': 0.0052148575352743975,\n",
              "  'prediction': 1},\n",
              " {'conjunction': [('ch_bad_0',\n",
              "    <function library_w19_week4.build_pred.<locals>.<lambda>>),\n",
              "   ('pa_Semiurban_0',\n",
              "    <function library_w19_week4.build_pred.<locals>.<lambda>>),\n",
              "   ('dep_2_1', <function library_w19_week4.build_pred.<locals>.<lambda>>)],\n",
              "  'gig_score': 0.0021858669417437193,\n",
              "  'prediction': 1},\n",
              " {'conjunction': [('ch_bad_0',\n",
              "    <function library_w19_week4.build_pred.<locals>.<lambda>>),\n",
              "   ('pa_Semiurban_0',\n",
              "    <function library_w19_week4.build_pred.<locals>.<lambda>>),\n",
              "   ('dep_2_0', <function library_w19_week4.build_pred.<locals>.<lambda>>)],\n",
              "  'gig_score': 0.0021858669417437193,\n",
              "  'prediction': 1}]"
            ]
          },
          "metadata": {
            "tags": []
          },
          "execution_count": 15
        }
      ]
    },
    {
      "metadata": {
        "id": "YbKPxh7r2Tvy",
        "colab_type": "code",
        "outputId": "a8d82b84-c764-4739-9616-4b2ea8365c16",
        "colab": {
          "base_uri": "https://localhost:8080/",
          "height": 34
        }
      },
      "cell_type": "code",
      "source": [
        "tree4 = build_tree_iter(loan_table, column_candidates, 'Loan_Status', {'max-depth': 4}) # should get 13 paths\n",
        "print(len(tree4['paths']))\n",
        "#tree4['paths']"
      ],
      "execution_count": 16,
      "outputs": [
        {
          "output_type": "stream",
          "text": [
            "13\n"
          ],
          "name": "stdout"
        }
      ]
    },
    {
      "metadata": {
        "id": "kWbdEnEn2Tv4",
        "colab_type": "code",
        "outputId": "0ad42eaf-5457-40de-bc3a-50029f0d40b8",
        "colab": {
          "base_uri": "https://localhost:8080/",
          "height": 34
        }
      },
      "cell_type": "code",
      "source": [
        "tree5 = build_tree_iter(loan_table, column_candidates, 'Loan_Status', {'max-depth': 5}) # should get 20 paths\n",
        "print(len(tree5['paths']))\n",
        "#tree5['paths']"
      ],
      "execution_count": 17,
      "outputs": [
        {
          "output_type": "stream",
          "text": [
            "20\n"
          ],
          "name": "stdout"
        }
      ]
    },
    {
      "metadata": {
        "id": "xeYnFsNu2Tv7",
        "colab_type": "text"
      },
      "cell_type": "markdown",
      "source": [
        "<div class=h1_cell>\n",
        "  <h1>You have your 5 trees</h1>\n",
        "<p>\n",
        "Add them to your results table.\n",
        "</div>"
      ]
    },
    {
      "metadata": {
        "id": "VLY_eAw52Tv9",
        "colab_type": "code",
        "outputId": "4e0b8ca9-51a4-4859-cced-e111cd342605",
        "colab": {
          "base_uri": "https://localhost:8080/",
          "height": 77
        }
      },
      "cell_type": "code",
      "source": [
        "loan_results['tree_1'] = loan_table.apply(lambda row: tree_predictor(row, tree1), axis=1)\n",
        "loan_results['tree_1_type'] = loan_results.apply(lambda row: predictor_case(row, pred='tree_1', target='Loan_Status'), axis=1)\n",
        "loan_results.head(1)"
      ],
      "execution_count": 18,
      "outputs": [
        {
          "output_type": "execute_result",
          "data": {
            "text/html": [
              "<div>\n",
              "<style scoped>\n",
              "    .dataframe tbody tr th:only-of-type {\n",
              "        vertical-align: middle;\n",
              "    }\n",
              "\n",
              "    .dataframe tbody tr th {\n",
              "        vertical-align: top;\n",
              "    }\n",
              "\n",
              "    .dataframe thead th {\n",
              "        text-align: right;\n",
              "    }\n",
              "</style>\n",
              "<table border=\"1\" class=\"dataframe\">\n",
              "  <thead>\n",
              "    <tr style=\"text-align: right;\">\n",
              "      <th></th>\n",
              "      <th>Loan_Status</th>\n",
              "      <th>pred_1</th>\n",
              "      <th>pred_1_type</th>\n",
              "      <th>pred_2</th>\n",
              "      <th>pred_2_type</th>\n",
              "      <th>tree_1</th>\n",
              "      <th>tree_1_type</th>\n",
              "    </tr>\n",
              "  </thead>\n",
              "  <tbody>\n",
              "    <tr>\n",
              "      <th>0</th>\n",
              "      <td>1</td>\n",
              "      <td>1</td>\n",
              "      <td>true_positive</td>\n",
              "      <td>1</td>\n",
              "      <td>true_positive</td>\n",
              "      <td>1</td>\n",
              "      <td>true_positive</td>\n",
              "    </tr>\n",
              "  </tbody>\n",
              "</table>\n",
              "</div>"
            ],
            "text/plain": [
              "   Loan_Status  pred_1    pred_1_type  pred_2    pred_2_type  tree_1  \\\n",
              "0            1       1  true_positive       1  true_positive       1   \n",
              "\n",
              "     tree_1_type  \n",
              "0  true_positive  "
            ]
          },
          "metadata": {
            "tags": []
          },
          "execution_count": 18
        }
      ]
    },
    {
      "metadata": {
        "id": "-Zwqkovw2TwC",
        "colab_type": "code",
        "outputId": "a83d278a-edc4-4e60-d40d-0f0764a1daa5",
        "colab": {
          "base_uri": "https://localhost:8080/",
          "height": 77
        }
      },
      "cell_type": "code",
      "source": [
        "loan_results['tree_2'] = loan_table.apply(lambda row: tree_predictor(row, tree2), axis=1)\n",
        "loan_results['tree_2_type'] = loan_results.apply(lambda row: predictor_case(row, pred='tree_2', target='Loan_Status'), axis=1)\n",
        "loan_results.head(1)"
      ],
      "execution_count": 19,
      "outputs": [
        {
          "output_type": "execute_result",
          "data": {
            "text/html": [
              "<div>\n",
              "<style scoped>\n",
              "    .dataframe tbody tr th:only-of-type {\n",
              "        vertical-align: middle;\n",
              "    }\n",
              "\n",
              "    .dataframe tbody tr th {\n",
              "        vertical-align: top;\n",
              "    }\n",
              "\n",
              "    .dataframe thead th {\n",
              "        text-align: right;\n",
              "    }\n",
              "</style>\n",
              "<table border=\"1\" class=\"dataframe\">\n",
              "  <thead>\n",
              "    <tr style=\"text-align: right;\">\n",
              "      <th></th>\n",
              "      <th>Loan_Status</th>\n",
              "      <th>pred_1</th>\n",
              "      <th>pred_1_type</th>\n",
              "      <th>pred_2</th>\n",
              "      <th>pred_2_type</th>\n",
              "      <th>tree_1</th>\n",
              "      <th>tree_1_type</th>\n",
              "      <th>tree_2</th>\n",
              "      <th>tree_2_type</th>\n",
              "    </tr>\n",
              "  </thead>\n",
              "  <tbody>\n",
              "    <tr>\n",
              "      <th>0</th>\n",
              "      <td>1</td>\n",
              "      <td>1</td>\n",
              "      <td>true_positive</td>\n",
              "      <td>1</td>\n",
              "      <td>true_positive</td>\n",
              "      <td>1</td>\n",
              "      <td>true_positive</td>\n",
              "      <td>1</td>\n",
              "      <td>true_positive</td>\n",
              "    </tr>\n",
              "  </tbody>\n",
              "</table>\n",
              "</div>"
            ],
            "text/plain": [
              "   Loan_Status  pred_1    pred_1_type  pred_2    pred_2_type  tree_1  \\\n",
              "0            1       1  true_positive       1  true_positive       1   \n",
              "\n",
              "     tree_1_type  tree_2    tree_2_type  \n",
              "0  true_positive       1  true_positive  "
            ]
          },
          "metadata": {
            "tags": []
          },
          "execution_count": 19
        }
      ]
    },
    {
      "metadata": {
        "id": "yY74Vkkq2TwG",
        "colab_type": "code",
        "outputId": "eeec154d-6c07-4a66-afc0-576bc2f57a5c",
        "colab": {
          "base_uri": "https://localhost:8080/",
          "height": 77
        }
      },
      "cell_type": "code",
      "source": [
        "loan_results['tree_3'] = loan_table.apply(lambda row: tree_predictor(row, tree3), axis=1)\n",
        "loan_results['tree_3_type'] = loan_results.apply(lambda row: predictor_case(row, pred='tree_3', target='Loan_Status'), axis=1)\n",
        "loan_results.head(1)"
      ],
      "execution_count": 20,
      "outputs": [
        {
          "output_type": "execute_result",
          "data": {
            "text/html": [
              "<div>\n",
              "<style scoped>\n",
              "    .dataframe tbody tr th:only-of-type {\n",
              "        vertical-align: middle;\n",
              "    }\n",
              "\n",
              "    .dataframe tbody tr th {\n",
              "        vertical-align: top;\n",
              "    }\n",
              "\n",
              "    .dataframe thead th {\n",
              "        text-align: right;\n",
              "    }\n",
              "</style>\n",
              "<table border=\"1\" class=\"dataframe\">\n",
              "  <thead>\n",
              "    <tr style=\"text-align: right;\">\n",
              "      <th></th>\n",
              "      <th>Loan_Status</th>\n",
              "      <th>pred_1</th>\n",
              "      <th>pred_1_type</th>\n",
              "      <th>pred_2</th>\n",
              "      <th>pred_2_type</th>\n",
              "      <th>tree_1</th>\n",
              "      <th>tree_1_type</th>\n",
              "      <th>tree_2</th>\n",
              "      <th>tree_2_type</th>\n",
              "      <th>tree_3</th>\n",
              "      <th>tree_3_type</th>\n",
              "    </tr>\n",
              "  </thead>\n",
              "  <tbody>\n",
              "    <tr>\n",
              "      <th>0</th>\n",
              "      <td>1</td>\n",
              "      <td>1</td>\n",
              "      <td>true_positive</td>\n",
              "      <td>1</td>\n",
              "      <td>true_positive</td>\n",
              "      <td>1</td>\n",
              "      <td>true_positive</td>\n",
              "      <td>1</td>\n",
              "      <td>true_positive</td>\n",
              "      <td>1</td>\n",
              "      <td>true_positive</td>\n",
              "    </tr>\n",
              "  </tbody>\n",
              "</table>\n",
              "</div>"
            ],
            "text/plain": [
              "   Loan_Status  pred_1    pred_1_type  pred_2    pred_2_type  tree_1  \\\n",
              "0            1       1  true_positive       1  true_positive       1   \n",
              "\n",
              "     tree_1_type  tree_2    tree_2_type  tree_3    tree_3_type  \n",
              "0  true_positive       1  true_positive       1  true_positive  "
            ]
          },
          "metadata": {
            "tags": []
          },
          "execution_count": 20
        }
      ]
    },
    {
      "metadata": {
        "id": "l9Xa9tRD2TwK",
        "colab_type": "code",
        "outputId": "8d1a8eaf-af97-4e67-b71c-0ed33a6d513e",
        "colab": {
          "base_uri": "https://localhost:8080/",
          "height": 77
        }
      },
      "cell_type": "code",
      "source": [
        "loan_results['tree_4'] = loan_table.apply(lambda row: tree_predictor(row, tree4), axis=1)\n",
        "loan_results['tree_4_type'] = loan_results.apply(lambda row: predictor_case(row, pred='tree_4', target='Loan_Status'), axis=1)\n",
        "loan_results.head(1)"
      ],
      "execution_count": 21,
      "outputs": [
        {
          "output_type": "execute_result",
          "data": {
            "text/html": [
              "<div>\n",
              "<style scoped>\n",
              "    .dataframe tbody tr th:only-of-type {\n",
              "        vertical-align: middle;\n",
              "    }\n",
              "\n",
              "    .dataframe tbody tr th {\n",
              "        vertical-align: top;\n",
              "    }\n",
              "\n",
              "    .dataframe thead th {\n",
              "        text-align: right;\n",
              "    }\n",
              "</style>\n",
              "<table border=\"1\" class=\"dataframe\">\n",
              "  <thead>\n",
              "    <tr style=\"text-align: right;\">\n",
              "      <th></th>\n",
              "      <th>Loan_Status</th>\n",
              "      <th>pred_1</th>\n",
              "      <th>pred_1_type</th>\n",
              "      <th>pred_2</th>\n",
              "      <th>pred_2_type</th>\n",
              "      <th>tree_1</th>\n",
              "      <th>tree_1_type</th>\n",
              "      <th>tree_2</th>\n",
              "      <th>tree_2_type</th>\n",
              "      <th>tree_3</th>\n",
              "      <th>tree_3_type</th>\n",
              "      <th>tree_4</th>\n",
              "      <th>tree_4_type</th>\n",
              "    </tr>\n",
              "  </thead>\n",
              "  <tbody>\n",
              "    <tr>\n",
              "      <th>0</th>\n",
              "      <td>1</td>\n",
              "      <td>1</td>\n",
              "      <td>true_positive</td>\n",
              "      <td>1</td>\n",
              "      <td>true_positive</td>\n",
              "      <td>1</td>\n",
              "      <td>true_positive</td>\n",
              "      <td>1</td>\n",
              "      <td>true_positive</td>\n",
              "      <td>1</td>\n",
              "      <td>true_positive</td>\n",
              "      <td>1</td>\n",
              "      <td>true_positive</td>\n",
              "    </tr>\n",
              "  </tbody>\n",
              "</table>\n",
              "</div>"
            ],
            "text/plain": [
              "   Loan_Status  pred_1    pred_1_type  pred_2    pred_2_type  tree_1  \\\n",
              "0            1       1  true_positive       1  true_positive       1   \n",
              "\n",
              "     tree_1_type  tree_2    tree_2_type  tree_3    tree_3_type  tree_4  \\\n",
              "0  true_positive       1  true_positive       1  true_positive       1   \n",
              "\n",
              "     tree_4_type  \n",
              "0  true_positive  "
            ]
          },
          "metadata": {
            "tags": []
          },
          "execution_count": 21
        }
      ]
    },
    {
      "metadata": {
        "id": "CiUbsy8t2TwO",
        "colab_type": "code",
        "outputId": "9b83b42b-7472-4176-bb34-98c7da800b9b",
        "colab": {
          "base_uri": "https://localhost:8080/",
          "height": 77
        }
      },
      "cell_type": "code",
      "source": [
        "loan_results['tree_5'] = loan_table.apply(lambda row: tree_predictor(row, tree5), axis=1)\n",
        "loan_results['tree_5_type'] = loan_results.apply(lambda row: predictor_case(row, pred='tree_5', target='Loan_Status'), axis=1)\n",
        "loan_results.head(1)"
      ],
      "execution_count": 22,
      "outputs": [
        {
          "output_type": "execute_result",
          "data": {
            "text/html": [
              "<div>\n",
              "<style scoped>\n",
              "    .dataframe tbody tr th:only-of-type {\n",
              "        vertical-align: middle;\n",
              "    }\n",
              "\n",
              "    .dataframe tbody tr th {\n",
              "        vertical-align: top;\n",
              "    }\n",
              "\n",
              "    .dataframe thead th {\n",
              "        text-align: right;\n",
              "    }\n",
              "</style>\n",
              "<table border=\"1\" class=\"dataframe\">\n",
              "  <thead>\n",
              "    <tr style=\"text-align: right;\">\n",
              "      <th></th>\n",
              "      <th>Loan_Status</th>\n",
              "      <th>pred_1</th>\n",
              "      <th>pred_1_type</th>\n",
              "      <th>pred_2</th>\n",
              "      <th>pred_2_type</th>\n",
              "      <th>tree_1</th>\n",
              "      <th>tree_1_type</th>\n",
              "      <th>tree_2</th>\n",
              "      <th>tree_2_type</th>\n",
              "      <th>tree_3</th>\n",
              "      <th>tree_3_type</th>\n",
              "      <th>tree_4</th>\n",
              "      <th>tree_4_type</th>\n",
              "      <th>tree_5</th>\n",
              "      <th>tree_5_type</th>\n",
              "    </tr>\n",
              "  </thead>\n",
              "  <tbody>\n",
              "    <tr>\n",
              "      <th>0</th>\n",
              "      <td>1</td>\n",
              "      <td>1</td>\n",
              "      <td>true_positive</td>\n",
              "      <td>1</td>\n",
              "      <td>true_positive</td>\n",
              "      <td>1</td>\n",
              "      <td>true_positive</td>\n",
              "      <td>1</td>\n",
              "      <td>true_positive</td>\n",
              "      <td>1</td>\n",
              "      <td>true_positive</td>\n",
              "      <td>1</td>\n",
              "      <td>true_positive</td>\n",
              "      <td>1</td>\n",
              "      <td>true_positive</td>\n",
              "    </tr>\n",
              "  </tbody>\n",
              "</table>\n",
              "</div>"
            ],
            "text/plain": [
              "   Loan_Status  pred_1    pred_1_type  pred_2    pred_2_type  tree_1  \\\n",
              "0            1       1  true_positive       1  true_positive       1   \n",
              "\n",
              "     tree_1_type  tree_2    tree_2_type  tree_3    tree_3_type  tree_4  \\\n",
              "0  true_positive       1  true_positive       1  true_positive       1   \n",
              "\n",
              "     tree_4_type  tree_5    tree_5_type  \n",
              "0  true_positive       1  true_positive  "
            ]
          },
          "metadata": {
            "tags": []
          },
          "execution_count": 22
        }
      ]
    },
    {
      "metadata": {
        "id": "iF3d8mIvkxzZ",
        "colab_type": "text"
      },
      "cell_type": "markdown",
      "source": [
        "Get the value counts on each tree."
      ]
    },
    {
      "metadata": {
        "id": "A6NU_F1X2TwS",
        "colab_type": "code",
        "colab": {}
      },
      "cell_type": "code",
      "source": [
        "tree_1_types = loan_results['tree_1_type'].value_counts()\n",
        "tree_2_types = loan_results['tree_2_type'].value_counts()\n",
        "tree_3_types = loan_results['tree_3_type'].value_counts()\n",
        "tree_4_types = loan_results['tree_4_type'].value_counts()\n",
        "tree_5_types = loan_results['tree_5_type'].value_counts()"
      ],
      "execution_count": 0,
      "outputs": []
    },
    {
      "metadata": {
        "id": "XjohqjUXkrvm",
        "colab_type": "text"
      },
      "cell_type": "markdown",
      "source": [
        "ok, ready to check out our measures."
      ]
    },
    {
      "metadata": {
        "scrolled": true,
        "id": "gRDeEg032TwZ",
        "colab_type": "code",
        "outputId": "712f0374-5546-43da-ac2f-3067532c0215",
        "colab": {
          "base_uri": "https://localhost:8080/",
          "height": 34
        }
      },
      "cell_type": "code",
      "source": [
        "print((accuracy(tree_1_types), f1(tree_1_types), informedness(tree_1_types)))"
      ],
      "execution_count": 24,
      "outputs": [
        {
          "output_type": "stream",
          "text": [
            "(0.8094462540716613, 0.8764519535374868, 0.4104956556082149)\n"
          ],
          "name": "stdout"
        }
      ]
    },
    {
      "metadata": {
        "id": "dimYyqDN2Twe",
        "colab_type": "code",
        "outputId": "03427db1-bde6-4cbb-fb36-388765905ffc",
        "colab": {
          "base_uri": "https://localhost:8080/",
          "height": 34
        }
      },
      "cell_type": "code",
      "source": [
        "print((accuracy(tree_2_types), f1(tree_2_types), informedness(tree_2_types)))"
      ],
      "execution_count": 25,
      "outputs": [
        {
          "output_type": "stream",
          "text": [
            "(0.8110749185667753, 0.8776371308016878, 0.41286532385466024)\n"
          ],
          "name": "stdout"
        }
      ]
    },
    {
      "metadata": {
        "id": "dqa69nZJ2Twi",
        "colab_type": "code",
        "outputId": "02883a37-4c5e-499f-887f-14ba1e52312a",
        "colab": {
          "base_uri": "https://localhost:8080/",
          "height": 34
        }
      },
      "cell_type": "code",
      "source": [
        "print((accuracy(tree_3_types), f1(tree_3_types), informedness(tree_3_types)))"
      ],
      "execution_count": 26,
      "outputs": [
        {
          "output_type": "stream",
          "text": [
            "(0.8110749185667753, 0.8776371308016878, 0.41286532385466024)\n"
          ],
          "name": "stdout"
        }
      ]
    },
    {
      "metadata": {
        "id": "BMi_jWrB2Twm",
        "colab_type": "code",
        "outputId": "c0ec37a5-23cb-45bc-f813-3a41d05b3cc8",
        "colab": {
          "base_uri": "https://localhost:8080/",
          "height": 34
        }
      },
      "cell_type": "code",
      "source": [
        "print((accuracy(tree_4_types), f1(tree_4_types), informedness(tree_4_types)))"
      ],
      "execution_count": 27,
      "outputs": [
        {
          "output_type": "stream",
          "text": [
            "(0.8127035830618893, 0.8785638859556495, 0.4180736571879937)\n"
          ],
          "name": "stdout"
        }
      ]
    },
    {
      "metadata": {
        "id": "IkmLIVhd2Twp",
        "colab_type": "code",
        "outputId": "0c4c96ed-8d5d-40b1-fac5-876f3a9d8103",
        "colab": {
          "base_uri": "https://localhost:8080/",
          "height": 34
        }
      },
      "cell_type": "code",
      "source": [
        "print((accuracy(tree_5_types), f1(tree_5_types), informedness(tree_5_types)))"
      ],
      "execution_count": 28,
      "outputs": [
        {
          "output_type": "stream",
          "text": [
            "(0.8192182410423453, 0.8802588996763754, 0.46161631121642976)\n"
          ],
          "name": "stdout"
        }
      ]
    },
    {
      "metadata": {
        "id": "oaeHxhZZ2Twy",
        "colab_type": "text"
      },
      "cell_type": "markdown",
      "source": [
        "<div class=h1_cell>\n",
        "<p>\n",
        "Should we stop at 5? It looks like our measures are continuing to go up. I'll let you stop here but in practice it would be good to find where depth is optimal.\n",
        "  <p>\n",
        "Let's try at least one change to the gig cutoff. Use `0.01` and level 5.\n",
        "</div>"
      ]
    },
    {
      "metadata": {
        "id": "6sUQDSrLY6S-",
        "colab_type": "code",
        "outputId": "74272d38-56ee-4131-ece4-893ebf2307da",
        "colab": {
          "base_uri": "https://localhost:8080/",
          "height": 34
        }
      },
      "cell_type": "code",
      "source": [
        "tree6 = build_tree_iter(loan_table, column_candidates, 'Loan_Status', {'max-depth': 5, 'gig-cutoff': .01})\n",
        "print(len(tree6['paths']))\n",
        "#tree6['paths']"
      ],
      "execution_count": 29,
      "outputs": [
        {
          "output_type": "stream",
          "text": [
            "3\n"
          ],
          "name": "stdout"
        }
      ]
    },
    {
      "metadata": {
        "id": "-1cpk1ECZto2",
        "colab_type": "text"
      },
      "cell_type": "markdown",
      "source": [
        "Wow. We went from 20 paths to 3 by using gig-cutoff. See how tree6 does."
      ]
    },
    {
      "metadata": {
        "id": "9ruuZ7vNZ0nn",
        "colab_type": "code",
        "outputId": "87c44b31-4d43-41ee-a719-4ff61b0e9379",
        "colab": {
          "base_uri": "https://localhost:8080/",
          "height": 97
        }
      },
      "cell_type": "code",
      "source": [
        "loan_results['tree_6'] = loan_table.apply(lambda row: tree_predictor(row, tree6), axis=1)\n",
        "loan_results['tree_6_type'] = loan_results.apply(lambda row: predictor_case(row, pred='tree_6', target='Loan_Status'), axis=1)\n",
        "loan_results.head(1)"
      ],
      "execution_count": 30,
      "outputs": [
        {
          "output_type": "execute_result",
          "data": {
            "text/html": [
              "<div>\n",
              "<style scoped>\n",
              "    .dataframe tbody tr th:only-of-type {\n",
              "        vertical-align: middle;\n",
              "    }\n",
              "\n",
              "    .dataframe tbody tr th {\n",
              "        vertical-align: top;\n",
              "    }\n",
              "\n",
              "    .dataframe thead th {\n",
              "        text-align: right;\n",
              "    }\n",
              "</style>\n",
              "<table border=\"1\" class=\"dataframe\">\n",
              "  <thead>\n",
              "    <tr style=\"text-align: right;\">\n",
              "      <th></th>\n",
              "      <th>Loan_Status</th>\n",
              "      <th>pred_1</th>\n",
              "      <th>pred_1_type</th>\n",
              "      <th>pred_2</th>\n",
              "      <th>pred_2_type</th>\n",
              "      <th>tree_1</th>\n",
              "      <th>tree_1_type</th>\n",
              "      <th>tree_2</th>\n",
              "      <th>tree_2_type</th>\n",
              "      <th>tree_3</th>\n",
              "      <th>tree_3_type</th>\n",
              "      <th>tree_4</th>\n",
              "      <th>tree_4_type</th>\n",
              "      <th>tree_5</th>\n",
              "      <th>tree_5_type</th>\n",
              "      <th>tree_6</th>\n",
              "      <th>tree_6_type</th>\n",
              "    </tr>\n",
              "  </thead>\n",
              "  <tbody>\n",
              "    <tr>\n",
              "      <th>0</th>\n",
              "      <td>1</td>\n",
              "      <td>1</td>\n",
              "      <td>true_positive</td>\n",
              "      <td>1</td>\n",
              "      <td>true_positive</td>\n",
              "      <td>1</td>\n",
              "      <td>true_positive</td>\n",
              "      <td>1</td>\n",
              "      <td>true_positive</td>\n",
              "      <td>1</td>\n",
              "      <td>true_positive</td>\n",
              "      <td>1</td>\n",
              "      <td>true_positive</td>\n",
              "      <td>1</td>\n",
              "      <td>true_positive</td>\n",
              "      <td>1</td>\n",
              "      <td>true_positive</td>\n",
              "    </tr>\n",
              "  </tbody>\n",
              "</table>\n",
              "</div>"
            ],
            "text/plain": [
              "   Loan_Status  pred_1    pred_1_type  pred_2    pred_2_type  tree_1  \\\n",
              "0            1       1  true_positive       1  true_positive       1   \n",
              "\n",
              "     tree_1_type  tree_2    tree_2_type  tree_3    tree_3_type  tree_4  \\\n",
              "0  true_positive       1  true_positive       1  true_positive       1   \n",
              "\n",
              "     tree_4_type  tree_5    tree_5_type  tree_6    tree_6_type  \n",
              "0  true_positive       1  true_positive       1  true_positive  "
            ]
          },
          "metadata": {
            "tags": []
          },
          "execution_count": 30
        }
      ]
    },
    {
      "metadata": {
        "id": "LC8KtbZcaBZt",
        "colab_type": "code",
        "outputId": "50b23504-6491-4d68-e804-e4331a1c0d34",
        "colab": {
          "base_uri": "https://localhost:8080/",
          "height": 34
        }
      },
      "cell_type": "code",
      "source": [
        "tree_6_types = loan_results['tree_6_type'].value_counts()\n",
        "print((accuracy(tree_6_types), f1(tree_6_types), informedness(tree_6_types)))\n"
      ],
      "execution_count": 31,
      "outputs": [
        {
          "output_type": "stream",
          "text": [
            "(0.8110749185667753, 0.8776371308016878, 0.41286532385466024)\n"
          ],
          "name": "stdout"
        }
      ]
    },
    {
      "metadata": {
        "id": "mfctNHKOagYs",
        "colab_type": "text"
      },
      "cell_type": "markdown",
      "source": [
        "Same as tree3 but with 4 fewer paths: 3 instead of 7."
      ]
    },
    {
      "metadata": {
        "id": "6mAOfwOo2Twz",
        "colab_type": "text"
      },
      "cell_type": "markdown",
      "source": [
        "<hr>\n",
        "<h1>\n",
        "3: Order the paths in a tree according to most used\n",
        "</h1>\n",
        "<p>\n",
        "<div class=h1_cell>\n",
        "<p>\n",
        "One of the cool things about building our own code for doing predictions with decision trees is that we can explore various options directly. Let's do that now. Look at this code in `tree_predictor`:\n",
        "<p>\n",
        "```\n",
        "for path in tree['paths']:\n",
        "```\n",
        "<p>\n",
        "It is doing a sequential and ordered enumeration of the paths in a tree. We can gain some efficiency by ordering the paths, right? If we can determine which paths are most likely to succeed, we can try those paths first. In practice, this means reordeing the list of dictionaries in tree['paths'] so most used path is first, and least used path is last. I'd like you to write some code that will reorder `tree['paths']` on this basis of most used.\n",
        "<p>\n",
        "I'll break it up into pieces. First, define a function `path_id` that accepts a row and a tree and returns the index of the path that succeeded. So if the first path in tree['paths'] succeeded, you would return its index 0.\n",
        "</div>"
      ]
    },
    {
      "metadata": {
        "id": "0FclMVm12Tw0",
        "colab_type": "code",
        "colab": {}
      },
      "cell_type": "code",
      "source": [
        "def path_id(row, tree):\n",
        "  assert (len(tree['paths']) > 0)\n",
        "  for path in tree['paths']:\n",
        "    conjuncts = path['conjunction']\n",
        "    result = map(lambda tuple: tuple[1](row), conjuncts)  # potential to be parallelized\n",
        "    if all(result):\n",
        "      return tree['paths'].index(path)\n",
        "    \n"
      ],
      "execution_count": 0,
      "outputs": []
    },
    {
      "metadata": {
        "id": "JRAIJBF_2Tw2",
        "colab_type": "text"
      },
      "cell_type": "markdown",
      "source": [
        "<div class=h1_cell>\n",
        "\n",
        "Now apply the function against the loan table using tree1 and produce a series called `pcounts1`. Remember that tree1 has only 2 paths.\n",
        "</div>"
      ]
    },
    {
      "metadata": {
        "id": "XyRe_pxg2Tw4",
        "colab_type": "code",
        "outputId": "a1684b83-c784-409c-bfa6-1064c4dffe65",
        "colab": {
          "base_uri": "https://localhost:8080/",
          "height": 67
        }
      },
      "cell_type": "code",
      "source": [
        "pcounts1 = loan_table.apply(lambda row: path_id(row, tree1), axis=1)\n",
        "\n",
        "pcounts1.value_counts()"
      ],
      "execution_count": 33,
      "outputs": [
        {
          "output_type": "execute_result",
          "data": {
            "text/plain": [
              "1    525\n",
              "0     89\n",
              "dtype: int64"
            ]
          },
          "metadata": {
            "tags": []
          },
          "execution_count": 33
        }
      ]
    },
    {
      "metadata": {
        "id": "B4MHw1kc2Tw_",
        "colab_type": "text"
      },
      "cell_type": "markdown",
      "source": [
        "![alt text](https://)<div class=h1_cell>\n",
        "Looks like path 1 (i.e., `tree1['paths'][1]`) is the big winner.\n",
        "  <p>\n",
        "    Let's see what tree2 looks like. It has 4 paths.\n",
        "</div>"
      ]
    },
    {
      "metadata": {
        "id": "UUXnlh7a2Tw_",
        "colab_type": "code",
        "outputId": "b6eac358-866d-4079-b707-9965f2d9069c",
        "colab": {
          "base_uri": "https://localhost:8080/",
          "height": 101
        }
      },
      "cell_type": "code",
      "source": [
        "pcounts2 = loan_table.apply(lambda row: path_id(row, tree2), axis=1)\n",
        "\n",
        "pcounts2.value_counts()"
      ],
      "execution_count": 34,
      "outputs": [
        {
          "output_type": "execute_result",
          "data": {
            "text/plain": [
              "3    322\n",
              "2    203\n",
              "1     88\n",
              "0      1\n",
              "dtype: int64"
            ]
          },
          "metadata": {
            "tags": []
          },
          "execution_count": 34
        }
      ]
    },
    {
      "metadata": {
        "id": "jgJJhv_82TxD",
        "colab_type": "text"
      },
      "cell_type": "markdown",
      "source": [
        "<div class=h1_cell>\n",
        "  Looks like path 0 should definitely be tried last. In fact, it looks like the list is in exactly reverse order in terms of path usage.\n",
        "  <p>\n",
        "Let's look at tree3.\n",
        "</div>"
      ]
    },
    {
      "metadata": {
        "id": "yhcZddAc2TxE",
        "colab_type": "code",
        "outputId": "9cdbc0bc-1b36-4ee8-9f25-d08a6266b979",
        "colab": {
          "base_uri": "https://localhost:8080/",
          "height": 151
        }
      },
      "cell_type": "code",
      "source": [
        "pcounts3 = loan_table.apply(lambda row: path_id(row, tree3), axis=1)\n",
        "\n",
        "pcounts3.value_counts()"
      ],
      "execution_count": 35,
      "outputs": [
        {
          "output_type": "execute_result",
          "data": {
            "text/plain": [
              "6    267\n",
              "4    187\n",
              "2     57\n",
              "5     55\n",
              "1     31\n",
              "3     16\n",
              "0      1\n",
              "dtype: int64"
            ]
          },
          "metadata": {
            "tags": []
          },
          "execution_count": 35
        }
      ]
    },
    {
      "metadata": {
        "id": "HJN-D18r2TxM",
        "colab_type": "text"
      },
      "cell_type": "markdown",
      "source": [
        "<div class=h1_cell>\n",
        "\n",
        "1.   List item\n",
        "\n",
        "\n",
        "\n",
        "2.   List item\n",
        "\n",
        "\n",
        "\n",
        "Let's use `tree3` (i.e., `pcounts3`) as our focus. Turn `pcounts3.value_counts()` into a dictionary.\n",
        "</div>"
      ]
    },
    {
      "metadata": {
        "id": "lgC6Seuw2TxM",
        "colab_type": "code",
        "outputId": "da5c485e-1321-4685-d047-c6e845ec6f50",
        "colab": {
          "base_uri": "https://localhost:8080/",
          "height": 34
        }
      },
      "cell_type": "code",
      "source": [
        "pdict3 = dict(pcounts3.value_counts())\n",
        "pdict3"
      ],
      "execution_count": 36,
      "outputs": [
        {
          "output_type": "execute_result",
          "data": {
            "text/plain": [
              "{0: 1, 1: 31, 2: 57, 3: 16, 4: 187, 5: 55, 6: 267}"
            ]
          },
          "metadata": {
            "tags": []
          },
          "execution_count": 36
        }
      ]
    },
    {
      "metadata": {
        "id": "hCsgLqEG2TxS",
        "colab_type": "text"
      },
      "cell_type": "markdown",
      "source": [
        "<div class=h1_cell>\n",
        "\n",
        "Now turn the dictionary into a list of tuples. Be careful. Generators can bite you.\n",
        "</div>"
      ]
    },
    {
      "metadata": {
        "id": "jhvdPWHV2TxT",
        "colab_type": "code",
        "outputId": "a790c184-247e-4e03-e066-c2b31ea2d608",
        "colab": {
          "base_uri": "https://localhost:8080/",
          "height": 34
        }
      },
      "cell_type": "code",
      "source": [
        "plist3 = pdict3.items()\n",
        "plist3"
      ],
      "execution_count": 37,
      "outputs": [
        {
          "output_type": "execute_result",
          "data": {
            "text/plain": [
              "dict_items([(6, 267), (4, 187), (2, 57), (5, 55), (1, 31), (3, 16), (0, 1)])"
            ]
          },
          "metadata": {
            "tags": []
          },
          "execution_count": 37
        }
      ]
    },
    {
      "metadata": {
        "id": "qZpnH48B2TxZ",
        "colab_type": "text"
      },
      "cell_type": "markdown",
      "source": [
        "<div class=h1_cell>\n",
        "This is kind of odd. It appears that converting to a list of tuples has also sorted the list by value in reverse order. I cannot find any documentation that says this should happen. So I am not taking chances. I am going to go ahead and sort `plist3` in a separate function. You shoud too unless you can point me to documentation that says pulling tuples from a dictionary does sorting.\n",
        "</div>"
      ]
    },
    {
      "metadata": {
        "id": "Pi7qLB0s2Txb",
        "colab_type": "code",
        "outputId": "da15c20f-d98e-4e89-de07-042d611e212e",
        "colab": {
          "base_uri": "https://localhost:8080/",
          "height": 34
        }
      },
      "cell_type": "code",
      "source": [
        "plist3 = sorted(plist3, key=lambda x: x[1])\n",
        "plist3"
      ],
      "execution_count": 38,
      "outputs": [
        {
          "output_type": "execute_result",
          "data": {
            "text/plain": [
              "[(0, 1), (3, 16), (1, 31), (5, 55), (2, 57), (4, 187), (6, 267)]"
            ]
          },
          "metadata": {
            "tags": []
          },
          "execution_count": 38
        }
      ]
    },
    {
      "metadata": {
        "id": "p2haHa8n2Txe",
        "colab_type": "text"
      },
      "cell_type": "markdown",
      "source": [
        "<div class=h1_cell>\n",
        "Finally, build a new path list using plist3 as a guide.\n",
        "</div>"
      ]
    },
    {
      "metadata": {
        "id": "tdW55urt2Txf",
        "colab_type": "code",
        "outputId": "3b4f8565-e7b0-41f3-80be-024d6f48c34d",
        "colab": {
          "base_uri": "https://localhost:8080/",
          "height": 857
        }
      },
      "cell_type": "code",
      "source": [
        "new_paths = []\n",
        "prev_path = tree3['paths']\n",
        "for a, b in plist3:\n",
        "  prev = prev_path[a]\n",
        "  new_paths.append(prev)\n",
        "\n",
        "new_paths"
      ],
      "execution_count": 39,
      "outputs": [
        {
          "output_type": "execute_result",
          "data": {
            "text/plain": [
              "[{'conjunction': [('ch_bad_1',\n",
              "    <function library_w19_week4.build_pred.<locals>.<lambda>>),\n",
              "   ('apin_average_1',\n",
              "    <function library_w19_week4.build_pred.<locals>.<lambda>>)],\n",
              "  'gig_score': 0.019292789018833467,\n",
              "  'prediction': 1},\n",
              " {'conjunction': [('ch_bad_0',\n",
              "    <function library_w19_week4.build_pred.<locals>.<lambda>>),\n",
              "   ('pa_Semiurban_1',\n",
              "    <function library_w19_week4.build_pred.<locals>.<lambda>>),\n",
              "   ('lam_Average_1',\n",
              "    <function library_w19_week4.build_pred.<locals>.<lambda>>)],\n",
              "  'gig_score': 0.0052148575352743975,\n",
              "  'prediction': 1},\n",
              " {'conjunction': [('ch_bad_1',\n",
              "    <function library_w19_week4.build_pred.<locals>.<lambda>>),\n",
              "   ('apin_average_0',\n",
              "    <function library_w19_week4.build_pred.<locals>.<lambda>>),\n",
              "   ('pa_Urban_1', <function library_w19_week4.build_pred.<locals>.<lambda>>)],\n",
              "  'gig_score': 0.0014037192421204325,\n",
              "  'prediction': 0},\n",
              " {'conjunction': [('ch_bad_0',\n",
              "    <function library_w19_week4.build_pred.<locals>.<lambda>>),\n",
              "   ('pa_Semiurban_0',\n",
              "    <function library_w19_week4.build_pred.<locals>.<lambda>>),\n",
              "   ('dep_2_1', <function library_w19_week4.build_pred.<locals>.<lambda>>)],\n",
              "  'gig_score': 0.0021858669417437193,\n",
              "  'prediction': 1},\n",
              " {'conjunction': [('ch_bad_1',\n",
              "    <function library_w19_week4.build_pred.<locals>.<lambda>>),\n",
              "   ('apin_average_0',\n",
              "    <function library_w19_week4.build_pred.<locals>.<lambda>>),\n",
              "   ('pa_Urban_0', <function library_w19_week4.build_pred.<locals>.<lambda>>)],\n",
              "  'gig_score': 0.0014037192421204325,\n",
              "  'prediction': 0},\n",
              " {'conjunction': [('ch_bad_0',\n",
              "    <function library_w19_week4.build_pred.<locals>.<lambda>>),\n",
              "   ('pa_Semiurban_1',\n",
              "    <function library_w19_week4.build_pred.<locals>.<lambda>>),\n",
              "   ('lam_Average_0',\n",
              "    <function library_w19_week4.build_pred.<locals>.<lambda>>)],\n",
              "  'gig_score': 0.0052148575352743975,\n",
              "  'prediction': 1},\n",
              " {'conjunction': [('ch_bad_0',\n",
              "    <function library_w19_week4.build_pred.<locals>.<lambda>>),\n",
              "   ('pa_Semiurban_0',\n",
              "    <function library_w19_week4.build_pred.<locals>.<lambda>>),\n",
              "   ('dep_2_0', <function library_w19_week4.build_pred.<locals>.<lambda>>)],\n",
              "  'gig_score': 0.0021858669417437193,\n",
              "  'prediction': 1}]"
            ]
          },
          "metadata": {
            "tags": []
          },
          "execution_count": 39
        }
      ]
    },
    {
      "metadata": {
        "id": "1mOxu2TweS0P",
        "colab_type": "text"
      },
      "cell_type": "markdown",
      "source": [
        "I can now reset `tree3[\"paths\"]` to `new_paths`. Cool."
      ]
    },
    {
      "metadata": {
        "id": "sgub6M2D2Txj",
        "colab_type": "text"
      },
      "cell_type": "markdown",
      "source": [
        "<hr>\n",
        "<h2>\n",
        "Put it all together in a function\n",
        "</h2>\n",
        "<p>\n",
        "<div class=h1_cell>\n",
        "<p>\n",
        "Please write `reorder_paths` to produce a list of paths that is sorted on most frequently used. You can use the output of the function as:\n",
        "<p>\n",
        "<pre>\n",
        "    ordered_paths3 = reorder_paths(loan_table, tree3)\n",
        "    tree3['paths'] = ordered_paths3\n",
        "</pre>\n",
        "<p>\n",
        "I'll give you some examples below that you can test on - match my output. Note that I am printing some debugging info from inside my function. I am printing the sorted list I come up with. You do not have to print this but it is useful for debugging.\n",
        "</div>"
      ]
    },
    {
      "metadata": {
        "id": "Pn0UCmmk2Txm",
        "colab_type": "code",
        "colab": {}
      },
      "cell_type": "code",
      "source": [
        "def reorder_paths(table, tree):\n",
        "  path_count = table.apply(lambda row: path_id(row, tree), axis = 1)\n",
        "  value = path_count.value_counts()\n",
        "  path = sorted(value.items(), key=lambda x: x[1], reverse=True)\n",
        "  print(path)\n",
        "  new_paths = []\n",
        "  prev_path = tree3['paths']\n",
        "  for a, b in plist3:\n",
        "    prev = prev_path[a]\n",
        "    new_paths.append(prev)\n",
        "  return new_paths"
      ],
      "execution_count": 0,
      "outputs": []
    },
    {
      "metadata": {
        "id": "1b1zM4a22Txq",
        "colab_type": "code",
        "outputId": "65f491ad-c7e0-43cb-8532-dd118b489b5f",
        "colab": {
          "base_uri": "https://localhost:8080/",
          "height": 151
        }
      },
      "cell_type": "code",
      "source": [
        "tree1['paths']  #before we reorder"
      ],
      "execution_count": 41,
      "outputs": [
        {
          "output_type": "execute_result",
          "data": {
            "text/plain": [
              "[{'conjunction': [('ch_bad_1',\n",
              "    <function library_w19_week4.build_pred.<locals>.<lambda>>)],\n",
              "  'gig_score': 0.12559965113188631,\n",
              "  'prediction': 0},\n",
              " {'conjunction': [('ch_bad_0',\n",
              "    <function library_w19_week4.build_pred.<locals>.<lambda>>)],\n",
              "  'gig_score': 0.12559965113188631,\n",
              "  'prediction': 1}]"
            ]
          },
          "metadata": {
            "tags": []
          },
          "execution_count": 41
        }
      ]
    },
    {
      "metadata": {
        "id": "eglNNQDv2Txt",
        "colab_type": "code",
        "outputId": "6e5d34c6-93af-436a-8d99-189a1fb16135",
        "colab": {
          "base_uri": "https://localhost:8080/",
          "height": 874
        }
      },
      "cell_type": "code",
      "source": [
        "reorder_paths(loan_table, tree1)  # First line printed is just for debugging"
      ],
      "execution_count": 42,
      "outputs": [
        {
          "output_type": "stream",
          "text": [
            "[(1, 525), (0, 89)]\n"
          ],
          "name": "stdout"
        },
        {
          "output_type": "execute_result",
          "data": {
            "text/plain": [
              "[{'conjunction': [('ch_bad_1',\n",
              "    <function library_w19_week4.build_pred.<locals>.<lambda>>),\n",
              "   ('apin_average_1',\n",
              "    <function library_w19_week4.build_pred.<locals>.<lambda>>)],\n",
              "  'gig_score': 0.019292789018833467,\n",
              "  'prediction': 1},\n",
              " {'conjunction': [('ch_bad_0',\n",
              "    <function library_w19_week4.build_pred.<locals>.<lambda>>),\n",
              "   ('pa_Semiurban_1',\n",
              "    <function library_w19_week4.build_pred.<locals>.<lambda>>),\n",
              "   ('lam_Average_1',\n",
              "    <function library_w19_week4.build_pred.<locals>.<lambda>>)],\n",
              "  'gig_score': 0.0052148575352743975,\n",
              "  'prediction': 1},\n",
              " {'conjunction': [('ch_bad_1',\n",
              "    <function library_w19_week4.build_pred.<locals>.<lambda>>),\n",
              "   ('apin_average_0',\n",
              "    <function library_w19_week4.build_pred.<locals>.<lambda>>),\n",
              "   ('pa_Urban_1', <function library_w19_week4.build_pred.<locals>.<lambda>>)],\n",
              "  'gig_score': 0.0014037192421204325,\n",
              "  'prediction': 0},\n",
              " {'conjunction': [('ch_bad_0',\n",
              "    <function library_w19_week4.build_pred.<locals>.<lambda>>),\n",
              "   ('pa_Semiurban_0',\n",
              "    <function library_w19_week4.build_pred.<locals>.<lambda>>),\n",
              "   ('dep_2_1', <function library_w19_week4.build_pred.<locals>.<lambda>>)],\n",
              "  'gig_score': 0.0021858669417437193,\n",
              "  'prediction': 1},\n",
              " {'conjunction': [('ch_bad_1',\n",
              "    <function library_w19_week4.build_pred.<locals>.<lambda>>),\n",
              "   ('apin_average_0',\n",
              "    <function library_w19_week4.build_pred.<locals>.<lambda>>),\n",
              "   ('pa_Urban_0', <function library_w19_week4.build_pred.<locals>.<lambda>>)],\n",
              "  'gig_score': 0.0014037192421204325,\n",
              "  'prediction': 0},\n",
              " {'conjunction': [('ch_bad_0',\n",
              "    <function library_w19_week4.build_pred.<locals>.<lambda>>),\n",
              "   ('pa_Semiurban_1',\n",
              "    <function library_w19_week4.build_pred.<locals>.<lambda>>),\n",
              "   ('lam_Average_0',\n",
              "    <function library_w19_week4.build_pred.<locals>.<lambda>>)],\n",
              "  'gig_score': 0.0052148575352743975,\n",
              "  'prediction': 1},\n",
              " {'conjunction': [('ch_bad_0',\n",
              "    <function library_w19_week4.build_pred.<locals>.<lambda>>),\n",
              "   ('pa_Semiurban_0',\n",
              "    <function library_w19_week4.build_pred.<locals>.<lambda>>),\n",
              "   ('dep_2_0', <function library_w19_week4.build_pred.<locals>.<lambda>>)],\n",
              "  'gig_score': 0.0021858669417437193,\n",
              "  'prediction': 1}]"
            ]
          },
          "metadata": {
            "tags": []
          },
          "execution_count": 42
        }
      ]
    },
    {
      "metadata": {
        "id": "3D0q0_s9gxxd",
        "colab_type": "code",
        "outputId": "a8a3263d-eeab-4597-97f9-a056e73e9506",
        "colab": {
          "base_uri": "https://localhost:8080/",
          "height": 420
        }
      },
      "cell_type": "code",
      "source": [
        "tree2['paths']  #before we reorder"
      ],
      "execution_count": 43,
      "outputs": [
        {
          "output_type": "execute_result",
          "data": {
            "text/plain": [
              "[{'conjunction': [('ch_bad_1',\n",
              "    <function library_w19_week4.build_pred.<locals>.<lambda>>),\n",
              "   ('apin_average_1',\n",
              "    <function library_w19_week4.build_pred.<locals>.<lambda>>)],\n",
              "  'gig_score': 0.019292789018833467,\n",
              "  'prediction': 1},\n",
              " {'conjunction': [('ch_bad_1',\n",
              "    <function library_w19_week4.build_pred.<locals>.<lambda>>),\n",
              "   ('apin_average_0',\n",
              "    <function library_w19_week4.build_pred.<locals>.<lambda>>)],\n",
              "  'gig_score': 0.019292789018833467,\n",
              "  'prediction': 0},\n",
              " {'conjunction': [('ch_bad_0',\n",
              "    <function library_w19_week4.build_pred.<locals>.<lambda>>),\n",
              "   ('pa_Semiurban_1',\n",
              "    <function library_w19_week4.build_pred.<locals>.<lambda>>)],\n",
              "  'gig_score': 0.006462619030620731,\n",
              "  'prediction': 1},\n",
              " {'conjunction': [('ch_bad_0',\n",
              "    <function library_w19_week4.build_pred.<locals>.<lambda>>),\n",
              "   ('pa_Semiurban_0',\n",
              "    <function library_w19_week4.build_pred.<locals>.<lambda>>)],\n",
              "  'gig_score': 0.006462619030620731,\n",
              "  'prediction': 1}]"
            ]
          },
          "metadata": {
            "tags": []
          },
          "execution_count": 43
        }
      ]
    },
    {
      "metadata": {
        "id": "LEGh7Tez2Txw",
        "colab_type": "code",
        "outputId": "a798d652-b8b2-41bd-a831-1d85116d583e",
        "colab": {
          "base_uri": "https://localhost:8080/",
          "height": 874
        }
      },
      "cell_type": "code",
      "source": [
        "reorder_paths(loan_table, tree2)"
      ],
      "execution_count": 44,
      "outputs": [
        {
          "output_type": "stream",
          "text": [
            "[(3, 322), (2, 203), (1, 88), (0, 1)]\n"
          ],
          "name": "stdout"
        },
        {
          "output_type": "execute_result",
          "data": {
            "text/plain": [
              "[{'conjunction': [('ch_bad_1',\n",
              "    <function library_w19_week4.build_pred.<locals>.<lambda>>),\n",
              "   ('apin_average_1',\n",
              "    <function library_w19_week4.build_pred.<locals>.<lambda>>)],\n",
              "  'gig_score': 0.019292789018833467,\n",
              "  'prediction': 1},\n",
              " {'conjunction': [('ch_bad_0',\n",
              "    <function library_w19_week4.build_pred.<locals>.<lambda>>),\n",
              "   ('pa_Semiurban_1',\n",
              "    <function library_w19_week4.build_pred.<locals>.<lambda>>),\n",
              "   ('lam_Average_1',\n",
              "    <function library_w19_week4.build_pred.<locals>.<lambda>>)],\n",
              "  'gig_score': 0.0052148575352743975,\n",
              "  'prediction': 1},\n",
              " {'conjunction': [('ch_bad_1',\n",
              "    <function library_w19_week4.build_pred.<locals>.<lambda>>),\n",
              "   ('apin_average_0',\n",
              "    <function library_w19_week4.build_pred.<locals>.<lambda>>),\n",
              "   ('pa_Urban_1', <function library_w19_week4.build_pred.<locals>.<lambda>>)],\n",
              "  'gig_score': 0.0014037192421204325,\n",
              "  'prediction': 0},\n",
              " {'conjunction': [('ch_bad_0',\n",
              "    <function library_w19_week4.build_pred.<locals>.<lambda>>),\n",
              "   ('pa_Semiurban_0',\n",
              "    <function library_w19_week4.build_pred.<locals>.<lambda>>),\n",
              "   ('dep_2_1', <function library_w19_week4.build_pred.<locals>.<lambda>>)],\n",
              "  'gig_score': 0.0021858669417437193,\n",
              "  'prediction': 1},\n",
              " {'conjunction': [('ch_bad_1',\n",
              "    <function library_w19_week4.build_pred.<locals>.<lambda>>),\n",
              "   ('apin_average_0',\n",
              "    <function library_w19_week4.build_pred.<locals>.<lambda>>),\n",
              "   ('pa_Urban_0', <function library_w19_week4.build_pred.<locals>.<lambda>>)],\n",
              "  'gig_score': 0.0014037192421204325,\n",
              "  'prediction': 0},\n",
              " {'conjunction': [('ch_bad_0',\n",
              "    <function library_w19_week4.build_pred.<locals>.<lambda>>),\n",
              "   ('pa_Semiurban_1',\n",
              "    <function library_w19_week4.build_pred.<locals>.<lambda>>),\n",
              "   ('lam_Average_0',\n",
              "    <function library_w19_week4.build_pred.<locals>.<lambda>>)],\n",
              "  'gig_score': 0.0052148575352743975,\n",
              "  'prediction': 1},\n",
              " {'conjunction': [('ch_bad_0',\n",
              "    <function library_w19_week4.build_pred.<locals>.<lambda>>),\n",
              "   ('pa_Semiurban_0',\n",
              "    <function library_w19_week4.build_pred.<locals>.<lambda>>),\n",
              "   ('dep_2_0', <function library_w19_week4.build_pred.<locals>.<lambda>>)],\n",
              "  'gig_score': 0.0021858669417437193,\n",
              "  'prediction': 1}]"
            ]
          },
          "metadata": {
            "tags": []
          },
          "execution_count": 44
        }
      ]
    },
    {
      "metadata": {
        "id": "hkKC-xsP2Tx1",
        "colab_type": "code",
        "outputId": "fbef2031-f1e4-44b8-a2a4-1d95715bbde6",
        "colab": {
          "base_uri": "https://localhost:8080/",
          "height": 874
        }
      },
      "cell_type": "code",
      "source": [
        "reorder_paths(loan_table, tree3)"
      ],
      "execution_count": 45,
      "outputs": [
        {
          "output_type": "stream",
          "text": [
            "[(6, 267), (4, 187), (2, 57), (5, 55), (1, 31), (3, 16), (0, 1)]\n"
          ],
          "name": "stdout"
        },
        {
          "output_type": "execute_result",
          "data": {
            "text/plain": [
              "[{'conjunction': [('ch_bad_1',\n",
              "    <function library_w19_week4.build_pred.<locals>.<lambda>>),\n",
              "   ('apin_average_1',\n",
              "    <function library_w19_week4.build_pred.<locals>.<lambda>>)],\n",
              "  'gig_score': 0.019292789018833467,\n",
              "  'prediction': 1},\n",
              " {'conjunction': [('ch_bad_0',\n",
              "    <function library_w19_week4.build_pred.<locals>.<lambda>>),\n",
              "   ('pa_Semiurban_1',\n",
              "    <function library_w19_week4.build_pred.<locals>.<lambda>>),\n",
              "   ('lam_Average_1',\n",
              "    <function library_w19_week4.build_pred.<locals>.<lambda>>)],\n",
              "  'gig_score': 0.0052148575352743975,\n",
              "  'prediction': 1},\n",
              " {'conjunction': [('ch_bad_1',\n",
              "    <function library_w19_week4.build_pred.<locals>.<lambda>>),\n",
              "   ('apin_average_0',\n",
              "    <function library_w19_week4.build_pred.<locals>.<lambda>>),\n",
              "   ('pa_Urban_1', <function library_w19_week4.build_pred.<locals>.<lambda>>)],\n",
              "  'gig_score': 0.0014037192421204325,\n",
              "  'prediction': 0},\n",
              " {'conjunction': [('ch_bad_0',\n",
              "    <function library_w19_week4.build_pred.<locals>.<lambda>>),\n",
              "   ('pa_Semiurban_0',\n",
              "    <function library_w19_week4.build_pred.<locals>.<lambda>>),\n",
              "   ('dep_2_1', <function library_w19_week4.build_pred.<locals>.<lambda>>)],\n",
              "  'gig_score': 0.0021858669417437193,\n",
              "  'prediction': 1},\n",
              " {'conjunction': [('ch_bad_1',\n",
              "    <function library_w19_week4.build_pred.<locals>.<lambda>>),\n",
              "   ('apin_average_0',\n",
              "    <function library_w19_week4.build_pred.<locals>.<lambda>>),\n",
              "   ('pa_Urban_0', <function library_w19_week4.build_pred.<locals>.<lambda>>)],\n",
              "  'gig_score': 0.0014037192421204325,\n",
              "  'prediction': 0},\n",
              " {'conjunction': [('ch_bad_0',\n",
              "    <function library_w19_week4.build_pred.<locals>.<lambda>>),\n",
              "   ('pa_Semiurban_1',\n",
              "    <function library_w19_week4.build_pred.<locals>.<lambda>>),\n",
              "   ('lam_Average_0',\n",
              "    <function library_w19_week4.build_pred.<locals>.<lambda>>)],\n",
              "  'gig_score': 0.0052148575352743975,\n",
              "  'prediction': 1},\n",
              " {'conjunction': [('ch_bad_0',\n",
              "    <function library_w19_week4.build_pred.<locals>.<lambda>>),\n",
              "   ('pa_Semiurban_0',\n",
              "    <function library_w19_week4.build_pred.<locals>.<lambda>>),\n",
              "   ('dep_2_0', <function library_w19_week4.build_pred.<locals>.<lambda>>)],\n",
              "  'gig_score': 0.0021858669417437193,\n",
              "  'prediction': 1}]"
            ]
          },
          "metadata": {
            "tags": []
          },
          "execution_count": 45
        }
      ]
    },
    {
      "metadata": {
        "collapsed": true,
        "id": "ji-VXUTc2Tx4",
        "colab_type": "text"
      },
      "cell_type": "markdown",
      "source": [
        "<hr>\n",
        "<h1>Write it out</h1>\n",
        "<div class=h1_cell>\n",
        "\n",
        "We changed both loan_table and loan results. Write them out.\n",
        "</div>"
      ]
    },
    {
      "metadata": {
        "id": "HZakuDB42Tx4",
        "colab_type": "code",
        "colab": {}
      },
      "cell_type": "code",
      "source": [
        "with open('/content/gdrive/My Drive/class_tables/loan_table_week4.csv', 'w') as f:\n",
        "  loan_table.to_csv(f, encoding='utf-8', index=False)\n",
        "  \n",
        "with open('/content/gdrive/My Drive/class_tables/loan_results_week4.csv', 'w') as f:\n",
        "  loan_results.to_csv(f, encoding='utf-8', index=False)"
      ],
      "execution_count": 0,
      "outputs": []
    },
    {
      "metadata": {
        "id": "eyLXfBnWhXb3",
        "colab_type": "text"
      },
      "cell_type": "markdown",
      "source": [
        "<hr>\n",
        "<h1>Don't forget library functions</h1>\n",
        "<div class=h1_cell>\n",
        "\n",
        "Add them to `library_w19_week4b.py`. You defined `library_w19_week4.py` in intro module. You are now defining a new version of it with functions from this notebook. I added the `b` to keep them clear.\n",
        "</div>"
      ]
    }
  ]
}