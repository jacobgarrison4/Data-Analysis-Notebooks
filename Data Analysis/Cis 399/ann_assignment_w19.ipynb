{
  "nbformat": 4,
  "nbformat_minor": 0,
  "metadata": {
    "colab": {
      "name": "ann_assignment_w19.ipynb",
      "version": "0.3.2",
      "provenance": [],
      "collapsed_sections": []
    },
    "kernelspec": {
      "name": "python3",
      "display_name": "Python 3"
    }
  },
  "cells": [
    {
      "metadata": {
        "id": "Rh4uU7eob-bc",
        "colab_type": "text"
      },
      "cell_type": "markdown",
      "source": [
        "<h1>\n",
        "<center>\n",
        "Module 8: Artifical Neural Nets Assignment\n",
        "</center>\n",
        "</h1>\n",
        "<div class=h1_cell>\n",
        "<p>\n",
        "I think it would be fun to try something out. Let's apply our ANN method to predicting loans. We have been using what are termed \"shallow\" machine learning methods to this point. Let's see what we can do with an ANN.\n",
        "</div>"
      ]
    },
    {
      "metadata": {
        "id": "zn2536_DVRFX",
        "colab_type": "code",
        "outputId": "68d4b9fe-aeec-4bbc-bc34-437b92e29b69",
        "colab": {
          "base_uri": "https://localhost:8080/",
          "height": 33
        }
      },
      "cell_type": "code",
      "source": [
        "import pandas as pd\n",
        "\n",
        "from google.colab import drive\n",
        "drive.mount('/content/gdrive')"
      ],
      "execution_count": 1,
      "outputs": [
        {
          "output_type": "stream",
          "text": [
            "Drive already mounted at /content/gdrive; to attempt to forcibly remount, call drive.mount(\"/content/gdrive\", force_remount=True).\n"
          ],
          "name": "stdout"
        }
      ]
    },
    {
      "metadata": {
        "id": "8IP18ATeIua5",
        "colab_type": "code",
        "colab": {}
      },
      "cell_type": "code",
      "source": [
        "with open('/content/gdrive/My Drive/class_tables/loan_table_week4.csv', 'r') as f:\n",
        "  loan_table = pd.read_csv(f)"
      ],
      "execution_count": 0,
      "outputs": []
    },
    {
      "metadata": {
        "id": "hWoM9sKqIwIC",
        "colab_type": "code",
        "colab": {}
      },
      "cell_type": "code",
      "source": [
        "!rm library_w19_deep_1.py"
      ],
      "execution_count": 0,
      "outputs": []
    },
    {
      "metadata": {
        "id": "PFQYpd2NI0IV",
        "colab_type": "code",
        "outputId": "9b724d5b-bd4f-4292-c450-d2c4dcbc1d7f",
        "colab": {
          "resources": {
            "http://localhost:8080/nbextensions/google.colab/files.js": {
              "data": "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",
              "ok": true,
              "headers": [
                [
                  "content-type",
                  "application/javascript"
                ]
              ],
              "status": 200,
              "status_text": ""
            }
          },
          "base_uri": "https://localhost:8080/",
          "height": 111
        }
      },
      "cell_type": "code",
      "source": [
        "from google.colab import files\n",
        "files.upload()"
      ],
      "execution_count": 4,
      "outputs": [
        {
          "output_type": "display_data",
          "data": {
            "text/html": [
              "\n",
              "     <input type=\"file\" id=\"files-a3f6d1c5-9561-40db-8cf2-2eb52c98d34d\" name=\"files[]\" multiple disabled />\n",
              "     <output id=\"result-a3f6d1c5-9561-40db-8cf2-2eb52c98d34d\">\n",
              "      Upload widget is only available when the cell has been executed in the\n",
              "      current browser session. Please rerun this cell to enable.\n",
              "      </output>\n",
              "      <script src=\"/nbextensions/google.colab/files.js\"></script> "
            ],
            "text/plain": [
              "<IPython.core.display.HTML object>"
            ]
          },
          "metadata": {
            "tags": []
          }
        },
        {
          "output_type": "stream",
          "text": [
            "Saving library_w19_deep_1.py to library_w19_deep_1.py\n"
          ],
          "name": "stdout"
        },
        {
          "output_type": "execute_result",
          "data": {
            "text/plain": [
              "{'library_w19_deep_1.py': b\"import numpy as np\\r\\n\\r\\ndef sigmoid(x):  \\r\\n    return 1/(1+np.exp(-x))\\r\\n\\r\\ndef mse(z,y):\\r\\n  return (z-y)**2\\r\\n\\r\\ndef mse_der(z,y):\\r\\n  return z-y\\r\\n\\r\\ndef sigmoid_der(x):  \\r\\n    return sigmoid(x)*(1-sigmoid(x))\\r\\n\\r\\ndef ann_simple(all_samples, labels, weights, bias, hypers={}):\\r\\n  \\r\\n  '''\\r\\n  Can build an ANN with n input nodes and one output node.\\r\\n  Uses sigmoid and mse.\\r\\n  '''\\r\\n  \\r\\n  input_n = all_samples.shape[1]  #number of inputs in each sample\\r\\n  \\r\\n  assert weights.shape == (input_n,1), 'weights needs to have same shape as sample'\\r\\n  assert all_samples.shape[0] >= 1, 'all_samples must represent 1 or more samples'\\r\\n  assert bias.shape == (1,) , 'a single bias weight for output node'\\r\\n  assert labels.shape[1] == 1, 'actual value for the 1 output node'\\r\\n  assert labels.shape[0] == all_samples.shape[0], 'labels must match up with samples'\\r\\n  \\r\\n  hyper_keys = [*hypers]  #fails on 2.7\\r\\n  target_set = set(['epochs', 'cost-reporting', 'learning-rate'])  #might add more later\\r\\n  diff_set = set(hyper_keys) - target_set\\r\\n  if diff_set: print('WARNING: unrecognized hyper parameters ' + str(diff_set))\\r\\n\\r\\n  max_epochs = hypers['epochs'] if 'epochs' in hypers else 100\\r\\n  cost_reporting = hypers['cost-reporting'] if 'cost-reporting' in hypers else 100  #how often to report epoch cost\\r\\n  alpha = hypers['learning-rate'] if 'learning-rate' in hypers else .05\\r\\n  \\r\\n  cost_accumulator = [0, 0]  #[count, sum] use to print out costs now and then\\r\\n  \\r\\n  for i in range(max_epochs):\\r\\n\\r\\n    #Go through each sample forward and backward\\r\\n    for j in range(len(all_samples)):\\r\\n\\r\\n\\r\\n      #do forward propogation\\r\\n      sample = np.expand_dims(all_samples[j], axis=1) #transform to match up with weight shape\\r\\n      XW = np.multiply(sample, weights)\\r\\n      XW_sum = np.sum(XW, axis=0)\\r\\n      raw_output = XW_sum + bias\\r\\n      z = sigmoid(raw_output)  #what we are predicting\\r\\n\\r\\n      #compute error\\r\\n      cost = mse(z, labels[j])\\r\\n      cost_accumulator[0] += 1  #use to print out\\r\\n      cost_accumulator[1] += cost  #use to print out\\r\\n\\r\\n      #back propogation\\r\\n      mse_deriv_value = mse_der(z, labels[j])\\r\\n      sigmoid_deriv_value = sigmoid_der(raw_output)\\r\\n      z_delta = mse_deriv_value * sigmoid_deriv_value\\r\\n\\r\\n      #update weights - notice z_delta part of each update\\r\\n      for k in range(len(weights)):\\r\\n        weights[k][0] -= alpha * all_samples[j][k] * z_delta\\r\\n        \\r\\n      #update bias\\r\\n      bias -=  1.0*z_delta\\r\\n\\r\\n    #print ith cost value\\r\\n    if i%cost_reporting == 0:\\r\\n      average_cost = cost_accumulator[1]/cost_accumulator[0]  #really mse where n is cost_reporting epochs\\r\\n      print((i,average_cost))\\r\\n      cost_accumulator = [0, 0]  #reset\\r\\n  #end epoch loop\\r\\n  \\r\\n  if cost_accumulator[0]:\\r\\n    average_cost = cost_accumulator[1]/cost_accumulator[0]  #really mse where n is cost_reporting epochs\\r\\n    print((max_epochs,average_cost))\\r\\n    \\r\\n  return (weights,bias)  #don't lose these! They are the whole model.\\r\\n\\r\\ndef from_scratch(samples, labels, hypers):\\r\\n  \\r\\n  input_n = samples.shape[1]\\r\\n  \\r\\n  #reset weights to initial values. Seed of 42 guarantees same random values\\r\\n  np.random.seed(42)\\r\\n  weights = np.random.rand(input_n,1)  #elasticity in action\\r\\n  bias = np.random.rand(1)\\r\\n  \\r\\n  return ann_simple(samples, labels, weights, bias, hypers)\\r\\n\\r\\ndef ann_predictor(sample, weights, bias):\\r\\n  \\r\\n  s2 = np.expand_dims(sample, axis=1)\\r\\n  XW = np.multiply(s2, weights)\\r\\n  XW_sum = np.sum(XW, axis=0)\\r\\n  raw_output = XW_sum + bias\\r\\n  z = sigmoid(raw_output)\\r\\n\\r\\n  return 1 if z > .5 else 0  #.5 should probably be a parameter\\r\\n\\r\\ndef ann_tester(samples, labels, weights, bias):\\r\\n  weights = np.array(weights)\\r\\n  bias = np.array(bias)\\r\\n  \\r\\n  predictions = [ann_predictor(s, weights, bias) for s in samples]\\r\\n  zipped = list(zip(predictions, labels))\\r\\n  \\r\\n  return (zipped.count((1,1)) + zipped.count((0,0)))/len(zipped)\"}"
            ]
          },
          "metadata": {
            "tags": []
          },
          "execution_count": 4
        }
      ]
    },
    {
      "metadata": {
        "id": "3FbjstFWI8XJ",
        "colab_type": "code",
        "outputId": "6ebf3ba1-ecee-4cc8-aeef-554b3ac61412",
        "colab": {
          "base_uri": "https://localhost:8080/",
          "height": 33
        }
      },
      "cell_type": "code",
      "source": [
        "from library_w19_deep_1 import *\n",
        "\n",
        "%who function"
      ],
      "execution_count": 5,
      "outputs": [
        {
          "output_type": "stream",
          "text": [
            "ann_predictor\t ann_simple\t ann_tester\t from_scratch\t mse\t mse_der\t sigmoid\t sigmoid_der\t \n"
          ],
          "name": "stdout"
        }
      ]
    },
    {
      "metadata": {
        "id": "q2rlz-NCnVwf",
        "colab_type": "code",
        "colab": {}
      },
      "cell_type": "code",
      "source": [
        ""
      ],
      "execution_count": 0,
      "outputs": []
    },
    {
      "metadata": {
        "id": "BitfuGKOnd1r",
        "colab_type": "text"
      },
      "cell_type": "markdown",
      "source": [
        "<h2>Challenge 1: connect Loan Table to simple ANN (30 points)</h2>\n",
        "\n",
        "Choose 3 columns from loan_table and wrangle them into shape so we can feed our simple ANN."
      ]
    },
    {
      "metadata": {
        "id": "JJP5W7PQ5yB7",
        "colab_type": "text"
      },
      "cell_type": "markdown",
      "source": [
        "<h2>Reminder of what we are working with</h2>\n",
        "\n",
        "I'm saying we can choose 3 columns from the loan table and use the values for the 3 inputs x1,x2,x3.\n",
        "\n",
        "<img src='https://www.dropbox.com/s/09vo4h9mufmo6tn/Screenshot%202019-02-01%2015.23.42.png?raw=1'>"
      ]
    },
    {
      "metadata": {
        "id": "bI53b4Fd6wtG",
        "colab_type": "text"
      },
      "cell_type": "markdown",
      "source": [
        "<h2>Choice of our 3 columns</h2>\n",
        "\n",
        "Here are the columns we have to choose from."
      ]
    },
    {
      "metadata": {
        "id": "Z-9MMsJgOoGz",
        "colab_type": "code",
        "outputId": "5ff313f4-5d2d-44e0-d708-4150e9c0c982",
        "colab": {
          "base_uri": "https://localhost:8080/",
          "height": 126
        }
      },
      "cell_type": "code",
      "source": [
        "loan_table.head(1)"
      ],
      "execution_count": 6,
      "outputs": [
        {
          "output_type": "execute_result",
          "data": {
            "text/html": [
              "<div>\n",
              "<style scoped>\n",
              "    .dataframe tbody tr th:only-of-type {\n",
              "        vertical-align: middle;\n",
              "    }\n",
              "\n",
              "    .dataframe tbody tr th {\n",
              "        vertical-align: top;\n",
              "    }\n",
              "\n",
              "    .dataframe thead th {\n",
              "        text-align: right;\n",
              "    }\n",
              "</style>\n",
              "<table border=\"1\" class=\"dataframe\">\n",
              "  <thead>\n",
              "    <tr style=\"text-align: right;\">\n",
              "      <th></th>\n",
              "      <th>Gender</th>\n",
              "      <th>Married</th>\n",
              "      <th>Dependents</th>\n",
              "      <th>Education</th>\n",
              "      <th>Self_Employed</th>\n",
              "      <th>ApplicantIncome</th>\n",
              "      <th>CoapplicantIncome</th>\n",
              "      <th>LoanAmount</th>\n",
              "      <th>Loan_Amount_Term</th>\n",
              "      <th>Credit_History</th>\n",
              "      <th>...</th>\n",
              "      <th>apin_binned</th>\n",
              "      <th>apin_low</th>\n",
              "      <th>apin_average</th>\n",
              "      <th>apin_high</th>\n",
              "      <th>apin_nan</th>\n",
              "      <th>dep_0</th>\n",
              "      <th>dep_1</th>\n",
              "      <th>dep_2</th>\n",
              "      <th>dep_3+</th>\n",
              "      <th>dep_nan</th>\n",
              "    </tr>\n",
              "  </thead>\n",
              "  <tbody>\n",
              "    <tr>\n",
              "      <th>0</th>\n",
              "      <td>Male</td>\n",
              "      <td>No</td>\n",
              "      <td>0</td>\n",
              "      <td>Graduate</td>\n",
              "      <td>No</td>\n",
              "      <td>5849</td>\n",
              "      <td>0.0</td>\n",
              "      <td>NaN</td>\n",
              "      <td>360.0</td>\n",
              "      <td>1.0</td>\n",
              "      <td>...</td>\n",
              "      <td>low</td>\n",
              "      <td>1</td>\n",
              "      <td>0</td>\n",
              "      <td>0</td>\n",
              "      <td>0</td>\n",
              "      <td>1</td>\n",
              "      <td>0</td>\n",
              "      <td>0</td>\n",
              "      <td>0</td>\n",
              "      <td>0</td>\n",
              "    </tr>\n",
              "  </tbody>\n",
              "</table>\n",
              "<p>1 rows × 35 columns</p>\n",
              "</div>"
            ],
            "text/plain": [
              "  Gender Married Dependents Education Self_Employed  ApplicantIncome  \\\n",
              "0   Male      No          0  Graduate            No             5849   \n",
              "\n",
              "   CoapplicantIncome  LoanAmount  Loan_Amount_Term  Credit_History   ...     \\\n",
              "0                0.0         NaN             360.0             1.0   ...      \n",
              "\n",
              "  apin_binned  apin_low  apin_average  apin_high  apin_nan  dep_0  dep_1  \\\n",
              "0         low         1             0          0         0      1      0   \n",
              "\n",
              "   dep_2 dep_3+  dep_nan  \n",
              "0      0      0        0  \n",
              "\n",
              "[1 rows x 35 columns]"
            ]
          },
          "metadata": {
            "tags": []
          },
          "execution_count": 6
        }
      ]
    },
    {
      "metadata": {
        "id": "679pQCGkPVLe",
        "colab_type": "code",
        "outputId": "a54d4477-b05f-483f-b3d7-2c3f6cf77290",
        "colab": {
          "base_uri": "https://localhost:8080/",
          "height": 424
        }
      },
      "cell_type": "code",
      "source": [
        "loan_table.describe(include='all')"
      ],
      "execution_count": 7,
      "outputs": [
        {
          "output_type": "execute_result",
          "data": {
            "text/html": [
              "<div>\n",
              "<style scoped>\n",
              "    .dataframe tbody tr th:only-of-type {\n",
              "        vertical-align: middle;\n",
              "    }\n",
              "\n",
              "    .dataframe tbody tr th {\n",
              "        vertical-align: top;\n",
              "    }\n",
              "\n",
              "    .dataframe thead th {\n",
              "        text-align: right;\n",
              "    }\n",
              "</style>\n",
              "<table border=\"1\" class=\"dataframe\">\n",
              "  <thead>\n",
              "    <tr style=\"text-align: right;\">\n",
              "      <th></th>\n",
              "      <th>Gender</th>\n",
              "      <th>Married</th>\n",
              "      <th>Dependents</th>\n",
              "      <th>Education</th>\n",
              "      <th>Self_Employed</th>\n",
              "      <th>ApplicantIncome</th>\n",
              "      <th>CoapplicantIncome</th>\n",
              "      <th>LoanAmount</th>\n",
              "      <th>Loan_Amount_Term</th>\n",
              "      <th>Credit_History</th>\n",
              "      <th>...</th>\n",
              "      <th>apin_binned</th>\n",
              "      <th>apin_low</th>\n",
              "      <th>apin_average</th>\n",
              "      <th>apin_high</th>\n",
              "      <th>apin_nan</th>\n",
              "      <th>dep_0</th>\n",
              "      <th>dep_1</th>\n",
              "      <th>dep_2</th>\n",
              "      <th>dep_3+</th>\n",
              "      <th>dep_nan</th>\n",
              "    </tr>\n",
              "  </thead>\n",
              "  <tbody>\n",
              "    <tr>\n",
              "      <th>count</th>\n",
              "      <td>601</td>\n",
              "      <td>611</td>\n",
              "      <td>599</td>\n",
              "      <td>614</td>\n",
              "      <td>582</td>\n",
              "      <td>614.000000</td>\n",
              "      <td>614.000000</td>\n",
              "      <td>592.000000</td>\n",
              "      <td>600.00000</td>\n",
              "      <td>564.000000</td>\n",
              "      <td>...</td>\n",
              "      <td>614</td>\n",
              "      <td>614.000000</td>\n",
              "      <td>614.000000</td>\n",
              "      <td>614.000000</td>\n",
              "      <td>614.0</td>\n",
              "      <td>614.000000</td>\n",
              "      <td>614.000000</td>\n",
              "      <td>614.000000</td>\n",
              "      <td>614.000000</td>\n",
              "      <td>614.000000</td>\n",
              "    </tr>\n",
              "    <tr>\n",
              "      <th>unique</th>\n",
              "      <td>2</td>\n",
              "      <td>2</td>\n",
              "      <td>4</td>\n",
              "      <td>2</td>\n",
              "      <td>2</td>\n",
              "      <td>NaN</td>\n",
              "      <td>NaN</td>\n",
              "      <td>NaN</td>\n",
              "      <td>NaN</td>\n",
              "      <td>NaN</td>\n",
              "      <td>...</td>\n",
              "      <td>3</td>\n",
              "      <td>NaN</td>\n",
              "      <td>NaN</td>\n",
              "      <td>NaN</td>\n",
              "      <td>NaN</td>\n",
              "      <td>NaN</td>\n",
              "      <td>NaN</td>\n",
              "      <td>NaN</td>\n",
              "      <td>NaN</td>\n",
              "      <td>NaN</td>\n",
              "    </tr>\n",
              "    <tr>\n",
              "      <th>top</th>\n",
              "      <td>Male</td>\n",
              "      <td>Yes</td>\n",
              "      <td>0</td>\n",
              "      <td>Graduate</td>\n",
              "      <td>No</td>\n",
              "      <td>NaN</td>\n",
              "      <td>NaN</td>\n",
              "      <td>NaN</td>\n",
              "      <td>NaN</td>\n",
              "      <td>NaN</td>\n",
              "      <td>...</td>\n",
              "      <td>low</td>\n",
              "      <td>NaN</td>\n",
              "      <td>NaN</td>\n",
              "      <td>NaN</td>\n",
              "      <td>NaN</td>\n",
              "      <td>NaN</td>\n",
              "      <td>NaN</td>\n",
              "      <td>NaN</td>\n",
              "      <td>NaN</td>\n",
              "      <td>NaN</td>\n",
              "    </tr>\n",
              "    <tr>\n",
              "      <th>freq</th>\n",
              "      <td>489</td>\n",
              "      <td>398</td>\n",
              "      <td>345</td>\n",
              "      <td>480</td>\n",
              "      <td>500</td>\n",
              "      <td>NaN</td>\n",
              "      <td>NaN</td>\n",
              "      <td>NaN</td>\n",
              "      <td>NaN</td>\n",
              "      <td>NaN</td>\n",
              "      <td>...</td>\n",
              "      <td>607</td>\n",
              "      <td>NaN</td>\n",
              "      <td>NaN</td>\n",
              "      <td>NaN</td>\n",
              "      <td>NaN</td>\n",
              "      <td>NaN</td>\n",
              "      <td>NaN</td>\n",
              "      <td>NaN</td>\n",
              "      <td>NaN</td>\n",
              "      <td>NaN</td>\n",
              "    </tr>\n",
              "    <tr>\n",
              "      <th>mean</th>\n",
              "      <td>NaN</td>\n",
              "      <td>NaN</td>\n",
              "      <td>NaN</td>\n",
              "      <td>NaN</td>\n",
              "      <td>NaN</td>\n",
              "      <td>5403.459283</td>\n",
              "      <td>1621.245798</td>\n",
              "      <td>146.412162</td>\n",
              "      <td>342.00000</td>\n",
              "      <td>0.842199</td>\n",
              "      <td>...</td>\n",
              "      <td>NaN</td>\n",
              "      <td>0.988599</td>\n",
              "      <td>0.008143</td>\n",
              "      <td>0.003257</td>\n",
              "      <td>0.0</td>\n",
              "      <td>0.561889</td>\n",
              "      <td>0.166124</td>\n",
              "      <td>0.164495</td>\n",
              "      <td>0.083062</td>\n",
              "      <td>0.024430</td>\n",
              "    </tr>\n",
              "    <tr>\n",
              "      <th>std</th>\n",
              "      <td>NaN</td>\n",
              "      <td>NaN</td>\n",
              "      <td>NaN</td>\n",
              "      <td>NaN</td>\n",
              "      <td>NaN</td>\n",
              "      <td>6109.041673</td>\n",
              "      <td>2926.248369</td>\n",
              "      <td>85.587325</td>\n",
              "      <td>65.12041</td>\n",
              "      <td>0.364878</td>\n",
              "      <td>...</td>\n",
              "      <td>NaN</td>\n",
              "      <td>0.106250</td>\n",
              "      <td>0.089945</td>\n",
              "      <td>0.057026</td>\n",
              "      <td>0.0</td>\n",
              "      <td>0.496559</td>\n",
              "      <td>0.372495</td>\n",
              "      <td>0.371027</td>\n",
              "      <td>0.276201</td>\n",
              "      <td>0.154506</td>\n",
              "    </tr>\n",
              "    <tr>\n",
              "      <th>min</th>\n",
              "      <td>NaN</td>\n",
              "      <td>NaN</td>\n",
              "      <td>NaN</td>\n",
              "      <td>NaN</td>\n",
              "      <td>NaN</td>\n",
              "      <td>150.000000</td>\n",
              "      <td>0.000000</td>\n",
              "      <td>9.000000</td>\n",
              "      <td>12.00000</td>\n",
              "      <td>0.000000</td>\n",
              "      <td>...</td>\n",
              "      <td>NaN</td>\n",
              "      <td>0.000000</td>\n",
              "      <td>0.000000</td>\n",
              "      <td>0.000000</td>\n",
              "      <td>0.0</td>\n",
              "      <td>0.000000</td>\n",
              "      <td>0.000000</td>\n",
              "      <td>0.000000</td>\n",
              "      <td>0.000000</td>\n",
              "      <td>0.000000</td>\n",
              "    </tr>\n",
              "    <tr>\n",
              "      <th>25%</th>\n",
              "      <td>NaN</td>\n",
              "      <td>NaN</td>\n",
              "      <td>NaN</td>\n",
              "      <td>NaN</td>\n",
              "      <td>NaN</td>\n",
              "      <td>2877.500000</td>\n",
              "      <td>0.000000</td>\n",
              "      <td>100.000000</td>\n",
              "      <td>360.00000</td>\n",
              "      <td>1.000000</td>\n",
              "      <td>...</td>\n",
              "      <td>NaN</td>\n",
              "      <td>1.000000</td>\n",
              "      <td>0.000000</td>\n",
              "      <td>0.000000</td>\n",
              "      <td>0.0</td>\n",
              "      <td>0.000000</td>\n",
              "      <td>0.000000</td>\n",
              "      <td>0.000000</td>\n",
              "      <td>0.000000</td>\n",
              "      <td>0.000000</td>\n",
              "    </tr>\n",
              "    <tr>\n",
              "      <th>50%</th>\n",
              "      <td>NaN</td>\n",
              "      <td>NaN</td>\n",
              "      <td>NaN</td>\n",
              "      <td>NaN</td>\n",
              "      <td>NaN</td>\n",
              "      <td>3812.500000</td>\n",
              "      <td>1188.500000</td>\n",
              "      <td>128.000000</td>\n",
              "      <td>360.00000</td>\n",
              "      <td>1.000000</td>\n",
              "      <td>...</td>\n",
              "      <td>NaN</td>\n",
              "      <td>1.000000</td>\n",
              "      <td>0.000000</td>\n",
              "      <td>0.000000</td>\n",
              "      <td>0.0</td>\n",
              "      <td>1.000000</td>\n",
              "      <td>0.000000</td>\n",
              "      <td>0.000000</td>\n",
              "      <td>0.000000</td>\n",
              "      <td>0.000000</td>\n",
              "    </tr>\n",
              "    <tr>\n",
              "      <th>75%</th>\n",
              "      <td>NaN</td>\n",
              "      <td>NaN</td>\n",
              "      <td>NaN</td>\n",
              "      <td>NaN</td>\n",
              "      <td>NaN</td>\n",
              "      <td>5795.000000</td>\n",
              "      <td>2297.250000</td>\n",
              "      <td>168.000000</td>\n",
              "      <td>360.00000</td>\n",
              "      <td>1.000000</td>\n",
              "      <td>...</td>\n",
              "      <td>NaN</td>\n",
              "      <td>1.000000</td>\n",
              "      <td>0.000000</td>\n",
              "      <td>0.000000</td>\n",
              "      <td>0.0</td>\n",
              "      <td>1.000000</td>\n",
              "      <td>0.000000</td>\n",
              "      <td>0.000000</td>\n",
              "      <td>0.000000</td>\n",
              "      <td>0.000000</td>\n",
              "    </tr>\n",
              "    <tr>\n",
              "      <th>max</th>\n",
              "      <td>NaN</td>\n",
              "      <td>NaN</td>\n",
              "      <td>NaN</td>\n",
              "      <td>NaN</td>\n",
              "      <td>NaN</td>\n",
              "      <td>81000.000000</td>\n",
              "      <td>41667.000000</td>\n",
              "      <td>700.000000</td>\n",
              "      <td>480.00000</td>\n",
              "      <td>1.000000</td>\n",
              "      <td>...</td>\n",
              "      <td>NaN</td>\n",
              "      <td>1.000000</td>\n",
              "      <td>1.000000</td>\n",
              "      <td>1.000000</td>\n",
              "      <td>0.0</td>\n",
              "      <td>1.000000</td>\n",
              "      <td>1.000000</td>\n",
              "      <td>1.000000</td>\n",
              "      <td>1.000000</td>\n",
              "      <td>1.000000</td>\n",
              "    </tr>\n",
              "  </tbody>\n",
              "</table>\n",
              "<p>11 rows × 35 columns</p>\n",
              "</div>"
            ],
            "text/plain": [
              "       Gender Married Dependents Education Self_Employed  ApplicantIncome  \\\n",
              "count     601     611        599       614           582       614.000000   \n",
              "unique      2       2          4         2             2              NaN   \n",
              "top      Male     Yes          0  Graduate            No              NaN   \n",
              "freq      489     398        345       480           500              NaN   \n",
              "mean      NaN     NaN        NaN       NaN           NaN      5403.459283   \n",
              "std       NaN     NaN        NaN       NaN           NaN      6109.041673   \n",
              "min       NaN     NaN        NaN       NaN           NaN       150.000000   \n",
              "25%       NaN     NaN        NaN       NaN           NaN      2877.500000   \n",
              "50%       NaN     NaN        NaN       NaN           NaN      3812.500000   \n",
              "75%       NaN     NaN        NaN       NaN           NaN      5795.000000   \n",
              "max       NaN     NaN        NaN       NaN           NaN     81000.000000   \n",
              "\n",
              "        CoapplicantIncome  LoanAmount  Loan_Amount_Term  Credit_History  \\\n",
              "count          614.000000  592.000000         600.00000      564.000000   \n",
              "unique                NaN         NaN               NaN             NaN   \n",
              "top                   NaN         NaN               NaN             NaN   \n",
              "freq                  NaN         NaN               NaN             NaN   \n",
              "mean          1621.245798  146.412162         342.00000        0.842199   \n",
              "std           2926.248369   85.587325          65.12041        0.364878   \n",
              "min              0.000000    9.000000          12.00000        0.000000   \n",
              "25%              0.000000  100.000000         360.00000        1.000000   \n",
              "50%           1188.500000  128.000000         360.00000        1.000000   \n",
              "75%           2297.250000  168.000000         360.00000        1.000000   \n",
              "max          41667.000000  700.000000         480.00000        1.000000   \n",
              "\n",
              "           ...     apin_binned    apin_low  apin_average   apin_high  \\\n",
              "count      ...             614  614.000000    614.000000  614.000000   \n",
              "unique     ...               3         NaN           NaN         NaN   \n",
              "top        ...             low         NaN           NaN         NaN   \n",
              "freq       ...             607         NaN           NaN         NaN   \n",
              "mean       ...             NaN    0.988599      0.008143    0.003257   \n",
              "std        ...             NaN    0.106250      0.089945    0.057026   \n",
              "min        ...             NaN    0.000000      0.000000    0.000000   \n",
              "25%        ...             NaN    1.000000      0.000000    0.000000   \n",
              "50%        ...             NaN    1.000000      0.000000    0.000000   \n",
              "75%        ...             NaN    1.000000      0.000000    0.000000   \n",
              "max        ...             NaN    1.000000      1.000000    1.000000   \n",
              "\n",
              "        apin_nan       dep_0       dep_1       dep_2      dep_3+     dep_nan  \n",
              "count      614.0  614.000000  614.000000  614.000000  614.000000  614.000000  \n",
              "unique       NaN         NaN         NaN         NaN         NaN         NaN  \n",
              "top          NaN         NaN         NaN         NaN         NaN         NaN  \n",
              "freq         NaN         NaN         NaN         NaN         NaN         NaN  \n",
              "mean         0.0    0.561889    0.166124    0.164495    0.083062    0.024430  \n",
              "std          0.0    0.496559    0.372495    0.371027    0.276201    0.154506  \n",
              "min          0.0    0.000000    0.000000    0.000000    0.000000    0.000000  \n",
              "25%          0.0    0.000000    0.000000    0.000000    0.000000    0.000000  \n",
              "50%          0.0    1.000000    0.000000    0.000000    0.000000    0.000000  \n",
              "75%          0.0    1.000000    0.000000    0.000000    0.000000    0.000000  \n",
              "max          0.0    1.000000    1.000000    1.000000    1.000000    1.000000  \n",
              "\n",
              "[11 rows x 35 columns]"
            ]
          },
          "metadata": {
            "tags": []
          },
          "execution_count": 7
        }
      ]
    },
    {
      "metadata": {
        "id": "qPXkQTsdNuWk",
        "colab_type": "text"
      },
      "cell_type": "markdown",
      "source": [
        "I like `Credit_History` in its raw form - not ohe form. No need to use ohe with the ANN.\n",
        "<p>\n",
        "  I like `ApplicantIncome` in its raw form. Again, no need to bin or ohe this column. In essence, we are asking the ANN to find the bins that are most useful. You will have to normalize this column.\n",
        "  <p>\n",
        "    I like `Married` but we will have to transform into 0 and 1.\n",
        "    <p>\n",
        "      I am not going to mess around with rows that have an empty value in one of the 3 columns. I am just going to throw them out.\n",
        "      <p>\n",
        "        "
      ]
    },
    {
      "metadata": {
        "id": "Z7RezJLro0r1",
        "colab_type": "text"
      },
      "cell_type": "markdown",
      "source": [
        "<h2>My way</h2>\n",
        "\n",
        "I'll give you the steps I followed. However, you don't have to follow these steps. If you can get to the goal some other way, please feel free. What is our goal? To have the variables `feature_set` and `labels` set up so we can call `from_scratch` as shown below.\n",
        "\n",
        "<img src='https://www.dropbox.com/s/h6vjn99ybtsozjn/Screenshot%202019-02-19%2008.45.31.png?raw=1'><br>\n",
        "<img src='https://www.dropbox.com/s/7irwbe327c4tv8y/Screenshot%202019-02-19%2008.46.02.png?raw=1'><br>\n",
        "<img src='https://www.dropbox.com/s/wokpipqobpkg83a/Screenshot%202019-02-19%2008.46.27.png?raw=1'>\n",
        "<p>\n",
        "  And here are my results:\n",
        "  <p>\n",
        "    <img src='https://www.dropbox.com/s/uvs3ni7vwa3s2ai/Screenshot%202019-02-24%2010.24.03.png?raw=1'>"
      ]
    },
    {
      "metadata": {
        "id": "_XkI5YlLq3cs",
        "colab_type": "text"
      },
      "cell_type": "markdown",
      "source": [
        "<h3>My way: step 1</h3>\n",
        "\n",
        "Build a new table that only has the 3 columns plus the target column."
      ]
    },
    {
      "metadata": {
        "id": "T0znzmqZDWfR",
        "colab_type": "code",
        "outputId": "b0c13704-2016-4984-f1a2-d21cc2d329ea",
        "colab": {
          "base_uri": "https://localhost:8080/",
          "height": 126
        }
      },
      "cell_type": "code",
      "source": [
        "raw_table = loan_table  #just made a copy\n",
        "raw_table.head(1)"
      ],
      "execution_count": 8,
      "outputs": [
        {
          "output_type": "execute_result",
          "data": {
            "text/html": [
              "<div>\n",
              "<style scoped>\n",
              "    .dataframe tbody tr th:only-of-type {\n",
              "        vertical-align: middle;\n",
              "    }\n",
              "\n",
              "    .dataframe tbody tr th {\n",
              "        vertical-align: top;\n",
              "    }\n",
              "\n",
              "    .dataframe thead th {\n",
              "        text-align: right;\n",
              "    }\n",
              "</style>\n",
              "<table border=\"1\" class=\"dataframe\">\n",
              "  <thead>\n",
              "    <tr style=\"text-align: right;\">\n",
              "      <th></th>\n",
              "      <th>Gender</th>\n",
              "      <th>Married</th>\n",
              "      <th>Dependents</th>\n",
              "      <th>Education</th>\n",
              "      <th>Self_Employed</th>\n",
              "      <th>ApplicantIncome</th>\n",
              "      <th>CoapplicantIncome</th>\n",
              "      <th>LoanAmount</th>\n",
              "      <th>Loan_Amount_Term</th>\n",
              "      <th>Credit_History</th>\n",
              "      <th>...</th>\n",
              "      <th>apin_binned</th>\n",
              "      <th>apin_low</th>\n",
              "      <th>apin_average</th>\n",
              "      <th>apin_high</th>\n",
              "      <th>apin_nan</th>\n",
              "      <th>dep_0</th>\n",
              "      <th>dep_1</th>\n",
              "      <th>dep_2</th>\n",
              "      <th>dep_3+</th>\n",
              "      <th>dep_nan</th>\n",
              "    </tr>\n",
              "  </thead>\n",
              "  <tbody>\n",
              "    <tr>\n",
              "      <th>0</th>\n",
              "      <td>Male</td>\n",
              "      <td>No</td>\n",
              "      <td>0</td>\n",
              "      <td>Graduate</td>\n",
              "      <td>No</td>\n",
              "      <td>5849</td>\n",
              "      <td>0.0</td>\n",
              "      <td>NaN</td>\n",
              "      <td>360.0</td>\n",
              "      <td>1.0</td>\n",
              "      <td>...</td>\n",
              "      <td>low</td>\n",
              "      <td>1</td>\n",
              "      <td>0</td>\n",
              "      <td>0</td>\n",
              "      <td>0</td>\n",
              "      <td>1</td>\n",
              "      <td>0</td>\n",
              "      <td>0</td>\n",
              "      <td>0</td>\n",
              "      <td>0</td>\n",
              "    </tr>\n",
              "  </tbody>\n",
              "</table>\n",
              "<p>1 rows × 35 columns</p>\n",
              "</div>"
            ],
            "text/plain": [
              "  Gender Married Dependents Education Self_Employed  ApplicantIncome  \\\n",
              "0   Male      No          0  Graduate            No             5849   \n",
              "\n",
              "   CoapplicantIncome  LoanAmount  Loan_Amount_Term  Credit_History   ...     \\\n",
              "0                0.0         NaN             360.0             1.0   ...      \n",
              "\n",
              "  apin_binned  apin_low  apin_average  apin_high  apin_nan  dep_0  dep_1  \\\n",
              "0         low         1             0          0         0      1      0   \n",
              "\n",
              "   dep_2 dep_3+  dep_nan  \n",
              "0      0      0        0  \n",
              "\n",
              "[1 rows x 35 columns]"
            ]
          },
          "metadata": {
            "tags": []
          },
          "execution_count": 8
        }
      ]
    },
    {
      "metadata": {
        "id": "bcSkxV5qp2WA",
        "colab_type": "code",
        "outputId": "d8d109ce-eb73-4506-f3b4-9da4627089bf",
        "colab": {
          "base_uri": "https://localhost:8080/",
          "height": 77
        }
      },
      "cell_type": "code",
      "source": [
        "\n",
        "ann_table = raw_table[['Credit_History', 'ApplicantIncome', 'Married', 'Loan_Status']]\n",
        "ann_table.head(1)"
      ],
      "execution_count": 9,
      "outputs": [
        {
          "output_type": "execute_result",
          "data": {
            "text/html": [
              "<div>\n",
              "<style scoped>\n",
              "    .dataframe tbody tr th:only-of-type {\n",
              "        vertical-align: middle;\n",
              "    }\n",
              "\n",
              "    .dataframe tbody tr th {\n",
              "        vertical-align: top;\n",
              "    }\n",
              "\n",
              "    .dataframe thead th {\n",
              "        text-align: right;\n",
              "    }\n",
              "</style>\n",
              "<table border=\"1\" class=\"dataframe\">\n",
              "  <thead>\n",
              "    <tr style=\"text-align: right;\">\n",
              "      <th></th>\n",
              "      <th>Credit_History</th>\n",
              "      <th>ApplicantIncome</th>\n",
              "      <th>Married</th>\n",
              "      <th>Loan_Status</th>\n",
              "    </tr>\n",
              "  </thead>\n",
              "  <tbody>\n",
              "    <tr>\n",
              "      <th>0</th>\n",
              "      <td>1.0</td>\n",
              "      <td>5849</td>\n",
              "      <td>No</td>\n",
              "      <td>1</td>\n",
              "    </tr>\n",
              "  </tbody>\n",
              "</table>\n",
              "</div>"
            ],
            "text/plain": [
              "   Credit_History  ApplicantIncome Married  Loan_Status\n",
              "0             1.0             5849      No            1"
            ]
          },
          "metadata": {
            "tags": []
          },
          "execution_count": 9
        }
      ]
    },
    {
      "metadata": {
        "id": "VFTy07ddreJ0",
        "colab_type": "text"
      },
      "cell_type": "markdown",
      "source": [
        "<h3>My way: step 2</h3>\n",
        "\n",
        "Drop all rows with a NaN."
      ]
    },
    {
      "metadata": {
        "id": "ougRAZE1RZIp",
        "colab_type": "code",
        "colab": {}
      },
      "cell_type": "code",
      "source": [
        "ann_table = ann_table.dropna(axis=0)\n"
      ],
      "execution_count": 0,
      "outputs": []
    },
    {
      "metadata": {
        "id": "QwV70OW9RrEe",
        "colab_type": "code",
        "outputId": "0f14297b-71f7-413f-be7e-fdac52466895",
        "colab": {
          "base_uri": "https://localhost:8080/",
          "height": 375
        }
      },
      "cell_type": "code",
      "source": [
        "ann_table.describe(include='all')  #No NaNs to be found"
      ],
      "execution_count": 11,
      "outputs": [
        {
          "output_type": "execute_result",
          "data": {
            "text/html": [
              "<div>\n",
              "<style scoped>\n",
              "    .dataframe tbody tr th:only-of-type {\n",
              "        vertical-align: middle;\n",
              "    }\n",
              "\n",
              "    .dataframe tbody tr th {\n",
              "        vertical-align: top;\n",
              "    }\n",
              "\n",
              "    .dataframe thead th {\n",
              "        text-align: right;\n",
              "    }\n",
              "</style>\n",
              "<table border=\"1\" class=\"dataframe\">\n",
              "  <thead>\n",
              "    <tr style=\"text-align: right;\">\n",
              "      <th></th>\n",
              "      <th>Credit_History</th>\n",
              "      <th>ApplicantIncome</th>\n",
              "      <th>Married</th>\n",
              "      <th>Loan_Status</th>\n",
              "    </tr>\n",
              "  </thead>\n",
              "  <tbody>\n",
              "    <tr>\n",
              "      <th>count</th>\n",
              "      <td>561.000000</td>\n",
              "      <td>561.000000</td>\n",
              "      <td>561</td>\n",
              "      <td>561.000000</td>\n",
              "    </tr>\n",
              "    <tr>\n",
              "      <th>unique</th>\n",
              "      <td>NaN</td>\n",
              "      <td>NaN</td>\n",
              "      <td>2</td>\n",
              "      <td>NaN</td>\n",
              "    </tr>\n",
              "    <tr>\n",
              "      <th>top</th>\n",
              "      <td>NaN</td>\n",
              "      <td>NaN</td>\n",
              "      <td>Yes</td>\n",
              "      <td>NaN</td>\n",
              "    </tr>\n",
              "    <tr>\n",
              "      <th>freq</th>\n",
              "      <td>NaN</td>\n",
              "      <td>NaN</td>\n",
              "      <td>362</td>\n",
              "      <td>NaN</td>\n",
              "    </tr>\n",
              "    <tr>\n",
              "      <th>mean</th>\n",
              "      <td>0.841355</td>\n",
              "      <td>5462.475936</td>\n",
              "      <td>NaN</td>\n",
              "      <td>0.680927</td>\n",
              "    </tr>\n",
              "    <tr>\n",
              "      <th>std</th>\n",
              "      <td>0.365671</td>\n",
              "      <td>6284.680488</td>\n",
              "      <td>NaN</td>\n",
              "      <td>0.466533</td>\n",
              "    </tr>\n",
              "    <tr>\n",
              "      <th>min</th>\n",
              "      <td>0.000000</td>\n",
              "      <td>150.000000</td>\n",
              "      <td>NaN</td>\n",
              "      <td>0.000000</td>\n",
              "    </tr>\n",
              "    <tr>\n",
              "      <th>25%</th>\n",
              "      <td>1.000000</td>\n",
              "      <td>2889.000000</td>\n",
              "      <td>NaN</td>\n",
              "      <td>0.000000</td>\n",
              "    </tr>\n",
              "    <tr>\n",
              "      <th>50%</th>\n",
              "      <td>1.000000</td>\n",
              "      <td>3813.000000</td>\n",
              "      <td>NaN</td>\n",
              "      <td>1.000000</td>\n",
              "    </tr>\n",
              "    <tr>\n",
              "      <th>75%</th>\n",
              "      <td>1.000000</td>\n",
              "      <td>5800.000000</td>\n",
              "      <td>NaN</td>\n",
              "      <td>1.000000</td>\n",
              "    </tr>\n",
              "    <tr>\n",
              "      <th>max</th>\n",
              "      <td>1.000000</td>\n",
              "      <td>81000.000000</td>\n",
              "      <td>NaN</td>\n",
              "      <td>1.000000</td>\n",
              "    </tr>\n",
              "  </tbody>\n",
              "</table>\n",
              "</div>"
            ],
            "text/plain": [
              "        Credit_History  ApplicantIncome Married  Loan_Status\n",
              "count       561.000000       561.000000     561   561.000000\n",
              "unique             NaN              NaN       2          NaN\n",
              "top                NaN              NaN     Yes          NaN\n",
              "freq               NaN              NaN     362          NaN\n",
              "mean          0.841355      5462.475936     NaN     0.680927\n",
              "std           0.365671      6284.680488     NaN     0.466533\n",
              "min           0.000000       150.000000     NaN     0.000000\n",
              "25%           1.000000      2889.000000     NaN     0.000000\n",
              "50%           1.000000      3813.000000     NaN     1.000000\n",
              "75%           1.000000      5800.000000     NaN     1.000000\n",
              "max           1.000000     81000.000000     NaN     1.000000"
            ]
          },
          "metadata": {
            "tags": []
          },
          "execution_count": 11
        }
      ]
    },
    {
      "metadata": {
        "id": "4T_CmJQrQFEn",
        "colab_type": "text"
      },
      "cell_type": "markdown",
      "source": [
        "<h3>My way: step 3</h3>\n",
        "\n",
        "Wrangle the Married column into binary form."
      ]
    },
    {
      "metadata": {
        "id": "eLh3tyB5QdTs",
        "colab_type": "code",
        "colab": {}
      },
      "cell_type": "code",
      "source": [
        "ann_table['Married'].replace(('Yes', 'No'), (1, 0), inplace=True)"
      ],
      "execution_count": 0,
      "outputs": []
    },
    {
      "metadata": {
        "id": "NOkpTElTQPXl",
        "colab_type": "code",
        "outputId": "68a09c3f-b5ce-4421-f1bb-5de32250a742",
        "colab": {
          "base_uri": "https://localhost:8080/",
          "height": 77
        }
      },
      "cell_type": "code",
      "source": [
        "ann_table.head(1)"
      ],
      "execution_count": 13,
      "outputs": [
        {
          "output_type": "execute_result",
          "data": {
            "text/html": [
              "<div>\n",
              "<style scoped>\n",
              "    .dataframe tbody tr th:only-of-type {\n",
              "        vertical-align: middle;\n",
              "    }\n",
              "\n",
              "    .dataframe tbody tr th {\n",
              "        vertical-align: top;\n",
              "    }\n",
              "\n",
              "    .dataframe thead th {\n",
              "        text-align: right;\n",
              "    }\n",
              "</style>\n",
              "<table border=\"1\" class=\"dataframe\">\n",
              "  <thead>\n",
              "    <tr style=\"text-align: right;\">\n",
              "      <th></th>\n",
              "      <th>Credit_History</th>\n",
              "      <th>ApplicantIncome</th>\n",
              "      <th>Married</th>\n",
              "      <th>Loan_Status</th>\n",
              "    </tr>\n",
              "  </thead>\n",
              "  <tbody>\n",
              "    <tr>\n",
              "      <th>0</th>\n",
              "      <td>1.0</td>\n",
              "      <td>5849</td>\n",
              "      <td>0</td>\n",
              "      <td>1</td>\n",
              "    </tr>\n",
              "  </tbody>\n",
              "</table>\n",
              "</div>"
            ],
            "text/plain": [
              "   Credit_History  ApplicantIncome  Married  Loan_Status\n",
              "0             1.0             5849        0            1"
            ]
          },
          "metadata": {
            "tags": []
          },
          "execution_count": 13
        }
      ]
    },
    {
      "metadata": {
        "id": "QRjX73ASTl6y",
        "colab_type": "text"
      },
      "cell_type": "markdown",
      "source": [
        "<h3>My way: step 4</h3>\n",
        "\n",
        "Normalize the ApplicantIncome column.\n"
      ]
    },
    {
      "metadata": {
        "id": "XVcynZsjD7Fe",
        "colab_type": "code",
        "colab": {
          "base_uri": "https://localhost:8080/",
          "height": 33
        },
        "outputId": "eb5ca0b5-12e4-4e31-8c4f-62e6ef3406b6"
      },
      "cell_type": "code",
      "source": [
        "ann_table['ApplicantIncome'].mean(), ann_table['ApplicantIncome'].std(), len(ann_table), ann_table['ApplicantIncome'].iloc[0], (ann_table['ApplicantIncome'].iloc[1] - ann_table['ApplicantIncome'].min()) / (ann_table['ApplicantIncome'].max() - ann_table['ApplicantIncome'].min())"
      ],
      "execution_count": 14,
      "outputs": [
        {
          "output_type": "execute_result",
          "data": {
            "text/plain": [
              "(5462.475935828877, 6284.680487946914, 561, 5849, 0.05482993197278912)"
            ]
          },
          "metadata": {
            "tags": []
          },
          "execution_count": 14
        }
      ]
    },
    {
      "metadata": {
        "id": "arLSk_F1MDkr",
        "colab_type": "code",
        "colab": {}
      },
      "cell_type": "code",
      "source": [
        "ann_table['apin_normed'] = ann_table['ApplicantIncome']/ann_table['ApplicantIncome'].max()\n",
        "ann_table = ann_table.drop(columns='ApplicantIncome')"
      ],
      "execution_count": 0,
      "outputs": []
    },
    {
      "metadata": {
        "id": "jgucPOhOJB0r",
        "colab_type": "code",
        "outputId": "f913d47e-f112-4afa-fbf4-37c477804d06",
        "colab": {
          "base_uri": "https://localhost:8080/",
          "height": 196
        }
      },
      "cell_type": "code",
      "source": [
        "ann_table.head()"
      ],
      "execution_count": 16,
      "outputs": [
        {
          "output_type": "execute_result",
          "data": {
            "text/html": [
              "<div>\n",
              "<style scoped>\n",
              "    .dataframe tbody tr th:only-of-type {\n",
              "        vertical-align: middle;\n",
              "    }\n",
              "\n",
              "    .dataframe tbody tr th {\n",
              "        vertical-align: top;\n",
              "    }\n",
              "\n",
              "    .dataframe thead th {\n",
              "        text-align: right;\n",
              "    }\n",
              "</style>\n",
              "<table border=\"1\" class=\"dataframe\">\n",
              "  <thead>\n",
              "    <tr style=\"text-align: right;\">\n",
              "      <th></th>\n",
              "      <th>Credit_History</th>\n",
              "      <th>Married</th>\n",
              "      <th>Loan_Status</th>\n",
              "      <th>apin_normed</th>\n",
              "    </tr>\n",
              "  </thead>\n",
              "  <tbody>\n",
              "    <tr>\n",
              "      <th>0</th>\n",
              "      <td>1.0</td>\n",
              "      <td>0</td>\n",
              "      <td>1</td>\n",
              "      <td>0.072210</td>\n",
              "    </tr>\n",
              "    <tr>\n",
              "      <th>1</th>\n",
              "      <td>1.0</td>\n",
              "      <td>1</td>\n",
              "      <td>0</td>\n",
              "      <td>0.056580</td>\n",
              "    </tr>\n",
              "    <tr>\n",
              "      <th>2</th>\n",
              "      <td>1.0</td>\n",
              "      <td>1</td>\n",
              "      <td>1</td>\n",
              "      <td>0.037037</td>\n",
              "    </tr>\n",
              "    <tr>\n",
              "      <th>3</th>\n",
              "      <td>1.0</td>\n",
              "      <td>1</td>\n",
              "      <td>1</td>\n",
              "      <td>0.031889</td>\n",
              "    </tr>\n",
              "    <tr>\n",
              "      <th>4</th>\n",
              "      <td>1.0</td>\n",
              "      <td>0</td>\n",
              "      <td>1</td>\n",
              "      <td>0.074074</td>\n",
              "    </tr>\n",
              "  </tbody>\n",
              "</table>\n",
              "</div>"
            ],
            "text/plain": [
              "   Credit_History  Married  Loan_Status  apin_normed\n",
              "0             1.0        0            1     0.072210\n",
              "1             1.0        1            0     0.056580\n",
              "2             1.0        1            1     0.037037\n",
              "3             1.0        1            1     0.031889\n",
              "4             1.0        0            1     0.074074"
            ]
          },
          "metadata": {
            "tags": []
          },
          "execution_count": 16
        }
      ]
    },
    {
      "metadata": {
        "id": "JmhiwocGOicV",
        "colab_type": "text"
      },
      "cell_type": "markdown",
      "source": [
        "<h3>Most of way to having feature set</h3>\n",
        "\n",
        "At this point I have the following table.<br>\n",
        "<img src='https://www.dropbox.com/s/4yq0hbputlh8gt9/Screenshot%202019-02-19%2008.58.12.png?raw=1'>"
      ]
    },
    {
      "metadata": {
        "id": "FUadHVjmtAaw",
        "colab_type": "text"
      },
      "cell_type": "markdown",
      "source": [
        "<h3>My way: step 5</h3>\n",
        "\n",
        "Turning attention to labels. Pull them out of table and get them into numpy array of correct shape, i.e., (561, 1)."
      ]
    },
    {
      "metadata": {
        "id": "vsxrSEX2Wa0N",
        "colab_type": "code",
        "outputId": "22aa823b-ea90-4612-f1f9-5afe45bd514f",
        "colab": {
          "base_uri": "https://localhost:8080/",
          "height": 33
        }
      },
      "cell_type": "code",
      "source": [
        "\n",
        "\n",
        "labels = ann_table['Loan_Status']\n",
        "\n",
        "print(labels.shape)\n"
      ],
      "execution_count": 17,
      "outputs": [
        {
          "output_type": "stream",
          "text": [
            "(561,)\n"
          ],
          "name": "stdout"
        }
      ]
    },
    {
      "metadata": {
        "id": "gMQ15eouPK3L",
        "colab_type": "code",
        "outputId": "98731af1-7cd1-43a3-9c18-ac9e5fc543c3",
        "colab": {
          "base_uri": "https://localhost:8080/",
          "height": 33
        }
      },
      "cell_type": "code",
      "source": [
        "labels = np.expand_dims(labels, axis=1)\n",
        "print(labels.shape)"
      ],
      "execution_count": 18,
      "outputs": [
        {
          "output_type": "stream",
          "text": [
            "(561, 1)\n"
          ],
          "name": "stdout"
        }
      ]
    },
    {
      "metadata": {
        "id": "xQhjRfkkOwRi",
        "colab_type": "code",
        "colab": {}
      },
      "cell_type": "code",
      "source": [
        "ann_table = ann_table.drop(columns='Loan_Status')"
      ],
      "execution_count": 0,
      "outputs": []
    },
    {
      "metadata": {
        "id": "bmmXE7t8OnD3",
        "colab_type": "code",
        "outputId": "1b42dcdf-aa94-41c3-d892-926dc5090af5",
        "colab": {
          "base_uri": "https://localhost:8080/",
          "height": 196
        }
      },
      "cell_type": "code",
      "source": [
        "ann_table.head()"
      ],
      "execution_count": 20,
      "outputs": [
        {
          "output_type": "execute_result",
          "data": {
            "text/html": [
              "<div>\n",
              "<style scoped>\n",
              "    .dataframe tbody tr th:only-of-type {\n",
              "        vertical-align: middle;\n",
              "    }\n",
              "\n",
              "    .dataframe tbody tr th {\n",
              "        vertical-align: top;\n",
              "    }\n",
              "\n",
              "    .dataframe thead th {\n",
              "        text-align: right;\n",
              "    }\n",
              "</style>\n",
              "<table border=\"1\" class=\"dataframe\">\n",
              "  <thead>\n",
              "    <tr style=\"text-align: right;\">\n",
              "      <th></th>\n",
              "      <th>Credit_History</th>\n",
              "      <th>Married</th>\n",
              "      <th>apin_normed</th>\n",
              "    </tr>\n",
              "  </thead>\n",
              "  <tbody>\n",
              "    <tr>\n",
              "      <th>0</th>\n",
              "      <td>1.0</td>\n",
              "      <td>0</td>\n",
              "      <td>0.072210</td>\n",
              "    </tr>\n",
              "    <tr>\n",
              "      <th>1</th>\n",
              "      <td>1.0</td>\n",
              "      <td>1</td>\n",
              "      <td>0.056580</td>\n",
              "    </tr>\n",
              "    <tr>\n",
              "      <th>2</th>\n",
              "      <td>1.0</td>\n",
              "      <td>1</td>\n",
              "      <td>0.037037</td>\n",
              "    </tr>\n",
              "    <tr>\n",
              "      <th>3</th>\n",
              "      <td>1.0</td>\n",
              "      <td>1</td>\n",
              "      <td>0.031889</td>\n",
              "    </tr>\n",
              "    <tr>\n",
              "      <th>4</th>\n",
              "      <td>1.0</td>\n",
              "      <td>0</td>\n",
              "      <td>0.074074</td>\n",
              "    </tr>\n",
              "  </tbody>\n",
              "</table>\n",
              "</div>"
            ],
            "text/plain": [
              "   Credit_History  Married  apin_normed\n",
              "0             1.0        0     0.072210\n",
              "1             1.0        1     0.056580\n",
              "2             1.0        1     0.037037\n",
              "3             1.0        1     0.031889\n",
              "4             1.0        0     0.074074"
            ]
          },
          "metadata": {
            "tags": []
          },
          "execution_count": 20
        }
      ]
    },
    {
      "metadata": {
        "id": "xtYIpi8MteL0",
        "colab_type": "text"
      },
      "cell_type": "markdown",
      "source": [
        "<h3>My way: step 6</h3>\n",
        "\n",
        "After dropping the Loan_Status column, all I need to do is turn my table into a list of lists. And then turn that into a numpy array."
      ]
    },
    {
      "metadata": {
        "id": "IzvEqhQhKPSE",
        "colab_type": "code",
        "colab": {}
      },
      "cell_type": "code",
      "source": [
        "feature_set = ann_table.values.tolist()\n",
        "feature_set = np.array(ann_table)\n"
      ],
      "execution_count": 0,
      "outputs": []
    },
    {
      "metadata": {
        "id": "ZzWKRykGM5Vk",
        "colab_type": "code",
        "outputId": "7a7c0641-a381-41f1-bb9b-e3232ebd9777",
        "colab": {
          "base_uri": "https://localhost:8080/",
          "height": 50
        }
      },
      "cell_type": "code",
      "source": [
        "\n",
        "print(feature_set.shape)\n",
        "feature_set[0]"
      ],
      "execution_count": 22,
      "outputs": [
        {
          "output_type": "stream",
          "text": [
            "(561, 3)\n"
          ],
          "name": "stdout"
        },
        {
          "output_type": "execute_result",
          "data": {
            "text/plain": [
              "array([1.        , 0.        , 0.07220988])"
            ]
          },
          "metadata": {
            "tags": []
          },
          "execution_count": 22
        }
      ]
    },
    {
      "metadata": {
        "id": "R36GXPh7t8E4",
        "colab_type": "text"
      },
      "cell_type": "markdown",
      "source": [
        "<h3>I am good to go</h3>\n",
        "\n",
        "I have `feature_set` and `labels` set up. Ready to call `from_scratch`."
      ]
    },
    {
      "metadata": {
        "id": "DbnFXQWLPoto",
        "colab_type": "code",
        "outputId": "8242ec0f-75b1-4943-8c63-ea488ee34088",
        "colab": {
          "base_uri": "https://localhost:8080/",
          "height": 251
        }
      },
      "cell_type": "code",
      "source": [
        "from_scratch(feature_set, labels, hypers={'epochs':10000, 'cost-reporting':1000, 'learning-rate': .05}) #can take awhile"
      ],
      "execution_count": 23,
      "outputs": [
        {
          "output_type": "stream",
          "text": [
            "(0, array([0.20333739]))\n",
            "(1000, array([0.15038711]))\n",
            "(2000, array([0.15023848]))\n",
            "(3000, array([0.1502394]))\n",
            "(4000, array([0.15023943]))\n",
            "(5000, array([0.15023943]))\n",
            "(6000, array([0.15023943]))\n",
            "(7000, array([0.15023943]))\n",
            "(8000, array([0.15023943]))\n",
            "(9000, array([0.15023943]))\n",
            "(10000, array([0.15023943]))\n"
          ],
          "name": "stdout"
        },
        {
          "output_type": "execute_result",
          "data": {
            "text/plain": [
              "(array([[ 4.16472838],\n",
              "        [ 0.57575141],\n",
              "        [-0.74925534]]), array([-2.88134978]))"
            ]
          },
          "metadata": {
            "tags": []
          },
          "execution_count": 23
        }
      ]
    },
    {
      "metadata": {
        "id": "eMeilVyD2WA0",
        "colab_type": "code",
        "outputId": "8ac9f394-9cab-42ce-a2a5-4ce318aa4607",
        "colab": {
          "base_uri": "https://localhost:8080/",
          "height": 33
        }
      },
      "cell_type": "code",
      "source": [
        "#copied and pasted from above results\n",
        "\n",
        "ann_tester(feature_set, labels, [[ 4.16472838], [ 0.57575141], [-0.74925534]], [-2.88134978])"
      ],
      "execution_count": 24,
      "outputs": [
        {
          "output_type": "execute_result",
          "data": {
            "text/plain": [
              "0.8146167557932263"
            ]
          },
          "metadata": {
            "tags": []
          },
          "execution_count": 24
        }
      ]
    },
    {
      "metadata": {
        "id": "7RJBLZIX86TG",
        "colab_type": "text"
      },
      "cell_type": "markdown",
      "source": [
        "<h2>Not bad</h2>\n",
        "\n",
        "With just 4 weights we are able to significantly improve over the accuracy we got from random forests."
      ]
    },
    {
      "metadata": {
        "id": "gfEEge4Qhuqx",
        "colab_type": "text"
      },
      "cell_type": "markdown",
      "source": [
        "<h2>Can we do better by adjusting the learning rate?</h2>\n",
        "​\n",
        "Let's see if we can do better by decreasing the learning rate. We might be in a local minima/valley and can crawl out with smaller steps.\n"
      ]
    },
    {
      "metadata": {
        "id": "dzjVxkYJP1Pd",
        "colab_type": "code",
        "outputId": "7243bf8a-eec7-47d3-b114-32d2e6ec8a58",
        "colab": {
          "base_uri": "https://localhost:8080/",
          "height": 251
        }
      },
      "cell_type": "code",
      "source": [
        "from_scratch(feature_set, labels, hypers={'epochs':10000, 'cost-reporting':1000, 'learning-rate': .01}) #can take awhile"
      ],
      "execution_count": 25,
      "outputs": [
        {
          "output_type": "stream",
          "text": [
            "(0, array([0.21049884]))\n",
            "(1000, array([0.15100094]))\n",
            "(2000, array([0.1501018]))\n",
            "(3000, array([0.15008394]))\n",
            "(4000, array([0.15008279]))\n",
            "(5000, array([0.15008498]))\n",
            "(6000, array([0.15008686]))\n",
            "(7000, array([0.150088]))\n",
            "(8000, array([0.15008861]))\n",
            "(9000, array([0.15008892]))\n",
            "(10000, array([0.15008908]))\n"
          ],
          "name": "stdout"
        },
        {
          "output_type": "execute_result",
          "data": {
            "text/plain": [
              "(array([[ 4.14912334],\n",
              "        [ 0.56890032],\n",
              "        [-0.74241646]]), array([-2.87084687]))"
            ]
          },
          "metadata": {
            "tags": []
          },
          "execution_count": 25
        }
      ]
    },
    {
      "metadata": {
        "id": "ivRl9cVFLHpn",
        "colab_type": "code",
        "outputId": "0409b31e-ecf4-494a-957e-8e59c1f90dd1",
        "colab": {
          "base_uri": "https://localhost:8080/",
          "height": 33
        }
      },
      "cell_type": "code",
      "source": [
        "#copied and pasted from above results\n",
        "\n",
        "ann_tester(feature_set, labels, [[ 4.14912334], [ 0.56890032], [-0.74241646]], [-2.87084687])"
      ],
      "execution_count": 26,
      "outputs": [
        {
          "output_type": "execute_result",
          "data": {
            "text/plain": [
              "0.8146167557932263"
            ]
          },
          "metadata": {
            "tags": []
          },
          "execution_count": 26
        }
      ]
    },
    {
      "metadata": {
        "id": "smJr9ritRuuc",
        "colab_type": "text"
      },
      "cell_type": "markdown",
      "source": [
        "No help. Same as with learning rate of `.05`. I could continue to play with the learning rate but am going to switch to another strategy: add another feature."
      ]
    },
    {
      "metadata": {
        "id": "dFe14VjhyBkM",
        "colab_type": "text"
      },
      "cell_type": "markdown",
      "source": [
        "<h1>Challenge 2: add a 4th column (20 points)</h1>\n",
        "\n",
        "Build a feature set that has 4 values taken from ['Credit_History', 'ApplicantIncome', 'Married', 'Education']. You will have to wrangle `Education`.\n",
        "<p>\n",
        "Build your ANN using from_scratch and these hypers: hypers={'epochs':10000, 'cost-reporting':1000, 'learning-rate': .05}.\n",
        "  <p>\n",
        "    Test it with ann_tester. Here are my results.\n",
        "    <img src='https://www.dropbox.com/s/idfbzkotbx4mao6/Screenshot%202019-02-24%2010.26.10.png?raw=1'>"
      ]
    },
    {
      "metadata": {
        "id": "XjubXec57v8Z",
        "colab_type": "code",
        "colab": {}
      },
      "cell_type": "code",
      "source": [
        "fs = raw_table[['Credit_History', 'ApplicantIncome', 'Married', 'Education', 'Loan_Status']]\n",
        "fs = fs.dropna(how='any')\n",
        "fs['Education'] = fs['Education'].str.lower().replace({'graduate': 1, 'not graduate': 0})\n",
        "fs['Married'] = fs['Married'].replace({'Yes': 1, 'No': 0})\n",
        "fs['apin_normed'] = fs['ApplicantIncome']/fs['ApplicantIncome'].max()\n",
        "fs = fs.drop(columns='ApplicantIncome')\n",
        "lab = np.array(fs['Loan_Status'])\n",
        "lab = np.expand_dims(lab, axis=1)\n",
        "fs = fs.drop(columns='Loan_Status')\n",
        "fs = fs.values.tolist()\n",
        "fs = np.array(fs)"
      ],
      "execution_count": 0,
      "outputs": []
    },
    {
      "metadata": {
        "id": "6FCXDKSzw4fO",
        "colab_type": "code",
        "outputId": "a5fdf50c-087f-4ff7-8c3b-ff53518f70f4",
        "colab": {
          "base_uri": "https://localhost:8080/",
          "height": 33
        }
      },
      "cell_type": "code",
      "source": [
        "fs.shape"
      ],
      "execution_count": 31,
      "outputs": [
        {
          "output_type": "execute_result",
          "data": {
            "text/plain": [
              "(561, 4)"
            ]
          },
          "metadata": {
            "tags": []
          },
          "execution_count": 31
        }
      ]
    },
    {
      "metadata": {
        "id": "LY_tGzKdw7-z",
        "colab_type": "code",
        "outputId": "33d19a52-c52f-4493-b8c0-6d1e71428b17",
        "colab": {
          "base_uri": "https://localhost:8080/",
          "height": 33
        }
      },
      "cell_type": "code",
      "source": [
        "lab.shape"
      ],
      "execution_count": 32,
      "outputs": [
        {
          "output_type": "execute_result",
          "data": {
            "text/plain": [
              "(561, 1)"
            ]
          },
          "metadata": {
            "tags": []
          },
          "execution_count": 32
        }
      ]
    },
    {
      "metadata": {
        "id": "D2cLFV8Nc2wr",
        "colab_type": "code",
        "outputId": "9340899c-7836-48cd-de01-db632caac7f2",
        "colab": {
          "base_uri": "https://localhost:8080/",
          "height": 268
        }
      },
      "cell_type": "code",
      "source": [
        "from_scratch(fs, lab, hypers={'epochs':10000, 'cost-reporting':1000, 'learning-rate': .05}) #can take awhile"
      ],
      "execution_count": 33,
      "outputs": [
        {
          "output_type": "stream",
          "text": [
            "(0, array([0.2030543]))\n",
            "(1000, array([0.15007264]))\n",
            "(2000, array([0.14992259]))\n",
            "(3000, array([0.14992345]))\n",
            "(4000, array([0.14992347]))\n",
            "(5000, array([0.14992347]))\n",
            "(6000, array([0.14992347]))\n",
            "(7000, array([0.14992347]))\n",
            "(8000, array([0.14992347]))\n",
            "(9000, array([0.14992347]))\n",
            "(10000, array([0.14992347]))\n"
          ],
          "name": "stdout"
        },
        {
          "output_type": "execute_result",
          "data": {
            "text/plain": [
              "(array([[ 4.11963466],\n",
              "        [ 0.55316336],\n",
              "        [ 0.34577307],\n",
              "        [-0.96094329]]), array([-3.09416354]))"
            ]
          },
          "metadata": {
            "tags": []
          },
          "execution_count": 33
        }
      ]
    },
    {
      "metadata": {
        "id": "6jknHlWrRm6v",
        "colab_type": "text"
      },
      "cell_type": "markdown",
      "source": [
        "Looks like our ending cost is about the same than with just 3 columns. That should lead to roughly same accuracy than with 3 columns, i.e., `0.8146`. Let's see."
      ]
    },
    {
      "metadata": {
        "id": "xlaKSbHbIq1w",
        "colab_type": "code",
        "colab": {}
      },
      "cell_type": "code",
      "source": [
        "ann_tester(fs, lab, [[ 4.11293303], [-0.5402908 ], [ 0.34635578], [-0.96150273]], [-2.53688187])"
      ],
      "execution_count": 0,
      "outputs": []
    },
    {
      "metadata": {
        "id": "qi-49WEgSTpr",
        "colab_type": "text"
      },
      "cell_type": "markdown",
      "source": [
        "The same.\n",
        "<p>\n",
        "  From here we could try different combos of columns and also adjust the hyper-parameters. This is exactly where most of the time is spent in deep learning. It is easy to build the models but hard to find really good parameter settings."
      ]
    },
    {
      "metadata": {
        "colab_type": "text",
        "id": "jZMfY7kNgRpX"
      },
      "cell_type": "markdown",
      "source": [
        "<h1>Challenge 3: Batch it (50 points)</h1>\n",
        "\n",
        "I have mentioned the term \"batch\" in several places but never really defined it. Batch has to do with the slice of samples we take before updating weights. We have been using a batch size of 1; we take 1 sample and then do backprop and update the weights. This is also referred to as online learning or pure stochastic gradient descent.\n",
        "<p>\n",
        "  What are other options? We could delay updating weights until after we have seen n samples. If n is the length of entire feature set, it is called batch learning. If n is less than that length, it is called mini-batch.\n",
        "  <p>\n",
        "This is how it works. Let's say the batch size is set to H, half the length of the entire feature set. We do normal back propogation of each sample. We compute the changes to be made to each weight. But now we keep a running total for each weight. We don't actually change the weight until we are done with H samples. Once we have seen H samples, we then update each weight with its running total divided by H.\n",
        "    <p>\n",
        "      At this point we have seen the first H samples. Now we get setup to take the next H samples and do the same.\n",
        "      <p>\n",
        "        Once we have run through all samples in the feature set, we are done with one epoch.\n",
        "        <p>\n",
        "The extremes of batch learning are (a) batch = full feature set, i.e., accumulate weight changes until very end then do just one weight adjustment, and (b) batch size = 1, i.e., what we have been doing. Between the extremes is mini-batch where batch size is less than full feature set and greater than 1.\n",
        "<p>\n",
        "I'd like you to write a new function, ann_simple_batch, that has this header:\n",
        "  <pre>\n",
        " def ann_simple_batch(all_samples, labels, weights, bias, hypers={}):\n",
        "  \n",
        "  '''\n",
        "  Can build an ANN with n input nodes and one output node.\n",
        "  Uses sigmoid and mse.\n",
        "  '''\n",
        "  \n",
        "  input_n = all_samples.shape[1]  #number of inputs in each sample\n",
        "  \n",
        "  assert weights.shape == (input_n,1), 'weights needs to have same shape as sample'\n",
        "  assert all_samples.shape[0] >= 1, 'all_samples must represent 1 or more samples'\n",
        "  assert bias.shape == (1,) , 'a single bias weight for output node'\n",
        "  assert labels.shape[1] == 1, 'actual value for the 1 output node'\n",
        "  assert labels.shape[0] == all_samples.shape[0], 'labels must match up with samples'\n",
        "  \n",
        "  hyper_keys = [*hypers]  #fails on 2.7\n",
        "  target_set = set(['epochs', 'cost-reporting', 'learning-rate', 'batch-size'])  #might add more later\n",
        "  diff_set = set(hyper_keys) - target_set\n",
        "  if diff_set: print('WARNING: unrecognized hyper parameters ' + str(diff_set))\n",
        "\n",
        "  max_epochs = hypers['epochs'] if 'epochs' in hypers else 100\n",
        "  cost_reporting = hypers['cost-reporting'] if 'cost-reporting' in hypers else 100  #how often to report epoch cost\n",
        "  alpha = hypers['learning-rate'] if 'learning-rate' in hypers else .05  #learning rate\n",
        "batch_n = min(hypers['batch-size'],len(all_samples))  if 'batch-size' in hypers else 1  #batch size defaults to 1\n",
        "  </pre>"
      ]
    },
    {
      "metadata": {
        "id": "gZ11MgBt3Epn",
        "colab_type": "text"
      },
      "cell_type": "markdown",
      "source": [
        "Here is my result when trying full+batch to use for target.\n",
        "<p>\n",
        "  <img src='https://www.dropbox.com/s/tyxn8ph10zliybj/Screen%20Shot%202019-02-24%20at%203.31.15%20PM.png?raw=1'>"
      ]
    },
    {
      "metadata": {
        "id": "Qz0u3o4H3kE_",
        "colab_type": "text"
      },
      "cell_type": "markdown",
      "source": [
        "Here is my result when trying batch = 32.\n",
        "<p>\n",
        "  <img src='https://www.dropbox.com/s/tyxn8ph10zliybj/Screen%20Shot%202019-02-24%20at%203.31.15%20PM.png?raw=1'>"
      ]
    },
    {
      "metadata": {
        "id": "l3WUUoQtgd1p",
        "colab_type": "code",
        "colab": {}
      },
      "cell_type": "code",
      "source": [
        "def ann_simple_batch(all_samples, labels, weights, bias, hypers={}):\n",
        "  '''\n",
        "  Can build an ANN with n input nodes and one output node.\n",
        "  Uses sigmoid and mse.\n",
        "  '''\n",
        "\n",
        "\n",
        "  input_n = all_samples.shape[1]  #number of inputs in each sample\n",
        "\n",
        "\n",
        "  assert weights.shape == (input_n,1), 'weights needs to have same shape as sample'\n",
        "  assert all_samples.shape[0] >= 1, 'all_samples must represent 1 or more samples'\n",
        "  assert bias.shape == (1,) , 'a single bias weight for output node'\n",
        "  assert labels.shape[1] == 1, 'actual value for the 1 output node'\n",
        "  assert labels.shape[0] == all_samples.shape[0], 'labels must match up with samples'\n",
        "\n",
        "\n",
        "  hyper_keys = [*hypers]  #fails on 2.7\n",
        "  target_set = set(['epochs', 'cost-reporting', 'learning-rate', 'batch-size'])  #might add more later\n",
        "  diff_set = set(hyper_keys) - target_set\n",
        "  if diff_set: print('WARNING: unrecognized hyper parameters ' + str(diff_set))\n",
        "\n",
        "\n",
        "  max_epochs = hypers['epochs'] if 'epochs' in hypers else 100\n",
        "  cost_reporting = hypers['cost-reporting'] if 'cost-reporting' in hypers else 100  #how often to report epoch cost\n",
        "  alpha = hypers['learning-rate'] if 'learning-rate' in hypers else .05  #learning rate\n",
        "  batch_n = min(hypers['batch-size'],len(all_samples))  if 'batch-size' in hypers else 1  #batch size defaults to 1\n",
        "  tW = [0] * len(weights)\n",
        "  tBias = 0\n",
        "  cost_accumulator = [0, 0]\n",
        "  batch_count = 0\n",
        "  for i in range(max_epochs):\n",
        "    batch_count += 1\n",
        "    \n",
        "    for j in range(len(all_samples)):\n",
        "      sample = np.expand_dims(all_samples[j], axis=1)\n",
        "      XW = np.multiply(sample, weights)\n",
        "      XW_sum = np.sum(XW, axis=0)\n",
        "      raw_output = XW_sum + bias\n",
        "      z = sigmoid(raw_output)\n",
        "      \n",
        "      cost = mse(z, labels[j])\n",
        "      cost_accumulator[0] += 1\n",
        "      cost_accumulator[1] += cost\n",
        "      \n",
        "      mse_deriv_value = mse_der(z, labels[j])\n",
        "      sigmoid_deriv_value = sigmoid_der(raw_output)\n",
        "      z_delta = mse_deriv_value * sigmoid_deriv_value\n",
        "      \n",
        "      for k in range(len(tW)):\n",
        "        tW += alpha * all_samples[j][k] * z_delta\n",
        "        \n",
        "      tBias += 1.0 * z_delta\n",
        "    if (batch_count == batch_n):\n",
        "      for i in range(len(tW)):\n",
        "        weights[i][0] = tW[i] / batch_n\n",
        "        bias = tBias\n",
        "      batch_count = 1\n",
        "    tBias = 0\n",
        "    tW = [0] * len(weights)\n",
        "    \n",
        "    if i%cost_reporting == 0:\n",
        "      average_cost = cost_accumulator[1]/cost_accumulator[0]\n",
        "      print((i,average_cost))\n",
        "      cost_accumulator = [0, 0]\n",
        "    \n",
        "  if cost_accumulator[0]:\n",
        "    average_cost = cost_accumulator[1]/cost_accumulator[0]  #really mse where n is cost_reporting epochs\n",
        "    print((max_epochs,average_cost))\n",
        "    \n",
        "  return (weights, bias)"
      ],
      "execution_count": 0,
      "outputs": []
    },
    {
      "metadata": {
        "id": "Nk48PiKQcyOU",
        "colab_type": "code",
        "colab": {}
      },
      "cell_type": "code",
      "source": [
        "#I'll give you this one - it calls your new batch function\n",
        "\n",
        "def from_scratch_batch(samples, labels, hypers):\n",
        "  \n",
        "  input_n = samples.shape[1]\n",
        "  \n",
        "  #reset weights to initial values. Seed of 42 guarantees same random values\n",
        "  np.random.seed(42)\n",
        "  weights = np.random.rand(input_n,1)\n",
        "  bias = np.random.rand(1)\n",
        "  \n",
        "  return ann_simple_batch(samples, labels, weights, bias, hypers)"
      ],
      "execution_count": 0,
      "outputs": []
    },
    {
      "metadata": {
        "id": "raiLrkoZdlol",
        "colab_type": "code",
        "outputId": "cc06ee81-9dbd-43a3-8224-79c56b747e58",
        "colab": {
          "base_uri": "https://localhost:8080/",
          "height": 251
        }
      },
      "cell_type": "code",
      "source": [
        "#full batch on 3 columns\n",
        "\n",
        "from_scratch_batch(feature_set, labels, hypers={'epochs':10000, 'cost-reporting':1000, 'learning-rate': .05, 'batch-size': len(feature_set)})"
      ],
      "execution_count": 53,
      "outputs": [
        {
          "output_type": "stream",
          "text": [
            "(0, array([0.225304]))\n",
            "(1000, array([0.26656033]))\n",
            "(2000, array([0.39611801]))\n",
            "(3000, array([0.43960784]))\n",
            "(4000, array([0.43960784]))\n",
            "(5000, array([0.45684492]))\n",
            "(6000, array([0.49131907]))\n",
            "(7000, array([0.49131907]))\n",
            "(8000, array([0.49131907]))\n",
            "(9000, array([0.49131907]))\n",
            "(10000, array([0.45662061]))\n"
          ],
          "name": "stdout"
        },
        {
          "output_type": "execute_result",
          "data": {
            "text/plain": [
              "(array([[-0.00494082],\n",
              "        [-0.00494082],\n",
              "        [-0.00494082]]), array([-25.37500013]))"
            ]
          },
          "metadata": {
            "tags": []
          },
          "execution_count": 53
        }
      ]
    },
    {
      "metadata": {
        "id": "561y9M3Wh0ur",
        "colab_type": "text"
      },
      "cell_type": "markdown",
      "source": [
        "The ending cost is about twice that of using batch = 1. I expect to see that translate into a worse accuracy."
      ]
    },
    {
      "metadata": {
        "colab_type": "code",
        "outputId": "a4314ac3-fb3d-442c-c422-51a75c4ce090",
        "id": "MTSrg1aawizU",
        "colab": {
          "base_uri": "https://localhost:8080/",
          "height": 33
        }
      },
      "cell_type": "code",
      "source": [
        "#trying to meet or beat the results from challenge 1: 0.8146167557932263\n",
        "\n",
        "ann_tester(feature_set, labels, [[5.31405878], [3.41992935], [0.85389265]], [28.21729216])"
      ],
      "execution_count": 54,
      "outputs": [
        {
          "output_type": "execute_result",
          "data": {
            "text/plain": [
              "0.6809269162210339"
            ]
          },
          "metadata": {
            "tags": []
          },
          "execution_count": 54
        }
      ]
    },
    {
      "metadata": {
        "id": "bdAoylIi5zG-",
        "colab_type": "text"
      },
      "cell_type": "markdown",
      "source": [
        "That did no go well. As reminder, with full batch we only update the weights every epoch. In our case we average one weight change over 561 samples. Here is more on why full-batch may not be the best approach: https://www.researchgate.net/post/How_to_update_weights_in_Batch_update_method_of_backpropagation. also see this https://datascience.stackexchange.com/questions/16807/why-mini-batch-size-is-better-than-one-single-batch-with-all-training-data\n",
        "<p>\n",
        "  Let's try batch size of 1. This is same as in challenge 1 so should get same results."
      ]
    },
    {
      "metadata": {
        "id": "NQg7Bv_ixF0W",
        "colab_type": "code",
        "outputId": "f8ab2df7-03fa-49c3-cddc-4f98911b02b4",
        "colab": {
          "base_uri": "https://localhost:8080/",
          "height": 234
        }
      },
      "cell_type": "code",
      "source": [
        "#batch size of 1 - should be same as seen in challenge 1: (array([[ 4.16472838], [ 0.57575141], [-0.74925534]]), array([-2.88134978]))\n",
        "\n",
        "from_scratch_batch(feature_set, labels, hypers={'epochs':10000, 'cost-reporting':1000, 'learning-rate': .05, 'batch-size': 1})"
      ],
      "execution_count": 55,
      "outputs": [
        {
          "output_type": "stream",
          "text": [
            "(1000, array([0.31897669]))\n",
            "(2000, array([0.31907036]))\n",
            "(3000, array([0.31907036]))\n",
            "(4000, array([0.31907036]))\n",
            "(5000, array([0.31907036]))\n",
            "(6000, array([0.31907036]))\n",
            "(7000, array([0.31907036]))\n",
            "(8000, array([0.31907036]))\n",
            "(9000, array([0.31907036]))\n",
            "(10000, array([0.31907036]))\n"
          ],
          "name": "stdout"
        },
        {
          "output_type": "execute_result",
          "data": {
            "text/plain": [
              "(array([[0.50645818],\n",
              "        [0.50645818],\n",
              "        [0.50645818]]), array([11.81658222]))"
            ]
          },
          "metadata": {
            "tags": []
          },
          "execution_count": 55
        }
      ]
    },
    {
      "metadata": {
        "id": "n-_DrdI0j5M7",
        "colab_type": "text"
      },
      "cell_type": "markdown",
      "source": [
        "Same weights, as we expected."
      ]
    },
    {
      "metadata": {
        "id": "FyTeJP_s3Gwd",
        "colab_type": "text"
      },
      "cell_type": "markdown",
      "source": [
        "<h3>Let's try mini-batch</h3>\n",
        "\n",
        "I am using 32 because that is the current common wisdom in the deep learning community. This paper discusses, more generally, good values to choose for deep learning hyper-parameters: https://www.dropbox.com/s/h1wo6gajtlihdnw/setting_hypers.pdf?dl=0."
      ]
    },
    {
      "metadata": {
        "id": "85qc8bN7yh9t",
        "colab_type": "code",
        "outputId": "8b5560e7-4e8f-474b-8488-2a2c0e1c93df",
        "colab": {
          "base_uri": "https://localhost:8080/",
          "height": 251
        }
      },
      "cell_type": "code",
      "source": [
        "from_scratch_batch(feature_set, labels, hypers={'epochs':10000, 'cost-reporting':1000, 'learning-rate': .05, 'batch-size': 32})"
      ],
      "execution_count": 56,
      "outputs": [
        {
          "output_type": "stream",
          "text": [
            "(0, array([0.225304]))\n",
            "(1000, array([0.45175292]))\n",
            "(2000, array([0.46373975]))\n",
            "(3000, array([0.46373975]))\n",
            "(4000, array([0.46417068]))\n",
            "(5000, array([0.46718717]))\n",
            "(6000, array([0.46718717]))\n",
            "(7000, array([0.46718717]))\n",
            "(8000, array([0.46632531]))\n",
            "(9000, array([0.46373975]))\n",
            "(10000, array([0.4639537]))\n"
          ],
          "name": "stdout"
        },
        {
          "output_type": "execute_result",
          "data": {
            "text/plain": [
              "(array([[-8.34954532e-12],\n",
              "        [-8.34954532e-12],\n",
              "        [-8.34954532e-12]]), array([-3.14403964e-09]))"
            ]
          },
          "metadata": {
            "tags": []
          },
          "execution_count": 56
        }
      ]
    },
    {
      "metadata": {
        "id": "okWW2Hzy1Yi8",
        "colab_type": "code",
        "outputId": "6d468623-085c-4f90-ee6e-d0a264683357",
        "colab": {
          "base_uri": "https://localhost:8080/",
          "height": 33
        }
      },
      "cell_type": "code",
      "source": [
        "ann_tester(feature_set, labels, [[ 4.30335512], [ 0.57095668], [-0.52653887]], [-2.97338311])"
      ],
      "execution_count": 57,
      "outputs": [
        {
          "output_type": "execute_result",
          "data": {
            "text/plain": [
              "0.8146167557932263"
            ]
          },
          "metadata": {
            "tags": []
          },
          "execution_count": 57
        }
      ]
    },
    {
      "metadata": {
        "id": "O-IM9WjM2NnA",
        "colab_type": "text"
      },
      "cell_type": "markdown",
      "source": [
        "Same as with batch size = 1. In general, the larger the batch size the better. Why? Less weight updating. For the size of our problem it will be a negligible savings.\n",
        "<p>\n",
        "  But batch size has another important effect. It is a bit like the learning rate tamping down large swings of direction. Maybe you can guess why. In essence we are averaging weight changes over a batch. So it tends to smooth things out. I'll leave you with a pointer if you are interested in following up: https://stats.stackexchange.com/a/183990."
      ]
    },
    {
      "metadata": {
        "id": "bp-LYv6Pw_7r",
        "colab_type": "text"
      },
      "cell_type": "markdown",
      "source": [
        "<h1>Extra Credit: </h2>\n",
        "\n",
        "Try out `from_scratch_batch` on the Titanic data. See if you can beat the best score from the decision tree we built in week 4.\n",
        "<p>\n",
        "  I would include as many columns as you can. You can use Age directly - no binning necessary. Might be better to use ohe version of Pclass.\n",
        "  <p>\n",
        "    Remeber that `from_scratch_batch` will \"stretch\" the input weights to match your sample size. So I don't think you have to change any code. I think the main challenge is just wrangling `feature_set` and `labels` to get in shape for training."
      ]
    },
    {
      "metadata": {
        "id": "SAyRL8LE8IrM",
        "colab_type": "code",
        "outputId": "22ffba4c-9fbf-46d1-8550-13ca18a17ffd",
        "colab": {
          "base_uri": "https://localhost:8080/",
          "height": 176
        }
      },
      "cell_type": "code",
      "source": [
        "#I'll give you a wrangled titanic table to get started with.\n",
        "\n",
        "titanic_table = pd.read_csv('https://docs.google.com/spreadsheets/d/e/2PACX-1vR2XbLnUuYlxaFMdS8_bBX3iKUIDEii6Lg5Rxesf-Oh8a6z8-vAN6UDGejaOrBg5130h4O_dLkecKWQ/pub?output=csv')\n",
        "titanic_table.head(1)"
      ],
      "execution_count": 63,
      "outputs": [
        {
          "output_type": "execute_result",
          "data": {
            "text/html": [
              "<div>\n",
              "<style scoped>\n",
              "    .dataframe tbody tr th:only-of-type {\n",
              "        vertical-align: middle;\n",
              "    }\n",
              "\n",
              "    .dataframe tbody tr th {\n",
              "        vertical-align: top;\n",
              "    }\n",
              "\n",
              "    .dataframe thead th {\n",
              "        text-align: right;\n",
              "    }\n",
              "</style>\n",
              "<table border=\"1\" class=\"dataframe\">\n",
              "  <thead>\n",
              "    <tr style=\"text-align: right;\">\n",
              "      <th></th>\n",
              "      <th>Survived</th>\n",
              "      <th>Pclass</th>\n",
              "      <th>Name</th>\n",
              "      <th>Sex</th>\n",
              "      <th>Age</th>\n",
              "      <th>SibSp</th>\n",
              "      <th>Parch</th>\n",
              "      <th>Ticket</th>\n",
              "      <th>Fare</th>\n",
              "      <th>Cabin</th>\n",
              "      <th>...</th>\n",
              "      <th>age_Child</th>\n",
              "      <th>age_Adult</th>\n",
              "      <th>age_Senior</th>\n",
              "      <th>sex_female</th>\n",
              "      <th>sex_male</th>\n",
              "      <th>ok_child</th>\n",
              "      <th>pclass_1</th>\n",
              "      <th>pclass_2</th>\n",
              "      <th>pclass_3</th>\n",
              "      <th>pclass_nan</th>\n",
              "    </tr>\n",
              "  </thead>\n",
              "  <tbody>\n",
              "    <tr>\n",
              "      <th>0</th>\n",
              "      <td>0</td>\n",
              "      <td>3</td>\n",
              "      <td>Braund, Mr. Owen Harris</td>\n",
              "      <td>male</td>\n",
              "      <td>22.0</td>\n",
              "      <td>1</td>\n",
              "      <td>0</td>\n",
              "      <td>A/5 21171</td>\n",
              "      <td>7.25</td>\n",
              "      <td>NaN</td>\n",
              "      <td>...</td>\n",
              "      <td>1</td>\n",
              "      <td>0</td>\n",
              "      <td>0</td>\n",
              "      <td>0</td>\n",
              "      <td>1</td>\n",
              "      <td>0</td>\n",
              "      <td>0</td>\n",
              "      <td>0</td>\n",
              "      <td>1</td>\n",
              "      <td>0</td>\n",
              "    </tr>\n",
              "  </tbody>\n",
              "</table>\n",
              "<p>1 rows × 28 columns</p>\n",
              "</div>"
            ],
            "text/plain": [
              "   Survived  Pclass                     Name   Sex   Age  SibSp  Parch  \\\n",
              "0         0       3  Braund, Mr. Owen Harris  male  22.0      1      0   \n",
              "\n",
              "      Ticket  Fare Cabin     ...     age_Child  age_Adult  age_Senior  \\\n",
              "0  A/5 21171  7.25   NaN     ...             1          0           0   \n",
              "\n",
              "   sex_female  sex_male  ok_child  pclass_1 pclass_2  pclass_3  pclass_nan  \n",
              "0           0         1         0         0        0         1           0  \n",
              "\n",
              "[1 rows x 28 columns]"
            ]
          },
          "metadata": {
            "tags": []
          },
          "execution_count": 63
        }
      ]
    },
    {
      "metadata": {
        "id": "a0Nas-HGzM_9",
        "colab_type": "code",
        "colab": {
          "base_uri": "https://localhost:8080/",
          "height": 117
        },
        "outputId": "2218f157-0075-4876-d7d0-d2b055c895be"
      },
      "cell_type": "code",
      "source": [
        "titanic_table.columns"
      ],
      "execution_count": 64,
      "outputs": [
        {
          "output_type": "execute_result",
          "data": {
            "text/plain": [
              "Index(['Survived', 'Pclass', 'Name', 'Sex', 'Age', 'SibSp', 'Parch', 'Ticket',\n",
              "       'Fare', 'Cabin', 'Embarked', 'no_age', 'filled_age', 'emb_C', 'emb_Q',\n",
              "       'emb_S', 'emb_nan', 'age_bin', 'age_Child', 'age_Adult', 'age_Senior',\n",
              "       'sex_female', 'sex_male', 'ok_child', 'pclass_1', 'pclass_2',\n",
              "       'pclass_3', 'pclass_nan'],\n",
              "      dtype='object')"
            ]
          },
          "metadata": {
            "tags": []
          },
          "execution_count": 64
        }
      ]
    },
    {
      "metadata": {
        "id": "XR5iP-lv8Rx_",
        "colab_type": "code",
        "colab": {}
      },
      "cell_type": "code",
      "source": [
        "#I built with just 3 columns. You should do more\n",
        "fs = titanic_table[['Survived', 'Age', 'Fare', 'sex_female', 'sex_male', 'pclass_1', 'pclass_2', 'pclass_3']]\n",
        "fs = fs.dropna(how='any')\n",
        "lab = np.array(fs['Survived'])\n",
        "lab = np.expand_dims(lab, axis=1)\n",
        "fs = fs.drop(columns='Survived')\n",
        "fs = fs.values.tolist()\n",
        "fs = np.array(fs)"
      ],
      "execution_count": 0,
      "outputs": []
    },
    {
      "metadata": {
        "id": "NyuRQc2Q9ha8",
        "colab_type": "code",
        "colab": {
          "base_uri": "https://localhost:8080/",
          "height": 33
        },
        "outputId": "8920f3ee-990f-4113-8fd5-d7d5901a6879"
      },
      "cell_type": "code",
      "source": [
        "fs.shape"
      ],
      "execution_count": 70,
      "outputs": [
        {
          "output_type": "execute_result",
          "data": {
            "text/plain": [
              "(714, 7)"
            ]
          },
          "metadata": {
            "tags": []
          },
          "execution_count": 70
        }
      ]
    },
    {
      "metadata": {
        "id": "QFNPuSU49kMM",
        "colab_type": "code",
        "colab": {
          "base_uri": "https://localhost:8080/",
          "height": 33
        },
        "outputId": "cae9f000-ca8e-4977-d3a2-53e6dadc305f"
      },
      "cell_type": "code",
      "source": [
        "lab.shape"
      ],
      "execution_count": 71,
      "outputs": [
        {
          "output_type": "execute_result",
          "data": {
            "text/plain": [
              "(714, 1)"
            ]
          },
          "metadata": {
            "tags": []
          },
          "execution_count": 71
        }
      ]
    },
    {
      "metadata": {
        "id": "gmRhN7Pd9nEL",
        "colab_type": "code",
        "outputId": "30829131-0cac-422b-84a8-8c65e2c16428",
        "colab": {
          "base_uri": "https://localhost:8080/",
          "height": 318
        }
      },
      "cell_type": "code",
      "source": [
        "#I just used ['Age', 'Sex', 'Pclass'] as input (i.e., 3 nodes). Bet you can do better with more columns.\n",
        "\n",
        "from_scratch_batch(fs, lab, hypers={'epochs':10000, 'cost-reporting':1000, 'learning-rate': .05, 'batch-size': 32})"
      ],
      "execution_count": 72,
      "outputs": [
        {
          "output_type": "stream",
          "text": [
            "(0, array([0.59383699]))\n",
            "(1000, array([0.5021525]))\n",
            "(2000, array([0.50203567]))\n",
            "(3000, array([0.50203567]))\n",
            "(4000, array([0.50169183]))\n",
            "(5000, array([0.49928497]))\n",
            "(6000, array([0.49928497]))\n",
            "(7000, array([0.49928497]))\n",
            "(8000, array([0.49997813]))\n",
            "(9000, array([0.50205762]))\n",
            "(10000, array([0.501963]))\n"
          ],
          "name": "stdout"
        },
        {
          "output_type": "execute_result",
          "data": {
            "text/plain": [
              "(array([[-0.0514339],\n",
              "        [-0.0514339],\n",
              "        [-0.0514339],\n",
              "        [-0.0514339],\n",
              "        [-0.0514339],\n",
              "        [-0.0514339],\n",
              "        [-0.0514339]]), array([16.75000577]))"
            ]
          },
          "metadata": {
            "tags": []
          },
          "execution_count": 72
        }
      ]
    },
    {
      "metadata": {
        "id": "OxVpz0KOefsQ",
        "colab_type": "code",
        "outputId": "7aea3a58-4fac-47b9-e2fe-89dbc3eabf96",
        "colab": {
          "base_uri": "https://localhost:8080/",
          "height": 513
        }
      },
      "cell_type": "code",
      "source": [
        "ann_tester(fs, lab, [[-2.99044848], [-4.38149208], [-5.21691174]], [6.40659777])"
      ],
      "execution_count": 73,
      "outputs": [
        {
          "output_type": "error",
          "ename": "ValueError",
          "evalue": "ignored",
          "traceback": [
            "\u001b[0;31m---------------------------------------------------------------------------\u001b[0m",
            "\u001b[0;31mValueError\u001b[0m                                Traceback (most recent call last)",
            "\u001b[0;32m<ipython-input-73-473882ff61ea>\u001b[0m in \u001b[0;36m<module>\u001b[0;34m()\u001b[0m\n\u001b[0;32m----> 1\u001b[0;31m \u001b[0mann_tester\u001b[0m\u001b[0;34m(\u001b[0m\u001b[0mfs\u001b[0m\u001b[0;34m,\u001b[0m \u001b[0mlab\u001b[0m\u001b[0;34m,\u001b[0m \u001b[0;34m[\u001b[0m\u001b[0;34m[\u001b[0m\u001b[0;34m-\u001b[0m\u001b[0;36m2.99044848\u001b[0m\u001b[0;34m]\u001b[0m\u001b[0;34m,\u001b[0m \u001b[0;34m[\u001b[0m\u001b[0;34m-\u001b[0m\u001b[0;36m4.38149208\u001b[0m\u001b[0;34m]\u001b[0m\u001b[0;34m,\u001b[0m \u001b[0;34m[\u001b[0m\u001b[0;34m-\u001b[0m\u001b[0;36m5.21691174\u001b[0m\u001b[0;34m]\u001b[0m\u001b[0;34m]\u001b[0m\u001b[0;34m,\u001b[0m \u001b[0;34m[\u001b[0m\u001b[0;36m6.40659777\u001b[0m\u001b[0;34m]\u001b[0m\u001b[0;34m)\u001b[0m\u001b[0;34m\u001b[0m\u001b[0;34m\u001b[0m\u001b[0m\n\u001b[0m",
            "\u001b[0;32m/content/library_w19_deep_1.py\u001b[0m in \u001b[0;36mann_tester\u001b[0;34m(samples, labels, weights, bias)\u001b[0m\n\u001b[1;32m    107\u001b[0m   \u001b[0mbias\u001b[0m \u001b[0;34m=\u001b[0m \u001b[0mnp\u001b[0m\u001b[0;34m.\u001b[0m\u001b[0marray\u001b[0m\u001b[0;34m(\u001b[0m\u001b[0mbias\u001b[0m\u001b[0;34m)\u001b[0m\u001b[0;34m\u001b[0m\u001b[0;34m\u001b[0m\u001b[0m\n\u001b[1;32m    108\u001b[0m \u001b[0;34m\u001b[0m\u001b[0m\n\u001b[0;32m--> 109\u001b[0;31m   \u001b[0mpredictions\u001b[0m \u001b[0;34m=\u001b[0m \u001b[0;34m[\u001b[0m\u001b[0mann_predictor\u001b[0m\u001b[0;34m(\u001b[0m\u001b[0ms\u001b[0m\u001b[0;34m,\u001b[0m \u001b[0mweights\u001b[0m\u001b[0;34m,\u001b[0m \u001b[0mbias\u001b[0m\u001b[0;34m)\u001b[0m \u001b[0;32mfor\u001b[0m \u001b[0ms\u001b[0m \u001b[0;32min\u001b[0m \u001b[0msamples\u001b[0m\u001b[0;34m]\u001b[0m\u001b[0;34m\u001b[0m\u001b[0;34m\u001b[0m\u001b[0m\n\u001b[0m\u001b[1;32m    110\u001b[0m   \u001b[0mzipped\u001b[0m \u001b[0;34m=\u001b[0m \u001b[0mlist\u001b[0m\u001b[0;34m(\u001b[0m\u001b[0mzip\u001b[0m\u001b[0;34m(\u001b[0m\u001b[0mpredictions\u001b[0m\u001b[0;34m,\u001b[0m \u001b[0mlabels\u001b[0m\u001b[0;34m)\u001b[0m\u001b[0;34m)\u001b[0m\u001b[0;34m\u001b[0m\u001b[0;34m\u001b[0m\u001b[0m\n\u001b[1;32m    111\u001b[0m \u001b[0;34m\u001b[0m\u001b[0m\n",
            "\u001b[0;32m/content/library_w19_deep_1.py\u001b[0m in \u001b[0;36m<listcomp>\u001b[0;34m(.0)\u001b[0m\n\u001b[1;32m    107\u001b[0m   \u001b[0mbias\u001b[0m \u001b[0;34m=\u001b[0m \u001b[0mnp\u001b[0m\u001b[0;34m.\u001b[0m\u001b[0marray\u001b[0m\u001b[0;34m(\u001b[0m\u001b[0mbias\u001b[0m\u001b[0;34m)\u001b[0m\u001b[0;34m\u001b[0m\u001b[0;34m\u001b[0m\u001b[0m\n\u001b[1;32m    108\u001b[0m \u001b[0;34m\u001b[0m\u001b[0m\n\u001b[0;32m--> 109\u001b[0;31m   \u001b[0mpredictions\u001b[0m \u001b[0;34m=\u001b[0m \u001b[0;34m[\u001b[0m\u001b[0mann_predictor\u001b[0m\u001b[0;34m(\u001b[0m\u001b[0ms\u001b[0m\u001b[0;34m,\u001b[0m \u001b[0mweights\u001b[0m\u001b[0;34m,\u001b[0m \u001b[0mbias\u001b[0m\u001b[0;34m)\u001b[0m \u001b[0;32mfor\u001b[0m \u001b[0ms\u001b[0m \u001b[0;32min\u001b[0m \u001b[0msamples\u001b[0m\u001b[0;34m]\u001b[0m\u001b[0;34m\u001b[0m\u001b[0;34m\u001b[0m\u001b[0m\n\u001b[0m\u001b[1;32m    110\u001b[0m   \u001b[0mzipped\u001b[0m \u001b[0;34m=\u001b[0m \u001b[0mlist\u001b[0m\u001b[0;34m(\u001b[0m\u001b[0mzip\u001b[0m\u001b[0;34m(\u001b[0m\u001b[0mpredictions\u001b[0m\u001b[0;34m,\u001b[0m \u001b[0mlabels\u001b[0m\u001b[0;34m)\u001b[0m\u001b[0;34m)\u001b[0m\u001b[0;34m\u001b[0m\u001b[0;34m\u001b[0m\u001b[0m\n\u001b[1;32m    111\u001b[0m \u001b[0;34m\u001b[0m\u001b[0m\n",
            "\u001b[0;32m/content/library_w19_deep_1.py\u001b[0m in \u001b[0;36mann_predictor\u001b[0;34m(sample, weights, bias)\u001b[0m\n\u001b[1;32m     96\u001b[0m \u001b[0;34m\u001b[0m\u001b[0m\n\u001b[1;32m     97\u001b[0m   \u001b[0ms2\u001b[0m \u001b[0;34m=\u001b[0m \u001b[0mnp\u001b[0m\u001b[0;34m.\u001b[0m\u001b[0mexpand_dims\u001b[0m\u001b[0;34m(\u001b[0m\u001b[0msample\u001b[0m\u001b[0;34m,\u001b[0m \u001b[0maxis\u001b[0m\u001b[0;34m=\u001b[0m\u001b[0;36m1\u001b[0m\u001b[0;34m)\u001b[0m\u001b[0;34m\u001b[0m\u001b[0;34m\u001b[0m\u001b[0m\n\u001b[0;32m---> 98\u001b[0;31m   \u001b[0mXW\u001b[0m \u001b[0;34m=\u001b[0m \u001b[0mnp\u001b[0m\u001b[0;34m.\u001b[0m\u001b[0mmultiply\u001b[0m\u001b[0;34m(\u001b[0m\u001b[0ms2\u001b[0m\u001b[0;34m,\u001b[0m \u001b[0mweights\u001b[0m\u001b[0;34m)\u001b[0m\u001b[0;34m\u001b[0m\u001b[0;34m\u001b[0m\u001b[0m\n\u001b[0m\u001b[1;32m     99\u001b[0m   \u001b[0mXW_sum\u001b[0m \u001b[0;34m=\u001b[0m \u001b[0mnp\u001b[0m\u001b[0;34m.\u001b[0m\u001b[0msum\u001b[0m\u001b[0;34m(\u001b[0m\u001b[0mXW\u001b[0m\u001b[0;34m,\u001b[0m \u001b[0maxis\u001b[0m\u001b[0;34m=\u001b[0m\u001b[0;36m0\u001b[0m\u001b[0;34m)\u001b[0m\u001b[0;34m\u001b[0m\u001b[0;34m\u001b[0m\u001b[0m\n\u001b[1;32m    100\u001b[0m   \u001b[0mraw_output\u001b[0m \u001b[0;34m=\u001b[0m \u001b[0mXW_sum\u001b[0m \u001b[0;34m+\u001b[0m \u001b[0mbias\u001b[0m\u001b[0;34m\u001b[0m\u001b[0;34m\u001b[0m\u001b[0m\n",
            "\u001b[0;31mValueError\u001b[0m: operands could not be broadcast together with shapes (7,1) (3,1) "
          ]
        }
      ]
    },
    {
      "metadata": {
        "id": "bRfAHXjHFJk7",
        "colab_type": "text"
      },
      "cell_type": "markdown",
      "source": [
        "As I said, you may be able to do better with more columns. Or not. We have seen that adding more information does not always lead to better results."
      ]
    },
    {
      "metadata": {
        "id": "ceOJcSWxEQJ-",
        "colab_type": "text"
      },
      "cell_type": "markdown",
      "source": [
        "<hr>\n",
        "<h1>Write it out</h1>\n",
        "<div class=h1_cell>\n",
        "\n",
        "You defined some new functions so add them to  `library_w19_deep_1b.py`.\n",
        "<p>\n",
        "\n",
        "</div>"
      ]
    },
    {
      "metadata": {
        "id": "_7c2K8kR257Q",
        "colab_type": "code",
        "colab": {}
      },
      "cell_type": "code",
      "source": [
        "output_array = (feature_set.tolist(), labels.tolist())\n",
        "import pickle\n",
        "\n",
        "with open('/content/gdrive/My Drive/class_tables/loan_labels_ann', 'wb') as fp:\n",
        "    pickle.dump(output_array, fp)"
      ],
      "execution_count": 0,
      "outputs": []
    },
    {
      "metadata": {
        "id": "dnajzfFG26Ow",
        "colab_type": "code",
        "colab": {}
      },
      "cell_type": "code",
      "source": [
        "with open ('/content/gdrive/My Drive/class_tables/loan_labels_ann', 'rb') as fp:\n",
        "    test_out = pickle.load(fp)"
      ],
      "execution_count": 0,
      "outputs": []
    },
    {
      "metadata": {
        "id": "Ols7yrjD27Tg",
        "colab_type": "code",
        "colab": {}
      },
      "cell_type": "code",
      "source": [
        "fset = test_out[0]\n",
        "labs = test_out[1]"
      ],
      "execution_count": 0,
      "outputs": []
    },
    {
      "metadata": {
        "id": "mghgm80x27Ys",
        "colab_type": "code",
        "colab": {
          "base_uri": "https://localhost:8080/",
          "height": 33
        },
        "outputId": "19cf6f95-10ef-45d2-9ebb-8b460245f059"
      },
      "cell_type": "code",
      "source": [
        "nfset = np.array(fset)\n",
        "(nfset == feature_set).all()"
      ],
      "execution_count": 77,
      "outputs": [
        {
          "output_type": "execute_result",
          "data": {
            "text/plain": [
              "True"
            ]
          },
          "metadata": {
            "tags": []
          },
          "execution_count": 77
        }
      ]
    },
    {
      "metadata": {
        "id": "pZUshM-t3PyJ",
        "colab_type": "code",
        "colab": {
          "base_uri": "https://localhost:8080/",
          "height": 33
        },
        "outputId": "40c6195f-d81f-4c69-e7e5-7d44f1c57df9"
      },
      "cell_type": "code",
      "source": [
        "nlabs = np.array(labs)\n",
        "(nlabs == labels).all()"
      ],
      "execution_count": 78,
      "outputs": [
        {
          "output_type": "execute_result",
          "data": {
            "text/plain": [
              "True"
            ]
          },
          "metadata": {
            "tags": []
          },
          "execution_count": 78
        }
      ]
    },
    {
      "metadata": {
        "id": "JBJ0v6ui3P4T",
        "colab_type": "code",
        "colab": {
          "base_uri": "https://localhost:8080/",
          "height": 50
        },
        "outputId": "c9996c6a-9af5-4570-8f66-a7e2550f3371"
      },
      "cell_type": "code",
      "source": [
        "print(nfset.shape)\n",
        "print(nlabs.shape)"
      ],
      "execution_count": 79,
      "outputs": [
        {
          "output_type": "stream",
          "text": [
            "(561, 3)\n",
            "(561, 1)\n"
          ],
          "name": "stdout"
        }
      ]
    },
    {
      "metadata": {
        "id": "lg2eq4NE3T4Z",
        "colab_type": "code",
        "colab": {
          "base_uri": "https://localhost:8080/",
          "height": 251
        },
        "outputId": "6447c279-e897-4e3b-81ee-2a7098913bf3"
      },
      "cell_type": "code",
      "source": [
        "#should get (900, array([0.20541425]))\n",
        "\n",
        "from_scratch(nfset, nlabs, hypers={'epochs':1000, 'cost-reporting':100, 'learning-rate': .05})"
      ],
      "execution_count": 80,
      "outputs": [
        {
          "output_type": "stream",
          "text": [
            "(0, array([0.20333739]))\n",
            "(100, array([0.15167813]))\n",
            "(200, array([0.15028926]))\n",
            "(300, array([0.15025881]))\n",
            "(400, array([0.15024235]))\n",
            "(500, array([0.15023476]))\n",
            "(600, array([0.15023224]))\n",
            "(700, array([0.15023223]))\n",
            "(800, array([0.15023323]))\n",
            "(900, array([0.15023449]))\n",
            "(1000, array([0.15023566]))\n"
          ],
          "name": "stdout"
        },
        {
          "output_type": "execute_result",
          "data": {
            "text/plain": [
              "(array([[ 4.15994641],\n",
              "        [ 0.57508782],\n",
              "        [-0.6918493 ]]), array([-2.88065043]))"
            ]
          },
          "metadata": {
            "tags": []
          },
          "execution_count": 80
        }
      ]
    },
    {
      "metadata": {
        "id": "aLkX2pPn3T8H",
        "colab_type": "code",
        "colab": {}
      },
      "cell_type": "code",
      "source": [
        "with open('/content/gdrive/My Drive/class_tables/loan_labels_ann.txt', 'w') as f:\n",
        "  np.savetxt(f, labels)"
      ],
      "execution_count": 0,
      "outputs": []
    },
    {
      "metadata": {
        "id": "FmEvPMC43UAd",
        "colab_type": "code",
        "colab": {
          "base_uri": "https://localhost:8080/",
          "height": 33
        },
        "outputId": "ac3fbb0c-17ec-4e84-f189-e69f69d483da"
      },
      "cell_type": "code",
      "source": [
        "with open('/content/gdrive/My Drive/class_tables/loan_labels_ann.txt', 'r') as f:\n",
        "  check_labs = np.loadtxt(f)\n",
        "(check_labs.shape, labels.shape)  #have to reestablish 2nd index of 1 - it is lost on writing"
      ],
      "execution_count": 82,
      "outputs": [
        {
          "output_type": "execute_result",
          "data": {
            "text/plain": [
              "((561,), (561, 1))"
            ]
          },
          "metadata": {
            "tags": []
          },
          "execution_count": 82
        }
      ]
    },
    {
      "metadata": {
        "id": "sTPH9FGI3UEf",
        "colab_type": "code",
        "colab": {}
      },
      "cell_type": "code",
      "source": [
        "with open('/content/gdrive/My Drive/class_tables/loan_input_ann.txt', 'w') as f:\n",
        "  np.savetxt(f, feature_set)"
      ],
      "execution_count": 0,
      "outputs": []
    },
    {
      "metadata": {
        "id": "lPc8ZboA3tff",
        "colab_type": "code",
        "colab": {
          "base_uri": "https://localhost:8080/",
          "height": 33
        },
        "outputId": "f01a4d8e-0b39-48df-b082-7ebe678f743f"
      },
      "cell_type": "code",
      "source": [
        "with open('/content/gdrive/My Drive/class_tables/loan_input_ann.txt', 'r') as f:\n",
        "  check_input = np.loadtxt(f)\n",
        "(check_input.shape,feature_set.shape)"
      ],
      "execution_count": 84,
      "outputs": [
        {
          "output_type": "execute_result",
          "data": {
            "text/plain": [
              "((561, 3), (561, 3))"
            ]
          },
          "metadata": {
            "tags": []
          },
          "execution_count": 84
        }
      ]
    },
    {
      "metadata": {
        "id": "k76iNYUD3tka",
        "colab_type": "code",
        "colab": {
          "base_uri": "https://localhost:8080/",
          "height": 33
        },
        "outputId": "1df71c1e-949d-4c74-d81b-c8d926c30fdc"
      },
      "cell_type": "code",
      "source": [
        "feature_set.shape"
      ],
      "execution_count": 85,
      "outputs": [
        {
          "output_type": "execute_result",
          "data": {
            "text/plain": [
              "(561, 3)"
            ]
          },
          "metadata": {
            "tags": []
          },
          "execution_count": 85
        }
      ]
    }
  ]
}